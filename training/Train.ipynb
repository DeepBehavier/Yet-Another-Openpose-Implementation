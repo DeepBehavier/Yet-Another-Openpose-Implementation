{
 "cells": [
  {
   "cell_type": "markdown",
   "metadata": {
    "pycharm": {
     "name": "#%% md\n"
    }
   },
   "source": [
    "# Yet Another OpenPose "
   ]
  },
  {
   "cell_type": "markdown",
   "metadata": {},
   "source": [
    "---\n",
    "## Environment"
   ]
  },
  {
   "cell_type": "code",
   "execution_count": 1,
   "metadata": {
    "pycharm": {
     "is_executing": false
    }
   },
   "outputs": [
    {
     "name": "stdout",
     "output_type": "stream",
     "text": [
      "michael_zl_prime\n",
      "                  Credentialed Accounts\n",
      "ACTIVE  ACCOUNT\n",
      "        312164605303-compute@developer.gserviceaccount.com\n",
      "*       michael.zl.prime@gmail.com\n",
      "\n",
      "To set the active account, run:\n",
      "    $ gcloud config set account `ACCOUNT`\n",
      "\n",
      "Python running from: /usr\n",
      "Current working dir /home/michael_zl_prime/project_drive/project\n"
     ]
    }
   ],
   "source": [
    "#verify user\n",
    "!whoami\n",
    "#verify user account, if running on google cloud, otherwise ignore\n",
    "!gcloud auth list\n",
    "#which Environment/virtualenv running in\n",
    "import sys\n",
    "import os\n",
    "\n",
    "print(\"Python running from:\",sys.prefix)\n",
    "print(\"Current working dir\",os.getcwd())"
   ]
  },
  {
   "cell_type": "code",
   "execution_count": 2,
   "metadata": {
    "pycharm": {
     "is_executing": false
    }
   },
   "outputs": [],
   "source": [
    "#start tensor board\n",
    "# must run \n",
    "#/usr/local/bin/tensorboard serve --logdir gs://dl_training_results/tensorboard --port 8889 --bind_all"
   ]
  },
  {
   "cell_type": "code",
   "execution_count": 3,
   "metadata": {
    "pycharm": {
     "is_executing": false
    }
   },
   "outputs": [
    {
     "name": "stdout",
     "output_type": "stream",
     "text": [
      "\u001b[1;31mERROR:\u001b[0m (gcloud.compute.tpus.start) INVALID_ARGUMENT: cannot start an already running instance\r\n"
     ]
    }
   ],
   "source": [
    "#start TPU\n",
    "!gcloud compute tpus start node-1 --zone us-central1-c\n",
    "#stop TPU\n",
    "#!gcloud compute tpus stop node-1 --zone us-central1-c"
   ]
  },
  {
   "cell_type": "markdown",
   "metadata": {},
   "source": [
    "---\n",
    "## Config"
   ]
  },
  {
   "cell_type": "code",
   "execution_count": 4,
   "metadata": {
    "pycharm": {
     "is_executing": false
    }
   },
   "outputs": [],
   "source": [
    "import sys\n",
    "sys.path.append(\"..\")\n",
    "\n",
    "import default_config as cfg\n",
    "\n",
    "#import local_storage_config as storage_cfg\n",
    "import remote_storage_config as storage_cfg\n",
    "cfg.__dict__.update(storage_cfg.__dict__)\n",
    "\n",
    "import tpu_training.TPU_config as TPU_config\n",
    "cfg.__dict__.update(TPU_config.__dict__) #comment out to disable TPU training\n",
    "\n",
    "cfg.RUN_NAME=\"model8\" #for reference "
   ]
  },
  {
   "cell_type": "code",
   "execution_count": 23,
   "metadata": {},
   "outputs": [],
   "source": [
    "nowt=\"14Sat1219-0149\"#now()"
   ]
  },
  {
   "cell_type": "code",
   "execution_count": 5,
   "metadata": {
    "pycharm": {
     "is_executing": false
    }
   },
   "outputs": [
    {
     "name": "stdout",
     "output_type": "stream",
     "text": [
      "Tensorflow version: 2.1.0-dev20191203\n"
     ]
    }
   ],
   "source": [
    "import tensorflow as tf\n",
    "print(\"Tensorflow version:\",tf.version.VERSION)"
   ]
  },
  {
   "cell_type": "code",
   "execution_count": 6,
   "metadata": {
    "pycharm": {
     "is_executing": false,
     "name": "#%% \n"
    }
   },
   "outputs": [
    {
     "name": "stdout",
     "output_type": "stream",
     "text": [
      "Testing results bucket connectivity\n",
      "Copying file:///tmp/test [Content-Type=application/octet-stream]...\n",
      "/ [1 files][    0.0 B/    0.0 B]                                                \n",
      "Operation completed over 1 objects.                                              \n",
      "Removing gs://dl_training_results/tensorboard/test...\n",
      "/ [1 objects]                                                                   \n",
      "Operation completed over 1 objects.                                              \n",
      "Copying file:///tmp/test [Content-Type=application/octet-stream]...\n",
      "/ [1 files][    0.0 B/    0.0 B]                                                \n",
      "Operation completed over 1 objects.                                              \n",
      "Removing gs://dl_training_results/checkpoints/test...\n",
      "/ [1 objects]                                                                   \n",
      "Operation completed over 1 objects.                                              \n",
      "Testing dataset bucket connectivity\n",
      "gs://datasets_bucket_a/training-001.tfrecords\n",
      "gs://datasets_bucket_a/training-002.tfrecords\n",
      "gs://datasets_bucket_a/training-003.tfrecords\n",
      "gs://datasets_bucket_a/training-004.tfrecords\n",
      "Testing TPU connectivity\n",
      "\n",
      "Starting Nmap 7.40 ( https://nmap.org ) at 2019-12-14 01:48 UTC\n",
      "Nmap scan report for 10.0.3.2\n",
      "Host is up (0.0023s latency).\n",
      "PORT     STATE SERVICE\n",
      "8470/tcp open  cisco-avp\n",
      "\n",
      "Nmap done: 1 IP address (1 host up) scanned in 0.04 seconds\n",
      "Trying to connect to a TPU node\n",
      "\n",
      "!!!MAKE SURE THE TPU ADDRESS IS CORRECT!!\n",
      "1.ip must be correct\n",
      "2.tpu must be turned on\n",
      "3.version must be 'nightly-2.x'\n",
      "4.tpu must be reachable (check with gce netowrking/connectivity test)\n",
      "if not this will hang!\n",
      "\n",
      "Trying to connect to: grpc://10.0.3.2:8470\n",
      "INFO:tensorflow:Initializing the TPU system: grpc://10.0.3.2:8470\n"
     ]
    },
    {
     "name": "stderr",
     "output_type": "stream",
     "text": [
      "INFO:tensorflow:Initializing the TPU system: grpc://10.0.3.2:8470\n"
     ]
    },
    {
     "name": "stdout",
     "output_type": "stream",
     "text": [
      "INFO:tensorflow:Clearing out eager caches\n"
     ]
    },
    {
     "name": "stderr",
     "output_type": "stream",
     "text": [
      "INFO:tensorflow:Clearing out eager caches\n"
     ]
    },
    {
     "name": "stdout",
     "output_type": "stream",
     "text": [
      "INFO:tensorflow:Finished initializing TPU system.\n"
     ]
    },
    {
     "name": "stderr",
     "output_type": "stream",
     "text": [
      "INFO:tensorflow:Finished initializing TPU system.\n"
     ]
    },
    {
     "name": "stdout",
     "output_type": "stream",
     "text": [
      "INFO:tensorflow:Found TPU system:\n"
     ]
    },
    {
     "name": "stderr",
     "output_type": "stream",
     "text": [
      "INFO:tensorflow:Found TPU system:\n"
     ]
    },
    {
     "name": "stdout",
     "output_type": "stream",
     "text": [
      "INFO:tensorflow:*** Num TPU Cores: 8\n"
     ]
    },
    {
     "name": "stderr",
     "output_type": "stream",
     "text": [
      "INFO:tensorflow:*** Num TPU Cores: 8\n"
     ]
    },
    {
     "name": "stdout",
     "output_type": "stream",
     "text": [
      "INFO:tensorflow:*** Num TPU Workers: 1\n"
     ]
    },
    {
     "name": "stderr",
     "output_type": "stream",
     "text": [
      "INFO:tensorflow:*** Num TPU Workers: 1\n"
     ]
    },
    {
     "name": "stdout",
     "output_type": "stream",
     "text": [
      "INFO:tensorflow:*** Num TPU Cores Per Worker: 8\n"
     ]
    },
    {
     "name": "stderr",
     "output_type": "stream",
     "text": [
      "INFO:tensorflow:*** Num TPU Cores Per Worker: 8\n"
     ]
    },
    {
     "name": "stdout",
     "output_type": "stream",
     "text": [
      "INFO:tensorflow:*** Available Device: _DeviceAttributes(/job:localhost/replica:0/task:0/device:CPU:0, CPU, 0, 0)\n"
     ]
    },
    {
     "name": "stderr",
     "output_type": "stream",
     "text": [
      "INFO:tensorflow:*** Available Device: _DeviceAttributes(/job:localhost/replica:0/task:0/device:CPU:0, CPU, 0, 0)\n"
     ]
    },
    {
     "name": "stdout",
     "output_type": "stream",
     "text": [
      "INFO:tensorflow:*** Available Device: _DeviceAttributes(/job:localhost/replica:0/task:0/device:XLA_CPU:0, XLA_CPU, 0, 0)\n"
     ]
    },
    {
     "name": "stderr",
     "output_type": "stream",
     "text": [
      "INFO:tensorflow:*** Available Device: _DeviceAttributes(/job:localhost/replica:0/task:0/device:XLA_CPU:0, XLA_CPU, 0, 0)\n"
     ]
    },
    {
     "name": "stdout",
     "output_type": "stream",
     "text": [
      "INFO:tensorflow:*** Available Device: _DeviceAttributes(/job:worker/replica:0/task:0/device:CPU:0, CPU, 0, 0)\n"
     ]
    },
    {
     "name": "stderr",
     "output_type": "stream",
     "text": [
      "INFO:tensorflow:*** Available Device: _DeviceAttributes(/job:worker/replica:0/task:0/device:CPU:0, CPU, 0, 0)\n"
     ]
    },
    {
     "name": "stdout",
     "output_type": "stream",
     "text": [
      "INFO:tensorflow:*** Available Device: _DeviceAttributes(/job:worker/replica:0/task:0/device:TPU:0, TPU, 0, 0)\n"
     ]
    },
    {
     "name": "stderr",
     "output_type": "stream",
     "text": [
      "INFO:tensorflow:*** Available Device: _DeviceAttributes(/job:worker/replica:0/task:0/device:TPU:0, TPU, 0, 0)\n"
     ]
    },
    {
     "name": "stdout",
     "output_type": "stream",
     "text": [
      "INFO:tensorflow:*** Available Device: _DeviceAttributes(/job:worker/replica:0/task:0/device:TPU:1, TPU, 0, 0)\n"
     ]
    },
    {
     "name": "stderr",
     "output_type": "stream",
     "text": [
      "INFO:tensorflow:*** Available Device: _DeviceAttributes(/job:worker/replica:0/task:0/device:TPU:1, TPU, 0, 0)\n"
     ]
    },
    {
     "name": "stdout",
     "output_type": "stream",
     "text": [
      "INFO:tensorflow:*** Available Device: _DeviceAttributes(/job:worker/replica:0/task:0/device:TPU:2, TPU, 0, 0)\n"
     ]
    },
    {
     "name": "stderr",
     "output_type": "stream",
     "text": [
      "INFO:tensorflow:*** Available Device: _DeviceAttributes(/job:worker/replica:0/task:0/device:TPU:2, TPU, 0, 0)\n"
     ]
    },
    {
     "name": "stdout",
     "output_type": "stream",
     "text": [
      "INFO:tensorflow:*** Available Device: _DeviceAttributes(/job:worker/replica:0/task:0/device:TPU:3, TPU, 0, 0)\n"
     ]
    },
    {
     "name": "stderr",
     "output_type": "stream",
     "text": [
      "INFO:tensorflow:*** Available Device: _DeviceAttributes(/job:worker/replica:0/task:0/device:TPU:3, TPU, 0, 0)\n"
     ]
    },
    {
     "name": "stdout",
     "output_type": "stream",
     "text": [
      "INFO:tensorflow:*** Available Device: _DeviceAttributes(/job:worker/replica:0/task:0/device:TPU:4, TPU, 0, 0)\n"
     ]
    },
    {
     "name": "stderr",
     "output_type": "stream",
     "text": [
      "INFO:tensorflow:*** Available Device: _DeviceAttributes(/job:worker/replica:0/task:0/device:TPU:4, TPU, 0, 0)\n"
     ]
    },
    {
     "name": "stdout",
     "output_type": "stream",
     "text": [
      "INFO:tensorflow:*** Available Device: _DeviceAttributes(/job:worker/replica:0/task:0/device:TPU:5, TPU, 0, 0)\n"
     ]
    },
    {
     "name": "stderr",
     "output_type": "stream",
     "text": [
      "INFO:tensorflow:*** Available Device: _DeviceAttributes(/job:worker/replica:0/task:0/device:TPU:5, TPU, 0, 0)\n"
     ]
    },
    {
     "name": "stdout",
     "output_type": "stream",
     "text": [
      "INFO:tensorflow:*** Available Device: _DeviceAttributes(/job:worker/replica:0/task:0/device:TPU:6, TPU, 0, 0)\n"
     ]
    },
    {
     "name": "stderr",
     "output_type": "stream",
     "text": [
      "INFO:tensorflow:*** Available Device: _DeviceAttributes(/job:worker/replica:0/task:0/device:TPU:6, TPU, 0, 0)\n"
     ]
    },
    {
     "name": "stdout",
     "output_type": "stream",
     "text": [
      "INFO:tensorflow:*** Available Device: _DeviceAttributes(/job:worker/replica:0/task:0/device:TPU:7, TPU, 0, 0)\n"
     ]
    },
    {
     "name": "stderr",
     "output_type": "stream",
     "text": [
      "INFO:tensorflow:*** Available Device: _DeviceAttributes(/job:worker/replica:0/task:0/device:TPU:7, TPU, 0, 0)\n"
     ]
    },
    {
     "name": "stdout",
     "output_type": "stream",
     "text": [
      "INFO:tensorflow:*** Available Device: _DeviceAttributes(/job:worker/replica:0/task:0/device:TPU_SYSTEM:0, TPU_SYSTEM, 0, 0)\n"
     ]
    },
    {
     "name": "stderr",
     "output_type": "stream",
     "text": [
      "INFO:tensorflow:*** Available Device: _DeviceAttributes(/job:worker/replica:0/task:0/device:TPU_SYSTEM:0, TPU_SYSTEM, 0, 0)\n"
     ]
    },
    {
     "name": "stdout",
     "output_type": "stream",
     "text": [
      "INFO:tensorflow:*** Available Device: _DeviceAttributes(/job:worker/replica:0/task:0/device:XLA_CPU:0, XLA_CPU, 0, 0)\n"
     ]
    },
    {
     "name": "stderr",
     "output_type": "stream",
     "text": [
      "INFO:tensorflow:*** Available Device: _DeviceAttributes(/job:worker/replica:0/task:0/device:XLA_CPU:0, XLA_CPU, 0, 0)\n"
     ]
    }
   ],
   "source": [
    "if cfg.TPU_MODE:\n",
    "    import tpu_training.init_TPU as init_TPU\n",
    "    \n",
    "    print(\"Testing results bucket connectivity\")\n",
    "    !touch /tmp/test\n",
    "    !gsutil cp /tmp/test {cfg.TENSORBOARD_PATH}/test\n",
    "    !gsutil rm {cfg.TENSORBOARD_PATH}/test\n",
    "    !gsutil cp /tmp/test {cfg.CHECKPOINTS_PATH}/test\n",
    "    !gsutil rm {cfg.CHECKPOINTS_PATH}/test\n",
    "    print(\"Testing dataset bucket connectivity\")\n",
    "    !gsutil ls gs://{cfg.GCS_TFRECORDS_BUCKETNAME} | head -4\n",
    "    print(\"Testing TPU connectivity\")\n",
    "    !nmap -Pn -p8470 {cfg.TPU_IP}\n",
    "    strategy,resolver=init_TPU.init_tpu(cfg.TPU_IP) #This must be run before any imports!!!!"
   ]
  },
  {
   "cell_type": "code",
   "execution_count": 7,
   "metadata": {
    "pycharm": {
     "is_executing": false
    }
   },
   "outputs": [],
   "source": [
    "import datetime\n",
    "import numpy as np\n",
    "\n",
    "import dataset_functions\n",
    "import models.six_stage_linear_model as model\n",
    "import callbacks\n",
    "import dataset_builder\n",
    "import load_weights\n",
    "import loss_metrics\n",
    "from utils import now"
   ]
  },
  {
   "cell_type": "code",
   "execution_count": 8,
   "metadata": {
    "pycharm": {
     "is_executing": false
    }
   },
   "outputs": [],
   "source": [
    "# import importlib as il\n",
    "# il.reload() #useful to reload any changes"
   ]
  },
  {
   "cell_type": "markdown",
   "metadata": {},
   "source": [
    "---\n",
    "## Dataset"
   ]
  },
  {
   "cell_type": "code",
   "execution_count": 22,
   "metadata": {},
   "outputs": [],
   "source": [
    "# Training settings\n",
    "TRAINING_EPOCHS = 30\n",
    "REAL_EPOCH_STEPS = int(cfg.DATASET_SIZE / cfg.BATCH_SIZE)\n",
    "SHORT_EPOCH_STEPS=50 #actual epocsh used in training, smaller than real epoch, but allows to track progress better, [in batches]\n",
    "SHORT_TRAINING_EPOCHS=int(TRAINING_EPOCHS*(REAL_EPOCH_STEPS/SHORT_EPOCH_STEPS))\n",
    "SHORT_VALIDATION_STEPS=5 #per short epoch\n",
    "\n",
    "EPOCH_RATIO=int(REAL_EPOCH_STEPS / SHORT_EPOCH_STEPS)\n",
    "# adam_learning_rate=0.001  #for reference\n",
    "BASE_LEARNING_RATE = 0.001\n",
    "LEARNING_RATE_SCHEDUELE = np.zeros(100000)  #used with short epochs\n",
    "LEARNING_RATE_SCHEDUELE[:3 * EPOCH_RATIO] = 1\n",
    "LEARNING_RATE_SCHEDUELE[3 * EPOCH_RATIO:20 * EPOCH_RATIO] = 1\n",
    "LEARNING_RATE_SCHEDUELE[20 * EPOCH_RATIO:40 * EPOCH_RATIO] = 1\n",
    "LEARNING_RATE_SCHEDUELE[40 * EPOCH_RATIO:100 * EPOCH_RATIO] = 0.5\n",
    "LEARNING_RATE_SCHEDUELE[100 * EPOCH_RATIO:] = 0.3\n",
    "LEARNING_RATE_SCHEDUELE *= BASE_LEARNING_RATE"
   ]
  },
  {
   "cell_type": "code",
   "execution_count": 10,
   "metadata": {
    "pycharm": {
     "is_executing": false
    }
   },
   "outputs": [
    {
     "name": "stdout",
     "output_type": "stream",
     "text": [
      "Retrieving TFrecords from: gs://datasets_bucket_a/training\n",
      "Retrieving TFrecords from: gs://datasets_bucket_a/validation\n",
      "Found the following training TFrecords:\n",
      " gs://datasets_bucket_a/training-001.tfrecords\n",
      "gs://datasets_bucket_a/training-002.tfrecords\n",
      "gs://datasets_bucket_a/training-003.tfrecords\n",
      "gs://datasets_bucket_a/training-004.tfrecords\n",
      "gs://datasets_bucket_a/training-005.tfrecords\n",
      "gs://datasets_bucket_a/training-006.tfrecords\n",
      "gs://datasets_bucket_a/training-007.tfrecords\n",
      "gs://datasets_bucket_a/training-008.tfrecords\n",
      "gs://datasets_bucket_a/training-009.tfrecords\n",
      "gs://datasets_bucket_a/training-010.tfrecords\n",
      "gs://datasets_bucket_a/training-011.tfrecords\n",
      "gs://datasets_bucket_a/training-012.tfrecords\n",
      "gs://datasets_bucket_a/training-013.tfrecords\n",
      "gs://datasets_bucket_a/training-014.tfrecords\n",
      "gs://datasets_bucket_a/training-015.tfrecords\n",
      "gs://datasets_bucket_a/training-016.tfrecords\n",
      "gs://datasets_bucket_a/training-017.tfrecords\n",
      "gs://datasets_bucket_a/training-018.tfrecords\n",
      "gs://datasets_bucket_a/training-019.tfrecords\n",
      "gs://datasets_bucket_a/training-020.tfrecords\n",
      "gs://datasets_bucket_a/training-021.tfrecords\n",
      "gs://datasets_bucket_a/training-022.tfrecords\n",
      "gs://datasets_bucket_a/training-023.tfrecords\n",
      "gs://datasets_bucket_a/training-024.tfrecords\n",
      "gs://datasets_bucket_a/training-025.tfrecords\n",
      "gs://datasets_bucket_a/training-026.tfrecords\n",
      "gs://datasets_bucket_a/training-027.tfrecords\n",
      "gs://datasets_bucket_a/training-028.tfrecords\n",
      "gs://datasets_bucket_a/training-029.tfrecords\n",
      "gs://datasets_bucket_a/training-030.tfrecords\n",
      "gs://datasets_bucket_a/training-031.tfrecords\n",
      "gs://datasets_bucket_a/training-032.tfrecords\n",
      "gs://datasets_bucket_a/training-033.tfrecords\n",
      "gs://datasets_bucket_a/training-034.tfrecords\n",
      "gs://datasets_bucket_a/training-035.tfrecords\n",
      "gs://datasets_bucket_a/training-036.tfrecords\n",
      "gs://datasets_bucket_a/training-037.tfrecords\n",
      "gs://datasets_bucket_a/training-038.tfrecords\n",
      "gs://datasets_bucket_a/training-039.tfrecords\n",
      "gs://datasets_bucket_a/training-040.tfrecords\n",
      "gs://datasets_bucket_a/training-041.tfrecords\n",
      "gs://datasets_bucket_a/training-042.tfrecords\n",
      "gs://datasets_bucket_a/training-043.tfrecords\n",
      "gs://datasets_bucket_a/training-044.tfrecords\n",
      "gs://datasets_bucket_a/training-045.tfrecords\n",
      "gs://datasets_bucket_a/training-046.tfrecords\n",
      "gs://datasets_bucket_a/training-047.tfrecords\n",
      "gs://datasets_bucket_a/training-048.tfrecords\n",
      "gs://datasets_bucket_a/training-049.tfrecords\n",
      "gs://datasets_bucket_a/training-050.tfrecords\n",
      "gs://datasets_bucket_a/training-051.tfrecords\n",
      "gs://datasets_bucket_a/training-052.tfrecords\n",
      "gs://datasets_bucket_a/training-053.tfrecords\n",
      "gs://datasets_bucket_a/training-054.tfrecords\n",
      "gs://datasets_bucket_a/training-055.tfrecords\n",
      "gs://datasets_bucket_a/training-056.tfrecords\n",
      "gs://datasets_bucket_a/training-057.tfrecords\n",
      "Found the following validation TFrecords:\n",
      " gs://datasets_bucket_a/validation-001.tfrecords\n",
      "gs://datasets_bucket_a/validation-002.tfrecords\n",
      "gs://datasets_bucket_a/validation-003.tfrecords\n",
      "Building training dataset\n",
      "Training dataset shape: <PrefetchDataset shapes: (((None, 368, 368, 3), (None, 46, 46, 1)), ((None, 46, 46, 35), (None, 46, 46, 35), (None, 46, 46, 35), (None, 46, 46, 35), (None, 46, 46, 19), (None, 46, 46, 19))), types: ((tf.float32, tf.float32), (tf.float32, tf.float32, tf.float32, tf.float32, tf.float32, tf.float32))>\n",
      "Building validation dataset\n",
      "Validation dataset shape: <PrefetchDataset shapes: (((None, 368, 368, 3), (None, 46, 46, 1)), ((None, 46, 46, 35), (None, 46, 46, 35), (None, 46, 46, 35), (None, 46, 46, 35), (None, 46, 46, 19), (None, 46, 46, 19))), types: ((tf.float32, tf.float32), (tf.float32, tf.float32, tf.float32, tf.float32, tf.float32, tf.float32))>\n"
     ]
    }
   ],
   "source": [
    "model_ds=model.ModelDatasetComponent(cfg)\n",
    "\n",
    "tfrecord_files_train=dataset_builder.get_tfrecord_filenames(cfg.TRAIN_TFRECORDS,cfg)\n",
    "tfrecord_files_valid=dataset_builder.get_tfrecord_filenames(cfg.VALID_TFRECORDS,cfg)\n",
    "print(\"Found the following training TFrecords:\\n\",\"\\n\".join(tfrecord_files_train))\n",
    "print(\"Found the following validation TFrecords:\\n\",\"\\n\".join(tfrecord_files_valid))\n",
    "\n",
    "print(\"Building training dataset\")\n",
    "dst=dataset_builder.build_training_ds(tfrecord_files_train,model_ds.place_training_labels,cfg)\n",
    "print(\"Training dataset shape:\",dst)\n",
    "print(\"Building validation dataset\")\n",
    "dsv=dataset_builder.build_validation_ds(tfrecord_files_valid,model_ds.place_training_labels,cfg)\n",
    "print(\"Validation dataset shape:\",dsv)\n"
   ]
  },
  {
   "cell_type": "code",
   "execution_count": 11,
   "metadata": {
    "pycharm": {
     "is_executing": false,
     "name": "#%%\n"
    }
   },
   "outputs": [],
   "source": [
    "#Test element\n",
    "# dst_iter=iter(dst)\n",
    "# sample_elem=next(dst_iter)\n",
    "# print(\"Dataset shape:\",dst) #this should match the model input, and output stages"
   ]
  },
  {
   "cell_type": "code",
   "execution_count": 12,
   "metadata": {
    "pycharm": {
     "is_executing": false,
     "name": "#%%\n"
    }
   },
   "outputs": [],
   "source": [
    "#testing mask\n",
    "# sample_elem=next(dst_iter)\n",
    "# m=sample_elem[1][1][0,...,0]\n",
    "# import matplotlib.pyplot as plt\n",
    "# plt.imshow(m)\n",
    "# plt.colorbar()"
   ]
  },
  {
   "cell_type": "markdown",
   "metadata": {},
   "source": [
    "---\n",
    "## Model\n",
    "### Load weights"
   ]
  },
  {
   "cell_type": "code",
   "execution_count": 13,
   "metadata": {
    "pycharm": {
     "is_executing": false
    }
   },
   "outputs": [],
   "source": [
    "if cfg.ASK_FOR_CHECKPOINTS:\n",
    "    checkpoint,starting_epoch=load_weights.checkpoints_prompt(cfg)\n",
    "else:\n",
    "    checkpoint=None\n",
    "    starting_epoch=0"
   ]
  },
  {
   "cell_type": "markdown",
   "metadata": {},
   "source": [
    "### Build Model"
   ]
  },
  {
   "cell_type": "code",
   "execution_count": 30,
   "metadata": {
    "pycharm": {
     "is_executing": false,
     "name": "#%%\n"
    }
   },
   "outputs": [],
   "source": [
    "model_maker=model.ModelMaker(cfg) #must be outside scope to keep the graph clean\n",
    "tf.keras.backend.clear_session() #to clean to backaend from the imported model\n",
    "def define():\n",
    "    train_model,test_model=model_maker.create_models()\n",
    "    \n",
    "#     if cfg.INCLUDE_MASK:\n",
    "#         losses=[loss_metrics.MaskedMeanAbsoluteError()\n",
    "#                 ,loss_metrics.MaskedMeanAbsoluteError()\n",
    "#                 ,loss_metrics.MaskedMeanAbsoluteError()\n",
    "#                 ,loss_metrics.MaskedMeanAbsoluteError()\n",
    "#                 ,loss_metrics.MaskedMeanSquaredError()\n",
    "#                 ,loss_metrics.MaskedMeanSquaredError()]\n",
    "                      \n",
    "#     else:\n",
    "#         raise NotImplementedError       \n",
    "    \n",
    "    #this must match the model output order\n",
    "    metrics=[\n",
    "              [loss_metrics.MeanAbsolute(),loss_metrics.MeanAbsoluteRatio(),loss_metrics.AnalogRecall()]\n",
    "             ,[loss_metrics.MeanAbsolute(),loss_metrics.MeanAbsoluteRatio(),loss_metrics.AnalogRecall()]\n",
    "             ,[loss_metrics.MeanAbsolute(),loss_metrics.MeanAbsoluteRatio(),loss_metrics.AnalogRecall()]\n",
    "             ,[loss_metrics.MeanAbsolute(),loss_metrics.MeanAbsoluteRatio(),loss_metrics.AnalogRecall()]\n",
    "             ,[loss_metrics.MeanAbsolute(),loss_metrics.MeanAbsoluteRatio(),loss_metrics.AnalogRecall()]    \n",
    "             ,[loss_metrics.MeanAbsolute(),loss_metrics.MeanAbsoluteRatio(),loss_metrics.AnalogRecall()]\n",
    "        ]\n",
    "    \n",
    "    train_model.compile(\n",
    "                    optimizer=tf.keras.optimizers.Adam(BASE_LEARNING_RATE)                   \n",
    "                    ,loss=loss_metrics.MaskedMeanSquaredError()\n",
    "                    ,loss_weights=[5,5,5,5,1,1]\n",
    "                    ,metrics=metrics                           \n",
    "                   )\n",
    "    return train_model,test_model\n",
    "\n",
    "if cfg.TPU_MODE:\n",
    "    with strategy.scope():\n",
    "        train_model,test_model=define()\n",
    "        if (checkpoint):\n",
    "            train_model.load_weights(checkpoint)\n",
    "else:\n",
    "    train_model,test_model=define()\n",
    "    if (checkpoint):\n",
    "        train_model.load_weights(checkpoint)"
   ]
  },
  {
   "cell_type": "markdown",
   "metadata": {},
   "source": [
    "### Callbacks"
   ]
  },
  {
   "cell_type": "code",
   "execution_count": 31,
   "metadata": {
    "pycharm": {
     "is_executing": false,
     "name": "#%%\n"
    }
   },
   "outputs": [],
   "source": [
    "all_callbacks=[\n",
    "    callbacks.make_LRscheduler_callback(LEARNING_RATE_SCHEDUELE)\n",
    "    ,callbacks.PrintLR()\n",
    "    ,tf.keras.callbacks.TerminateOnNaN()\n",
    "]\n",
    "if cfg.SAVE_CHECKPOINTS:all_callbacks+=[callbacks.make_checkpoint_callback(cfg,nowt,REAL_EPOCH_STEPS*cfg.BATCH_SIZE)]\n",
    "if cfg.SAVE_TENSORBOARD:all_callbacks+=[callbacks.make_tensorboard_callback(cfg,nowt,EPOCH_RATIO)]"
   ]
  },
  {
   "cell_type": "code",
   "execution_count": 24,
   "metadata": {},
   "outputs": [
    {
     "data": {
      "text/plain": [
       "<module 'callbacks' from '/home/michael_zl_prime/project_drive/project/callbacks.py'>"
      ]
     },
     "execution_count": 24,
     "metadata": {},
     "output_type": "execute_result"
    }
   ],
   "source": [
    "# import importlib \n",
    "# importlib.reload(callbacks)"
   ]
  },
  {
   "cell_type": "code",
   "execution_count": 16,
   "metadata": {
    "pycharm": {
     "is_executing": false,
     "name": "#%% \n"
    }
   },
   "outputs": [],
   "source": [
    "#run to clean tensorboard results\n",
    "#!gsutil -m rm -r {cfg.TENSORBOARD_PATH}/*\n",
    "#!gsutil -m rm -r {cfg.CHECKPOINTS_PATH}/*"
   ]
  },
  {
   "cell_type": "markdown",
   "metadata": {},
   "source": [
    "---\n",
    "## Training\n",
    "Actually training"
   ]
  },
  {
   "cell_type": "code",
   "execution_count": 32,
   "metadata": {
    "pycharm": {
     "is_executing": false
    },
    "scrolled": true
   },
   "outputs": [
    {
     "name": "stdout",
     "output_type": "stream",
     "text": [
      "Train for 50 steps, validate for 5 steps\n",
      "\n",
      "Learning rate for epoch 100 is 0.0010000000474974513\n",
      "Epoch 101/262\n",
      "50/50 [==============================] - 169s 3s/step - loss: 0.0906 - s1pafs_output_loss: 0.0030 - s2pafs_output_loss: 0.0028 - s3pafs_output_loss: 0.0027 - s4pafs_output_loss: 0.0026 - s5kpts_output_loss: 0.0177 - s6kpts_output_loss: 0.0177 - s1pafs_output_MeanAbsolute: 0.0361 - s1pafs_output_MeanAbsoluteRatio: 0.9838 - s1pafs_output_analog_recall: 0.8496 - s2pafs_output_MeanAbsolute: 0.0362 - s2pafs_output_MeanAbsoluteRatio: 0.9847 - s2pafs_output_analog_recall: 0.8598 - s3pafs_output_MeanAbsolute: 0.0360 - s3pafs_output_MeanAbsoluteRatio: 0.9800 - s3pafs_output_analog_recall: 0.8672 - s4pafs_output_MeanAbsolute: 0.0360 - s4pafs_output_MeanAbsoluteRatio: 0.9809 - s4pafs_output_analog_recall: 0.8681 - s5kpts_output_MeanAbsolute: 0.0511 - s5kpts_output_MeanAbsoluteRatio: 0.6112 - s5kpts_output_analog_recall: 0.6103 - s6kpts_output_MeanAbsolute: 0.0511 - s6kpts_output_MeanAbsoluteRatio: 0.6112 - s6kpts_output_analog_recall: 0.6103 - val_loss: 0.0967 - val_s1pafs_output_loss: 0.0032 - val_s2pafs_output_loss: 0.0030 - val_s3pafs_output_loss: 0.0029 - val_s4pafs_output_loss: 0.0028 - val_s5kpts_output_loss: 0.0188 - val_s6kpts_output_loss: 0.0188 - val_s1pafs_output_MeanAbsolute: 0.0367 - val_s1pafs_output_MeanAbsoluteRatio: 0.9923 - val_s1pafs_output_analog_recall: 0.8424 - val_s2pafs_output_MeanAbsolute: 0.0365 - val_s2pafs_output_MeanAbsoluteRatio: 0.9860 - val_s2pafs_output_analog_recall: 0.8534 - val_s3pafs_output_MeanAbsolute: 0.0362 - val_s3pafs_output_MeanAbsoluteRatio: 0.9781 - val_s3pafs_output_analog_recall: 0.8579 - val_s4pafs_output_MeanAbsolute: 0.0361 - val_s4pafs_output_MeanAbsoluteRatio: 0.9756 - val_s4pafs_output_analog_recall: 0.8600 - val_s5kpts_output_MeanAbsolute: 0.0505 - val_s5kpts_output_MeanAbsoluteRatio: 0.5942 - val_s5kpts_output_analog_recall: 0.5932 - val_s6kpts_output_MeanAbsolute: 0.0505 - val_s6kpts_output_MeanAbsoluteRatio: 0.5942 - val_s6kpts_output_analog_recall: 0.5932\n",
      "\n",
      "Learning rate for epoch 101 is 0.0010000000474974513\n",
      "Epoch 102/262\n",
      "50/50 [==============================] - 46s 927ms/step - loss: 0.0924 - s1pafs_output_loss: 0.0030 - s2pafs_output_loss: 0.0028 - s3pafs_output_loss: 0.0027 - s4pafs_output_loss: 0.0026 - s5kpts_output_loss: 0.0183 - s6kpts_output_loss: 0.0183 - s1pafs_output_MeanAbsolute: 0.0364 - s1pafs_output_MeanAbsoluteRatio: 0.9817 - s1pafs_output_analog_recall: 0.8492 - s2pafs_output_MeanAbsolute: 0.0364 - s2pafs_output_MeanAbsoluteRatio: 0.9818 - s2pafs_output_analog_recall: 0.8602 - s3pafs_output_MeanAbsolute: 0.0364 - s3pafs_output_MeanAbsoluteRatio: 0.9802 - s3pafs_output_analog_recall: 0.8661 - s4pafs_output_MeanAbsolute: 0.0364 - s4pafs_output_MeanAbsoluteRatio: 0.9807 - s4pafs_output_analog_recall: 0.8683 - s5kpts_output_MeanAbsolute: 0.0511 - s5kpts_output_MeanAbsoluteRatio: 0.6027 - s5kpts_output_analog_recall: 0.6017 - s6kpts_output_MeanAbsolute: 0.0511 - s6kpts_output_MeanAbsoluteRatio: 0.6027 - s6kpts_output_analog_recall: 0.6017 - val_loss: 0.0964 - val_s1pafs_output_loss: 0.0032 - val_s2pafs_output_loss: 0.0029 - val_s3pafs_output_loss: 0.0028 - val_s4pafs_output_loss: 0.0028 - val_s5kpts_output_loss: 0.0188 - val_s6kpts_output_loss: 0.0188 - val_s1pafs_output_MeanAbsolute: 0.0359 - val_s1pafs_output_MeanAbsoluteRatio: 0.9685 - val_s1pafs_output_analog_recall: 0.8428 - val_s2pafs_output_MeanAbsolute: 0.0358 - val_s2pafs_output_MeanAbsoluteRatio: 0.9677 - val_s2pafs_output_analog_recall: 0.8586 - val_s3pafs_output_MeanAbsolute: 0.0356 - val_s3pafs_output_MeanAbsoluteRatio: 0.9607 - val_s3pafs_output_analog_recall: 0.8614 - val_s4pafs_output_MeanAbsolute: 0.0353 - val_s4pafs_output_MeanAbsoluteRatio: 0.9546 - val_s4pafs_output_analog_recall: 0.8623 - val_s5kpts_output_MeanAbsolute: 0.0505 - val_s5kpts_output_MeanAbsoluteRatio: 0.5942 - val_s5kpts_output_analog_recall: 0.5932 - val_s6kpts_output_MeanAbsolute: 0.0505 - val_s6kpts_output_MeanAbsoluteRatio: 0.5942 - val_s6kpts_output_analog_recall: 0.5932\n",
      "\n",
      "Learning rate for epoch 102 is 0.0010000000474974513\n",
      "Epoch 103/262\n",
      "50/50 [==============================] - 46s 914ms/step - loss: 0.0888 - s1pafs_output_loss: 0.0029 - s2pafs_output_loss: 0.0027 - s3pafs_output_loss: 0.0026 - s4pafs_output_loss: 0.0025 - s5kpts_output_loss: 0.0177 - s6kpts_output_loss: 0.0177 - s1pafs_output_MeanAbsolute: 0.0362 - s1pafs_output_MeanAbsoluteRatio: 0.9838 - s1pafs_output_analog_recall: 0.8530 - s2pafs_output_MeanAbsolute: 0.0361 - s2pafs_output_MeanAbsoluteRatio: 0.9818 - s2pafs_output_analog_recall: 0.8658 - s3pafs_output_MeanAbsolute: 0.0361 - s3pafs_output_MeanAbsoluteRatio: 0.9805 - s3pafs_output_analog_recall: 0.8706 - s4pafs_output_MeanAbsolute: 0.0361 - s4pafs_output_MeanAbsoluteRatio: 0.9802 - s4pafs_output_analog_recall: 0.8724 - s5kpts_output_MeanAbsolute: 0.0511 - s5kpts_output_MeanAbsoluteRatio: 0.6108 - s5kpts_output_analog_recall: 0.6099 - s6kpts_output_MeanAbsolute: 0.0511 - s6kpts_output_MeanAbsoluteRatio: 0.6108 - s6kpts_output_analog_recall: 0.6099 - val_loss: 0.0964 - val_s1pafs_output_loss: 0.0032 - val_s2pafs_output_loss: 0.0029 - val_s3pafs_output_loss: 0.0028 - val_s4pafs_output_loss: 0.0028 - val_s5kpts_output_loss: 0.0188 - val_s6kpts_output_loss: 0.0188 - val_s1pafs_output_MeanAbsolute: 0.0369 - val_s1pafs_output_MeanAbsoluteRatio: 0.9954 - val_s1pafs_output_analog_recall: 0.8513 - val_s2pafs_output_MeanAbsolute: 0.0367 - val_s2pafs_output_MeanAbsoluteRatio: 0.9918 - val_s2pafs_output_analog_recall: 0.8588 - val_s3pafs_output_MeanAbsolute: 0.0364 - val_s3pafs_output_MeanAbsoluteRatio: 0.9838 - val_s3pafs_output_analog_recall: 0.8643 - val_s4pafs_output_MeanAbsolute: 0.0364 - val_s4pafs_output_MeanAbsoluteRatio: 0.9821 - val_s4pafs_output_analog_recall: 0.8659 - val_s5kpts_output_MeanAbsolute: 0.0505 - val_s5kpts_output_MeanAbsoluteRatio: 0.5942 - val_s5kpts_output_analog_recall: 0.5932 - val_s6kpts_output_MeanAbsolute: 0.0505 - val_s6kpts_output_MeanAbsoluteRatio: 0.5942 - val_s6kpts_output_analog_recall: 0.5932\n",
      "\n",
      "Learning rate for epoch 103 is 0.0010000000474974513\n",
      "Epoch 104/262\n",
      "50/50 [==============================] - 46s 915ms/step - loss: 0.0888 - s1pafs_output_loss: 0.0029 - s2pafs_output_loss: 0.0027 - s3pafs_output_loss: 0.0026 - s4pafs_output_loss: 0.0025 - s5kpts_output_loss: 0.0178 - s6kpts_output_loss: 0.0178 - s1pafs_output_MeanAbsolute: 0.0362 - s1pafs_output_MeanAbsoluteRatio: 0.9845 - s1pafs_output_analog_recall: 0.8537 - s2pafs_output_MeanAbsolute: 0.0361 - s2pafs_output_MeanAbsoluteRatio: 0.9832 - s2pafs_output_analog_recall: 0.8647 - s3pafs_output_MeanAbsolute: 0.0361 - s3pafs_output_MeanAbsoluteRatio: 0.9814 - s3pafs_output_analog_recall: 0.8702 - s4pafs_output_MeanAbsolute: 0.0361 - s4pafs_output_MeanAbsoluteRatio: 0.9820 - s4pafs_output_analog_recall: 0.8720 - s5kpts_output_MeanAbsolute: 0.0511 - s5kpts_output_MeanAbsoluteRatio: 0.6099 - s5kpts_output_analog_recall: 0.6090 - s6kpts_output_MeanAbsolute: 0.0511 - s6kpts_output_MeanAbsoluteRatio: 0.6099 - s6kpts_output_analog_recall: 0.6090 - val_loss: 0.0961 - val_s1pafs_output_loss: 0.0032 - val_s2pafs_output_loss: 0.0029 - val_s3pafs_output_loss: 0.0028 - val_s4pafs_output_loss: 0.0028 - val_s5kpts_output_loss: 0.0188 - val_s6kpts_output_loss: 0.0188 - val_s1pafs_output_MeanAbsolute: 0.0361 - val_s1pafs_output_MeanAbsoluteRatio: 0.9757 - val_s1pafs_output_analog_recall: 0.8416 - val_s2pafs_output_MeanAbsolute: 0.0360 - val_s2pafs_output_MeanAbsoluteRatio: 0.9717 - val_s2pafs_output_analog_recall: 0.8541 - val_s3pafs_output_MeanAbsolute: 0.0356 - val_s3pafs_output_MeanAbsoluteRatio: 0.9606 - val_s3pafs_output_analog_recall: 0.8601 - val_s4pafs_output_MeanAbsolute: 0.0357 - val_s4pafs_output_MeanAbsoluteRatio: 0.9635 - val_s4pafs_output_analog_recall: 0.8612 - val_s5kpts_output_MeanAbsolute: 0.0505 - val_s5kpts_output_MeanAbsoluteRatio: 0.5942 - val_s5kpts_output_analog_recall: 0.5932 - val_s6kpts_output_MeanAbsolute: 0.0505 - val_s6kpts_output_MeanAbsoluteRatio: 0.5942 - val_s6kpts_output_analog_recall: 0.5932\n",
      "\n",
      "Learning rate for epoch 104 is 0.0010000000474974513\n",
      "Epoch 105/262\n"
     ]
    },
    {
     "name": "stdout",
     "output_type": "stream",
     "text": [
      "50/50 [==============================] - 53s 1s/step - loss: 0.0896 - s1pafs_output_loss: 0.0029 - s2pafs_output_loss: 0.0027 - s3pafs_output_loss: 0.0026 - s4pafs_output_loss: 0.0026 - s5kpts_output_loss: 0.0177 - s6kpts_output_loss: 0.0177 - s1pafs_output_MeanAbsolute: 0.0362 - s1pafs_output_MeanAbsoluteRatio: 0.9851 - s1pafs_output_analog_recall: 0.8509 - s2pafs_output_MeanAbsolute: 0.0361 - s2pafs_output_MeanAbsoluteRatio: 0.9808 - s2pafs_output_analog_recall: 0.8643 - s3pafs_output_MeanAbsolute: 0.0360 - s3pafs_output_MeanAbsoluteRatio: 0.9795 - s3pafs_output_analog_recall: 0.8694 - s4pafs_output_MeanAbsolute: 0.0360 - s4pafs_output_MeanAbsoluteRatio: 0.9804 - s4pafs_output_analog_recall: 0.8708 - s5kpts_output_MeanAbsolute: 0.0510 - s5kpts_output_MeanAbsoluteRatio: 0.6106 - s5kpts_output_analog_recall: 0.6097 - s6kpts_output_MeanAbsolute: 0.0510 - s6kpts_output_MeanAbsoluteRatio: 0.6106 - s6kpts_output_analog_recall: 0.6097 - val_loss: 0.0964 - val_s1pafs_output_loss: 0.0032 - val_s2pafs_output_loss: 0.0029 - val_s3pafs_output_loss: 0.0028 - val_s4pafs_output_loss: 0.0028 - val_s5kpts_output_loss: 0.0188 - val_s6kpts_output_loss: 0.0188 - val_s1pafs_output_MeanAbsolute: 0.0365 - val_s1pafs_output_MeanAbsoluteRatio: 0.9853 - val_s1pafs_output_analog_recall: 0.8477 - val_s2pafs_output_MeanAbsolute: 0.0365 - val_s2pafs_output_MeanAbsoluteRatio: 0.9865 - val_s2pafs_output_analog_recall: 0.8579 - val_s3pafs_output_MeanAbsolute: 0.0366 - val_s3pafs_output_MeanAbsoluteRatio: 0.9894 - val_s3pafs_output_analog_recall: 0.8643 - val_s4pafs_output_MeanAbsolute: 0.0366 - val_s4pafs_output_MeanAbsoluteRatio: 0.9892 - val_s4pafs_output_analog_recall: 0.8679 - val_s5kpts_output_MeanAbsolute: 0.0505 - val_s5kpts_output_MeanAbsoluteRatio: 0.5942 - val_s5kpts_output_analog_recall: 0.5932 - val_s6kpts_output_MeanAbsolute: 0.0505 - val_s6kpts_output_MeanAbsoluteRatio: 0.5942 - val_s6kpts_output_analog_recall: 0.5932\n",
      "\n",
      "Learning rate for epoch 105 is 0.0010000000474974513\n",
      "Epoch 106/262\n",
      "50/50 [==============================] - 45s 908ms/step - loss: 0.0894 - s1pafs_output_loss: 0.0029 - s2pafs_output_loss: 0.0027 - s3pafs_output_loss: 0.0026 - s4pafs_output_loss: 0.0025 - s5kpts_output_loss: 0.0180 - s6kpts_output_loss: 0.0180 - s1pafs_output_MeanAbsolute: 0.0363 - s1pafs_output_MeanAbsoluteRatio: 0.9858 - s1pafs_output_analog_recall: 0.8508 - s2pafs_output_MeanAbsolute: 0.0362 - s2pafs_output_MeanAbsoluteRatio: 0.9834 - s2pafs_output_analog_recall: 0.8636 - s3pafs_output_MeanAbsolute: 0.0362 - s3pafs_output_MeanAbsoluteRatio: 0.9822 - s3pafs_output_analog_recall: 0.8697 - s4pafs_output_MeanAbsolute: 0.0362 - s4pafs_output_MeanAbsoluteRatio: 0.9824 - s4pafs_output_analog_recall: 0.8710 - s5kpts_output_MeanAbsolute: 0.0510 - s5kpts_output_MeanAbsoluteRatio: 0.6068 - s5kpts_output_analog_recall: 0.6059 - s6kpts_output_MeanAbsolute: 0.0510 - s6kpts_output_MeanAbsoluteRatio: 0.6068 - s6kpts_output_analog_recall: 0.6059 - val_loss: 0.0958 - val_s1pafs_output_loss: 0.0031 - val_s2pafs_output_loss: 0.0029 - val_s3pafs_output_loss: 0.0028 - val_s4pafs_output_loss: 0.0028 - val_s5kpts_output_loss: 0.0188 - val_s6kpts_output_loss: 0.0188 - val_s1pafs_output_MeanAbsolute: 0.0368 - val_s1pafs_output_MeanAbsoluteRatio: 0.9954 - val_s1pafs_output_analog_recall: 0.8479 - val_s2pafs_output_MeanAbsolute: 0.0366 - val_s2pafs_output_MeanAbsoluteRatio: 0.9879 - val_s2pafs_output_analog_recall: 0.8598 - val_s3pafs_output_MeanAbsolute: 0.0368 - val_s3pafs_output_MeanAbsoluteRatio: 0.9930 - val_s3pafs_output_analog_recall: 0.8617 - val_s4pafs_output_MeanAbsolute: 0.0372 - val_s4pafs_output_MeanAbsoluteRatio: 1.0037 - val_s4pafs_output_analog_recall: 0.8683 - val_s5kpts_output_MeanAbsolute: 0.0505 - val_s5kpts_output_MeanAbsoluteRatio: 0.5942 - val_s5kpts_output_analog_recall: 0.5932 - val_s6kpts_output_MeanAbsolute: 0.0505 - val_s6kpts_output_MeanAbsoluteRatio: 0.5942 - val_s6kpts_output_analog_recall: 0.5932\n",
      "\n",
      "Learning rate for epoch 106 is 0.0010000000474974513\n",
      "Epoch 107/262\n",
      "50/50 [==============================] - 45s 895ms/step - loss: 0.0881 - s1pafs_output_loss: 0.0028 - s2pafs_output_loss: 0.0026 - s3pafs_output_loss: 0.0025 - s4pafs_output_loss: 0.0025 - s5kpts_output_loss: 0.0180 - s6kpts_output_loss: 0.0180 - s1pafs_output_MeanAbsolute: 0.0363 - s1pafs_output_MeanAbsoluteRatio: 0.9870 - s1pafs_output_analog_recall: 0.8547 - s2pafs_output_MeanAbsolute: 0.0362 - s2pafs_output_MeanAbsoluteRatio: 0.9852 - s2pafs_output_analog_recall: 0.8669 - s3pafs_output_MeanAbsolute: 0.0362 - s3pafs_output_MeanAbsoluteRatio: 0.9843 - s3pafs_output_analog_recall: 0.8721 - s4pafs_output_MeanAbsolute: 0.0362 - s4pafs_output_MeanAbsoluteRatio: 0.9836 - s4pafs_output_analog_recall: 0.8747 - s5kpts_output_MeanAbsolute: 0.0511 - s5kpts_output_MeanAbsoluteRatio: 0.6075 - s5kpts_output_analog_recall: 0.6066 - s6kpts_output_MeanAbsolute: 0.0511 - s6kpts_output_MeanAbsoluteRatio: 0.6075 - s6kpts_output_analog_recall: 0.6066 - val_loss: 0.0955 - val_s1pafs_output_loss: 0.0031 - val_s2pafs_output_loss: 0.0029 - val_s3pafs_output_loss: 0.0028 - val_s4pafs_output_loss: 0.0028 - val_s5kpts_output_loss: 0.0188 - val_s6kpts_output_loss: 0.0188 - val_s1pafs_output_MeanAbsolute: 0.0361 - val_s1pafs_output_MeanAbsoluteRatio: 0.9742 - val_s1pafs_output_analog_recall: 0.8377 - val_s2pafs_output_MeanAbsolute: 0.0359 - val_s2pafs_output_MeanAbsoluteRatio: 0.9708 - val_s2pafs_output_analog_recall: 0.8587 - val_s3pafs_output_MeanAbsolute: 0.0357 - val_s3pafs_output_MeanAbsoluteRatio: 0.9652 - val_s3pafs_output_analog_recall: 0.8633 - val_s4pafs_output_MeanAbsolute: 0.0355 - val_s4pafs_output_MeanAbsoluteRatio: 0.9599 - val_s4pafs_output_analog_recall: 0.8627 - val_s5kpts_output_MeanAbsolute: 0.0505 - val_s5kpts_output_MeanAbsoluteRatio: 0.5942 - val_s5kpts_output_analog_recall: 0.5932 - val_s6kpts_output_MeanAbsolute: 0.0505 - val_s6kpts_output_MeanAbsoluteRatio: 0.5942 - val_s6kpts_output_analog_recall: 0.5932\n",
      "\n",
      "Learning rate for epoch 107 is 0.0010000000474974513\n",
      "Epoch 108/262\n",
      "50/50 [==============================] - 46s 923ms/step - loss: 0.0878 - s1pafs_output_loss: 0.0029 - s2pafs_output_loss: 0.0026 - s3pafs_output_loss: 0.0025 - s4pafs_output_loss: 0.0025 - s5kpts_output_loss: 0.0178 - s6kpts_output_loss: 0.0178 - s1pafs_output_MeanAbsolute: 0.0363 - s1pafs_output_MeanAbsoluteRatio: 0.9882 - s1pafs_output_analog_recall: 0.8536 - s2pafs_output_MeanAbsolute: 0.0362 - s2pafs_output_MeanAbsoluteRatio: 0.9856 - s2pafs_output_analog_recall: 0.8664 - s3pafs_output_MeanAbsolute: 0.0362 - s3pafs_output_MeanAbsoluteRatio: 0.9842 - s3pafs_output_analog_recall: 0.8719 - s4pafs_output_MeanAbsolute: 0.0362 - s4pafs_output_MeanAbsoluteRatio: 0.9839 - s4pafs_output_analog_recall: 0.8744 - s5kpts_output_MeanAbsolute: 0.0511 - s5kpts_output_MeanAbsoluteRatio: 0.6102 - s5kpts_output_analog_recall: 0.6093 - s6kpts_output_MeanAbsolute: 0.0511 - s6kpts_output_MeanAbsoluteRatio: 0.6102 - s6kpts_output_analog_recall: 0.6093 - val_loss: 0.0957 - val_s1pafs_output_loss: 0.0031 - val_s2pafs_output_loss: 0.0029 - val_s3pafs_output_loss: 0.0028 - val_s4pafs_output_loss: 0.0028 - val_s5kpts_output_loss: 0.0188 - val_s6kpts_output_loss: 0.0188 - val_s1pafs_output_MeanAbsolute: 0.0367 - val_s1pafs_output_MeanAbsoluteRatio: 0.9907 - val_s1pafs_output_analog_recall: 0.8408 - val_s2pafs_output_MeanAbsolute: 0.0370 - val_s2pafs_output_MeanAbsoluteRatio: 0.9993 - val_s2pafs_output_analog_recall: 0.8555 - val_s3pafs_output_MeanAbsolute: 0.0365 - val_s3pafs_output_MeanAbsoluteRatio: 0.9851 - val_s3pafs_output_analog_recall: 0.8585 - val_s4pafs_output_MeanAbsolute: 0.0361 - val_s4pafs_output_MeanAbsoluteRatio: 0.9738 - val_s4pafs_output_analog_recall: 0.8558 - val_s5kpts_output_MeanAbsolute: 0.0505 - val_s5kpts_output_MeanAbsoluteRatio: 0.5942 - val_s5kpts_output_analog_recall: 0.5932 - val_s6kpts_output_MeanAbsolute: 0.0505 - val_s6kpts_output_MeanAbsoluteRatio: 0.5942 - val_s6kpts_output_analog_recall: 0.5932\n",
      "\n",
      "Learning rate for epoch 108 is 0.0010000000474974513\n",
      "Epoch 109/262\n"
     ]
    },
    {
     "name": "stdout",
     "output_type": "stream",
     "text": [
      "36/50 [====================>.........] - ETA: 11s - loss: 0.0885 - s1pafs_output_loss: 0.0029 - s2pafs_output_loss: 0.0027 - s3pafs_output_loss: 0.0026 - s4pafs_output_loss: 0.0025 - s5kpts_output_loss: 0.0176 - s6kpts_output_loss: 0.0176 - s1pafs_output_MeanAbsolute: 0.0364 - s1pafs_output_MeanAbsoluteRatio: 0.9882 - s1pafs_output_analog_recall: 0.8506 - s2pafs_output_MeanAbsolute: 0.0363 - s2pafs_output_MeanAbsoluteRatio: 0.9858 - s2pafs_output_analog_recall: 0.8639 - s3pafs_output_MeanAbsolute: 0.0362 - s3pafs_output_MeanAbsoluteRatio: 0.9830 - s3pafs_output_analog_recall: 0.8702 - s4pafs_output_MeanAbsolute: 0.0362 - s4pafs_output_MeanAbsoluteRatio: 0.9826 - s4pafs_output_analog_recall: 0.8720 - s5kpts_output_MeanAbsolute: 0.0512 - s5kpts_output_MeanAbsoluteRatio: 0.6122 - s5kpts_output_analog_recall: 0.6113 - s6kpts_output_MeanAbsolute: 0.0512 - s6kpts_output_MeanAbsoluteRatio: 0.6122 - s6kpts_output_analog_recall: 0.6113\n",
      "Epoch 00109: saving model to gs://dl_training_results/checkpoints/model814Sat1219-0149/-E0109.ckpt\n",
      "50/50 [==============================] - 74s 1s/step - loss: 0.0892 - s1pafs_output_loss: 0.0029 - s2pafs_output_loss: 0.0027 - s3pafs_output_loss: 0.0026 - s4pafs_output_loss: 0.0025 - s5kpts_output_loss: 0.0178 - s6kpts_output_loss: 0.0178 - s1pafs_output_MeanAbsolute: 0.0364 - s1pafs_output_MeanAbsoluteRatio: 0.9873 - s1pafs_output_analog_recall: 0.8509 - s2pafs_output_MeanAbsolute: 0.0363 - s2pafs_output_MeanAbsoluteRatio: 0.9856 - s2pafs_output_analog_recall: 0.8635 - s3pafs_output_MeanAbsolute: 0.0362 - s3pafs_output_MeanAbsoluteRatio: 0.9820 - s3pafs_output_analog_recall: 0.8697 - s4pafs_output_MeanAbsolute: 0.0362 - s4pafs_output_MeanAbsoluteRatio: 0.9821 - s4pafs_output_analog_recall: 0.8715 - s5kpts_output_MeanAbsolute: 0.0511 - s5kpts_output_MeanAbsoluteRatio: 0.6099 - s5kpts_output_analog_recall: 0.6090 - s6kpts_output_MeanAbsolute: 0.0511 - s6kpts_output_MeanAbsoluteRatio: 0.6099 - s6kpts_output_analog_recall: 0.6090 - val_loss: 0.0957 - val_s1pafs_output_loss: 0.0031 - val_s2pafs_output_loss: 0.0029 - val_s3pafs_output_loss: 0.0028 - val_s4pafs_output_loss: 0.0028 - val_s5kpts_output_loss: 0.0188 - val_s6kpts_output_loss: 0.0188 - val_s1pafs_output_MeanAbsolute: 0.0363 - val_s1pafs_output_MeanAbsoluteRatio: 0.9810 - val_s1pafs_output_analog_recall: 0.8495 - val_s2pafs_output_MeanAbsolute: 0.0359 - val_s2pafs_output_MeanAbsoluteRatio: 0.9705 - val_s2pafs_output_analog_recall: 0.8591 - val_s3pafs_output_MeanAbsolute: 0.0356 - val_s3pafs_output_MeanAbsoluteRatio: 0.9611 - val_s3pafs_output_analog_recall: 0.8648 - val_s4pafs_output_MeanAbsolute: 0.0352 - val_s4pafs_output_MeanAbsoluteRatio: 0.9507 - val_s4pafs_output_analog_recall: 0.8627 - val_s5kpts_output_MeanAbsolute: 0.0505 - val_s5kpts_output_MeanAbsoluteRatio: 0.5942 - val_s5kpts_output_analog_recall: 0.5932 - val_s6kpts_output_MeanAbsolute: 0.0505 - val_s6kpts_output_MeanAbsoluteRatio: 0.5942 - val_s6kpts_output_analog_recall: 0.5932\n",
      "\n",
      "Learning rate for epoch 109 is 0.0010000000474974513\n",
      "Epoch 110/262\n",
      "50/50 [==============================] - 39s 774ms/step - loss: 0.0884 - s1pafs_output_loss: 0.0029 - s2pafs_output_loss: 0.0026 - s3pafs_output_loss: 0.0025 - s4pafs_output_loss: 0.0025 - s5kpts_output_loss: 0.0178 - s6kpts_output_loss: 0.0178 - s1pafs_output_MeanAbsolute: 0.0363 - s1pafs_output_MeanAbsoluteRatio: 0.9850 - s1pafs_output_analog_recall: 0.8534 - s2pafs_output_MeanAbsolute: 0.0363 - s2pafs_output_MeanAbsoluteRatio: 0.9853 - s2pafs_output_analog_recall: 0.8644 - s3pafs_output_MeanAbsolute: 0.0363 - s3pafs_output_MeanAbsoluteRatio: 0.9847 - s3pafs_output_analog_recall: 0.8707 - s4pafs_output_MeanAbsolute: 0.0362 - s4pafs_output_MeanAbsoluteRatio: 0.9828 - s4pafs_output_analog_recall: 0.8735 - s5kpts_output_MeanAbsolute: 0.0511 - s5kpts_output_MeanAbsoluteRatio: 0.6098 - s5kpts_output_analog_recall: 0.6088 - s6kpts_output_MeanAbsolute: 0.0511 - s6kpts_output_MeanAbsoluteRatio: 0.6098 - s6kpts_output_analog_recall: 0.6088 - val_loss: 0.0954 - val_s1pafs_output_loss: 0.0031 - val_s2pafs_output_loss: 0.0029 - val_s3pafs_output_loss: 0.0028 - val_s4pafs_output_loss: 0.0027 - val_s5kpts_output_loss: 0.0188 - val_s6kpts_output_loss: 0.0188 - val_s1pafs_output_MeanAbsolute: 0.0357 - val_s1pafs_output_MeanAbsoluteRatio: 0.9654 - val_s1pafs_output_analog_recall: 0.8465 - val_s2pafs_output_MeanAbsolute: 0.0357 - val_s2pafs_output_MeanAbsoluteRatio: 0.9635 - val_s2pafs_output_analog_recall: 0.8515 - val_s3pafs_output_MeanAbsolute: 0.0357 - val_s3pafs_output_MeanAbsoluteRatio: 0.9631 - val_s3pafs_output_analog_recall: 0.8569 - val_s4pafs_output_MeanAbsolute: 0.0356 - val_s4pafs_output_MeanAbsoluteRatio: 0.9627 - val_s4pafs_output_analog_recall: 0.8604 - val_s5kpts_output_MeanAbsolute: 0.0505 - val_s5kpts_output_MeanAbsoluteRatio: 0.5942 - val_s5kpts_output_analog_recall: 0.5932 - val_s6kpts_output_MeanAbsolute: 0.0505 - val_s6kpts_output_MeanAbsoluteRatio: 0.5942 - val_s6kpts_output_analog_recall: 0.5932\n",
      "\n",
      "Learning rate for epoch 110 is 0.0010000000474974513\n",
      "Epoch 111/262\n",
      "50/50 [==============================] - 41s 829ms/step - loss: 0.0908 - s1pafs_output_loss: 0.0030 - s2pafs_output_loss: 0.0027 - s3pafs_output_loss: 0.0026 - s4pafs_output_loss: 0.0026 - s5kpts_output_loss: 0.0182 - s6kpts_output_loss: 0.0182 - s1pafs_output_MeanAbsolute: 0.0364 - s1pafs_output_MeanAbsoluteRatio: 0.9833 - s1pafs_output_analog_recall: 0.8500 - s2pafs_output_MeanAbsolute: 0.0364 - s2pafs_output_MeanAbsoluteRatio: 0.9835 - s2pafs_output_analog_recall: 0.8623 - s3pafs_output_MeanAbsolute: 0.0364 - s3pafs_output_MeanAbsoluteRatio: 0.9824 - s3pafs_output_analog_recall: 0.8676 - s4pafs_output_MeanAbsolute: 0.0363 - s4pafs_output_MeanAbsoluteRatio: 0.9806 - s4pafs_output_analog_recall: 0.8704 - s5kpts_output_MeanAbsolute: 0.0511 - s5kpts_output_MeanAbsoluteRatio: 0.6043 - s5kpts_output_analog_recall: 0.6034 - s6kpts_output_MeanAbsolute: 0.0511 - s6kpts_output_MeanAbsoluteRatio: 0.6043 - s6kpts_output_analog_recall: 0.6034 - val_loss: 0.0950 - val_s1pafs_output_loss: 0.0031 - val_s2pafs_output_loss: 0.0029 - val_s3pafs_output_loss: 0.0028 - val_s4pafs_output_loss: 0.0027 - val_s5kpts_output_loss: 0.0188 - val_s6kpts_output_loss: 0.0188 - val_s1pafs_output_MeanAbsolute: 0.0368 - val_s1pafs_output_MeanAbsoluteRatio: 0.9934 - val_s1pafs_output_analog_recall: 0.8437 - val_s2pafs_output_MeanAbsolute: 0.0372 - val_s2pafs_output_MeanAbsoluteRatio: 1.0058 - val_s2pafs_output_analog_recall: 0.8577 - val_s3pafs_output_MeanAbsolute: 0.0369 - val_s3pafs_output_MeanAbsoluteRatio: 0.9963 - val_s3pafs_output_analog_recall: 0.8646 - val_s4pafs_output_MeanAbsolute: 0.0370 - val_s4pafs_output_MeanAbsoluteRatio: 0.9985 - val_s4pafs_output_analog_recall: 0.8657 - val_s5kpts_output_MeanAbsolute: 0.0505 - val_s5kpts_output_MeanAbsoluteRatio: 0.5942 - val_s5kpts_output_analog_recall: 0.5932 - val_s6kpts_output_MeanAbsolute: 0.0505 - val_s6kpts_output_MeanAbsoluteRatio: 0.5942 - val_s6kpts_output_analog_recall: 0.5932\n",
      "\n",
      "Learning rate for epoch 111 is 0.0010000000474974513\n",
      "Epoch 112/262\n",
      "50/50 [==============================] - 44s 885ms/step - loss: 0.0870 - s1pafs_output_loss: 0.0028 - s2pafs_output_loss: 0.0026 - s3pafs_output_loss: 0.0025 - s4pafs_output_loss: 0.0025 - s5kpts_output_loss: 0.0176 - s6kpts_output_loss: 0.0176 - s1pafs_output_MeanAbsolute: 0.0363 - s1pafs_output_MeanAbsoluteRatio: 0.9877 - s1pafs_output_analog_recall: 0.8550 - s2pafs_output_MeanAbsolute: 0.0363 - s2pafs_output_MeanAbsoluteRatio: 0.9868 - s2pafs_output_analog_recall: 0.8655 - s3pafs_output_MeanAbsolute: 0.0361 - s3pafs_output_MeanAbsoluteRatio: 0.9833 - s3pafs_output_analog_recall: 0.8727 - s4pafs_output_MeanAbsolute: 0.0361 - s4pafs_output_MeanAbsoluteRatio: 0.9835 - s4pafs_output_analog_recall: 0.8745 - s5kpts_output_MeanAbsolute: 0.0512 - s5kpts_output_MeanAbsoluteRatio: 0.6126 - s5kpts_output_analog_recall: 0.6117 - s6kpts_output_MeanAbsolute: 0.0512 - s6kpts_output_MeanAbsoluteRatio: 0.6126 - s6kpts_output_analog_recall: 0.6117 - val_loss: 0.0953 - val_s1pafs_output_loss: 0.0031 - val_s2pafs_output_loss: 0.0029 - val_s3pafs_output_loss: 0.0028 - val_s4pafs_output_loss: 0.0027 - val_s5kpts_output_loss: 0.0188 - val_s6kpts_output_loss: 0.0188 - val_s1pafs_output_MeanAbsolute: 0.0359 - val_s1pafs_output_MeanAbsoluteRatio: 0.9696 - val_s1pafs_output_analog_recall: 0.8425 - val_s2pafs_output_MeanAbsolute: 0.0362 - val_s2pafs_output_MeanAbsoluteRatio: 0.9775 - val_s2pafs_output_analog_recall: 0.8574 - val_s3pafs_output_MeanAbsolute: 0.0360 - val_s3pafs_output_MeanAbsoluteRatio: 0.9717 - val_s3pafs_output_analog_recall: 0.8600 - val_s4pafs_output_MeanAbsolute: 0.0360 - val_s4pafs_output_MeanAbsoluteRatio: 0.9734 - val_s4pafs_output_analog_recall: 0.8621 - val_s5kpts_output_MeanAbsolute: 0.0505 - val_s5kpts_output_MeanAbsoluteRatio: 0.5942 - val_s5kpts_output_analog_recall: 0.5932 - val_s6kpts_output_MeanAbsolute: 0.0505 - val_s6kpts_output_MeanAbsoluteRatio: 0.5942 - val_s6kpts_output_analog_recall: 0.5932\n"
     ]
    },
    {
     "name": "stdout",
     "output_type": "stream",
     "text": [
      "\n",
      "Learning rate for epoch 112 is 0.0010000000474974513\n",
      "Epoch 113/262\n",
      "50/50 [==============================] - 52s 1s/step - loss: 0.0892 - s1pafs_output_loss: 0.0029 - s2pafs_output_loss: 0.0027 - s3pafs_output_loss: 0.0026 - s4pafs_output_loss: 0.0025 - s5kpts_output_loss: 0.0178 - s6kpts_output_loss: 0.0178 - s1pafs_output_MeanAbsolute: 0.0363 - s1pafs_output_MeanAbsoluteRatio: 0.9867 - s1pafs_output_analog_recall: 0.8499 - s2pafs_output_MeanAbsolute: 0.0362 - s2pafs_output_MeanAbsoluteRatio: 0.9834 - s2pafs_output_analog_recall: 0.8644 - s3pafs_output_MeanAbsolute: 0.0361 - s3pafs_output_MeanAbsoluteRatio: 0.9823 - s3pafs_output_analog_recall: 0.8693 - s4pafs_output_MeanAbsolute: 0.0361 - s4pafs_output_MeanAbsoluteRatio: 0.9827 - s4pafs_output_analog_recall: 0.8718 - s5kpts_output_MeanAbsolute: 0.0511 - s5kpts_output_MeanAbsoluteRatio: 0.6095 - s5kpts_output_analog_recall: 0.6086 - s6kpts_output_MeanAbsolute: 0.0511 - s6kpts_output_MeanAbsoluteRatio: 0.6095 - s6kpts_output_analog_recall: 0.6086 - val_loss: 0.0956 - val_s1pafs_output_loss: 0.0031 - val_s2pafs_output_loss: 0.0029 - val_s3pafs_output_loss: 0.0028 - val_s4pafs_output_loss: 0.0028 - val_s5kpts_output_loss: 0.0188 - val_s6kpts_output_loss: 0.0188 - val_s1pafs_output_MeanAbsolute: 0.0357 - val_s1pafs_output_MeanAbsoluteRatio: 0.9657 - val_s1pafs_output_analog_recall: 0.8431 - val_s2pafs_output_MeanAbsolute: 0.0359 - val_s2pafs_output_MeanAbsoluteRatio: 0.9711 - val_s2pafs_output_analog_recall: 0.8579 - val_s3pafs_output_MeanAbsolute: 0.0363 - val_s3pafs_output_MeanAbsoluteRatio: 0.9794 - val_s3pafs_output_analog_recall: 0.8667 - val_s4pafs_output_MeanAbsolute: 0.0367 - val_s4pafs_output_MeanAbsoluteRatio: 0.9919 - val_s4pafs_output_analog_recall: 0.8644 - val_s5kpts_output_MeanAbsolute: 0.0505 - val_s5kpts_output_MeanAbsoluteRatio: 0.5942 - val_s5kpts_output_analog_recall: 0.5932 - val_s6kpts_output_MeanAbsolute: 0.0505 - val_s6kpts_output_MeanAbsoluteRatio: 0.5942 - val_s6kpts_output_analog_recall: 0.5932\n",
      "\n",
      "Learning rate for epoch 113 is 0.0010000000474974513\n",
      "Epoch 114/262\n",
      "50/50 [==============================] - 47s 936ms/step - loss: 0.0887 - s1pafs_output_loss: 0.0029 - s2pafs_output_loss: 0.0026 - s3pafs_output_loss: 0.0025 - s4pafs_output_loss: 0.0025 - s5kpts_output_loss: 0.0179 - s6kpts_output_loss: 0.0179 - s1pafs_output_MeanAbsolute: 0.0363 - s1pafs_output_MeanAbsoluteRatio: 0.9869 - s1pafs_output_analog_recall: 0.8526 - s2pafs_output_MeanAbsolute: 0.0363 - s2pafs_output_MeanAbsoluteRatio: 0.9855 - s2pafs_output_analog_recall: 0.8649 - s3pafs_output_MeanAbsolute: 0.0363 - s3pafs_output_MeanAbsoluteRatio: 0.9844 - s3pafs_output_analog_recall: 0.8707 - s4pafs_output_MeanAbsolute: 0.0362 - s4pafs_output_MeanAbsoluteRatio: 0.9843 - s4pafs_output_analog_recall: 0.8724 - s5kpts_output_MeanAbsolute: 0.0510 - s5kpts_output_MeanAbsoluteRatio: 0.6075 - s5kpts_output_analog_recall: 0.6065 - s6kpts_output_MeanAbsolute: 0.0510 - s6kpts_output_MeanAbsoluteRatio: 0.6075 - s6kpts_output_analog_recall: 0.6065 - val_loss: 0.0953 - val_s1pafs_output_loss: 0.0031 - val_s2pafs_output_loss: 0.0029 - val_s3pafs_output_loss: 0.0028 - val_s4pafs_output_loss: 0.0027 - val_s5kpts_output_loss: 0.0188 - val_s6kpts_output_loss: 0.0188 - val_s1pafs_output_MeanAbsolute: 0.0366 - val_s1pafs_output_MeanAbsoluteRatio: 0.9887 - val_s1pafs_output_analog_recall: 0.8478 - val_s2pafs_output_MeanAbsolute: 0.0370 - val_s2pafs_output_MeanAbsoluteRatio: 0.9996 - val_s2pafs_output_analog_recall: 0.8612 - val_s3pafs_output_MeanAbsolute: 0.0368 - val_s3pafs_output_MeanAbsoluteRatio: 0.9939 - val_s3pafs_output_analog_recall: 0.8689 - val_s4pafs_output_MeanAbsolute: 0.0364 - val_s4pafs_output_MeanAbsoluteRatio: 0.9844 - val_s4pafs_output_analog_recall: 0.8638 - val_s5kpts_output_MeanAbsolute: 0.0505 - val_s5kpts_output_MeanAbsoluteRatio: 0.5942 - val_s5kpts_output_analog_recall: 0.5932 - val_s6kpts_output_MeanAbsolute: 0.0505 - val_s6kpts_output_MeanAbsoluteRatio: 0.5942 - val_s6kpts_output_analog_recall: 0.5932\n",
      "\n",
      "Learning rate for epoch 114 is 0.0010000000474974513\n",
      "Epoch 115/262\n",
      "50/50 [==============================] - 43s 850ms/step - loss: 0.0878 - s1pafs_output_loss: 0.0028 - s2pafs_output_loss: 0.0026 - s3pafs_output_loss: 0.0025 - s4pafs_output_loss: 0.0025 - s5kpts_output_loss: 0.0179 - s6kpts_output_loss: 0.0179 - s1pafs_output_MeanAbsolute: 0.0364 - s1pafs_output_MeanAbsoluteRatio: 0.9896 - s1pafs_output_analog_recall: 0.8524 - s2pafs_output_MeanAbsolute: 0.0363 - s2pafs_output_MeanAbsoluteRatio: 0.9873 - s2pafs_output_analog_recall: 0.8656 - s3pafs_output_MeanAbsolute: 0.0362 - s3pafs_output_MeanAbsoluteRatio: 0.9854 - s3pafs_output_analog_recall: 0.8715 - s4pafs_output_MeanAbsolute: 0.0362 - s4pafs_output_MeanAbsoluteRatio: 0.9844 - s4pafs_output_analog_recall: 0.8739 - s5kpts_output_MeanAbsolute: 0.0511 - s5kpts_output_MeanAbsoluteRatio: 0.6088 - s5kpts_output_analog_recall: 0.6079 - s6kpts_output_MeanAbsolute: 0.0511 - s6kpts_output_MeanAbsoluteRatio: 0.6088 - s6kpts_output_analog_recall: 0.6079 - val_loss: 0.0954 - val_s1pafs_output_loss: 0.0031 - val_s2pafs_output_loss: 0.0029 - val_s3pafs_output_loss: 0.0028 - val_s4pafs_output_loss: 0.0027 - val_s5kpts_output_loss: 0.0188 - val_s6kpts_output_loss: 0.0188 - val_s1pafs_output_MeanAbsolute: 0.0363 - val_s1pafs_output_MeanAbsoluteRatio: 0.9816 - val_s1pafs_output_analog_recall: 0.8494 - val_s2pafs_output_MeanAbsolute: 0.0363 - val_s2pafs_output_MeanAbsoluteRatio: 0.9798 - val_s2pafs_output_analog_recall: 0.8615 - val_s3pafs_output_MeanAbsolute: 0.0364 - val_s3pafs_output_MeanAbsoluteRatio: 0.9822 - val_s3pafs_output_analog_recall: 0.8707 - val_s4pafs_output_MeanAbsolute: 0.0366 - val_s4pafs_output_MeanAbsoluteRatio: 0.9877 - val_s4pafs_output_analog_recall: 0.8747 - val_s5kpts_output_MeanAbsolute: 0.0505 - val_s5kpts_output_MeanAbsoluteRatio: 0.5942 - val_s5kpts_output_analog_recall: 0.5932 - val_s6kpts_output_MeanAbsolute: 0.0505 - val_s6kpts_output_MeanAbsoluteRatio: 0.5942 - val_s6kpts_output_analog_recall: 0.5932\n",
      "\n",
      "Learning rate for epoch 115 is 0.0010000000474974513\n",
      "Epoch 116/262\n",
      "50/50 [==============================] - 39s 786ms/step - loss: 0.0886 - s1pafs_output_loss: 0.0029 - s2pafs_output_loss: 0.0026 - s3pafs_output_loss: 0.0025 - s4pafs_output_loss: 0.0025 - s5kpts_output_loss: 0.0180 - s6kpts_output_loss: 0.0180 - s1pafs_output_MeanAbsolute: 0.0363 - s1pafs_output_MeanAbsoluteRatio: 0.9871 - s1pafs_output_analog_recall: 0.8527 - s2pafs_output_MeanAbsolute: 0.0362 - s2pafs_output_MeanAbsoluteRatio: 0.9841 - s2pafs_output_analog_recall: 0.8648 - s3pafs_output_MeanAbsolute: 0.0362 - s3pafs_output_MeanAbsoluteRatio: 0.9832 - s3pafs_output_analog_recall: 0.8710 - s4pafs_output_MeanAbsolute: 0.0362 - s4pafs_output_MeanAbsoluteRatio: 0.9832 - s4pafs_output_analog_recall: 0.8738 - s5kpts_output_MeanAbsolute: 0.0510 - s5kpts_output_MeanAbsoluteRatio: 0.6073 - s5kpts_output_analog_recall: 0.6064 - s6kpts_output_MeanAbsolute: 0.0510 - s6kpts_output_MeanAbsoluteRatio: 0.6073 - s6kpts_output_analog_recall: 0.6064 - val_loss: 0.0952 - val_s1pafs_output_loss: 0.0031 - val_s2pafs_output_loss: 0.0029 - val_s3pafs_output_loss: 0.0028 - val_s4pafs_output_loss: 0.0027 - val_s5kpts_output_loss: 0.0188 - val_s6kpts_output_loss: 0.0188 - val_s1pafs_output_MeanAbsolute: 0.0356 - val_s1pafs_output_MeanAbsoluteRatio: 0.9613 - val_s1pafs_output_analog_recall: 0.8468 - val_s2pafs_output_MeanAbsolute: 0.0357 - val_s2pafs_output_MeanAbsoluteRatio: 0.9637 - val_s2pafs_output_analog_recall: 0.8588 - val_s3pafs_output_MeanAbsolute: 0.0360 - val_s3pafs_output_MeanAbsoluteRatio: 0.9737 - val_s3pafs_output_analog_recall: 0.8618 - val_s4pafs_output_MeanAbsolute: 0.0357 - val_s4pafs_output_MeanAbsoluteRatio: 0.9641 - val_s4pafs_output_analog_recall: 0.8658 - val_s5kpts_output_MeanAbsolute: 0.0505 - val_s5kpts_output_MeanAbsoluteRatio: 0.5942 - val_s5kpts_output_analog_recall: 0.5932 - val_s6kpts_output_MeanAbsolute: 0.0505 - val_s6kpts_output_MeanAbsoluteRatio: 0.5942 - val_s6kpts_output_analog_recall: 0.5932\n",
      "\n",
      "Learning rate for epoch 116 is 0.0010000000474974513\n",
      "Epoch 117/262\n"
     ]
    },
    {
     "name": "stdout",
     "output_type": "stream",
     "text": [
      "50/50 [==============================] - 48s 958ms/step - loss: 0.0873 - s1pafs_output_loss: 0.0028 - s2pafs_output_loss: 0.0026 - s3pafs_output_loss: 0.0025 - s4pafs_output_loss: 0.0024 - s5kpts_output_loss: 0.0178 - s6kpts_output_loss: 0.0178 - s1pafs_output_MeanAbsolute: 0.0364 - s1pafs_output_MeanAbsoluteRatio: 0.9911 - s1pafs_output_analog_recall: 0.8533 - s2pafs_output_MeanAbsolute: 0.0363 - s2pafs_output_MeanAbsoluteRatio: 0.9885 - s2pafs_output_analog_recall: 0.8656 - s3pafs_output_MeanAbsolute: 0.0362 - s3pafs_output_MeanAbsoluteRatio: 0.9864 - s3pafs_output_analog_recall: 0.8718 - s4pafs_output_MeanAbsolute: 0.0362 - s4pafs_output_MeanAbsoluteRatio: 0.9852 - s4pafs_output_analog_recall: 0.8746 - s5kpts_output_MeanAbsolute: 0.0511 - s5kpts_output_MeanAbsoluteRatio: 0.6100 - s5kpts_output_analog_recall: 0.6090 - s6kpts_output_MeanAbsolute: 0.0511 - s6kpts_output_MeanAbsoluteRatio: 0.6100 - s6kpts_output_analog_recall: 0.6090 - val_loss: 0.0951 - val_s1pafs_output_loss: 0.0031 - val_s2pafs_output_loss: 0.0029 - val_s3pafs_output_loss: 0.0028 - val_s4pafs_output_loss: 0.0027 - val_s5kpts_output_loss: 0.0188 - val_s6kpts_output_loss: 0.0188 - val_s1pafs_output_MeanAbsolute: 0.0374 - val_s1pafs_output_MeanAbsoluteRatio: 1.0093 - val_s1pafs_output_analog_recall: 0.8434 - val_s2pafs_output_MeanAbsolute: 0.0375 - val_s2pafs_output_MeanAbsoluteRatio: 1.0139 - val_s2pafs_output_analog_recall: 0.8571 - val_s3pafs_output_MeanAbsolute: 0.0373 - val_s3pafs_output_MeanAbsoluteRatio: 1.0074 - val_s3pafs_output_analog_recall: 0.8662 - val_s4pafs_output_MeanAbsolute: 0.0368 - val_s4pafs_output_MeanAbsoluteRatio: 0.9928 - val_s4pafs_output_analog_recall: 0.8675 - val_s5kpts_output_MeanAbsolute: 0.0505 - val_s5kpts_output_MeanAbsoluteRatio: 0.5942 - val_s5kpts_output_analog_recall: 0.5932 - val_s6kpts_output_MeanAbsolute: 0.0505 - val_s6kpts_output_MeanAbsoluteRatio: 0.5942 - val_s6kpts_output_analog_recall: 0.5932\n",
      "\n",
      "Learning rate for epoch 117 is 0.0010000000474974513\n",
      "Epoch 118/262\n",
      "24/50 [=============>................] - ETA: 17s - loss: 0.0871 - s1pafs_output_loss: 0.0029 - s2pafs_output_loss: 0.0026 - s3pafs_output_loss: 0.0025 - s4pafs_output_loss: 0.0025 - s5kpts_output_loss: 0.0174 - s6kpts_output_loss: 0.0174 - s1pafs_output_MeanAbsolute: 0.0364 - s1pafs_output_MeanAbsoluteRatio: 0.9914 - s1pafs_output_analog_recall: 0.8528 - s2pafs_output_MeanAbsolute: 0.0363 - s2pafs_output_MeanAbsoluteRatio: 0.9871 - s2pafs_output_analog_recall: 0.8666 - s3pafs_output_MeanAbsolute: 0.0362 - s3pafs_output_MeanAbsoluteRatio: 0.9848 - s3pafs_output_analog_recall: 0.8715 - s4pafs_output_MeanAbsolute: 0.0361 - s4pafs_output_MeanAbsoluteRatio: 0.9825 - s4pafs_output_analog_recall: 0.8731 - s5kpts_output_MeanAbsolute: 0.0513 - s5kpts_output_MeanAbsoluteRatio: 0.6153 - s5kpts_output_analog_recall: 0.6144 - s6kpts_output_MeanAbsolute: 0.0513 - s6kpts_output_MeanAbsoluteRatio: 0.6153 - s6kpts_output_analog_recall: 0.6144\n",
      "Epoch 00118: saving model to gs://dl_training_results/checkpoints/model814Sat1219-0149/-E0118.ckpt\n",
      "50/50 [==============================] - 48s 953ms/step - loss: 0.0883 - s1pafs_output_loss: 0.0029 - s2pafs_output_loss: 0.0026 - s3pafs_output_loss: 0.0025 - s4pafs_output_loss: 0.0025 - s5kpts_output_loss: 0.0177 - s6kpts_output_loss: 0.0177 - s1pafs_output_MeanAbsolute: 0.0364 - s1pafs_output_MeanAbsoluteRatio: 0.9897 - s1pafs_output_analog_recall: 0.8513 - s2pafs_output_MeanAbsolute: 0.0364 - s2pafs_output_MeanAbsoluteRatio: 0.9877 - s2pafs_output_analog_recall: 0.8640 - s3pafs_output_MeanAbsolute: 0.0363 - s3pafs_output_MeanAbsoluteRatio: 0.9856 - s3pafs_output_analog_recall: 0.8700 - s4pafs_output_MeanAbsolute: 0.0362 - s4pafs_output_MeanAbsoluteRatio: 0.9835 - s4pafs_output_analog_recall: 0.8725 - s5kpts_output_MeanAbsolute: 0.0512 - s5kpts_output_MeanAbsoluteRatio: 0.6111 - s5kpts_output_analog_recall: 0.6102 - s6kpts_output_MeanAbsolute: 0.0512 - s6kpts_output_MeanAbsoluteRatio: 0.6111 - s6kpts_output_analog_recall: 0.6102 - val_loss: 0.0948 - val_s1pafs_output_loss: 0.0031 - val_s2pafs_output_loss: 0.0029 - val_s3pafs_output_loss: 0.0027 - val_s4pafs_output_loss: 0.0027 - val_s5kpts_output_loss: 0.0188 - val_s6kpts_output_loss: 0.0188 - val_s1pafs_output_MeanAbsolute: 0.0370 - val_s1pafs_output_MeanAbsoluteRatio: 0.9992 - val_s1pafs_output_analog_recall: 0.8456 - val_s2pafs_output_MeanAbsolute: 0.0366 - val_s2pafs_output_MeanAbsoluteRatio: 0.9890 - val_s2pafs_output_analog_recall: 0.8563 - val_s3pafs_output_MeanAbsolute: 0.0365 - val_s3pafs_output_MeanAbsoluteRatio: 0.9847 - val_s3pafs_output_analog_recall: 0.8679 - val_s4pafs_output_MeanAbsolute: 0.0362 - val_s4pafs_output_MeanAbsoluteRatio: 0.9768 - val_s4pafs_output_analog_recall: 0.8674 - val_s5kpts_output_MeanAbsolute: 0.0505 - val_s5kpts_output_MeanAbsoluteRatio: 0.5942 - val_s5kpts_output_analog_recall: 0.5932 - val_s6kpts_output_MeanAbsolute: 0.0505 - val_s6kpts_output_MeanAbsoluteRatio: 0.5942 - val_s6kpts_output_analog_recall: 0.5932\n",
      "\n",
      "Learning rate for epoch 118 is 0.0010000000474974513\n",
      "Epoch 119/262\n",
      "50/50 [==============================] - 41s 814ms/step - loss: 0.0877 - s1pafs_output_loss: 0.0029 - s2pafs_output_loss: 0.0026 - s3pafs_output_loss: 0.0025 - s4pafs_output_loss: 0.0025 - s5kpts_output_loss: 0.0178 - s6kpts_output_loss: 0.0178 - s1pafs_output_MeanAbsolute: 0.0364 - s1pafs_output_MeanAbsoluteRatio: 0.9892 - s1pafs_output_analog_recall: 0.8528 - s2pafs_output_MeanAbsolute: 0.0364 - s2pafs_output_MeanAbsoluteRatio: 0.9869 - s2pafs_output_analog_recall: 0.8666 - s3pafs_output_MeanAbsolute: 0.0363 - s3pafs_output_MeanAbsoluteRatio: 0.9863 - s3pafs_output_analog_recall: 0.8723 - s4pafs_output_MeanAbsolute: 0.0363 - s4pafs_output_MeanAbsoluteRatio: 0.9851 - s4pafs_output_analog_recall: 0.8746 - s5kpts_output_MeanAbsolute: 0.0511 - s5kpts_output_MeanAbsoluteRatio: 0.6096 - s5kpts_output_analog_recall: 0.6087 - s6kpts_output_MeanAbsolute: 0.0511 - s6kpts_output_MeanAbsoluteRatio: 0.6096 - s6kpts_output_analog_recall: 0.6087 - val_loss: 0.0944 - val_s1pafs_output_loss: 0.0031 - val_s2pafs_output_loss: 0.0029 - val_s3pafs_output_loss: 0.0027 - val_s4pafs_output_loss: 0.0027 - val_s5kpts_output_loss: 0.0188 - val_s6kpts_output_loss: 0.0188 - val_s1pafs_output_MeanAbsolute: 0.0357 - val_s1pafs_output_MeanAbsoluteRatio: 0.9642 - val_s1pafs_output_analog_recall: 0.8408 - val_s2pafs_output_MeanAbsolute: 0.0362 - val_s2pafs_output_MeanAbsoluteRatio: 0.9765 - val_s2pafs_output_analog_recall: 0.8587 - val_s3pafs_output_MeanAbsolute: 0.0364 - val_s3pafs_output_MeanAbsoluteRatio: 0.9844 - val_s3pafs_output_analog_recall: 0.8687 - val_s4pafs_output_MeanAbsolute: 0.0367 - val_s4pafs_output_MeanAbsoluteRatio: 0.9920 - val_s4pafs_output_analog_recall: 0.8723 - val_s5kpts_output_MeanAbsolute: 0.0505 - val_s5kpts_output_MeanAbsoluteRatio: 0.5942 - val_s5kpts_output_analog_recall: 0.5932 - val_s6kpts_output_MeanAbsolute: 0.0505 - val_s6kpts_output_MeanAbsoluteRatio: 0.5942 - val_s6kpts_output_analog_recall: 0.5932\n",
      "\n",
      "Learning rate for epoch 119 is 0.0010000000474974513\n",
      "Epoch 120/262\n",
      "50/50 [==============================] - 43s 856ms/step - loss: 0.0897 - s1pafs_output_loss: 0.0029 - s2pafs_output_loss: 0.0027 - s3pafs_output_loss: 0.0026 - s4pafs_output_loss: 0.0025 - s5kpts_output_loss: 0.0182 - s6kpts_output_loss: 0.0182 - s1pafs_output_MeanAbsolute: 0.0366 - s1pafs_output_MeanAbsoluteRatio: 0.9881 - s1pafs_output_analog_recall: 0.8507 - s2pafs_output_MeanAbsolute: 0.0365 - s2pafs_output_MeanAbsoluteRatio: 0.9860 - s2pafs_output_analog_recall: 0.8627 - s3pafs_output_MeanAbsolute: 0.0365 - s3pafs_output_MeanAbsoluteRatio: 0.9837 - s3pafs_output_analog_recall: 0.8688 - s4pafs_output_MeanAbsolute: 0.0364 - s4pafs_output_MeanAbsoluteRatio: 0.9820 - s4pafs_output_analog_recall: 0.8715 - s5kpts_output_MeanAbsolute: 0.0511 - s5kpts_output_MeanAbsoluteRatio: 0.6049 - s5kpts_output_analog_recall: 0.6040 - s6kpts_output_MeanAbsolute: 0.0511 - s6kpts_output_MeanAbsoluteRatio: 0.6049 - s6kpts_output_analog_recall: 0.6040 - val_loss: 0.0949 - val_s1pafs_output_loss: 0.0031 - val_s2pafs_output_loss: 0.0029 - val_s3pafs_output_loss: 0.0027 - val_s4pafs_output_loss: 0.0027 - val_s5kpts_output_loss: 0.0188 - val_s6kpts_output_loss: 0.0188 - val_s1pafs_output_MeanAbsolute: 0.0365 - val_s1pafs_output_MeanAbsoluteRatio: 0.9862 - val_s1pafs_output_analog_recall: 0.8477 - val_s2pafs_output_MeanAbsolute: 0.0364 - val_s2pafs_output_MeanAbsoluteRatio: 0.9844 - val_s2pafs_output_analog_recall: 0.8575 - val_s3pafs_output_MeanAbsolute: 0.0364 - val_s3pafs_output_MeanAbsoluteRatio: 0.9845 - val_s3pafs_output_analog_recall: 0.8632 - val_s4pafs_output_MeanAbsolute: 0.0366 - val_s4pafs_output_MeanAbsoluteRatio: 0.9898 - val_s4pafs_output_analog_recall: 0.8678 - val_s5kpts_output_MeanAbsolute: 0.0505 - val_s5kpts_output_MeanAbsoluteRatio: 0.5942 - val_s5kpts_output_analog_recall: 0.5932 - val_s6kpts_output_MeanAbsolute: 0.0505 - val_s6kpts_output_MeanAbsoluteRatio: 0.5942 - val_s6kpts_output_analog_recall: 0.5932\n"
     ]
    },
    {
     "name": "stdout",
     "output_type": "stream",
     "text": [
      "\n",
      "Learning rate for epoch 120 is 0.0010000000474974513\n",
      "Epoch 121/262\n",
      "50/50 [==============================] - 55s 1s/step - loss: 0.0863 - s1pafs_output_loss: 0.0028 - s2pafs_output_loss: 0.0026 - s3pafs_output_loss: 0.0024 - s4pafs_output_loss: 0.0024 - s5kpts_output_loss: 0.0176 - s6kpts_output_loss: 0.0176 - s1pafs_output_MeanAbsolute: 0.0363 - s1pafs_output_MeanAbsoluteRatio: 0.9903 - s1pafs_output_analog_recall: 0.8531 - s2pafs_output_MeanAbsolute: 0.0363 - s2pafs_output_MeanAbsoluteRatio: 0.9876 - s2pafs_output_analog_recall: 0.8679 - s3pafs_output_MeanAbsolute: 0.0362 - s3pafs_output_MeanAbsoluteRatio: 0.9857 - s3pafs_output_analog_recall: 0.8740 - s4pafs_output_MeanAbsolute: 0.0362 - s4pafs_output_MeanAbsoluteRatio: 0.9858 - s4pafs_output_analog_recall: 0.8762 - s5kpts_output_MeanAbsolute: 0.0511 - s5kpts_output_MeanAbsoluteRatio: 0.6119 - s5kpts_output_analog_recall: 0.6110 - s6kpts_output_MeanAbsolute: 0.0511 - s6kpts_output_MeanAbsoluteRatio: 0.6119 - s6kpts_output_analog_recall: 0.6110 - val_loss: 0.0956 - val_s1pafs_output_loss: 0.0031 - val_s2pafs_output_loss: 0.0029 - val_s3pafs_output_loss: 0.0028 - val_s4pafs_output_loss: 0.0028 - val_s5kpts_output_loss: 0.0188 - val_s6kpts_output_loss: 0.0188 - val_s1pafs_output_MeanAbsolute: 0.0356 - val_s1pafs_output_MeanAbsoluteRatio: 0.9608 - val_s1pafs_output_analog_recall: 0.8393 - val_s2pafs_output_MeanAbsolute: 0.0354 - val_s2pafs_output_MeanAbsoluteRatio: 0.9563 - val_s2pafs_output_analog_recall: 0.8493 - val_s3pafs_output_MeanAbsolute: 0.0353 - val_s3pafs_output_MeanAbsoluteRatio: 0.9528 - val_s3pafs_output_analog_recall: 0.8504 - val_s4pafs_output_MeanAbsolute: 0.0351 - val_s4pafs_output_MeanAbsoluteRatio: 0.9471 - val_s4pafs_output_analog_recall: 0.8443 - val_s5kpts_output_MeanAbsolute: 0.0505 - val_s5kpts_output_MeanAbsoluteRatio: 0.5942 - val_s5kpts_output_analog_recall: 0.5932 - val_s6kpts_output_MeanAbsolute: 0.0505 - val_s6kpts_output_MeanAbsoluteRatio: 0.5942 - val_s6kpts_output_analog_recall: 0.5932\n",
      "\n",
      "Learning rate for epoch 121 is 0.0010000000474974513\n",
      "Epoch 122/262\n",
      "50/50 [==============================] - 41s 830ms/step - loss: 0.0872 - s1pafs_output_loss: 0.0028 - s2pafs_output_loss: 0.0026 - s3pafs_output_loss: 0.0025 - s4pafs_output_loss: 0.0025 - s5kpts_output_loss: 0.0176 - s6kpts_output_loss: 0.0176 - s1pafs_output_MeanAbsolute: 0.0363 - s1pafs_output_MeanAbsoluteRatio: 0.9890 - s1pafs_output_analog_recall: 0.8535 - s2pafs_output_MeanAbsolute: 0.0362 - s2pafs_output_MeanAbsoluteRatio: 0.9869 - s2pafs_output_analog_recall: 0.8653 - s3pafs_output_MeanAbsolute: 0.0362 - s3pafs_output_MeanAbsoluteRatio: 0.9851 - s3pafs_output_analog_recall: 0.8713 - s4pafs_output_MeanAbsolute: 0.0361 - s4pafs_output_MeanAbsoluteRatio: 0.9835 - s4pafs_output_analog_recall: 0.8744 - s5kpts_output_MeanAbsolute: 0.0511 - s5kpts_output_MeanAbsoluteRatio: 0.6118 - s5kpts_output_analog_recall: 0.6109 - s6kpts_output_MeanAbsolute: 0.0511 - s6kpts_output_MeanAbsoluteRatio: 0.6118 - s6kpts_output_analog_recall: 0.6109 - val_loss: 0.0947 - val_s1pafs_output_loss: 0.0031 - val_s2pafs_output_loss: 0.0029 - val_s3pafs_output_loss: 0.0027 - val_s4pafs_output_loss: 0.0027 - val_s5kpts_output_loss: 0.0188 - val_s6kpts_output_loss: 0.0188 - val_s1pafs_output_MeanAbsolute: 0.0368 - val_s1pafs_output_MeanAbsoluteRatio: 0.9945 - val_s1pafs_output_analog_recall: 0.8517 - val_s2pafs_output_MeanAbsolute: 0.0368 - val_s2pafs_output_MeanAbsoluteRatio: 0.9943 - val_s2pafs_output_analog_recall: 0.8607 - val_s3pafs_output_MeanAbsolute: 0.0367 - val_s3pafs_output_MeanAbsoluteRatio: 0.9919 - val_s3pafs_output_analog_recall: 0.8661 - val_s4pafs_output_MeanAbsolute: 0.0365 - val_s4pafs_output_MeanAbsoluteRatio: 0.9862 - val_s4pafs_output_analog_recall: 0.8703 - val_s5kpts_output_MeanAbsolute: 0.0505 - val_s5kpts_output_MeanAbsoluteRatio: 0.5942 - val_s5kpts_output_analog_recall: 0.5932 - val_s6kpts_output_MeanAbsolute: 0.0505 - val_s6kpts_output_MeanAbsoluteRatio: 0.5942 - val_s6kpts_output_analog_recall: 0.5932\n",
      "\n",
      "Learning rate for epoch 122 is 0.0010000000474974513\n",
      "Epoch 123/262\n",
      "50/50 [==============================] - 46s 927ms/step - loss: 0.0882 - s1pafs_output_loss: 0.0029 - s2pafs_output_loss: 0.0026 - s3pafs_output_loss: 0.0025 - s4pafs_output_loss: 0.0025 - s5kpts_output_loss: 0.0181 - s6kpts_output_loss: 0.0181 - s1pafs_output_MeanAbsolute: 0.0365 - s1pafs_output_MeanAbsoluteRatio: 0.9886 - s1pafs_output_analog_recall: 0.8531 - s2pafs_output_MeanAbsolute: 0.0364 - s2pafs_output_MeanAbsoluteRatio: 0.9866 - s2pafs_output_analog_recall: 0.8653 - s3pafs_output_MeanAbsolute: 0.0364 - s3pafs_output_MeanAbsoluteRatio: 0.9855 - s3pafs_output_analog_recall: 0.8719 - s4pafs_output_MeanAbsolute: 0.0363 - s4pafs_output_MeanAbsoluteRatio: 0.9847 - s4pafs_output_analog_recall: 0.8743 - s5kpts_output_MeanAbsolute: 0.0510 - s5kpts_output_MeanAbsoluteRatio: 0.6066 - s5kpts_output_analog_recall: 0.6057 - s6kpts_output_MeanAbsolute: 0.0510 - s6kpts_output_MeanAbsoluteRatio: 0.6066 - s6kpts_output_analog_recall: 0.6057 - val_loss: 0.0951 - val_s1pafs_output_loss: 0.0031 - val_s2pafs_output_loss: 0.0029 - val_s3pafs_output_loss: 0.0028 - val_s4pafs_output_loss: 0.0027 - val_s5kpts_output_loss: 0.0188 - val_s6kpts_output_loss: 0.0188 - val_s1pafs_output_MeanAbsolute: 0.0363 - val_s1pafs_output_MeanAbsoluteRatio: 0.9799 - val_s1pafs_output_analog_recall: 0.8423 - val_s2pafs_output_MeanAbsolute: 0.0359 - val_s2pafs_output_MeanAbsoluteRatio: 0.9693 - val_s2pafs_output_analog_recall: 0.8561 - val_s3pafs_output_MeanAbsolute: 0.0361 - val_s3pafs_output_MeanAbsoluteRatio: 0.9749 - val_s3pafs_output_analog_recall: 0.8645 - val_s4pafs_output_MeanAbsolute: 0.0363 - val_s4pafs_output_MeanAbsoluteRatio: 0.9817 - val_s4pafs_output_analog_recall: 0.8652 - val_s5kpts_output_MeanAbsolute: 0.0505 - val_s5kpts_output_MeanAbsoluteRatio: 0.5942 - val_s5kpts_output_analog_recall: 0.5932 - val_s6kpts_output_MeanAbsolute: 0.0505 - val_s6kpts_output_MeanAbsoluteRatio: 0.5942 - val_s6kpts_output_analog_recall: 0.5932\n",
      "\n",
      "Learning rate for epoch 123 is 0.0010000000474974513\n",
      "Epoch 124/262\n",
      "50/50 [==============================] - 44s 885ms/step - loss: 0.0876 - s1pafs_output_loss: 0.0028 - s2pafs_output_loss: 0.0026 - s3pafs_output_loss: 0.0025 - s4pafs_output_loss: 0.0024 - s5kpts_output_loss: 0.0180 - s6kpts_output_loss: 0.0180 - s1pafs_output_MeanAbsolute: 0.0365 - s1pafs_output_MeanAbsoluteRatio: 0.9901 - s1pafs_output_analog_recall: 0.8531 - s2pafs_output_MeanAbsolute: 0.0364 - s2pafs_output_MeanAbsoluteRatio: 0.9880 - s2pafs_output_analog_recall: 0.8664 - s3pafs_output_MeanAbsolute: 0.0363 - s3pafs_output_MeanAbsoluteRatio: 0.9859 - s3pafs_output_analog_recall: 0.8726 - s4pafs_output_MeanAbsolute: 0.0363 - s4pafs_output_MeanAbsoluteRatio: 0.9846 - s4pafs_output_analog_recall: 0.8746 - s5kpts_output_MeanAbsolute: 0.0510 - s5kpts_output_MeanAbsoluteRatio: 0.6068 - s5kpts_output_analog_recall: 0.6059 - s6kpts_output_MeanAbsolute: 0.0510 - s6kpts_output_MeanAbsoluteRatio: 0.6068 - s6kpts_output_analog_recall: 0.6059 - val_loss: 0.0939 - val_s1pafs_output_loss: 0.0031 - val_s2pafs_output_loss: 0.0028 - val_s3pafs_output_loss: 0.0027 - val_s4pafs_output_loss: 0.0027 - val_s5kpts_output_loss: 0.0188 - val_s6kpts_output_loss: 0.0188 - val_s1pafs_output_MeanAbsolute: 0.0364 - val_s1pafs_output_MeanAbsoluteRatio: 0.9834 - val_s1pafs_output_analog_recall: 0.8478 - val_s2pafs_output_MeanAbsolute: 0.0364 - val_s2pafs_output_MeanAbsoluteRatio: 0.9831 - val_s2pafs_output_analog_recall: 0.8570 - val_s3pafs_output_MeanAbsolute: 0.0363 - val_s3pafs_output_MeanAbsoluteRatio: 0.9812 - val_s3pafs_output_analog_recall: 0.8630 - val_s4pafs_output_MeanAbsolute: 0.0363 - val_s4pafs_output_MeanAbsoluteRatio: 0.9809 - val_s4pafs_output_analog_recall: 0.8683 - val_s5kpts_output_MeanAbsolute: 0.0505 - val_s5kpts_output_MeanAbsoluteRatio: 0.5942 - val_s5kpts_output_analog_recall: 0.5932 - val_s6kpts_output_MeanAbsolute: 0.0505 - val_s6kpts_output_MeanAbsoluteRatio: 0.5942 - val_s6kpts_output_analog_recall: 0.5932\n",
      "\n",
      "Learning rate for epoch 124 is 0.0010000000474974513\n",
      "Epoch 125/262\n"
     ]
    },
    {
     "name": "stdout",
     "output_type": "stream",
     "text": [
      "50/50 [==============================] - 39s 787ms/step - loss: 0.0865 - s1pafs_output_loss: 0.0028 - s2pafs_output_loss: 0.0026 - s3pafs_output_loss: 0.0024 - s4pafs_output_loss: 0.0024 - s5kpts_output_loss: 0.0178 - s6kpts_output_loss: 0.0178 - s1pafs_output_MeanAbsolute: 0.0364 - s1pafs_output_MeanAbsoluteRatio: 0.9910 - s1pafs_output_analog_recall: 0.8547 - s2pafs_output_MeanAbsolute: 0.0363 - s2pafs_output_MeanAbsoluteRatio: 0.9890 - s2pafs_output_analog_recall: 0.8662 - s3pafs_output_MeanAbsolute: 0.0362 - s3pafs_output_MeanAbsoluteRatio: 0.9875 - s3pafs_output_analog_recall: 0.8732 - s4pafs_output_MeanAbsolute: 0.0362 - s4pafs_output_MeanAbsoluteRatio: 0.9851 - s4pafs_output_analog_recall: 0.8761 - s5kpts_output_MeanAbsolute: 0.0511 - s5kpts_output_MeanAbsoluteRatio: 0.6099 - s5kpts_output_analog_recall: 0.6090 - s6kpts_output_MeanAbsolute: 0.0511 - s6kpts_output_MeanAbsoluteRatio: 0.6099 - s6kpts_output_analog_recall: 0.6090 - val_loss: 0.0948 - val_s1pafs_output_loss: 0.0031 - val_s2pafs_output_loss: 0.0029 - val_s3pafs_output_loss: 0.0028 - val_s4pafs_output_loss: 0.0027 - val_s5kpts_output_loss: 0.0188 - val_s6kpts_output_loss: 0.0188 - val_s1pafs_output_MeanAbsolute: 0.0355 - val_s1pafs_output_MeanAbsoluteRatio: 0.9597 - val_s1pafs_output_analog_recall: 0.8398 - val_s2pafs_output_MeanAbsolute: 0.0355 - val_s2pafs_output_MeanAbsoluteRatio: 0.9595 - val_s2pafs_output_analog_recall: 0.8573 - val_s3pafs_output_MeanAbsolute: 0.0354 - val_s3pafs_output_MeanAbsoluteRatio: 0.9569 - val_s3pafs_output_analog_recall: 0.8606 - val_s4pafs_output_MeanAbsolute: 0.0354 - val_s4pafs_output_MeanAbsoluteRatio: 0.9570 - val_s4pafs_output_analog_recall: 0.8685 - val_s5kpts_output_MeanAbsolute: 0.0505 - val_s5kpts_output_MeanAbsoluteRatio: 0.5942 - val_s5kpts_output_analog_recall: 0.5932 - val_s6kpts_output_MeanAbsolute: 0.0505 - val_s6kpts_output_MeanAbsoluteRatio: 0.5942 - val_s6kpts_output_analog_recall: 0.5932\n",
      "\n",
      "Learning rate for epoch 125 is 0.0010000000474974513\n",
      "Epoch 126/262\n",
      "50/50 [==============================] - 51s 1s/step - loss: 0.0872 - s1pafs_output_loss: 0.0028 - s2pafs_output_loss: 0.0026 - s3pafs_output_loss: 0.0025 - s4pafs_output_loss: 0.0024 - s5kpts_output_loss: 0.0178 - s6kpts_output_loss: 0.0178 - s1pafs_output_MeanAbsolute: 0.0364 - s1pafs_output_MeanAbsoluteRatio: 0.9896 - s1pafs_output_analog_recall: 0.8525 - s2pafs_output_MeanAbsolute: 0.0363 - s2pafs_output_MeanAbsoluteRatio: 0.9881 - s2pafs_output_analog_recall: 0.8660 - s3pafs_output_MeanAbsolute: 0.0363 - s3pafs_output_MeanAbsoluteRatio: 0.9866 - s3pafs_output_analog_recall: 0.8722 - s4pafs_output_MeanAbsolute: 0.0363 - s4pafs_output_MeanAbsoluteRatio: 0.9870 - s4pafs_output_analog_recall: 0.8749 - s5kpts_output_MeanAbsolute: 0.0511 - s5kpts_output_MeanAbsoluteRatio: 0.6102 - s5kpts_output_analog_recall: 0.6093 - s6kpts_output_MeanAbsolute: 0.0511 - s6kpts_output_MeanAbsoluteRatio: 0.6102 - s6kpts_output_analog_recall: 0.6093 - val_loss: 0.0947 - val_s1pafs_output_loss: 0.0031 - val_s2pafs_output_loss: 0.0028 - val_s3pafs_output_loss: 0.0027 - val_s4pafs_output_loss: 0.0027 - val_s5kpts_output_loss: 0.0188 - val_s6kpts_output_loss: 0.0188 - val_s1pafs_output_MeanAbsolute: 0.0357 - val_s1pafs_output_MeanAbsoluteRatio: 0.9644 - val_s1pafs_output_analog_recall: 0.8394 - val_s2pafs_output_MeanAbsolute: 0.0362 - val_s2pafs_output_MeanAbsoluteRatio: 0.9783 - val_s2pafs_output_analog_recall: 0.8567 - val_s3pafs_output_MeanAbsolute: 0.0361 - val_s3pafs_output_MeanAbsoluteRatio: 0.9741 - val_s3pafs_output_analog_recall: 0.8665 - val_s4pafs_output_MeanAbsolute: 0.0352 - val_s4pafs_output_MeanAbsoluteRatio: 0.9521 - val_s4pafs_output_analog_recall: 0.8624 - val_s5kpts_output_MeanAbsolute: 0.0505 - val_s5kpts_output_MeanAbsoluteRatio: 0.5942 - val_s5kpts_output_analog_recall: 0.5932 - val_s6kpts_output_MeanAbsolute: 0.0505 - val_s6kpts_output_MeanAbsoluteRatio: 0.5942 - val_s6kpts_output_analog_recall: 0.5932\n",
      "\n",
      "Learning rate for epoch 126 is 0.0010000000474974513\n",
      "Epoch 127/262\n",
      "12/50 [======>.......................] - ETA: 32s - loss: 0.0840 - s1pafs_output_loss: 0.0027 - s2pafs_output_loss: 0.0025 - s3pafs_output_loss: 0.0024 - s4pafs_output_loss: 0.0023 - s5kpts_output_loss: 0.0171 - s6kpts_output_loss: 0.0171 - s1pafs_output_MeanAbsolute: 0.0365 - s1pafs_output_MeanAbsoluteRatio: 0.9978 - s1pafs_output_analog_recall: 0.8577 - s2pafs_output_MeanAbsolute: 0.0364 - s2pafs_output_MeanAbsoluteRatio: 0.9945 - s2pafs_output_analog_recall: 0.8656 - s3pafs_output_MeanAbsolute: 0.0363 - s3pafs_output_MeanAbsoluteRatio: 0.9908 - s3pafs_output_analog_recall: 0.8736 - s4pafs_output_MeanAbsolute: 0.0360 - s4pafs_output_MeanAbsoluteRatio: 0.9840 - s4pafs_output_analog_recall: 0.8775 - s5kpts_output_MeanAbsolute: 0.0513 - s5kpts_output_MeanAbsoluteRatio: 0.6193 - s5kpts_output_analog_recall: 0.6184 - s6kpts_output_MeanAbsolute: 0.0513 - s6kpts_output_MeanAbsoluteRatio: 0.6193 - s6kpts_output_analog_recall: 0.6184\n",
      "Epoch 00127: saving model to gs://dl_training_results/checkpoints/model814Sat1219-0149/-E0127.ckpt\n",
      "50/50 [==============================] - 51s 1s/step - loss: 0.0870 - s1pafs_output_loss: 0.0028 - s2pafs_output_loss: 0.0026 - s3pafs_output_loss: 0.0025 - s4pafs_output_loss: 0.0024 - s5kpts_output_loss: 0.0178 - s6kpts_output_loss: 0.0178 - s1pafs_output_MeanAbsolute: 0.0365 - s1pafs_output_MeanAbsoluteRatio: 0.9903 - s1pafs_output_analog_recall: 0.8548 - s2pafs_output_MeanAbsolute: 0.0365 - s2pafs_output_MeanAbsoluteRatio: 0.9902 - s2pafs_output_analog_recall: 0.8655 - s3pafs_output_MeanAbsolute: 0.0364 - s3pafs_output_MeanAbsoluteRatio: 0.9882 - s3pafs_output_analog_recall: 0.8724 - s4pafs_output_MeanAbsolute: 0.0363 - s4pafs_output_MeanAbsoluteRatio: 0.9846 - s4pafs_output_analog_recall: 0.8757 - s5kpts_output_MeanAbsolute: 0.0512 - s5kpts_output_MeanAbsoluteRatio: 0.6105 - s5kpts_output_analog_recall: 0.6096 - s6kpts_output_MeanAbsolute: 0.0512 - s6kpts_output_MeanAbsoluteRatio: 0.6105 - s6kpts_output_analog_recall: 0.6096 - val_loss: 0.0949 - val_s1pafs_output_loss: 0.0031 - val_s2pafs_output_loss: 0.0029 - val_s3pafs_output_loss: 0.0028 - val_s4pafs_output_loss: 0.0027 - val_s5kpts_output_loss: 0.0188 - val_s6kpts_output_loss: 0.0188 - val_s1pafs_output_MeanAbsolute: 0.0365 - val_s1pafs_output_MeanAbsoluteRatio: 0.9861 - val_s1pafs_output_analog_recall: 0.8484 - val_s2pafs_output_MeanAbsolute: 0.0360 - val_s2pafs_output_MeanAbsoluteRatio: 0.9713 - val_s2pafs_output_analog_recall: 0.8624 - val_s3pafs_output_MeanAbsolute: 0.0359 - val_s3pafs_output_MeanAbsoluteRatio: 0.9698 - val_s3pafs_output_analog_recall: 0.8638 - val_s4pafs_output_MeanAbsolute: 0.0356 - val_s4pafs_output_MeanAbsoluteRatio: 0.9618 - val_s4pafs_output_analog_recall: 0.8580 - val_s5kpts_output_MeanAbsolute: 0.0505 - val_s5kpts_output_MeanAbsoluteRatio: 0.5942 - val_s5kpts_output_analog_recall: 0.5932 - val_s6kpts_output_MeanAbsolute: 0.0505 - val_s6kpts_output_MeanAbsoluteRatio: 0.5942 - val_s6kpts_output_analog_recall: 0.5932\n",
      "\n",
      "Learning rate for epoch 127 is 0.0010000000474974513\n",
      "Epoch 128/262\n",
      "50/50 [==============================] - 40s 794ms/step - loss: 0.0877 - s1pafs_output_loss: 0.0028 - s2pafs_output_loss: 0.0026 - s3pafs_output_loss: 0.0025 - s4pafs_output_loss: 0.0024 - s5kpts_output_loss: 0.0179 - s6kpts_output_loss: 0.0179 - s1pafs_output_MeanAbsolute: 0.0365 - s1pafs_output_MeanAbsoluteRatio: 0.9902 - s1pafs_output_analog_recall: 0.8527 - s2pafs_output_MeanAbsolute: 0.0364 - s2pafs_output_MeanAbsoluteRatio: 0.9874 - s2pafs_output_analog_recall: 0.8663 - s3pafs_output_MeanAbsolute: 0.0364 - s3pafs_output_MeanAbsoluteRatio: 0.9870 - s3pafs_output_analog_recall: 0.8720 - s4pafs_output_MeanAbsolute: 0.0364 - s4pafs_output_MeanAbsoluteRatio: 0.9853 - s4pafs_output_analog_recall: 0.8747 - s5kpts_output_MeanAbsolute: 0.0511 - s5kpts_output_MeanAbsoluteRatio: 0.6082 - s5kpts_output_analog_recall: 0.6072 - s6kpts_output_MeanAbsolute: 0.0511 - s6kpts_output_MeanAbsoluteRatio: 0.6082 - s6kpts_output_analog_recall: 0.6072 - val_loss: 0.0939 - val_s1pafs_output_loss: 0.0031 - val_s2pafs_output_loss: 0.0028 - val_s3pafs_output_loss: 0.0027 - val_s4pafs_output_loss: 0.0027 - val_s5kpts_output_loss: 0.0188 - val_s6kpts_output_loss: 0.0188 - val_s1pafs_output_MeanAbsolute: 0.0361 - val_s1pafs_output_MeanAbsoluteRatio: 0.9756 - val_s1pafs_output_analog_recall: 0.8426 - val_s2pafs_output_MeanAbsolute: 0.0358 - val_s2pafs_output_MeanAbsoluteRatio: 0.9663 - val_s2pafs_output_analog_recall: 0.8589 - val_s3pafs_output_MeanAbsolute: 0.0358 - val_s3pafs_output_MeanAbsoluteRatio: 0.9677 - val_s3pafs_output_analog_recall: 0.8628 - val_s4pafs_output_MeanAbsolute: 0.0359 - val_s4pafs_output_MeanAbsoluteRatio: 0.9686 - val_s4pafs_output_analog_recall: 0.8690 - val_s5kpts_output_MeanAbsolute: 0.0505 - val_s5kpts_output_MeanAbsoluteRatio: 0.5942 - val_s5kpts_output_analog_recall: 0.5932 - val_s6kpts_output_MeanAbsolute: 0.0505 - val_s6kpts_output_MeanAbsoluteRatio: 0.5942 - val_s6kpts_output_analog_recall: 0.5932\n"
     ]
    },
    {
     "name": "stdout",
     "output_type": "stream",
     "text": [
      "\n",
      "Learning rate for epoch 128 is 0.0010000000474974513\n",
      "Epoch 129/262\n",
      "50/50 [==============================] - 55s 1s/step - loss: 0.0894 - s1pafs_output_loss: 0.0029 - s2pafs_output_loss: 0.0027 - s3pafs_output_loss: 0.0025 - s4pafs_output_loss: 0.0025 - s5kpts_output_loss: 0.0182 - s6kpts_output_loss: 0.0182 - s1pafs_output_MeanAbsolute: 0.0366 - s1pafs_output_MeanAbsoluteRatio: 0.9876 - s1pafs_output_analog_recall: 0.8507 - s2pafs_output_MeanAbsolute: 0.0365 - s2pafs_output_MeanAbsoluteRatio: 0.9862 - s2pafs_output_analog_recall: 0.8628 - s3pafs_output_MeanAbsolute: 0.0365 - s3pafs_output_MeanAbsoluteRatio: 0.9842 - s3pafs_output_analog_recall: 0.8700 - s4pafs_output_MeanAbsolute: 0.0364 - s4pafs_output_MeanAbsoluteRatio: 0.9828 - s4pafs_output_analog_recall: 0.8722 - s5kpts_output_MeanAbsolute: 0.0511 - s5kpts_output_MeanAbsoluteRatio: 0.6047 - s5kpts_output_analog_recall: 0.6038 - s6kpts_output_MeanAbsolute: 0.0511 - s6kpts_output_MeanAbsoluteRatio: 0.6047 - s6kpts_output_analog_recall: 0.6038 - val_loss: 0.0941 - val_s1pafs_output_loss: 0.0031 - val_s2pafs_output_loss: 0.0028 - val_s3pafs_output_loss: 0.0027 - val_s4pafs_output_loss: 0.0027 - val_s5kpts_output_loss: 0.0188 - val_s6kpts_output_loss: 0.0188 - val_s1pafs_output_MeanAbsolute: 0.0357 - val_s1pafs_output_MeanAbsoluteRatio: 0.9654 - val_s1pafs_output_analog_recall: 0.8423 - val_s2pafs_output_MeanAbsolute: 0.0357 - val_s2pafs_output_MeanAbsoluteRatio: 0.9653 - val_s2pafs_output_analog_recall: 0.8549 - val_s3pafs_output_MeanAbsolute: 0.0361 - val_s3pafs_output_MeanAbsoluteRatio: 0.9759 - val_s3pafs_output_analog_recall: 0.8590 - val_s4pafs_output_MeanAbsolute: 0.0367 - val_s4pafs_output_MeanAbsoluteRatio: 0.9922 - val_s4pafs_output_analog_recall: 0.8662 - val_s5kpts_output_MeanAbsolute: 0.0505 - val_s5kpts_output_MeanAbsoluteRatio: 0.5942 - val_s5kpts_output_analog_recall: 0.5932 - val_s6kpts_output_MeanAbsolute: 0.0505 - val_s6kpts_output_MeanAbsoluteRatio: 0.5942 - val_s6kpts_output_analog_recall: 0.5932\n",
      "\n",
      "Learning rate for epoch 129 is 0.0010000000474974513\n",
      "Epoch 130/262\n",
      "50/50 [==============================] - 46s 925ms/step - loss: 0.0855 - s1pafs_output_loss: 0.0028 - s2pafs_output_loss: 0.0025 - s3pafs_output_loss: 0.0024 - s4pafs_output_loss: 0.0024 - s5kpts_output_loss: 0.0176 - s6kpts_output_loss: 0.0176 - s1pafs_output_MeanAbsolute: 0.0364 - s1pafs_output_MeanAbsoluteRatio: 0.9913 - s1pafs_output_analog_recall: 0.8549 - s2pafs_output_MeanAbsolute: 0.0363 - s2pafs_output_MeanAbsoluteRatio: 0.9896 - s2pafs_output_analog_recall: 0.8675 - s3pafs_output_MeanAbsolute: 0.0363 - s3pafs_output_MeanAbsoluteRatio: 0.9875 - s3pafs_output_analog_recall: 0.8735 - s4pafs_output_MeanAbsolute: 0.0362 - s4pafs_output_MeanAbsoluteRatio: 0.9862 - s4pafs_output_analog_recall: 0.8766 - s5kpts_output_MeanAbsolute: 0.0511 - s5kpts_output_MeanAbsoluteRatio: 0.6127 - s5kpts_output_analog_recall: 0.6118 - s6kpts_output_MeanAbsolute: 0.0511 - s6kpts_output_MeanAbsoluteRatio: 0.6127 - s6kpts_output_analog_recall: 0.6118 - val_loss: 0.0935 - val_s1pafs_output_loss: 0.0030 - val_s2pafs_output_loss: 0.0028 - val_s3pafs_output_loss: 0.0027 - val_s4pafs_output_loss: 0.0027 - val_s5kpts_output_loss: 0.0188 - val_s6kpts_output_loss: 0.0188 - val_s1pafs_output_MeanAbsolute: 0.0363 - val_s1pafs_output_MeanAbsoluteRatio: 0.9818 - val_s1pafs_output_analog_recall: 0.8430 - val_s2pafs_output_MeanAbsolute: 0.0363 - val_s2pafs_output_MeanAbsoluteRatio: 0.9814 - val_s2pafs_output_analog_recall: 0.8474 - val_s3pafs_output_MeanAbsolute: 0.0360 - val_s3pafs_output_MeanAbsoluteRatio: 0.9733 - val_s3pafs_output_analog_recall: 0.8638 - val_s4pafs_output_MeanAbsolute: 0.0355 - val_s4pafs_output_MeanAbsoluteRatio: 0.9582 - val_s4pafs_output_analog_recall: 0.8646 - val_s5kpts_output_MeanAbsolute: 0.0505 - val_s5kpts_output_MeanAbsoluteRatio: 0.5942 - val_s5kpts_output_analog_recall: 0.5932 - val_s6kpts_output_MeanAbsolute: 0.0505 - val_s6kpts_output_MeanAbsoluteRatio: 0.5942 - val_s6kpts_output_analog_recall: 0.5932\n",
      "\n",
      "Learning rate for epoch 130 is 0.0010000000474974513\n",
      "Epoch 131/262\n",
      "50/50 [==============================] - 46s 922ms/step - loss: 0.0857 - s1pafs_output_loss: 0.0028 - s2pafs_output_loss: 0.0025 - s3pafs_output_loss: 0.0024 - s4pafs_output_loss: 0.0024 - s5kpts_output_loss: 0.0175 - s6kpts_output_loss: 0.0175 - s1pafs_output_MeanAbsolute: 0.0363 - s1pafs_output_MeanAbsoluteRatio: 0.9903 - s1pafs_output_analog_recall: 0.8546 - s2pafs_output_MeanAbsolute: 0.0362 - s2pafs_output_MeanAbsoluteRatio: 0.9884 - s2pafs_output_analog_recall: 0.8668 - s3pafs_output_MeanAbsolute: 0.0361 - s3pafs_output_MeanAbsoluteRatio: 0.9863 - s3pafs_output_analog_recall: 0.8742 - s4pafs_output_MeanAbsolute: 0.0361 - s4pafs_output_MeanAbsoluteRatio: 0.9854 - s4pafs_output_analog_recall: 0.8764 - s5kpts_output_MeanAbsolute: 0.0511 - s5kpts_output_MeanAbsoluteRatio: 0.6130 - s5kpts_output_analog_recall: 0.6120 - s6kpts_output_MeanAbsolute: 0.0511 - s6kpts_output_MeanAbsoluteRatio: 0.6130 - s6kpts_output_analog_recall: 0.6120 - val_loss: 0.0948 - val_s1pafs_output_loss: 0.0031 - val_s2pafs_output_loss: 0.0029 - val_s3pafs_output_loss: 0.0028 - val_s4pafs_output_loss: 0.0027 - val_s5kpts_output_loss: 0.0188 - val_s6kpts_output_loss: 0.0188 - val_s1pafs_output_MeanAbsolute: 0.0362 - val_s1pafs_output_MeanAbsoluteRatio: 0.9790 - val_s1pafs_output_analog_recall: 0.8461 - val_s2pafs_output_MeanAbsolute: 0.0365 - val_s2pafs_output_MeanAbsoluteRatio: 0.9870 - val_s2pafs_output_analog_recall: 0.8656 - val_s3pafs_output_MeanAbsolute: 0.0360 - val_s3pafs_output_MeanAbsoluteRatio: 0.9728 - val_s3pafs_output_analog_recall: 0.8636 - val_s4pafs_output_MeanAbsolute: 0.0355 - val_s4pafs_output_MeanAbsoluteRatio: 0.9577 - val_s4pafs_output_analog_recall: 0.8646 - val_s5kpts_output_MeanAbsolute: 0.0505 - val_s5kpts_output_MeanAbsoluteRatio: 0.5942 - val_s5kpts_output_analog_recall: 0.5932 - val_s6kpts_output_MeanAbsolute: 0.0505 - val_s6kpts_output_MeanAbsoluteRatio: 0.5942 - val_s6kpts_output_analog_recall: 0.5932\n",
      "\n",
      "Learning rate for epoch 131 is 0.0010000000474974513\n",
      "Epoch 132/262\n",
      "50/50 [==============================] - 42s 830ms/step - loss: 0.0887 - s1pafs_output_loss: 0.0029 - s2pafs_output_loss: 0.0026 - s3pafs_output_loss: 0.0025 - s4pafs_output_loss: 0.0025 - s5kpts_output_loss: 0.0182 - s6kpts_output_loss: 0.0182 - s1pafs_output_MeanAbsolute: 0.0366 - s1pafs_output_MeanAbsoluteRatio: 0.9908 - s1pafs_output_analog_recall: 0.8520 - s2pafs_output_MeanAbsolute: 0.0365 - s2pafs_output_MeanAbsoluteRatio: 0.9885 - s2pafs_output_analog_recall: 0.8646 - s3pafs_output_MeanAbsolute: 0.0365 - s3pafs_output_MeanAbsoluteRatio: 0.9869 - s3pafs_output_analog_recall: 0.8717 - s4pafs_output_MeanAbsolute: 0.0364 - s4pafs_output_MeanAbsoluteRatio: 0.9861 - s4pafs_output_analog_recall: 0.8738 - s5kpts_output_MeanAbsolute: 0.0510 - s5kpts_output_MeanAbsoluteRatio: 0.6053 - s5kpts_output_analog_recall: 0.6044 - s6kpts_output_MeanAbsolute: 0.0510 - s6kpts_output_MeanAbsoluteRatio: 0.6053 - s6kpts_output_analog_recall: 0.6044 - val_loss: 0.0957 - val_s1pafs_output_loss: 0.0031 - val_s2pafs_output_loss: 0.0029 - val_s3pafs_output_loss: 0.0028 - val_s4pafs_output_loss: 0.0028 - val_s5kpts_output_loss: 0.0188 - val_s6kpts_output_loss: 0.0188 - val_s1pafs_output_MeanAbsolute: 0.0347 - val_s1pafs_output_MeanAbsoluteRatio: 0.9372 - val_s1pafs_output_analog_recall: 0.8415 - val_s2pafs_output_MeanAbsolute: 0.0350 - val_s2pafs_output_MeanAbsoluteRatio: 0.9449 - val_s2pafs_output_analog_recall: 0.8622 - val_s3pafs_output_MeanAbsolute: 0.0350 - val_s3pafs_output_MeanAbsoluteRatio: 0.9454 - val_s3pafs_output_analog_recall: 0.8624 - val_s4pafs_output_MeanAbsolute: 0.0351 - val_s4pafs_output_MeanAbsoluteRatio: 0.9475 - val_s4pafs_output_analog_recall: 0.8555 - val_s5kpts_output_MeanAbsolute: 0.0505 - val_s5kpts_output_MeanAbsoluteRatio: 0.5942 - val_s5kpts_output_analog_recall: 0.5932 - val_s6kpts_output_MeanAbsolute: 0.0505 - val_s6kpts_output_MeanAbsoluteRatio: 0.5942 - val_s6kpts_output_analog_recall: 0.5932\n",
      "\n",
      "Learning rate for epoch 132 is 0.0010000000474974513\n",
      "Epoch 133/262\n"
     ]
    },
    {
     "name": "stdout",
     "output_type": "stream",
     "text": [
      "50/50 [==============================] - 39s 782ms/step - loss: 0.0865 - s1pafs_output_loss: 0.0028 - s2pafs_output_loss: 0.0025 - s3pafs_output_loss: 0.0024 - s4pafs_output_loss: 0.0024 - s5kpts_output_loss: 0.0179 - s6kpts_output_loss: 0.0179 - s1pafs_output_MeanAbsolute: 0.0364 - s1pafs_output_MeanAbsoluteRatio: 0.9895 - s1pafs_output_analog_recall: 0.8544 - s2pafs_output_MeanAbsolute: 0.0364 - s2pafs_output_MeanAbsoluteRatio: 0.9899 - s2pafs_output_analog_recall: 0.8669 - s3pafs_output_MeanAbsolute: 0.0363 - s3pafs_output_MeanAbsoluteRatio: 0.9874 - s3pafs_output_analog_recall: 0.8731 - s4pafs_output_MeanAbsolute: 0.0362 - s4pafs_output_MeanAbsoluteRatio: 0.9844 - s4pafs_output_analog_recall: 0.8760 - s5kpts_output_MeanAbsolute: 0.0511 - s5kpts_output_MeanAbsoluteRatio: 0.6077 - s5kpts_output_analog_recall: 0.6068 - s6kpts_output_MeanAbsolute: 0.0511 - s6kpts_output_MeanAbsoluteRatio: 0.6077 - s6kpts_output_analog_recall: 0.6068 - val_loss: 0.0945 - val_s1pafs_output_loss: 0.0031 - val_s2pafs_output_loss: 0.0029 - val_s3pafs_output_loss: 0.0028 - val_s4pafs_output_loss: 0.0027 - val_s5kpts_output_loss: 0.0188 - val_s6kpts_output_loss: 0.0188 - val_s1pafs_output_MeanAbsolute: 0.0362 - val_s1pafs_output_MeanAbsoluteRatio: 0.9788 - val_s1pafs_output_analog_recall: 0.8490 - val_s2pafs_output_MeanAbsolute: 0.0357 - val_s2pafs_output_MeanAbsoluteRatio: 0.9641 - val_s2pafs_output_analog_recall: 0.8568 - val_s3pafs_output_MeanAbsolute: 0.0355 - val_s3pafs_output_MeanAbsoluteRatio: 0.9590 - val_s3pafs_output_analog_recall: 0.8531 - val_s4pafs_output_MeanAbsolute: 0.0357 - val_s4pafs_output_MeanAbsoluteRatio: 0.9648 - val_s4pafs_output_analog_recall: 0.8549 - val_s5kpts_output_MeanAbsolute: 0.0505 - val_s5kpts_output_MeanAbsoluteRatio: 0.5942 - val_s5kpts_output_analog_recall: 0.5932 - val_s6kpts_output_MeanAbsolute: 0.0505 - val_s6kpts_output_MeanAbsoluteRatio: 0.5942 - val_s6kpts_output_analog_recall: 0.5932\n",
      "\n",
      "Learning rate for epoch 133 is 0.0010000000474974513\n",
      "Epoch 134/262\n",
      "50/50 [==============================] - 39s 781ms/step - loss: 0.0869 - s1pafs_output_loss: 0.0028 - s2pafs_output_loss: 0.0026 - s3pafs_output_loss: 0.0024 - s4pafs_output_loss: 0.0024 - s5kpts_output_loss: 0.0179 - s6kpts_output_loss: 0.0179 - s1pafs_output_MeanAbsolute: 0.0365 - s1pafs_output_MeanAbsoluteRatio: 0.9921 - s1pafs_output_analog_recall: 0.8545 - s2pafs_output_MeanAbsolute: 0.0364 - s2pafs_output_MeanAbsoluteRatio: 0.9889 - s2pafs_output_analog_recall: 0.8659 - s3pafs_output_MeanAbsolute: 0.0363 - s3pafs_output_MeanAbsoluteRatio: 0.9881 - s3pafs_output_analog_recall: 0.8730 - s4pafs_output_MeanAbsolute: 0.0362 - s4pafs_output_MeanAbsoluteRatio: 0.9857 - s4pafs_output_analog_recall: 0.8766 - s5kpts_output_MeanAbsolute: 0.0511 - s5kpts_output_MeanAbsoluteRatio: 0.6079 - s5kpts_output_analog_recall: 0.6070 - s6kpts_output_MeanAbsolute: 0.0511 - s6kpts_output_MeanAbsoluteRatio: 0.6079 - s6kpts_output_analog_recall: 0.6070 - val_loss: 0.0934 - val_s1pafs_output_loss: 0.0031 - val_s2pafs_output_loss: 0.0028 - val_s3pafs_output_loss: 0.0027 - val_s4pafs_output_loss: 0.0026 - val_s5kpts_output_loss: 0.0188 - val_s6kpts_output_loss: 0.0188 - val_s1pafs_output_MeanAbsolute: 0.0355 - val_s1pafs_output_MeanAbsoluteRatio: 0.9603 - val_s1pafs_output_analog_recall: 0.8387 - val_s2pafs_output_MeanAbsolute: 0.0355 - val_s2pafs_output_MeanAbsoluteRatio: 0.9604 - val_s2pafs_output_analog_recall: 0.8564 - val_s3pafs_output_MeanAbsolute: 0.0356 - val_s3pafs_output_MeanAbsoluteRatio: 0.9631 - val_s3pafs_output_analog_recall: 0.8644 - val_s4pafs_output_MeanAbsolute: 0.0353 - val_s4pafs_output_MeanAbsoluteRatio: 0.9536 - val_s4pafs_output_analog_recall: 0.8675 - val_s5kpts_output_MeanAbsolute: 0.0505 - val_s5kpts_output_MeanAbsoluteRatio: 0.5942 - val_s5kpts_output_analog_recall: 0.5932 - val_s6kpts_output_MeanAbsolute: 0.0505 - val_s6kpts_output_MeanAbsoluteRatio: 0.5942 - val_s6kpts_output_analog_recall: 0.5932\n",
      "\n",
      "Learning rate for epoch 134 is 0.0010000000474974513\n",
      "Epoch 135/262\n",
      "50/50 [==============================] - 46s 921ms/step - loss: 0.0859 - s1pafs_output_loss: 0.0028 - s2pafs_output_loss: 0.0025 - s3pafs_output_loss: 0.0024 - s4pafs_output_loss: 0.0024 - s5kpts_output_loss: 0.0177 - s6kpts_output_loss: 0.0177 - s1pafs_output_MeanAbsolute: 0.0365 - s1pafs_output_MeanAbsoluteRatio: 0.9932 - s1pafs_output_analog_recall: 0.8549 - s2pafs_output_MeanAbsolute: 0.0364 - s2pafs_output_MeanAbsoluteRatio: 0.9905 - s2pafs_output_analog_recall: 0.8678 - s3pafs_output_MeanAbsolute: 0.0363 - s3pafs_output_MeanAbsoluteRatio: 0.9883 - s3pafs_output_analog_recall: 0.8737 - s4pafs_output_MeanAbsolute: 0.0362 - s4pafs_output_MeanAbsoluteRatio: 0.9863 - s4pafs_output_analog_recall: 0.8765 - s5kpts_output_MeanAbsolute: 0.0511 - s5kpts_output_MeanAbsoluteRatio: 0.6110 - s5kpts_output_analog_recall: 0.6101 - s6kpts_output_MeanAbsolute: 0.0511 - s6kpts_output_MeanAbsoluteRatio: 0.6110 - s6kpts_output_analog_recall: 0.6101 - val_loss: 0.0940 - val_s1pafs_output_loss: 0.0031 - val_s2pafs_output_loss: 0.0028 - val_s3pafs_output_loss: 0.0027 - val_s4pafs_output_loss: 0.0027 - val_s5kpts_output_loss: 0.0188 - val_s6kpts_output_loss: 0.0188 - val_s1pafs_output_MeanAbsolute: 0.0352 - val_s1pafs_output_MeanAbsoluteRatio: 0.9499 - val_s1pafs_output_analog_recall: 0.8465 - val_s2pafs_output_MeanAbsolute: 0.0351 - val_s2pafs_output_MeanAbsoluteRatio: 0.9475 - val_s2pafs_output_analog_recall: 0.8572 - val_s3pafs_output_MeanAbsolute: 0.0350 - val_s3pafs_output_MeanAbsoluteRatio: 0.9461 - val_s3pafs_output_analog_recall: 0.8626 - val_s4pafs_output_MeanAbsolute: 0.0352 - val_s4pafs_output_MeanAbsoluteRatio: 0.9506 - val_s4pafs_output_analog_recall: 0.8709 - val_s5kpts_output_MeanAbsolute: 0.0505 - val_s5kpts_output_MeanAbsoluteRatio: 0.5942 - val_s5kpts_output_analog_recall: 0.5932 - val_s6kpts_output_MeanAbsolute: 0.0505 - val_s6kpts_output_MeanAbsoluteRatio: 0.5942 - val_s6kpts_output_analog_recall: 0.5932\n",
      "\n",
      "Learning rate for epoch 135 is 0.0010000000474974513\n",
      "Epoch 136/262\n",
      "\n",
      "Epoch 00136: saving model to gs://dl_training_results/checkpoints/model814Sat1219-0149/-E0136.ckpt\n",
      "WARNING:tensorflow:Method (on_train_batch_end) is slow compared to the batch update (10.088200). Check your callbacks.\n"
     ]
    },
    {
     "name": "stderr",
     "output_type": "stream",
     "text": [
      "WARNING:tensorflow:Method (on_train_batch_end) is slow compared to the batch update (10.088200). Check your callbacks.\n"
     ]
    },
    {
     "name": "stdout",
     "output_type": "stream",
     "text": [
      " 1/50 [..............................] - ETA: 9:15 - loss: 0.0933 - s1pafs_output_loss: 0.0031 - s2pafs_output_loss: 0.0028 - s3pafs_output_loss: 0.0027 - s4pafs_output_loss: 0.0027 - s5kpts_output_loss: 0.0185 - s6kpts_output_loss: 0.0185 - s1pafs_output_MeanAbsolute: 0.0357 - s1pafs_output_MeanAbsoluteRatio: 0.9491 - s1pafs_output_analog_recall: 0.8468 - s2pafs_output_MeanAbsolute: 0.0355 - s2pafs_output_MeanAbsoluteRatio: 0.9439 - s2pafs_output_analog_recall: 0.8576 - s3pafs_output_MeanAbsolute: 0.0355 - s3pafs_output_MeanAbsoluteRatio: 0.9419 - s3pafs_output_analog_recall: 0.8629 - s4pafs_output_MeanAbsolute: 0.0357 - s4pafs_output_MeanAbsoluteRatio: 0.9468 - s4pafs_output_analog_recall: 0.8717 - s5kpts_output_MeanAbsolute: 0.0515 - s5kpts_output_MeanAbsoluteRatio: 0.6027 - s5kpts_output_analog_recall: 0.6017 - s6kpts_output_MeanAbsolute: 0.0515 - s6kpts_output_MeanAbsoluteRatio: 0.6027 - s6kpts_output_analog_recall: 0.6017WARNING:tensorflow:Method (on_train_batch_end) is slow compared to the batch update (5.054597). Check your callbacks.\n"
     ]
    },
    {
     "name": "stderr",
     "output_type": "stream",
     "text": [
      "WARNING:tensorflow:Method (on_train_batch_end) is slow compared to the batch update (5.054597). Check your callbacks.\n"
     ]
    },
    {
     "name": "stdout",
     "output_type": "stream",
     "text": [
      "50/50 [==============================] - 55s 1s/step - loss: 0.0870 - s1pafs_output_loss: 0.0028 - s2pafs_output_loss: 0.0026 - s3pafs_output_loss: 0.0025 - s4pafs_output_loss: 0.0024 - s5kpts_output_loss: 0.0178 - s6kpts_output_loss: 0.0178 - s1pafs_output_MeanAbsolute: 0.0365 - s1pafs_output_MeanAbsoluteRatio: 0.9909 - s1pafs_output_analog_recall: 0.8525 - s2pafs_output_MeanAbsolute: 0.0364 - s2pafs_output_MeanAbsoluteRatio: 0.9890 - s2pafs_output_analog_recall: 0.8652 - s3pafs_output_MeanAbsolute: 0.0364 - s3pafs_output_MeanAbsoluteRatio: 0.9873 - s3pafs_output_analog_recall: 0.8723 - s4pafs_output_MeanAbsolute: 0.0363 - s4pafs_output_MeanAbsoluteRatio: 0.9854 - s4pafs_output_analog_recall: 0.8754 - s5kpts_output_MeanAbsolute: 0.0512 - s5kpts_output_MeanAbsoluteRatio: 0.6114 - s5kpts_output_analog_recall: 0.6105 - s6kpts_output_MeanAbsolute: 0.0512 - s6kpts_output_MeanAbsoluteRatio: 0.6114 - s6kpts_output_analog_recall: 0.6105 - val_loss: 0.0944 - val_s1pafs_output_loss: 0.0031 - val_s2pafs_output_loss: 0.0028 - val_s3pafs_output_loss: 0.0027 - val_s4pafs_output_loss: 0.0027 - val_s5kpts_output_loss: 0.0188 - val_s6kpts_output_loss: 0.0188 - val_s1pafs_output_MeanAbsolute: 0.0364 - val_s1pafs_output_MeanAbsoluteRatio: 0.9832 - val_s1pafs_output_analog_recall: 0.8406 - val_s2pafs_output_MeanAbsolute: 0.0356 - val_s2pafs_output_MeanAbsoluteRatio: 0.9627 - val_s2pafs_output_analog_recall: 0.8601 - val_s3pafs_output_MeanAbsolute: 0.0358 - val_s3pafs_output_MeanAbsoluteRatio: 0.9680 - val_s3pafs_output_analog_recall: 0.8566 - val_s4pafs_output_MeanAbsolute: 0.0358 - val_s4pafs_output_MeanAbsoluteRatio: 0.9662 - val_s4pafs_output_analog_recall: 0.8598 - val_s5kpts_output_MeanAbsolute: 0.0505 - val_s5kpts_output_MeanAbsoluteRatio: 0.5942 - val_s5kpts_output_analog_recall: 0.5932 - val_s6kpts_output_MeanAbsolute: 0.0505 - val_s6kpts_output_MeanAbsoluteRatio: 0.5942 - val_s6kpts_output_analog_recall: 0.5932\n",
      "\n",
      "Learning rate for epoch 136 is 0.0010000000474974513\n",
      "Epoch 137/262\n",
      "50/50 [==============================] - 48s 961ms/step - loss: 0.0873 - s1pafs_output_loss: 0.0028 - s2pafs_output_loss: 0.0026 - s3pafs_output_loss: 0.0024 - s4pafs_output_loss: 0.0024 - s5kpts_output_loss: 0.0180 - s6kpts_output_loss: 0.0180 - s1pafs_output_MeanAbsolute: 0.0367 - s1pafs_output_MeanAbsoluteRatio: 0.9921 - s1pafs_output_analog_recall: 0.8520 - s2pafs_output_MeanAbsolute: 0.0365 - s2pafs_output_MeanAbsoluteRatio: 0.9874 - s2pafs_output_analog_recall: 0.8667 - s3pafs_output_MeanAbsolute: 0.0365 - s3pafs_output_MeanAbsoluteRatio: 0.9875 - s3pafs_output_analog_recall: 0.8728 - s4pafs_output_MeanAbsolute: 0.0364 - s4pafs_output_MeanAbsoluteRatio: 0.9858 - s4pafs_output_analog_recall: 0.8760 - s5kpts_output_MeanAbsolute: 0.0511 - s5kpts_output_MeanAbsoluteRatio: 0.6068 - s5kpts_output_analog_recall: 0.6059 - s6kpts_output_MeanAbsolute: 0.0511 - s6kpts_output_MeanAbsoluteRatio: 0.6068 - s6kpts_output_analog_recall: 0.6059 - val_loss: 0.0954 - val_s1pafs_output_loss: 0.0031 - val_s2pafs_output_loss: 0.0029 - val_s3pafs_output_loss: 0.0028 - val_s4pafs_output_loss: 0.0027 - val_s5kpts_output_loss: 0.0188 - val_s6kpts_output_loss: 0.0188 - val_s1pafs_output_MeanAbsolute: 0.0381 - val_s1pafs_output_MeanAbsoluteRatio: 1.0297 - val_s1pafs_output_analog_recall: 0.8408 - val_s2pafs_output_MeanAbsolute: 0.0383 - val_s2pafs_output_MeanAbsoluteRatio: 1.0342 - val_s2pafs_output_analog_recall: 0.8632 - val_s3pafs_output_MeanAbsolute: 0.0387 - val_s3pafs_output_MeanAbsoluteRatio: 1.0440 - val_s3pafs_output_analog_recall: 0.8691 - val_s4pafs_output_MeanAbsolute: 0.0385 - val_s4pafs_output_MeanAbsoluteRatio: 1.0397 - val_s4pafs_output_analog_recall: 0.8649 - val_s5kpts_output_MeanAbsolute: 0.0505 - val_s5kpts_output_MeanAbsoluteRatio: 0.5942 - val_s5kpts_output_analog_recall: 0.5932 - val_s6kpts_output_MeanAbsolute: 0.0505 - val_s6kpts_output_MeanAbsoluteRatio: 0.5942 - val_s6kpts_output_analog_recall: 0.5932\n",
      "\n",
      "Learning rate for epoch 137 is 0.0010000000474974513\n",
      "Epoch 138/262\n",
      "50/50 [==============================] - 40s 796ms/step - loss: 0.0889 - s1pafs_output_loss: 0.0029 - s2pafs_output_loss: 0.0026 - s3pafs_output_loss: 0.0025 - s4pafs_output_loss: 0.0025 - s5kpts_output_loss: 0.0182 - s6kpts_output_loss: 0.0182 - s1pafs_output_MeanAbsolute: 0.0367 - s1pafs_output_MeanAbsoluteRatio: 0.9902 - s1pafs_output_analog_recall: 0.8520 - s2pafs_output_MeanAbsolute: 0.0366 - s2pafs_output_MeanAbsoluteRatio: 0.9889 - s2pafs_output_analog_recall: 0.8638 - s3pafs_output_MeanAbsolute: 0.0366 - s3pafs_output_MeanAbsoluteRatio: 0.9870 - s3pafs_output_analog_recall: 0.8702 - s4pafs_output_MeanAbsolute: 0.0365 - s4pafs_output_MeanAbsoluteRatio: 0.9847 - s4pafs_output_analog_recall: 0.8730 - s5kpts_output_MeanAbsolute: 0.0511 - s5kpts_output_MeanAbsoluteRatio: 0.6047 - s5kpts_output_analog_recall: 0.6037 - s6kpts_output_MeanAbsolute: 0.0511 - s6kpts_output_MeanAbsoluteRatio: 0.6047 - s6kpts_output_analog_recall: 0.6037 - val_loss: 0.0937 - val_s1pafs_output_loss: 0.0031 - val_s2pafs_output_loss: 0.0028 - val_s3pafs_output_loss: 0.0027 - val_s4pafs_output_loss: 0.0026 - val_s5kpts_output_loss: 0.0188 - val_s6kpts_output_loss: 0.0188 - val_s1pafs_output_MeanAbsolute: 0.0370 - val_s1pafs_output_MeanAbsoluteRatio: 1.0008 - val_s1pafs_output_analog_recall: 0.8455 - val_s2pafs_output_MeanAbsolute: 0.0373 - val_s2pafs_output_MeanAbsoluteRatio: 1.0060 - val_s2pafs_output_analog_recall: 0.8603 - val_s3pafs_output_MeanAbsolute: 0.0369 - val_s3pafs_output_MeanAbsoluteRatio: 0.9976 - val_s3pafs_output_analog_recall: 0.8619 - val_s4pafs_output_MeanAbsolute: 0.0363 - val_s4pafs_output_MeanAbsoluteRatio: 0.9816 - val_s4pafs_output_analog_recall: 0.8688 - val_s5kpts_output_MeanAbsolute: 0.0505 - val_s5kpts_output_MeanAbsoluteRatio: 0.5942 - val_s5kpts_output_analog_recall: 0.5932 - val_s6kpts_output_MeanAbsolute: 0.0505 - val_s6kpts_output_MeanAbsoluteRatio: 0.5942 - val_s6kpts_output_analog_recall: 0.5932\n",
      "\n",
      "Learning rate for epoch 138 is 0.0010000000474974513\n",
      "Epoch 139/262\n",
      "50/50 [==============================] - 46s 922ms/step - loss: 0.0850 - s1pafs_output_loss: 0.0027 - s2pafs_output_loss: 0.0025 - s3pafs_output_loss: 0.0024 - s4pafs_output_loss: 0.0023 - s5kpts_output_loss: 0.0176 - s6kpts_output_loss: 0.0176 - s1pafs_output_MeanAbsolute: 0.0364 - s1pafs_output_MeanAbsoluteRatio: 0.9924 - s1pafs_output_analog_recall: 0.8538 - s2pafs_output_MeanAbsolute: 0.0363 - s2pafs_output_MeanAbsoluteRatio: 0.9891 - s2pafs_output_analog_recall: 0.8680 - s3pafs_output_MeanAbsolute: 0.0363 - s3pafs_output_MeanAbsoluteRatio: 0.9886 - s3pafs_output_analog_recall: 0.8745 - s4pafs_output_MeanAbsolute: 0.0362 - s4pafs_output_MeanAbsoluteRatio: 0.9864 - s4pafs_output_analog_recall: 0.8782 - s5kpts_output_MeanAbsolute: 0.0512 - s5kpts_output_MeanAbsoluteRatio: 0.6120 - s5kpts_output_analog_recall: 0.6111 - s6kpts_output_MeanAbsolute: 0.0512 - s6kpts_output_MeanAbsoluteRatio: 0.6120 - s6kpts_output_analog_recall: 0.6111 - val_loss: 0.0940 - val_s1pafs_output_loss: 0.0031 - val_s2pafs_output_loss: 0.0028 - val_s3pafs_output_loss: 0.0027 - val_s4pafs_output_loss: 0.0027 - val_s5kpts_output_loss: 0.0188 - val_s6kpts_output_loss: 0.0188 - val_s1pafs_output_MeanAbsolute: 0.0370 - val_s1pafs_output_MeanAbsoluteRatio: 0.9997 - val_s1pafs_output_analog_recall: 0.8471 - val_s2pafs_output_MeanAbsolute: 0.0374 - val_s2pafs_output_MeanAbsoluteRatio: 1.0098 - val_s2pafs_output_analog_recall: 0.8577 - val_s3pafs_output_MeanAbsolute: 0.0372 - val_s3pafs_output_MeanAbsoluteRatio: 1.0054 - val_s3pafs_output_analog_recall: 0.8702 - val_s4pafs_output_MeanAbsolute: 0.0374 - val_s4pafs_output_MeanAbsoluteRatio: 1.0091 - val_s4pafs_output_analog_recall: 0.8719 - val_s5kpts_output_MeanAbsolute: 0.0505 - val_s5kpts_output_MeanAbsoluteRatio: 0.5942 - val_s5kpts_output_analog_recall: 0.5932 - val_s6kpts_output_MeanAbsolute: 0.0505 - val_s6kpts_output_MeanAbsoluteRatio: 0.5942 - val_s6kpts_output_analog_recall: 0.5932\n",
      "\n",
      "Learning rate for epoch 139 is 0.0010000000474974513\n",
      "Epoch 140/262\n"
     ]
    },
    {
     "name": "stdout",
     "output_type": "stream",
     "text": [
      "50/50 [==============================] - 47s 937ms/step - loss: 0.0861 - s1pafs_output_loss: 0.0028 - s2pafs_output_loss: 0.0025 - s3pafs_output_loss: 0.0024 - s4pafs_output_loss: 0.0024 - s5kpts_output_loss: 0.0177 - s6kpts_output_loss: 0.0177 - s1pafs_output_MeanAbsolute: 0.0364 - s1pafs_output_MeanAbsoluteRatio: 0.9923 - s1pafs_output_analog_recall: 0.8554 - s2pafs_output_MeanAbsolute: 0.0364 - s2pafs_output_MeanAbsoluteRatio: 0.9913 - s2pafs_output_analog_recall: 0.8676 - s3pafs_output_MeanAbsolute: 0.0363 - s3pafs_output_MeanAbsoluteRatio: 0.9881 - s3pafs_output_analog_recall: 0.8741 - s4pafs_output_MeanAbsolute: 0.0362 - s4pafs_output_MeanAbsoluteRatio: 0.9859 - s4pafs_output_analog_recall: 0.8768 - s5kpts_output_MeanAbsolute: 0.0510 - s5kpts_output_MeanAbsoluteRatio: 0.6109 - s5kpts_output_analog_recall: 0.6100 - s6kpts_output_MeanAbsolute: 0.0510 - s6kpts_output_MeanAbsoluteRatio: 0.6109 - s6kpts_output_analog_recall: 0.6100 - val_loss: 0.0937 - val_s1pafs_output_loss: 0.0030 - val_s2pafs_output_loss: 0.0028 - val_s3pafs_output_loss: 0.0027 - val_s4pafs_output_loss: 0.0027 - val_s5kpts_output_loss: 0.0188 - val_s6kpts_output_loss: 0.0188 - val_s1pafs_output_MeanAbsolute: 0.0372 - val_s1pafs_output_MeanAbsoluteRatio: 1.0048 - val_s1pafs_output_analog_recall: 0.8443 - val_s2pafs_output_MeanAbsolute: 0.0366 - val_s2pafs_output_MeanAbsoluteRatio: 0.9882 - val_s2pafs_output_analog_recall: 0.8552 - val_s3pafs_output_MeanAbsolute: 0.0367 - val_s3pafs_output_MeanAbsoluteRatio: 0.9903 - val_s3pafs_output_analog_recall: 0.8661 - val_s4pafs_output_MeanAbsolute: 0.0370 - val_s4pafs_output_MeanAbsoluteRatio: 0.9985 - val_s4pafs_output_analog_recall: 0.8701 - val_s5kpts_output_MeanAbsolute: 0.0505 - val_s5kpts_output_MeanAbsoluteRatio: 0.5942 - val_s5kpts_output_analog_recall: 0.5932 - val_s6kpts_output_MeanAbsolute: 0.0505 - val_s6kpts_output_MeanAbsoluteRatio: 0.5942 - val_s6kpts_output_analog_recall: 0.5932\n",
      "\n",
      "Learning rate for epoch 140 is 0.0010000000474974513\n",
      "Epoch 141/262\n",
      "50/50 [==============================] - 44s 883ms/step - loss: 0.0862 - s1pafs_output_loss: 0.0028 - s2pafs_output_loss: 0.0025 - s3pafs_output_loss: 0.0024 - s4pafs_output_loss: 0.0024 - s5kpts_output_loss: 0.0179 - s6kpts_output_loss: 0.0179 - s1pafs_output_MeanAbsolute: 0.0366 - s1pafs_output_MeanAbsoluteRatio: 0.9942 - s1pafs_output_analog_recall: 0.8542 - s2pafs_output_MeanAbsolute: 0.0364 - s2pafs_output_MeanAbsoluteRatio: 0.9886 - s2pafs_output_analog_recall: 0.8680 - s3pafs_output_MeanAbsolute: 0.0364 - s3pafs_output_MeanAbsoluteRatio: 0.9888 - s3pafs_output_analog_recall: 0.8743 - s4pafs_output_MeanAbsolute: 0.0364 - s4pafs_output_MeanAbsoluteRatio: 0.9875 - s4pafs_output_analog_recall: 0.8773 - s5kpts_output_MeanAbsolute: 0.0511 - s5kpts_output_MeanAbsoluteRatio: 0.6096 - s5kpts_output_analog_recall: 0.6087 - s6kpts_output_MeanAbsolute: 0.0511 - s6kpts_output_MeanAbsoluteRatio: 0.6096 - s6kpts_output_analog_recall: 0.6087 - val_loss: 0.0939 - val_s1pafs_output_loss: 0.0031 - val_s2pafs_output_loss: 0.0028 - val_s3pafs_output_loss: 0.0027 - val_s4pafs_output_loss: 0.0027 - val_s5kpts_output_loss: 0.0188 - val_s6kpts_output_loss: 0.0188 - val_s1pafs_output_MeanAbsolute: 0.0372 - val_s1pafs_output_MeanAbsoluteRatio: 1.0045 - val_s1pafs_output_analog_recall: 0.8385 - val_s2pafs_output_MeanAbsolute: 0.0364 - val_s2pafs_output_MeanAbsoluteRatio: 0.9841 - val_s2pafs_output_analog_recall: 0.8561 - val_s3pafs_output_MeanAbsolute: 0.0359 - val_s3pafs_output_MeanAbsoluteRatio: 0.9686 - val_s3pafs_output_analog_recall: 0.8626 - val_s4pafs_output_MeanAbsolute: 0.0354 - val_s4pafs_output_MeanAbsoluteRatio: 0.9574 - val_s4pafs_output_analog_recall: 0.8676 - val_s5kpts_output_MeanAbsolute: 0.0505 - val_s5kpts_output_MeanAbsoluteRatio: 0.5942 - val_s5kpts_output_analog_recall: 0.5932 - val_s6kpts_output_MeanAbsolute: 0.0505 - val_s6kpts_output_MeanAbsoluteRatio: 0.5942 - val_s6kpts_output_analog_recall: 0.5932\n",
      "\n",
      "Learning rate for epoch 141 is 0.0010000000474974513\n",
      "Epoch 142/262\n",
      "50/50 [==============================] - 42s 836ms/step - loss: 0.0864 - s1pafs_output_loss: 0.0028 - s2pafs_output_loss: 0.0025 - s3pafs_output_loss: 0.0024 - s4pafs_output_loss: 0.0024 - s5kpts_output_loss: 0.0180 - s6kpts_output_loss: 0.0180 - s1pafs_output_MeanAbsolute: 0.0365 - s1pafs_output_MeanAbsoluteRatio: 0.9910 - s1pafs_output_analog_recall: 0.8533 - s2pafs_output_MeanAbsolute: 0.0364 - s2pafs_output_MeanAbsoluteRatio: 0.9894 - s2pafs_output_analog_recall: 0.8675 - s3pafs_output_MeanAbsolute: 0.0364 - s3pafs_output_MeanAbsoluteRatio: 0.9882 - s3pafs_output_analog_recall: 0.8733 - s4pafs_output_MeanAbsolute: 0.0363 - s4pafs_output_MeanAbsoluteRatio: 0.9856 - s4pafs_output_analog_recall: 0.8766 - s5kpts_output_MeanAbsolute: 0.0511 - s5kpts_output_MeanAbsoluteRatio: 0.6072 - s5kpts_output_analog_recall: 0.6063 - s6kpts_output_MeanAbsolute: 0.0511 - s6kpts_output_MeanAbsoluteRatio: 0.6072 - s6kpts_output_analog_recall: 0.6063 - val_loss: 0.0928 - val_s1pafs_output_loss: 0.0030 - val_s2pafs_output_loss: 0.0028 - val_s3pafs_output_loss: 0.0026 - val_s4pafs_output_loss: 0.0026 - val_s5kpts_output_loss: 0.0188 - val_s6kpts_output_loss: 0.0188 - val_s1pafs_output_MeanAbsolute: 0.0364 - val_s1pafs_output_MeanAbsoluteRatio: 0.9830 - val_s1pafs_output_analog_recall: 0.8441 - val_s2pafs_output_MeanAbsolute: 0.0367 - val_s2pafs_output_MeanAbsoluteRatio: 0.9925 - val_s2pafs_output_analog_recall: 0.8578 - val_s3pafs_output_MeanAbsolute: 0.0369 - val_s3pafs_output_MeanAbsoluteRatio: 0.9972 - val_s3pafs_output_analog_recall: 0.8657 - val_s4pafs_output_MeanAbsolute: 0.0366 - val_s4pafs_output_MeanAbsoluteRatio: 0.9893 - val_s4pafs_output_analog_recall: 0.8748 - val_s5kpts_output_MeanAbsolute: 0.0505 - val_s5kpts_output_MeanAbsoluteRatio: 0.5942 - val_s5kpts_output_analog_recall: 0.5932 - val_s6kpts_output_MeanAbsolute: 0.0505 - val_s6kpts_output_MeanAbsoluteRatio: 0.5942 - val_s6kpts_output_analog_recall: 0.5932\n",
      "\n",
      "Learning rate for epoch 142 is 0.0010000000474974513\n",
      "Epoch 143/262\n",
      "50/50 [==============================] - 39s 785ms/step - loss: 0.0854 - s1pafs_output_loss: 0.0027 - s2pafs_output_loss: 0.0025 - s3pafs_output_loss: 0.0024 - s4pafs_output_loss: 0.0023 - s5kpts_output_loss: 0.0178 - s6kpts_output_loss: 0.0178 - s1pafs_output_MeanAbsolute: 0.0364 - s1pafs_output_MeanAbsoluteRatio: 0.9923 - s1pafs_output_analog_recall: 0.8573 - s2pafs_output_MeanAbsolute: 0.0364 - s2pafs_output_MeanAbsoluteRatio: 0.9910 - s2pafs_output_analog_recall: 0.8687 - s3pafs_output_MeanAbsolute: 0.0363 - s3pafs_output_MeanAbsoluteRatio: 0.9899 - s3pafs_output_analog_recall: 0.8753 - s4pafs_output_MeanAbsolute: 0.0362 - s4pafs_output_MeanAbsoluteRatio: 0.9874 - s4pafs_output_analog_recall: 0.8789 - s5kpts_output_MeanAbsolute: 0.0510 - s5kpts_output_MeanAbsoluteRatio: 0.6093 - s5kpts_output_analog_recall: 0.6084 - s6kpts_output_MeanAbsolute: 0.0510 - s6kpts_output_MeanAbsoluteRatio: 0.6093 - s6kpts_output_analog_recall: 0.6084 - val_loss: 0.0928 - val_s1pafs_output_loss: 0.0030 - val_s2pafs_output_loss: 0.0028 - val_s3pafs_output_loss: 0.0026 - val_s4pafs_output_loss: 0.0026 - val_s5kpts_output_loss: 0.0188 - val_s6kpts_output_loss: 0.0188 - val_s1pafs_output_MeanAbsolute: 0.0360 - val_s1pafs_output_MeanAbsoluteRatio: 0.9721 - val_s1pafs_output_analog_recall: 0.8410 - val_s2pafs_output_MeanAbsolute: 0.0362 - val_s2pafs_output_MeanAbsoluteRatio: 0.9791 - val_s2pafs_output_analog_recall: 0.8614 - val_s3pafs_output_MeanAbsolute: 0.0360 - val_s3pafs_output_MeanAbsoluteRatio: 0.9733 - val_s3pafs_output_analog_recall: 0.8664 - val_s4pafs_output_MeanAbsolute: 0.0366 - val_s4pafs_output_MeanAbsoluteRatio: 0.9874 - val_s4pafs_output_analog_recall: 0.8695 - val_s5kpts_output_MeanAbsolute: 0.0505 - val_s5kpts_output_MeanAbsoluteRatio: 0.5942 - val_s5kpts_output_analog_recall: 0.5932 - val_s6kpts_output_MeanAbsolute: 0.0505 - val_s6kpts_output_MeanAbsoluteRatio: 0.5942 - val_s6kpts_output_analog_recall: 0.5932\n",
      "\n",
      "Learning rate for epoch 143 is 0.0010000000474974513\n",
      "Epoch 144/262\n"
     ]
    },
    {
     "name": "stdout",
     "output_type": "stream",
     "text": [
      "38/50 [=====================>........] - ETA: 10s - loss: 0.0852 - s1pafs_output_loss: 0.0027 - s2pafs_output_loss: 0.0025 - s3pafs_output_loss: 0.0024 - s4pafs_output_loss: 0.0023 - s5kpts_output_loss: 0.0178 - s6kpts_output_loss: 0.0178 - s1pafs_output_MeanAbsolute: 0.0365 - s1pafs_output_MeanAbsoluteRatio: 0.9925 - s1pafs_output_analog_recall: 0.8556 - s2pafs_output_MeanAbsolute: 0.0364 - s2pafs_output_MeanAbsoluteRatio: 0.9896 - s2pafs_output_analog_recall: 0.8694 - s3pafs_output_MeanAbsolute: 0.0364 - s3pafs_output_MeanAbsoluteRatio: 0.9888 - s3pafs_output_analog_recall: 0.8762 - s4pafs_output_MeanAbsolute: 0.0363 - s4pafs_output_MeanAbsoluteRatio: 0.9872 - s4pafs_output_analog_recall: 0.8792 - s5kpts_output_MeanAbsolute: 0.0511 - s5kpts_output_MeanAbsoluteRatio: 0.6100 - s5kpts_output_analog_recall: 0.6090 - s6kpts_output_MeanAbsolute: 0.0511 - s6kpts_output_MeanAbsoluteRatio: 0.6100 - s6kpts_output_analog_recall: 0.6090\n",
      "Epoch 00144: saving model to gs://dl_training_results/checkpoints/model814Sat1219-0149/-E0144.ckpt\n",
      "50/50 [==============================] - 57s 1s/step - loss: 0.0850 - s1pafs_output_loss: 0.0027 - s2pafs_output_loss: 0.0025 - s3pafs_output_loss: 0.0024 - s4pafs_output_loss: 0.0023 - s5kpts_output_loss: 0.0177 - s6kpts_output_loss: 0.0177 - s1pafs_output_MeanAbsolute: 0.0365 - s1pafs_output_MeanAbsoluteRatio: 0.9918 - s1pafs_output_analog_recall: 0.8559 - s2pafs_output_MeanAbsolute: 0.0365 - s2pafs_output_MeanAbsoluteRatio: 0.9905 - s2pafs_output_analog_recall: 0.8689 - s3pafs_output_MeanAbsolute: 0.0365 - s3pafs_output_MeanAbsoluteRatio: 0.9898 - s3pafs_output_analog_recall: 0.8763 - s4pafs_output_MeanAbsolute: 0.0364 - s4pafs_output_MeanAbsoluteRatio: 0.9886 - s4pafs_output_analog_recall: 0.8791 - s5kpts_output_MeanAbsolute: 0.0512 - s5kpts_output_MeanAbsoluteRatio: 0.6112 - s5kpts_output_analog_recall: 0.6103 - s6kpts_output_MeanAbsolute: 0.0512 - s6kpts_output_MeanAbsoluteRatio: 0.6112 - s6kpts_output_analog_recall: 0.6103 - val_loss: 0.0931 - val_s1pafs_output_loss: 0.0030 - val_s2pafs_output_loss: 0.0028 - val_s3pafs_output_loss: 0.0027 - val_s4pafs_output_loss: 0.0026 - val_s5kpts_output_loss: 0.0188 - val_s6kpts_output_loss: 0.0188 - val_s1pafs_output_MeanAbsolute: 0.0362 - val_s1pafs_output_MeanAbsoluteRatio: 0.9782 - val_s1pafs_output_analog_recall: 0.8514 - val_s2pafs_output_MeanAbsolute: 0.0364 - val_s2pafs_output_MeanAbsoluteRatio: 0.9824 - val_s2pafs_output_analog_recall: 0.8666 - val_s3pafs_output_MeanAbsolute: 0.0367 - val_s3pafs_output_MeanAbsoluteRatio: 0.9903 - val_s3pafs_output_analog_recall: 0.8686 - val_s4pafs_output_MeanAbsolute: 0.0367 - val_s4pafs_output_MeanAbsoluteRatio: 0.9919 - val_s4pafs_output_analog_recall: 0.8695 - val_s5kpts_output_MeanAbsolute: 0.0505 - val_s5kpts_output_MeanAbsoluteRatio: 0.5942 - val_s5kpts_output_analog_recall: 0.5932 - val_s6kpts_output_MeanAbsolute: 0.0505 - val_s6kpts_output_MeanAbsoluteRatio: 0.5942 - val_s6kpts_output_analog_recall: 0.5932\n",
      "\n",
      "Learning rate for epoch 144 is 0.0010000000474974513\n",
      "Epoch 145/262\n",
      "50/50 [==============================] - 48s 962ms/step - loss: 0.0876 - s1pafs_output_loss: 0.0028 - s2pafs_output_loss: 0.0026 - s3pafs_output_loss: 0.0025 - s4pafs_output_loss: 0.0024 - s5kpts_output_loss: 0.0179 - s6kpts_output_loss: 0.0179 - s1pafs_output_MeanAbsolute: 0.0366 - s1pafs_output_MeanAbsoluteRatio: 0.9929 - s1pafs_output_analog_recall: 0.8518 - s2pafs_output_MeanAbsolute: 0.0365 - s2pafs_output_MeanAbsoluteRatio: 0.9898 - s2pafs_output_analog_recall: 0.8647 - s3pafs_output_MeanAbsolute: 0.0364 - s3pafs_output_MeanAbsoluteRatio: 0.9893 - s3pafs_output_analog_recall: 0.8710 - s4pafs_output_MeanAbsolute: 0.0364 - s4pafs_output_MeanAbsoluteRatio: 0.9871 - s4pafs_output_analog_recall: 0.8738 - s5kpts_output_MeanAbsolute: 0.0511 - s5kpts_output_MeanAbsoluteRatio: 0.6098 - s5kpts_output_analog_recall: 0.6088 - s6kpts_output_MeanAbsolute: 0.0511 - s6kpts_output_MeanAbsoluteRatio: 0.6098 - s6kpts_output_analog_recall: 0.6088 - val_loss: 0.0938 - val_s1pafs_output_loss: 0.0031 - val_s2pafs_output_loss: 0.0028 - val_s3pafs_output_loss: 0.0027 - val_s4pafs_output_loss: 0.0027 - val_s5kpts_output_loss: 0.0188 - val_s6kpts_output_loss: 0.0188 - val_s1pafs_output_MeanAbsolute: 0.0360 - val_s1pafs_output_MeanAbsoluteRatio: 0.9716 - val_s1pafs_output_analog_recall: 0.8426 - val_s2pafs_output_MeanAbsolute: 0.0364 - val_s2pafs_output_MeanAbsoluteRatio: 0.9835 - val_s2pafs_output_analog_recall: 0.8633 - val_s3pafs_output_MeanAbsolute: 0.0361 - val_s3pafs_output_MeanAbsoluteRatio: 0.9758 - val_s3pafs_output_analog_recall: 0.8663 - val_s4pafs_output_MeanAbsolute: 0.0358 - val_s4pafs_output_MeanAbsoluteRatio: 0.9679 - val_s4pafs_output_analog_recall: 0.8735 - val_s5kpts_output_MeanAbsolute: 0.0505 - val_s5kpts_output_MeanAbsoluteRatio: 0.5942 - val_s5kpts_output_analog_recall: 0.5932 - val_s6kpts_output_MeanAbsolute: 0.0505 - val_s6kpts_output_MeanAbsoluteRatio: 0.5942 - val_s6kpts_output_analog_recall: 0.5932\n",
      "\n",
      "Learning rate for epoch 145 is 0.0010000000474974513\n",
      "Epoch 146/262\n",
      "50/50 [==============================] - 42s 849ms/step - loss: 0.0872 - s1pafs_output_loss: 0.0028 - s2pafs_output_loss: 0.0026 - s3pafs_output_loss: 0.0024 - s4pafs_output_loss: 0.0024 - s5kpts_output_loss: 0.0181 - s6kpts_output_loss: 0.0181 - s1pafs_output_MeanAbsolute: 0.0367 - s1pafs_output_MeanAbsoluteRatio: 0.9915 - s1pafs_output_analog_recall: 0.8530 - s2pafs_output_MeanAbsolute: 0.0366 - s2pafs_output_MeanAbsoluteRatio: 0.9896 - s2pafs_output_analog_recall: 0.8660 - s3pafs_output_MeanAbsolute: 0.0365 - s3pafs_output_MeanAbsoluteRatio: 0.9878 - s3pafs_output_analog_recall: 0.8736 - s4pafs_output_MeanAbsolute: 0.0365 - s4pafs_output_MeanAbsoluteRatio: 0.9860 - s4pafs_output_analog_recall: 0.8770 - s5kpts_output_MeanAbsolute: 0.0511 - s5kpts_output_MeanAbsoluteRatio: 0.6057 - s5kpts_output_analog_recall: 0.6048 - s6kpts_output_MeanAbsolute: 0.0511 - s6kpts_output_MeanAbsoluteRatio: 0.6057 - s6kpts_output_analog_recall: 0.6048 - val_loss: 0.0930 - val_s1pafs_output_loss: 0.0030 - val_s2pafs_output_loss: 0.0028 - val_s3pafs_output_loss: 0.0027 - val_s4pafs_output_loss: 0.0026 - val_s5kpts_output_loss: 0.0188 - val_s6kpts_output_loss: 0.0188 - val_s1pafs_output_MeanAbsolute: 0.0363 - val_s1pafs_output_MeanAbsoluteRatio: 0.9798 - val_s1pafs_output_analog_recall: 0.8463 - val_s2pafs_output_MeanAbsolute: 0.0368 - val_s2pafs_output_MeanAbsoluteRatio: 0.9937 - val_s2pafs_output_analog_recall: 0.8566 - val_s3pafs_output_MeanAbsolute: 0.0370 - val_s3pafs_output_MeanAbsoluteRatio: 0.9988 - val_s3pafs_output_analog_recall: 0.8651 - val_s4pafs_output_MeanAbsolute: 0.0375 - val_s4pafs_output_MeanAbsoluteRatio: 1.0131 - val_s4pafs_output_analog_recall: 0.8649 - val_s5kpts_output_MeanAbsolute: 0.0505 - val_s5kpts_output_MeanAbsoluteRatio: 0.5942 - val_s5kpts_output_analog_recall: 0.5932 - val_s6kpts_output_MeanAbsolute: 0.0505 - val_s6kpts_output_MeanAbsoluteRatio: 0.5942 - val_s6kpts_output_analog_recall: 0.5932\n",
      "\n",
      "Learning rate for epoch 146 is 0.0010000000474974513\n",
      "Epoch 147/262\n",
      "50/50 [==============================] - 47s 943ms/step - loss: 0.0875 - s1pafs_output_loss: 0.0028 - s2pafs_output_loss: 0.0026 - s3pafs_output_loss: 0.0024 - s4pafs_output_loss: 0.0024 - s5kpts_output_loss: 0.0180 - s6kpts_output_loss: 0.0180 - s1pafs_output_MeanAbsolute: 0.0366 - s1pafs_output_MeanAbsoluteRatio: 0.9905 - s1pafs_output_analog_recall: 0.8515 - s2pafs_output_MeanAbsolute: 0.0366 - s2pafs_output_MeanAbsoluteRatio: 0.9891 - s2pafs_output_analog_recall: 0.8660 - s3pafs_output_MeanAbsolute: 0.0365 - s3pafs_output_MeanAbsoluteRatio: 0.9883 - s3pafs_output_analog_recall: 0.8716 - s4pafs_output_MeanAbsolute: 0.0365 - s4pafs_output_MeanAbsoluteRatio: 0.9861 - s4pafs_output_analog_recall: 0.8742 - s5kpts_output_MeanAbsolute: 0.0511 - s5kpts_output_MeanAbsoluteRatio: 0.6066 - s5kpts_output_analog_recall: 0.6057 - s6kpts_output_MeanAbsolute: 0.0511 - s6kpts_output_MeanAbsoluteRatio: 0.6066 - s6kpts_output_analog_recall: 0.6057 - val_loss: 0.0935 - val_s1pafs_output_loss: 0.0030 - val_s2pafs_output_loss: 0.0028 - val_s3pafs_output_loss: 0.0027 - val_s4pafs_output_loss: 0.0027 - val_s5kpts_output_loss: 0.0188 - val_s6kpts_output_loss: 0.0188 - val_s1pafs_output_MeanAbsolute: 0.0362 - val_s1pafs_output_MeanAbsoluteRatio: 0.9785 - val_s1pafs_output_analog_recall: 0.8374 - val_s2pafs_output_MeanAbsolute: 0.0367 - val_s2pafs_output_MeanAbsoluteRatio: 0.9912 - val_s2pafs_output_analog_recall: 0.8639 - val_s3pafs_output_MeanAbsolute: 0.0367 - val_s3pafs_output_MeanAbsoluteRatio: 0.9918 - val_s3pafs_output_analog_recall: 0.8657 - val_s4pafs_output_MeanAbsolute: 0.0366 - val_s4pafs_output_MeanAbsoluteRatio: 0.9887 - val_s4pafs_output_analog_recall: 0.8685 - val_s5kpts_output_MeanAbsolute: 0.0505 - val_s5kpts_output_MeanAbsoluteRatio: 0.5942 - val_s5kpts_output_analog_recall: 0.5932 - val_s6kpts_output_MeanAbsolute: 0.0505 - val_s6kpts_output_MeanAbsoluteRatio: 0.5942 - val_s6kpts_output_analog_recall: 0.5932\n"
     ]
    },
    {
     "name": "stdout",
     "output_type": "stream",
     "text": [
      "\n",
      "Learning rate for epoch 147 is 0.0010000000474974513\n",
      "Epoch 148/262\n",
      "50/50 [==============================] - 46s 917ms/step - loss: 0.0857 - s1pafs_output_loss: 0.0028 - s2pafs_output_loss: 0.0025 - s3pafs_output_loss: 0.0024 - s4pafs_output_loss: 0.0024 - s5kpts_output_loss: 0.0177 - s6kpts_output_loss: 0.0177 - s1pafs_output_MeanAbsolute: 0.0366 - s1pafs_output_MeanAbsoluteRatio: 0.9939 - s1pafs_output_analog_recall: 0.8555 - s2pafs_output_MeanAbsolute: 0.0364 - s2pafs_output_MeanAbsoluteRatio: 0.9888 - s2pafs_output_analog_recall: 0.8677 - s3pafs_output_MeanAbsolute: 0.0364 - s3pafs_output_MeanAbsoluteRatio: 0.9895 - s3pafs_output_analog_recall: 0.8734 - s4pafs_output_MeanAbsolute: 0.0363 - s4pafs_output_MeanAbsoluteRatio: 0.9865 - s4pafs_output_analog_recall: 0.8770 - s5kpts_output_MeanAbsolute: 0.0512 - s5kpts_output_MeanAbsoluteRatio: 0.6109 - s5kpts_output_analog_recall: 0.6100 - s6kpts_output_MeanAbsolute: 0.0512 - s6kpts_output_MeanAbsoluteRatio: 0.6109 - s6kpts_output_analog_recall: 0.6100 - val_loss: 0.0935 - val_s1pafs_output_loss: 0.0030 - val_s2pafs_output_loss: 0.0028 - val_s3pafs_output_loss: 0.0027 - val_s4pafs_output_loss: 0.0026 - val_s5kpts_output_loss: 0.0188 - val_s6kpts_output_loss: 0.0188 - val_s1pafs_output_MeanAbsolute: 0.0361 - val_s1pafs_output_MeanAbsoluteRatio: 0.9758 - val_s1pafs_output_analog_recall: 0.8450 - val_s2pafs_output_MeanAbsolute: 0.0362 - val_s2pafs_output_MeanAbsoluteRatio: 0.9782 - val_s2pafs_output_analog_recall: 0.8552 - val_s3pafs_output_MeanAbsolute: 0.0365 - val_s3pafs_output_MeanAbsoluteRatio: 0.9856 - val_s3pafs_output_analog_recall: 0.8641 - val_s4pafs_output_MeanAbsolute: 0.0365 - val_s4pafs_output_MeanAbsoluteRatio: 0.9865 - val_s4pafs_output_analog_recall: 0.8728 - val_s5kpts_output_MeanAbsolute: 0.0505 - val_s5kpts_output_MeanAbsoluteRatio: 0.5942 - val_s5kpts_output_analog_recall: 0.5932 - val_s6kpts_output_MeanAbsolute: 0.0505 - val_s6kpts_output_MeanAbsoluteRatio: 0.5942 - val_s6kpts_output_analog_recall: 0.5932\n",
      "\n",
      "Learning rate for epoch 148 is 0.0010000000474974513\n",
      "Epoch 149/262\n",
      "50/50 [==============================] - 44s 886ms/step - loss: 0.0855 - s1pafs_output_loss: 0.0028 - s2pafs_output_loss: 0.0025 - s3pafs_output_loss: 0.0024 - s4pafs_output_loss: 0.0024 - s5kpts_output_loss: 0.0176 - s6kpts_output_loss: 0.0176 - s1pafs_output_MeanAbsolute: 0.0363 - s1pafs_output_MeanAbsoluteRatio: 0.9898 - s1pafs_output_analog_recall: 0.8551 - s2pafs_output_MeanAbsolute: 0.0363 - s2pafs_output_MeanAbsoluteRatio: 0.9902 - s2pafs_output_analog_recall: 0.8673 - s3pafs_output_MeanAbsolute: 0.0362 - s3pafs_output_MeanAbsoluteRatio: 0.9882 - s3pafs_output_analog_recall: 0.8746 - s4pafs_output_MeanAbsolute: 0.0361 - s4pafs_output_MeanAbsoluteRatio: 0.9863 - s4pafs_output_analog_recall: 0.8773 - s5kpts_output_MeanAbsolute: 0.0510 - s5kpts_output_MeanAbsoluteRatio: 0.6115 - s5kpts_output_analog_recall: 0.6105 - s6kpts_output_MeanAbsolute: 0.0510 - s6kpts_output_MeanAbsoluteRatio: 0.6115 - s6kpts_output_analog_recall: 0.6105 - val_loss: 0.0933 - val_s1pafs_output_loss: 0.0030 - val_s2pafs_output_loss: 0.0028 - val_s3pafs_output_loss: 0.0027 - val_s4pafs_output_loss: 0.0027 - val_s5kpts_output_loss: 0.0188 - val_s6kpts_output_loss: 0.0188 - val_s1pafs_output_MeanAbsolute: 0.0373 - val_s1pafs_output_MeanAbsoluteRatio: 1.0087 - val_s1pafs_output_analog_recall: 0.8523 - val_s2pafs_output_MeanAbsolute: 0.0375 - val_s2pafs_output_MeanAbsoluteRatio: 1.0120 - val_s2pafs_output_analog_recall: 0.8599 - val_s3pafs_output_MeanAbsolute: 0.0377 - val_s3pafs_output_MeanAbsoluteRatio: 1.0173 - val_s3pafs_output_analog_recall: 0.8615 - val_s4pafs_output_MeanAbsolute: 0.0374 - val_s4pafs_output_MeanAbsoluteRatio: 1.0091 - val_s4pafs_output_analog_recall: 0.8710 - val_s5kpts_output_MeanAbsolute: 0.0505 - val_s5kpts_output_MeanAbsoluteRatio: 0.5942 - val_s5kpts_output_analog_recall: 0.5932 - val_s6kpts_output_MeanAbsolute: 0.0505 - val_s6kpts_output_MeanAbsoluteRatio: 0.5942 - val_s6kpts_output_analog_recall: 0.5932\n",
      "\n",
      "Learning rate for epoch 149 is 0.0010000000474974513\n",
      "Epoch 150/262\n",
      "50/50 [==============================] - 46s 925ms/step - loss: 0.0874 - s1pafs_output_loss: 0.0028 - s2pafs_output_loss: 0.0026 - s3pafs_output_loss: 0.0024 - s4pafs_output_loss: 0.0024 - s5kpts_output_loss: 0.0181 - s6kpts_output_loss: 0.0181 - s1pafs_output_MeanAbsolute: 0.0366 - s1pafs_output_MeanAbsoluteRatio: 0.9919 - s1pafs_output_analog_recall: 0.8537 - s2pafs_output_MeanAbsolute: 0.0366 - s2pafs_output_MeanAbsoluteRatio: 0.9901 - s2pafs_output_analog_recall: 0.8663 - s3pafs_output_MeanAbsolute: 0.0366 - s3pafs_output_MeanAbsoluteRatio: 0.9905 - s3pafs_output_analog_recall: 0.8724 - s4pafs_output_MeanAbsolute: 0.0365 - s4pafs_output_MeanAbsoluteRatio: 0.9883 - s4pafs_output_analog_recall: 0.8763 - s5kpts_output_MeanAbsolute: 0.0510 - s5kpts_output_MeanAbsoluteRatio: 0.6048 - s5kpts_output_analog_recall: 0.6038 - s6kpts_output_MeanAbsolute: 0.0510 - s6kpts_output_MeanAbsoluteRatio: 0.6048 - s6kpts_output_analog_recall: 0.6038 - val_loss: 0.0935 - val_s1pafs_output_loss: 0.0030 - val_s2pafs_output_loss: 0.0028 - val_s3pafs_output_loss: 0.0027 - val_s4pafs_output_loss: 0.0027 - val_s5kpts_output_loss: 0.0188 - val_s6kpts_output_loss: 0.0188 - val_s1pafs_output_MeanAbsolute: 0.0360 - val_s1pafs_output_MeanAbsoluteRatio: 0.9735 - val_s1pafs_output_analog_recall: 0.8500 - val_s2pafs_output_MeanAbsolute: 0.0362 - val_s2pafs_output_MeanAbsoluteRatio: 0.9764 - val_s2pafs_output_analog_recall: 0.8564 - val_s3pafs_output_MeanAbsolute: 0.0356 - val_s3pafs_output_MeanAbsoluteRatio: 0.9616 - val_s3pafs_output_analog_recall: 0.8641 - val_s4pafs_output_MeanAbsolute: 0.0350 - val_s4pafs_output_MeanAbsoluteRatio: 0.9446 - val_s4pafs_output_analog_recall: 0.8619 - val_s5kpts_output_MeanAbsolute: 0.0505 - val_s5kpts_output_MeanAbsoluteRatio: 0.5942 - val_s5kpts_output_analog_recall: 0.5932 - val_s6kpts_output_MeanAbsolute: 0.0505 - val_s6kpts_output_MeanAbsoluteRatio: 0.5942 - val_s6kpts_output_analog_recall: 0.5932\n",
      "\n",
      "Learning rate for epoch 150 is 0.0010000000474974513\n",
      "Epoch 151/262\n",
      "50/50 [==============================] - 39s 786ms/step - loss: 0.0857 - s1pafs_output_loss: 0.0027 - s2pafs_output_loss: 0.0025 - s3pafs_output_loss: 0.0024 - s4pafs_output_loss: 0.0024 - s5kpts_output_loss: 0.0179 - s6kpts_output_loss: 0.0179 - s1pafs_output_MeanAbsolute: 0.0364 - s1pafs_output_MeanAbsoluteRatio: 0.9911 - s1pafs_output_analog_recall: 0.8554 - s2pafs_output_MeanAbsolute: 0.0364 - s2pafs_output_MeanAbsoluteRatio: 0.9902 - s2pafs_output_analog_recall: 0.8683 - s3pafs_output_MeanAbsolute: 0.0363 - s3pafs_output_MeanAbsoluteRatio: 0.9876 - s3pafs_output_analog_recall: 0.8750 - s4pafs_output_MeanAbsolute: 0.0362 - s4pafs_output_MeanAbsoluteRatio: 0.9857 - s4pafs_output_analog_recall: 0.8781 - s5kpts_output_MeanAbsolute: 0.0511 - s5kpts_output_MeanAbsoluteRatio: 0.6085 - s5kpts_output_analog_recall: 0.6076 - s6kpts_output_MeanAbsolute: 0.0511 - s6kpts_output_MeanAbsoluteRatio: 0.6085 - s6kpts_output_analog_recall: 0.6076 - val_loss: 0.0925 - val_s1pafs_output_loss: 0.0030 - val_s2pafs_output_loss: 0.0028 - val_s3pafs_output_loss: 0.0026 - val_s4pafs_output_loss: 0.0026 - val_s5kpts_output_loss: 0.0188 - val_s6kpts_output_loss: 0.0188 - val_s1pafs_output_MeanAbsolute: 0.0372 - val_s1pafs_output_MeanAbsoluteRatio: 1.0045 - val_s1pafs_output_analog_recall: 0.8549 - val_s2pafs_output_MeanAbsolute: 0.0371 - val_s2pafs_output_MeanAbsoluteRatio: 1.0015 - val_s2pafs_output_analog_recall: 0.8598 - val_s3pafs_output_MeanAbsolute: 0.0368 - val_s3pafs_output_MeanAbsoluteRatio: 0.9932 - val_s3pafs_output_analog_recall: 0.8698 - val_s4pafs_output_MeanAbsolute: 0.0363 - val_s4pafs_output_MeanAbsoluteRatio: 0.9793 - val_s4pafs_output_analog_recall: 0.8712 - val_s5kpts_output_MeanAbsolute: 0.0505 - val_s5kpts_output_MeanAbsoluteRatio: 0.5942 - val_s5kpts_output_analog_recall: 0.5932 - val_s6kpts_output_MeanAbsolute: 0.0505 - val_s6kpts_output_MeanAbsoluteRatio: 0.5942 - val_s6kpts_output_analog_recall: 0.5932\n",
      "\n",
      "Learning rate for epoch 151 is 0.0010000000474974513\n",
      "Epoch 152/262\n"
     ]
    },
    {
     "name": "stdout",
     "output_type": "stream",
     "text": [
      "50/50 [==============================] - 41s 829ms/step - loss: 0.0844 - s1pafs_output_loss: 0.0027 - s2pafs_output_loss: 0.0025 - s3pafs_output_loss: 0.0023 - s4pafs_output_loss: 0.0023 - s5kpts_output_loss: 0.0177 - s6kpts_output_loss: 0.0177 - s1pafs_output_MeanAbsolute: 0.0364 - s1pafs_output_MeanAbsoluteRatio: 0.9924 - s1pafs_output_analog_recall: 0.8574 - s2pafs_output_MeanAbsolute: 0.0364 - s2pafs_output_MeanAbsoluteRatio: 0.9913 - s2pafs_output_analog_recall: 0.8694 - s3pafs_output_MeanAbsolute: 0.0364 - s3pafs_output_MeanAbsoluteRatio: 0.9914 - s3pafs_output_analog_recall: 0.8765 - s4pafs_output_MeanAbsolute: 0.0362 - s4pafs_output_MeanAbsoluteRatio: 0.9875 - s4pafs_output_analog_recall: 0.8795 - s5kpts_output_MeanAbsolute: 0.0511 - s5kpts_output_MeanAbsoluteRatio: 0.6114 - s5kpts_output_analog_recall: 0.6105 - s6kpts_output_MeanAbsolute: 0.0511 - s6kpts_output_MeanAbsoluteRatio: 0.6114 - s6kpts_output_analog_recall: 0.6105 - val_loss: 0.0928 - val_s1pafs_output_loss: 0.0030 - val_s2pafs_output_loss: 0.0028 - val_s3pafs_output_loss: 0.0026 - val_s4pafs_output_loss: 0.0026 - val_s5kpts_output_loss: 0.0188 - val_s6kpts_output_loss: 0.0188 - val_s1pafs_output_MeanAbsolute: 0.0375 - val_s1pafs_output_MeanAbsoluteRatio: 1.0125 - val_s1pafs_output_analog_recall: 0.8468 - val_s2pafs_output_MeanAbsolute: 0.0372 - val_s2pafs_output_MeanAbsoluteRatio: 1.0056 - val_s2pafs_output_analog_recall: 0.8535 - val_s3pafs_output_MeanAbsolute: 0.0370 - val_s3pafs_output_MeanAbsoluteRatio: 0.9984 - val_s3pafs_output_analog_recall: 0.8643 - val_s4pafs_output_MeanAbsolute: 0.0367 - val_s4pafs_output_MeanAbsoluteRatio: 0.9921 - val_s4pafs_output_analog_recall: 0.8674 - val_s5kpts_output_MeanAbsolute: 0.0505 - val_s5kpts_output_MeanAbsoluteRatio: 0.5942 - val_s5kpts_output_analog_recall: 0.5932 - val_s6kpts_output_MeanAbsolute: 0.0505 - val_s6kpts_output_MeanAbsoluteRatio: 0.5942 - val_s6kpts_output_analog_recall: 0.5932\n",
      "\n",
      "Learning rate for epoch 152 is 0.0010000000474974513\n",
      "Epoch 153/262\n",
      "26/50 [==============>...............] - ETA: 24s - loss: 0.0859 - s1pafs_output_loss: 0.0028 - s2pafs_output_loss: 0.0025 - s3pafs_output_loss: 0.0024 - s4pafs_output_loss: 0.0023 - s5kpts_output_loss: 0.0180 - s6kpts_output_loss: 0.0180 - s1pafs_output_MeanAbsolute: 0.0364 - s1pafs_output_MeanAbsoluteRatio: 0.9902 - s1pafs_output_analog_recall: 0.8573 - s2pafs_output_MeanAbsolute: 0.0365 - s2pafs_output_MeanAbsoluteRatio: 0.9916 - s2pafs_output_analog_recall: 0.8670 - s3pafs_output_MeanAbsolute: 0.0364 - s3pafs_output_MeanAbsoluteRatio: 0.9905 - s3pafs_output_analog_recall: 0.8751 - s4pafs_output_MeanAbsolute: 0.0363 - s4pafs_output_MeanAbsoluteRatio: 0.9871 - s4pafs_output_analog_recall: 0.8791 - s5kpts_output_MeanAbsolute: 0.0510 - s5kpts_output_MeanAbsoluteRatio: 0.6080 - s5kpts_output_analog_recall: 0.6071 - s6kpts_output_MeanAbsolute: 0.0510 - s6kpts_output_MeanAbsoluteRatio: 0.6080 - s6kpts_output_analog_recall: 0.6071\n",
      "Epoch 00153: saving model to gs://dl_training_results/checkpoints/model814Sat1219-0149/-E0153.ckpt\n",
      "50/50 [==============================] - 66s 1s/step - loss: 0.0850 - s1pafs_output_loss: 0.0027 - s2pafs_output_loss: 0.0025 - s3pafs_output_loss: 0.0024 - s4pafs_output_loss: 0.0023 - s5kpts_output_loss: 0.0178 - s6kpts_output_loss: 0.0178 - s1pafs_output_MeanAbsolute: 0.0365 - s1pafs_output_MeanAbsoluteRatio: 0.9906 - s1pafs_output_analog_recall: 0.8573 - s2pafs_output_MeanAbsolute: 0.0365 - s2pafs_output_MeanAbsoluteRatio: 0.9906 - s2pafs_output_analog_recall: 0.8691 - s3pafs_output_MeanAbsolute: 0.0365 - s3pafs_output_MeanAbsoluteRatio: 0.9901 - s3pafs_output_analog_recall: 0.8760 - s4pafs_output_MeanAbsolute: 0.0364 - s4pafs_output_MeanAbsoluteRatio: 0.9884 - s4pafs_output_analog_recall: 0.8792 - s5kpts_output_MeanAbsolute: 0.0511 - s5kpts_output_MeanAbsoluteRatio: 0.6105 - s5kpts_output_analog_recall: 0.6096 - s6kpts_output_MeanAbsolute: 0.0511 - s6kpts_output_MeanAbsoluteRatio: 0.6105 - s6kpts_output_analog_recall: 0.6096 - val_loss: 0.0922 - val_s1pafs_output_loss: 0.0030 - val_s2pafs_output_loss: 0.0027 - val_s3pafs_output_loss: 0.0026 - val_s4pafs_output_loss: 0.0026 - val_s5kpts_output_loss: 0.0188 - val_s6kpts_output_loss: 0.0188 - val_s1pafs_output_MeanAbsolute: 0.0371 - val_s1pafs_output_MeanAbsoluteRatio: 1.0034 - val_s1pafs_output_analog_recall: 0.8483 - val_s2pafs_output_MeanAbsolute: 0.0372 - val_s2pafs_output_MeanAbsoluteRatio: 1.0038 - val_s2pafs_output_analog_recall: 0.8658 - val_s3pafs_output_MeanAbsolute: 0.0376 - val_s3pafs_output_MeanAbsoluteRatio: 1.0150 - val_s3pafs_output_analog_recall: 0.8737 - val_s4pafs_output_MeanAbsolute: 0.0377 - val_s4pafs_output_MeanAbsoluteRatio: 1.0179 - val_s4pafs_output_analog_recall: 0.8700 - val_s5kpts_output_MeanAbsolute: 0.0505 - val_s5kpts_output_MeanAbsoluteRatio: 0.5942 - val_s5kpts_output_analog_recall: 0.5932 - val_s6kpts_output_MeanAbsolute: 0.0505 - val_s6kpts_output_MeanAbsoluteRatio: 0.5942 - val_s6kpts_output_analog_recall: 0.5932\n",
      "\n",
      "Learning rate for epoch 153 is 0.0010000000474974513\n",
      "Epoch 154/262\n",
      "50/50 [==============================] - 38s 766ms/step - loss: 0.0852 - s1pafs_output_loss: 0.0027 - s2pafs_output_loss: 0.0025 - s3pafs_output_loss: 0.0024 - s4pafs_output_loss: 0.0023 - s5kpts_output_loss: 0.0178 - s6kpts_output_loss: 0.0178 - s1pafs_output_MeanAbsolute: 0.0364 - s1pafs_output_MeanAbsoluteRatio: 0.9898 - s1pafs_output_analog_recall: 0.8575 - s2pafs_output_MeanAbsolute: 0.0364 - s2pafs_output_MeanAbsoluteRatio: 0.9904 - s2pafs_output_analog_recall: 0.8690 - s3pafs_output_MeanAbsolute: 0.0364 - s3pafs_output_MeanAbsoluteRatio: 0.9905 - s3pafs_output_analog_recall: 0.8751 - s4pafs_output_MeanAbsolute: 0.0363 - s4pafs_output_MeanAbsoluteRatio: 0.9875 - s4pafs_output_analog_recall: 0.8784 - s5kpts_output_MeanAbsolute: 0.0511 - s5kpts_output_MeanAbsoluteRatio: 0.6110 - s5kpts_output_analog_recall: 0.6101 - s6kpts_output_MeanAbsolute: 0.0511 - s6kpts_output_MeanAbsoluteRatio: 0.6110 - s6kpts_output_analog_recall: 0.6101 - val_loss: 0.0922 - val_s1pafs_output_loss: 0.0030 - val_s2pafs_output_loss: 0.0027 - val_s3pafs_output_loss: 0.0026 - val_s4pafs_output_loss: 0.0026 - val_s5kpts_output_loss: 0.0188 - val_s6kpts_output_loss: 0.0188 - val_s1pafs_output_MeanAbsolute: 0.0365 - val_s1pafs_output_MeanAbsoluteRatio: 0.9860 - val_s1pafs_output_analog_recall: 0.8457 - val_s2pafs_output_MeanAbsolute: 0.0364 - val_s2pafs_output_MeanAbsoluteRatio: 0.9824 - val_s2pafs_output_analog_recall: 0.8574 - val_s3pafs_output_MeanAbsolute: 0.0359 - val_s3pafs_output_MeanAbsoluteRatio: 0.9690 - val_s3pafs_output_analog_recall: 0.8662 - val_s4pafs_output_MeanAbsolute: 0.0355 - val_s4pafs_output_MeanAbsoluteRatio: 0.9594 - val_s4pafs_output_analog_recall: 0.8614 - val_s5kpts_output_MeanAbsolute: 0.0505 - val_s5kpts_output_MeanAbsoluteRatio: 0.5942 - val_s5kpts_output_analog_recall: 0.5932 - val_s6kpts_output_MeanAbsolute: 0.0505 - val_s6kpts_output_MeanAbsoluteRatio: 0.5942 - val_s6kpts_output_analog_recall: 0.5932\n",
      "\n",
      "Learning rate for epoch 154 is 0.0010000000474974513\n",
      "Epoch 155/262\n",
      "50/50 [==============================] - 40s 802ms/step - loss: 0.0876 - s1pafs_output_loss: 0.0028 - s2pafs_output_loss: 0.0026 - s3pafs_output_loss: 0.0024 - s4pafs_output_loss: 0.0024 - s5kpts_output_loss: 0.0183 - s6kpts_output_loss: 0.0183 - s1pafs_output_MeanAbsolute: 0.0368 - s1pafs_output_MeanAbsoluteRatio: 0.9915 - s1pafs_output_analog_recall: 0.8524 - s2pafs_output_MeanAbsolute: 0.0368 - s2pafs_output_MeanAbsoluteRatio: 0.9913 - s2pafs_output_analog_recall: 0.8649 - s3pafs_output_MeanAbsolute: 0.0366 - s3pafs_output_MeanAbsoluteRatio: 0.9874 - s3pafs_output_analog_recall: 0.8737 - s4pafs_output_MeanAbsolute: 0.0366 - s4pafs_output_MeanAbsoluteRatio: 0.9863 - s4pafs_output_analog_recall: 0.8761 - s5kpts_output_MeanAbsolute: 0.0511 - s5kpts_output_MeanAbsoluteRatio: 0.6033 - s5kpts_output_analog_recall: 0.6023 - s6kpts_output_MeanAbsolute: 0.0511 - s6kpts_output_MeanAbsoluteRatio: 0.6033 - s6kpts_output_analog_recall: 0.6023 - val_loss: 0.0927 - val_s1pafs_output_loss: 0.0030 - val_s2pafs_output_loss: 0.0028 - val_s3pafs_output_loss: 0.0026 - val_s4pafs_output_loss: 0.0026 - val_s5kpts_output_loss: 0.0188 - val_s6kpts_output_loss: 0.0188 - val_s1pafs_output_MeanAbsolute: 0.0378 - val_s1pafs_output_MeanAbsoluteRatio: 1.0208 - val_s1pafs_output_analog_recall: 0.8530 - val_s2pafs_output_MeanAbsolute: 0.0375 - val_s2pafs_output_MeanAbsoluteRatio: 1.0133 - val_s2pafs_output_analog_recall: 0.8590 - val_s3pafs_output_MeanAbsolute: 0.0372 - val_s3pafs_output_MeanAbsoluteRatio: 1.0036 - val_s3pafs_output_analog_recall: 0.8695 - val_s4pafs_output_MeanAbsolute: 0.0368 - val_s4pafs_output_MeanAbsoluteRatio: 0.9945 - val_s4pafs_output_analog_recall: 0.8695 - val_s5kpts_output_MeanAbsolute: 0.0505 - val_s5kpts_output_MeanAbsoluteRatio: 0.5942 - val_s5kpts_output_analog_recall: 0.5932 - val_s6kpts_output_MeanAbsolute: 0.0505 - val_s6kpts_output_MeanAbsoluteRatio: 0.5942 - val_s6kpts_output_analog_recall: 0.5932\n"
     ]
    },
    {
     "name": "stdout",
     "output_type": "stream",
     "text": [
      "\n",
      "Learning rate for epoch 155 is 0.0010000000474974513\n",
      "Epoch 156/262\n",
      "50/50 [==============================] - 47s 934ms/step - loss: 0.0858 - s1pafs_output_loss: 0.0028 - s2pafs_output_loss: 0.0025 - s3pafs_output_loss: 0.0024 - s4pafs_output_loss: 0.0024 - s5kpts_output_loss: 0.0179 - s6kpts_output_loss: 0.0179 - s1pafs_output_MeanAbsolute: 0.0367 - s1pafs_output_MeanAbsoluteRatio: 0.9942 - s1pafs_output_analog_recall: 0.8548 - s2pafs_output_MeanAbsolute: 0.0367 - s2pafs_output_MeanAbsoluteRatio: 0.9941 - s2pafs_output_analog_recall: 0.8669 - s3pafs_output_MeanAbsolute: 0.0365 - s3pafs_output_MeanAbsoluteRatio: 0.9907 - s3pafs_output_analog_recall: 0.8743 - s4pafs_output_MeanAbsolute: 0.0365 - s4pafs_output_MeanAbsoluteRatio: 0.9893 - s4pafs_output_analog_recall: 0.8766 - s5kpts_output_MeanAbsolute: 0.0511 - s5kpts_output_MeanAbsoluteRatio: 0.6086 - s5kpts_output_analog_recall: 0.6076 - s6kpts_output_MeanAbsolute: 0.0511 - s6kpts_output_MeanAbsoluteRatio: 0.6086 - s6kpts_output_analog_recall: 0.6076 - val_loss: 0.0921 - val_s1pafs_output_loss: 0.0030 - val_s2pafs_output_loss: 0.0027 - val_s3pafs_output_loss: 0.0026 - val_s4pafs_output_loss: 0.0026 - val_s5kpts_output_loss: 0.0188 - val_s6kpts_output_loss: 0.0188 - val_s1pafs_output_MeanAbsolute: 0.0366 - val_s1pafs_output_MeanAbsoluteRatio: 0.9896 - val_s1pafs_output_analog_recall: 0.8422 - val_s2pafs_output_MeanAbsolute: 0.0363 - val_s2pafs_output_MeanAbsoluteRatio: 0.9819 - val_s2pafs_output_analog_recall: 0.8571 - val_s3pafs_output_MeanAbsolute: 0.0359 - val_s3pafs_output_MeanAbsoluteRatio: 0.9697 - val_s3pafs_output_analog_recall: 0.8598 - val_s4pafs_output_MeanAbsolute: 0.0358 - val_s4pafs_output_MeanAbsoluteRatio: 0.9668 - val_s4pafs_output_analog_recall: 0.8614 - val_s5kpts_output_MeanAbsolute: 0.0505 - val_s5kpts_output_MeanAbsoluteRatio: 0.5942 - val_s5kpts_output_analog_recall: 0.5932 - val_s6kpts_output_MeanAbsolute: 0.0505 - val_s6kpts_output_MeanAbsoluteRatio: 0.5942 - val_s6kpts_output_analog_recall: 0.5932\n",
      "\n",
      "Learning rate for epoch 156 is 0.0010000000474974513\n",
      "Epoch 157/262\n",
      "50/50 [==============================] - 46s 911ms/step - loss: 0.0845 - s1pafs_output_loss: 0.0027 - s2pafs_output_loss: 0.0025 - s3pafs_output_loss: 0.0023 - s4pafs_output_loss: 0.0023 - s5kpts_output_loss: 0.0176 - s6kpts_output_loss: 0.0176 - s1pafs_output_MeanAbsolute: 0.0365 - s1pafs_output_MeanAbsoluteRatio: 0.9928 - s1pafs_output_analog_recall: 0.8564 - s2pafs_output_MeanAbsolute: 0.0364 - s2pafs_output_MeanAbsoluteRatio: 0.9905 - s2pafs_output_analog_recall: 0.8686 - s3pafs_output_MeanAbsolute: 0.0363 - s3pafs_output_MeanAbsoluteRatio: 0.9890 - s3pafs_output_analog_recall: 0.8754 - s4pafs_output_MeanAbsolute: 0.0362 - s4pafs_output_MeanAbsoluteRatio: 0.9860 - s4pafs_output_analog_recall: 0.8795 - s5kpts_output_MeanAbsolute: 0.0512 - s5kpts_output_MeanAbsoluteRatio: 0.6125 - s5kpts_output_analog_recall: 0.6116 - s6kpts_output_MeanAbsolute: 0.0512 - s6kpts_output_MeanAbsoluteRatio: 0.6125 - s6kpts_output_analog_recall: 0.6116 - val_loss: 0.0918 - val_s1pafs_output_loss: 0.0030 - val_s2pafs_output_loss: 0.0027 - val_s3pafs_output_loss: 0.0026 - val_s4pafs_output_loss: 0.0026 - val_s5kpts_output_loss: 0.0188 - val_s6kpts_output_loss: 0.0188 - val_s1pafs_output_MeanAbsolute: 0.0367 - val_s1pafs_output_MeanAbsoluteRatio: 0.9907 - val_s1pafs_output_analog_recall: 0.8449 - val_s2pafs_output_MeanAbsolute: 0.0368 - val_s2pafs_output_MeanAbsoluteRatio: 0.9954 - val_s2pafs_output_analog_recall: 0.8583 - val_s3pafs_output_MeanAbsolute: 0.0374 - val_s3pafs_output_MeanAbsoluteRatio: 1.0113 - val_s3pafs_output_analog_recall: 0.8692 - val_s4pafs_output_MeanAbsolute: 0.0373 - val_s4pafs_output_MeanAbsoluteRatio: 1.0082 - val_s4pafs_output_analog_recall: 0.8632 - val_s5kpts_output_MeanAbsolute: 0.0505 - val_s5kpts_output_MeanAbsoluteRatio: 0.5942 - val_s5kpts_output_analog_recall: 0.5932 - val_s6kpts_output_MeanAbsolute: 0.0505 - val_s6kpts_output_MeanAbsoluteRatio: 0.5942 - val_s6kpts_output_analog_recall: 0.5932\n",
      "\n",
      "Learning rate for epoch 157 is 0.0010000000474974513\n",
      "Epoch 158/262\n",
      "50/50 [==============================] - 45s 896ms/step - loss: 0.0858 - s1pafs_output_loss: 0.0028 - s2pafs_output_loss: 0.0025 - s3pafs_output_loss: 0.0024 - s4pafs_output_loss: 0.0023 - s5kpts_output_loss: 0.0179 - s6kpts_output_loss: 0.0179 - s1pafs_output_MeanAbsolute: 0.0365 - s1pafs_output_MeanAbsoluteRatio: 0.9924 - s1pafs_output_analog_recall: 0.8540 - s2pafs_output_MeanAbsolute: 0.0364 - s2pafs_output_MeanAbsoluteRatio: 0.9897 - s2pafs_output_analog_recall: 0.8685 - s3pafs_output_MeanAbsolute: 0.0364 - s3pafs_output_MeanAbsoluteRatio: 0.9896 - s3pafs_output_analog_recall: 0.8747 - s4pafs_output_MeanAbsolute: 0.0364 - s4pafs_output_MeanAbsoluteRatio: 0.9886 - s4pafs_output_analog_recall: 0.8776 - s5kpts_output_MeanAbsolute: 0.0510 - s5kpts_output_MeanAbsoluteRatio: 0.6076 - s5kpts_output_analog_recall: 0.6067 - s6kpts_output_MeanAbsolute: 0.0510 - s6kpts_output_MeanAbsoluteRatio: 0.6076 - s6kpts_output_analog_recall: 0.6067 - val_loss: 0.0926 - val_s1pafs_output_loss: 0.0030 - val_s2pafs_output_loss: 0.0028 - val_s3pafs_output_loss: 0.0026 - val_s4pafs_output_loss: 0.0026 - val_s5kpts_output_loss: 0.0188 - val_s6kpts_output_loss: 0.0188 - val_s1pafs_output_MeanAbsolute: 0.0370 - val_s1pafs_output_MeanAbsoluteRatio: 0.9992 - val_s1pafs_output_analog_recall: 0.8552 - val_s2pafs_output_MeanAbsolute: 0.0371 - val_s2pafs_output_MeanAbsoluteRatio: 1.0019 - val_s2pafs_output_analog_recall: 0.8615 - val_s3pafs_output_MeanAbsolute: 0.0372 - val_s3pafs_output_MeanAbsoluteRatio: 1.0034 - val_s3pafs_output_analog_recall: 0.8659 - val_s4pafs_output_MeanAbsolute: 0.0369 - val_s4pafs_output_MeanAbsoluteRatio: 0.9956 - val_s4pafs_output_analog_recall: 0.8694 - val_s5kpts_output_MeanAbsolute: 0.0505 - val_s5kpts_output_MeanAbsoluteRatio: 0.5942 - val_s5kpts_output_analog_recall: 0.5932 - val_s6kpts_output_MeanAbsolute: 0.0505 - val_s6kpts_output_MeanAbsoluteRatio: 0.5942 - val_s6kpts_output_analog_recall: 0.5932\n",
      "\n",
      "Learning rate for epoch 158 is 0.0010000000474974513\n",
      "Epoch 159/262\n",
      "50/50 [==============================] - 45s 904ms/step - loss: 0.0852 - s1pafs_output_loss: 0.0027 - s2pafs_output_loss: 0.0025 - s3pafs_output_loss: 0.0024 - s4pafs_output_loss: 0.0023 - s5kpts_output_loss: 0.0179 - s6kpts_output_loss: 0.0179 - s1pafs_output_MeanAbsolute: 0.0366 - s1pafs_output_MeanAbsoluteRatio: 0.9949 - s1pafs_output_analog_recall: 0.8545 - s2pafs_output_MeanAbsolute: 0.0365 - s2pafs_output_MeanAbsoluteRatio: 0.9913 - s2pafs_output_analog_recall: 0.8675 - s3pafs_output_MeanAbsolute: 0.0364 - s3pafs_output_MeanAbsoluteRatio: 0.9903 - s3pafs_output_analog_recall: 0.8748 - s4pafs_output_MeanAbsolute: 0.0363 - s4pafs_output_MeanAbsoluteRatio: 0.9879 - s4pafs_output_analog_recall: 0.8780 - s5kpts_output_MeanAbsolute: 0.0511 - s5kpts_output_MeanAbsoluteRatio: 0.6090 - s5kpts_output_analog_recall: 0.6080 - s6kpts_output_MeanAbsolute: 0.0511 - s6kpts_output_MeanAbsoluteRatio: 0.6090 - s6kpts_output_analog_recall: 0.6080 - val_loss: 0.0930 - val_s1pafs_output_loss: 0.0030 - val_s2pafs_output_loss: 0.0028 - val_s3pafs_output_loss: 0.0027 - val_s4pafs_output_loss: 0.0026 - val_s5kpts_output_loss: 0.0188 - val_s6kpts_output_loss: 0.0188 - val_s1pafs_output_MeanAbsolute: 0.0367 - val_s1pafs_output_MeanAbsoluteRatio: 0.9914 - val_s1pafs_output_analog_recall: 0.8451 - val_s2pafs_output_MeanAbsolute: 0.0367 - val_s2pafs_output_MeanAbsoluteRatio: 0.9901 - val_s2pafs_output_analog_recall: 0.8609 - val_s3pafs_output_MeanAbsolute: 0.0364 - val_s3pafs_output_MeanAbsoluteRatio: 0.9829 - val_s3pafs_output_analog_recall: 0.8714 - val_s4pafs_output_MeanAbsolute: 0.0362 - val_s4pafs_output_MeanAbsoluteRatio: 0.9787 - val_s4pafs_output_analog_recall: 0.8676 - val_s5kpts_output_MeanAbsolute: 0.0505 - val_s5kpts_output_MeanAbsoluteRatio: 0.5942 - val_s5kpts_output_analog_recall: 0.5932 - val_s6kpts_output_MeanAbsolute: 0.0505 - val_s6kpts_output_MeanAbsoluteRatio: 0.5942 - val_s6kpts_output_analog_recall: 0.5932\n",
      "\n",
      "Learning rate for epoch 159 is 0.0010000000474974513\n",
      "Epoch 160/262\n"
     ]
    },
    {
     "name": "stdout",
     "output_type": "stream",
     "text": [
      "50/50 [==============================] - 40s 790ms/step - loss: 0.0849 - s1pafs_output_loss: 0.0027 - s2pafs_output_loss: 0.0025 - s3pafs_output_loss: 0.0023 - s4pafs_output_loss: 0.0023 - s5kpts_output_loss: 0.0179 - s6kpts_output_loss: 0.0179 - s1pafs_output_MeanAbsolute: 0.0364 - s1pafs_output_MeanAbsoluteRatio: 0.9916 - s1pafs_output_analog_recall: 0.8586 - s2pafs_output_MeanAbsolute: 0.0365 - s2pafs_output_MeanAbsoluteRatio: 0.9925 - s2pafs_output_analog_recall: 0.8696 - s3pafs_output_MeanAbsolute: 0.0364 - s3pafs_output_MeanAbsoluteRatio: 0.9898 - s3pafs_output_analog_recall: 0.8766 - s4pafs_output_MeanAbsolute: 0.0363 - s4pafs_output_MeanAbsoluteRatio: 0.9875 - s4pafs_output_analog_recall: 0.8793 - s5kpts_output_MeanAbsolute: 0.0511 - s5kpts_output_MeanAbsoluteRatio: 0.6083 - s5kpts_output_analog_recall: 0.6073 - s6kpts_output_MeanAbsolute: 0.0511 - s6kpts_output_MeanAbsoluteRatio: 0.6083 - s6kpts_output_analog_recall: 0.6073 - val_loss: 0.0918 - val_s1pafs_output_loss: 0.0030 - val_s2pafs_output_loss: 0.0027 - val_s3pafs_output_loss: 0.0026 - val_s4pafs_output_loss: 0.0026 - val_s5kpts_output_loss: 0.0188 - val_s6kpts_output_loss: 0.0188 - val_s1pafs_output_MeanAbsolute: 0.0369 - val_s1pafs_output_MeanAbsoluteRatio: 0.9962 - val_s1pafs_output_analog_recall: 0.8485 - val_s2pafs_output_MeanAbsolute: 0.0367 - val_s2pafs_output_MeanAbsoluteRatio: 0.9911 - val_s2pafs_output_analog_recall: 0.8571 - val_s3pafs_output_MeanAbsolute: 0.0364 - val_s3pafs_output_MeanAbsoluteRatio: 0.9838 - val_s3pafs_output_analog_recall: 0.8608 - val_s4pafs_output_MeanAbsolute: 0.0364 - val_s4pafs_output_MeanAbsoluteRatio: 0.9826 - val_s4pafs_output_analog_recall: 0.8684 - val_s5kpts_output_MeanAbsolute: 0.0505 - val_s5kpts_output_MeanAbsoluteRatio: 0.5942 - val_s5kpts_output_analog_recall: 0.5932 - val_s6kpts_output_MeanAbsolute: 0.0505 - val_s6kpts_output_MeanAbsoluteRatio: 0.5942 - val_s6kpts_output_analog_recall: 0.5932\n",
      "\n",
      "Learning rate for epoch 160 is 0.0010000000474974513\n",
      "Epoch 161/262\n",
      "50/50 [==============================] - 55s 1s/step - loss: 0.0856 - s1pafs_output_loss: 0.0027 - s2pafs_output_loss: 0.0025 - s3pafs_output_loss: 0.0024 - s4pafs_output_loss: 0.0024 - s5kpts_output_loss: 0.0179 - s6kpts_output_loss: 0.0179 - s1pafs_output_MeanAbsolute: 0.0365 - s1pafs_output_MeanAbsoluteRatio: 0.9931 - s1pafs_output_analog_recall: 0.8542 - s2pafs_output_MeanAbsolute: 0.0365 - s2pafs_output_MeanAbsoluteRatio: 0.9929 - s2pafs_output_analog_recall: 0.8670 - s3pafs_output_MeanAbsolute: 0.0364 - s3pafs_output_MeanAbsoluteRatio: 0.9910 - s3pafs_output_analog_recall: 0.8740 - s4pafs_output_MeanAbsolute: 0.0363 - s4pafs_output_MeanAbsoluteRatio: 0.9883 - s4pafs_output_analog_recall: 0.8776 - s5kpts_output_MeanAbsolute: 0.0511 - s5kpts_output_MeanAbsoluteRatio: 0.6092 - s5kpts_output_analog_recall: 0.6083 - s6kpts_output_MeanAbsolute: 0.0511 - s6kpts_output_MeanAbsoluteRatio: 0.6092 - s6kpts_output_analog_recall: 0.6083 - val_loss: 0.0927 - val_s1pafs_output_loss: 0.0030 - val_s2pafs_output_loss: 0.0027 - val_s3pafs_output_loss: 0.0026 - val_s4pafs_output_loss: 0.0026 - val_s5kpts_output_loss: 0.0188 - val_s6kpts_output_loss: 0.0188 - val_s1pafs_output_MeanAbsolute: 0.0375 - val_s1pafs_output_MeanAbsoluteRatio: 1.0137 - val_s1pafs_output_analog_recall: 0.8554 - val_s2pafs_output_MeanAbsolute: 0.0373 - val_s2pafs_output_MeanAbsoluteRatio: 1.0069 - val_s2pafs_output_analog_recall: 0.8593 - val_s3pafs_output_MeanAbsolute: 0.0369 - val_s3pafs_output_MeanAbsoluteRatio: 0.9962 - val_s3pafs_output_analog_recall: 0.8609 - val_s4pafs_output_MeanAbsolute: 0.0374 - val_s4pafs_output_MeanAbsoluteRatio: 1.0102 - val_s4pafs_output_analog_recall: 0.8646 - val_s5kpts_output_MeanAbsolute: 0.0505 - val_s5kpts_output_MeanAbsoluteRatio: 0.5942 - val_s5kpts_output_analog_recall: 0.5932 - val_s6kpts_output_MeanAbsolute: 0.0505 - val_s6kpts_output_MeanAbsoluteRatio: 0.5942 - val_s6kpts_output_analog_recall: 0.5932\n",
      "\n",
      "Learning rate for epoch 161 is 0.0010000000474974513\n",
      "Epoch 162/262\n",
      "14/50 [=======>......................] - ETA: 33s - loss: 0.0836 - s1pafs_output_loss: 0.0027 - s2pafs_output_loss: 0.0024 - s3pafs_output_loss: 0.0023 - s4pafs_output_loss: 0.0023 - s5kpts_output_loss: 0.0174 - s6kpts_output_loss: 0.0174 - s1pafs_output_MeanAbsolute: 0.0365 - s1pafs_output_MeanAbsoluteRatio: 0.9961 - s1pafs_output_analog_recall: 0.8596 - s2pafs_output_MeanAbsolute: 0.0364 - s2pafs_output_MeanAbsoluteRatio: 0.9956 - s2pafs_output_analog_recall: 0.8682 - s3pafs_output_MeanAbsolute: 0.0364 - s3pafs_output_MeanAbsoluteRatio: 0.9934 - s3pafs_output_analog_recall: 0.8771 - s4pafs_output_MeanAbsolute: 0.0363 - s4pafs_output_MeanAbsoluteRatio: 0.9922 - s4pafs_output_analog_recall: 0.8785 - s5kpts_output_MeanAbsolute: 0.0511 - s5kpts_output_MeanAbsoluteRatio: 0.6141 - s5kpts_output_analog_recall: 0.6132 - s6kpts_output_MeanAbsolute: 0.0511 - s6kpts_output_MeanAbsoluteRatio: 0.6141 - s6kpts_output_analog_recall: 0.6132\n",
      "Epoch 00162: saving model to gs://dl_training_results/checkpoints/model814Sat1219-0149/-E0162.ckpt\n",
      "50/50 [==============================] - 52s 1s/step - loss: 0.0843 - s1pafs_output_loss: 0.0027 - s2pafs_output_loss: 0.0025 - s3pafs_output_loss: 0.0023 - s4pafs_output_loss: 0.0023 - s5kpts_output_loss: 0.0177 - s6kpts_output_loss: 0.0177 - s1pafs_output_MeanAbsolute: 0.0366 - s1pafs_output_MeanAbsoluteRatio: 0.9929 - s1pafs_output_analog_recall: 0.8595 - s2pafs_output_MeanAbsolute: 0.0366 - s2pafs_output_MeanAbsoluteRatio: 0.9929 - s2pafs_output_analog_recall: 0.8688 - s3pafs_output_MeanAbsolute: 0.0365 - s3pafs_output_MeanAbsoluteRatio: 0.9905 - s3pafs_output_analog_recall: 0.8766 - s4pafs_output_MeanAbsolute: 0.0364 - s4pafs_output_MeanAbsoluteRatio: 0.9880 - s4pafs_output_analog_recall: 0.8793 - s5kpts_output_MeanAbsolute: 0.0512 - s5kpts_output_MeanAbsoluteRatio: 0.6122 - s5kpts_output_analog_recall: 0.6113 - s6kpts_output_MeanAbsolute: 0.0512 - s6kpts_output_MeanAbsoluteRatio: 0.6122 - s6kpts_output_analog_recall: 0.6113 - val_loss: 0.0925 - val_s1pafs_output_loss: 0.0030 - val_s2pafs_output_loss: 0.0027 - val_s3pafs_output_loss: 0.0026 - val_s4pafs_output_loss: 0.0026 - val_s5kpts_output_loss: 0.0188 - val_s6kpts_output_loss: 0.0188 - val_s1pafs_output_MeanAbsolute: 0.0367 - val_s1pafs_output_MeanAbsoluteRatio: 0.9910 - val_s1pafs_output_analog_recall: 0.8498 - val_s2pafs_output_MeanAbsolute: 0.0370 - val_s2pafs_output_MeanAbsoluteRatio: 0.9995 - val_s2pafs_output_analog_recall: 0.8620 - val_s3pafs_output_MeanAbsolute: 0.0376 - val_s3pafs_output_MeanAbsoluteRatio: 1.0147 - val_s3pafs_output_analog_recall: 0.8767 - val_s4pafs_output_MeanAbsolute: 0.0382 - val_s4pafs_output_MeanAbsoluteRatio: 1.0324 - val_s4pafs_output_analog_recall: 0.8772 - val_s5kpts_output_MeanAbsolute: 0.0505 - val_s5kpts_output_MeanAbsoluteRatio: 0.5942 - val_s5kpts_output_analog_recall: 0.5932 - val_s6kpts_output_MeanAbsolute: 0.0505 - val_s6kpts_output_MeanAbsoluteRatio: 0.5942 - val_s6kpts_output_analog_recall: 0.5932\n",
      "\n",
      "Learning rate for epoch 162 is 0.0010000000474974513\n",
      "Epoch 163/262\n",
      "50/50 [==============================] - 44s 877ms/step - loss: 0.0851 - s1pafs_output_loss: 0.0027 - s2pafs_output_loss: 0.0025 - s3pafs_output_loss: 0.0024 - s4pafs_output_loss: 0.0023 - s5kpts_output_loss: 0.0178 - s6kpts_output_loss: 0.0178 - s1pafs_output_MeanAbsolute: 0.0365 - s1pafs_output_MeanAbsoluteRatio: 0.9917 - s1pafs_output_analog_recall: 0.8548 - s2pafs_output_MeanAbsolute: 0.0365 - s2pafs_output_MeanAbsoluteRatio: 0.9919 - s2pafs_output_analog_recall: 0.8693 - s3pafs_output_MeanAbsolute: 0.0365 - s3pafs_output_MeanAbsoluteRatio: 0.9914 - s3pafs_output_analog_recall: 0.8759 - s4pafs_output_MeanAbsolute: 0.0364 - s4pafs_output_MeanAbsoluteRatio: 0.9903 - s4pafs_output_analog_recall: 0.8788 - s5kpts_output_MeanAbsolute: 0.0511 - s5kpts_output_MeanAbsoluteRatio: 0.6101 - s5kpts_output_analog_recall: 0.6092 - s6kpts_output_MeanAbsolute: 0.0511 - s6kpts_output_MeanAbsoluteRatio: 0.6101 - s6kpts_output_analog_recall: 0.6092 - val_loss: 0.0921 - val_s1pafs_output_loss: 0.0030 - val_s2pafs_output_loss: 0.0027 - val_s3pafs_output_loss: 0.0026 - val_s4pafs_output_loss: 0.0026 - val_s5kpts_output_loss: 0.0188 - val_s6kpts_output_loss: 0.0188 - val_s1pafs_output_MeanAbsolute: 0.0368 - val_s1pafs_output_MeanAbsoluteRatio: 0.9953 - val_s1pafs_output_analog_recall: 0.8430 - val_s2pafs_output_MeanAbsolute: 0.0370 - val_s2pafs_output_MeanAbsoluteRatio: 0.9997 - val_s2pafs_output_analog_recall: 0.8554 - val_s3pafs_output_MeanAbsolute: 0.0365 - val_s3pafs_output_MeanAbsoluteRatio: 0.9864 - val_s3pafs_output_analog_recall: 0.8670 - val_s4pafs_output_MeanAbsolute: 0.0359 - val_s4pafs_output_MeanAbsoluteRatio: 0.9686 - val_s4pafs_output_analog_recall: 0.8644 - val_s5kpts_output_MeanAbsolute: 0.0505 - val_s5kpts_output_MeanAbsoluteRatio: 0.5942 - val_s5kpts_output_analog_recall: 0.5932 - val_s6kpts_output_MeanAbsolute: 0.0505 - val_s6kpts_output_MeanAbsoluteRatio: 0.5942 - val_s6kpts_output_analog_recall: 0.5932\n"
     ]
    },
    {
     "name": "stdout",
     "output_type": "stream",
     "text": [
      "\n",
      "Learning rate for epoch 163 is 0.0010000000474974513\n",
      "Epoch 164/262\n",
      "50/50 [==============================] - 39s 788ms/step - loss: 0.0868 - s1pafs_output_loss: 0.0028 - s2pafs_output_loss: 0.0025 - s3pafs_output_loss: 0.0024 - s4pafs_output_loss: 0.0023 - s5kpts_output_loss: 0.0183 - s6kpts_output_loss: 0.0183 - s1pafs_output_MeanAbsolute: 0.0369 - s1pafs_output_MeanAbsoluteRatio: 0.9944 - s1pafs_output_analog_recall: 0.8548 - s2pafs_output_MeanAbsolute: 0.0367 - s2pafs_output_MeanAbsoluteRatio: 0.9907 - s2pafs_output_analog_recall: 0.8673 - s3pafs_output_MeanAbsolute: 0.0367 - s3pafs_output_MeanAbsoluteRatio: 0.9905 - s3pafs_output_analog_recall: 0.8740 - s4pafs_output_MeanAbsolute: 0.0366 - s4pafs_output_MeanAbsoluteRatio: 0.9870 - s4pafs_output_analog_recall: 0.8786 - s5kpts_output_MeanAbsolute: 0.0511 - s5kpts_output_MeanAbsoluteRatio: 0.6038 - s5kpts_output_analog_recall: 0.6029 - s6kpts_output_MeanAbsolute: 0.0511 - s6kpts_output_MeanAbsoluteRatio: 0.6038 - s6kpts_output_analog_recall: 0.6029 - val_loss: 0.0914 - val_s1pafs_output_loss: 0.0030 - val_s2pafs_output_loss: 0.0027 - val_s3pafs_output_loss: 0.0026 - val_s4pafs_output_loss: 0.0025 - val_s5kpts_output_loss: 0.0188 - val_s6kpts_output_loss: 0.0188 - val_s1pafs_output_MeanAbsolute: 0.0367 - val_s1pafs_output_MeanAbsoluteRatio: 0.9926 - val_s1pafs_output_analog_recall: 0.8527 - val_s2pafs_output_MeanAbsolute: 0.0365 - val_s2pafs_output_MeanAbsoluteRatio: 0.9860 - val_s2pafs_output_analog_recall: 0.8697 - val_s3pafs_output_MeanAbsolute: 0.0364 - val_s3pafs_output_MeanAbsoluteRatio: 0.9820 - val_s3pafs_output_analog_recall: 0.8735 - val_s4pafs_output_MeanAbsolute: 0.0362 - val_s4pafs_output_MeanAbsoluteRatio: 0.9781 - val_s4pafs_output_analog_recall: 0.8690 - val_s5kpts_output_MeanAbsolute: 0.0505 - val_s5kpts_output_MeanAbsoluteRatio: 0.5942 - val_s5kpts_output_analog_recall: 0.5932 - val_s6kpts_output_MeanAbsolute: 0.0505 - val_s6kpts_output_MeanAbsoluteRatio: 0.5942 - val_s6kpts_output_analog_recall: 0.5932\n",
      "\n",
      "Learning rate for epoch 164 is 0.0010000000474974513\n",
      "Epoch 165/262\n",
      "50/50 [==============================] - 45s 893ms/step - loss: 0.0855 - s1pafs_output_loss: 0.0028 - s2pafs_output_loss: 0.0025 - s3pafs_output_loss: 0.0024 - s4pafs_output_loss: 0.0023 - s5kpts_output_loss: 0.0179 - s6kpts_output_loss: 0.0179 - s1pafs_output_MeanAbsolute: 0.0365 - s1pafs_output_MeanAbsoluteRatio: 0.9909 - s1pafs_output_analog_recall: 0.8557 - s2pafs_output_MeanAbsolute: 0.0366 - s2pafs_output_MeanAbsoluteRatio: 0.9910 - s2pafs_output_analog_recall: 0.8689 - s3pafs_output_MeanAbsolute: 0.0365 - s3pafs_output_MeanAbsoluteRatio: 0.9901 - s3pafs_output_analog_recall: 0.8750 - s4pafs_output_MeanAbsolute: 0.0364 - s4pafs_output_MeanAbsoluteRatio: 0.9876 - s4pafs_output_analog_recall: 0.8781 - s5kpts_output_MeanAbsolute: 0.0511 - s5kpts_output_MeanAbsoluteRatio: 0.6079 - s5kpts_output_analog_recall: 0.6070 - s6kpts_output_MeanAbsolute: 0.0511 - s6kpts_output_MeanAbsoluteRatio: 0.6079 - s6kpts_output_analog_recall: 0.6070 - val_loss: 0.0917 - val_s1pafs_output_loss: 0.0030 - val_s2pafs_output_loss: 0.0027 - val_s3pafs_output_loss: 0.0026 - val_s4pafs_output_loss: 0.0026 - val_s5kpts_output_loss: 0.0188 - val_s6kpts_output_loss: 0.0188 - val_s1pafs_output_MeanAbsolute: 0.0368 - val_s1pafs_output_MeanAbsoluteRatio: 0.9929 - val_s1pafs_output_analog_recall: 0.8512 - val_s2pafs_output_MeanAbsolute: 0.0365 - val_s2pafs_output_MeanAbsoluteRatio: 0.9851 - val_s2pafs_output_analog_recall: 0.8668 - val_s3pafs_output_MeanAbsolute: 0.0363 - val_s3pafs_output_MeanAbsoluteRatio: 0.9795 - val_s3pafs_output_analog_recall: 0.8728 - val_s4pafs_output_MeanAbsolute: 0.0359 - val_s4pafs_output_MeanAbsoluteRatio: 0.9687 - val_s4pafs_output_analog_recall: 0.8775 - val_s5kpts_output_MeanAbsolute: 0.0505 - val_s5kpts_output_MeanAbsoluteRatio: 0.5942 - val_s5kpts_output_analog_recall: 0.5932 - val_s6kpts_output_MeanAbsolute: 0.0505 - val_s6kpts_output_MeanAbsoluteRatio: 0.5942 - val_s6kpts_output_analog_recall: 0.5932\n",
      "\n",
      "Learning rate for epoch 165 is 0.0010000000474974513\n",
      "Epoch 166/262\n",
      "13/50 [======>.......................] - ETA: 33s - loss: 0.0809 - s1pafs_output_loss: 0.0026 - s2pafs_output_loss: 0.0023 - s3pafs_output_loss: 0.0022 - s4pafs_output_loss: 0.0022 - s5kpts_output_loss: 0.0172 - s6kpts_output_loss: 0.0172 - s1pafs_output_MeanAbsolute: 0.0362 - s1pafs_output_MeanAbsoluteRatio: 0.9905 - s1pafs_output_analog_recall: 0.8599 - s2pafs_output_MeanAbsolute: 0.0361 - s2pafs_output_MeanAbsoluteRatio: 0.9890 - s2pafs_output_analog_recall: 0.8731 - s3pafs_output_MeanAbsolute: 0.0360 - s3pafs_output_MeanAbsoluteRatio: 0.9867 - s3pafs_output_analog_recall: 0.8804 - s4pafs_output_MeanAbsolute: 0.0360 - s4pafs_output_MeanAbsoluteRatio: 0.9849 - s4pafs_output_analog_recall: 0.8845 - s5kpts_output_MeanAbsolute: 0.0512 - s5kpts_output_MeanAbsoluteRatio: 0.6174 - s5kpts_output_analog_recall: 0.6165 - s6kpts_output_MeanAbsolute: 0.0512 - s6kpts_output_MeanAbsoluteRatio: 0.6174 - s6kpts_output_analog_recall: 0.6165"
     ]
    },
    {
     "ename": "KeyboardInterrupt",
     "evalue": "",
     "output_type": "error",
     "traceback": [
      "\u001b[0;31m---------------------------------------------------------------------------\u001b[0m",
      "\u001b[0;31mKeyboardInterrupt\u001b[0m                         Traceback (most recent call last)",
      "\u001b[0;32m<ipython-input-32-71435bf579e5>\u001b[0m in \u001b[0;36m<module>\u001b[0;34m\u001b[0m\n\u001b[1;32m      6\u001b[0m     \u001b[0;34m,\u001b[0m\u001b[0mvalidation_data\u001b[0m\u001b[0;34m=\u001b[0m\u001b[0mdsv\u001b[0m\u001b[0;34m\u001b[0m\u001b[0m\n\u001b[1;32m      7\u001b[0m     \u001b[0;34m,\u001b[0m\u001b[0mcallbacks\u001b[0m\u001b[0;34m=\u001b[0m\u001b[0mall_callbacks\u001b[0m\u001b[0;34m\u001b[0m\u001b[0m\n\u001b[0;32m----> 8\u001b[0;31m     \u001b[0;34m,\u001b[0m\u001b[0minitial_epoch\u001b[0m\u001b[0;34m=\u001b[0m\u001b[0mstarting_epoch\u001b[0m\u001b[0;34m\u001b[0m\u001b[0m\n\u001b[0m\u001b[1;32m      9\u001b[0m )\n",
      "\u001b[0;32m/usr/local/lib/python3.5/dist-packages/tensorflow_core/python/keras/engine/training.py\u001b[0m in \u001b[0;36mfit\u001b[0;34m(self, x, y, batch_size, epochs, verbose, callbacks, validation_split, validation_data, shuffle, class_weight, sample_weight, initial_epoch, steps_per_epoch, validation_steps, validation_freq, max_queue_size, workers, use_multiprocessing, **kwargs)\u001b[0m\n\u001b[1;32m    795\u001b[0m         \u001b[0mmax_queue_size\u001b[0m\u001b[0;34m=\u001b[0m\u001b[0mmax_queue_size\u001b[0m\u001b[0;34m,\u001b[0m\u001b[0;34m\u001b[0m\u001b[0m\n\u001b[1;32m    796\u001b[0m         \u001b[0mworkers\u001b[0m\u001b[0;34m=\u001b[0m\u001b[0mworkers\u001b[0m\u001b[0;34m,\u001b[0m\u001b[0;34m\u001b[0m\u001b[0m\n\u001b[0;32m--> 797\u001b[0;31m         use_multiprocessing=use_multiprocessing)\n\u001b[0m\u001b[1;32m    798\u001b[0m \u001b[0;34m\u001b[0m\u001b[0m\n\u001b[1;32m    799\u001b[0m   def evaluate(self,\n",
      "\u001b[0;32m/usr/local/lib/python3.5/dist-packages/tensorflow_core/python/keras/engine/training_v2.py\u001b[0m in \u001b[0;36mfit\u001b[0;34m(self, model, x, y, batch_size, epochs, verbose, callbacks, validation_split, validation_data, shuffle, class_weight, sample_weight, initial_epoch, steps_per_epoch, validation_steps, validation_freq, max_queue_size, workers, use_multiprocessing, **kwargs)\u001b[0m\n\u001b[1;32m    340\u001b[0m                 \u001b[0mmode\u001b[0m\u001b[0;34m=\u001b[0m\u001b[0mModeKeys\u001b[0m\u001b[0;34m.\u001b[0m\u001b[0mTRAIN\u001b[0m\u001b[0;34m,\u001b[0m\u001b[0;34m\u001b[0m\u001b[0m\n\u001b[1;32m    341\u001b[0m                 \u001b[0mtraining_context\u001b[0m\u001b[0;34m=\u001b[0m\u001b[0mtraining_context\u001b[0m\u001b[0;34m,\u001b[0m\u001b[0;34m\u001b[0m\u001b[0m\n\u001b[0;32m--> 342\u001b[0;31m                 total_epochs=epochs)\n\u001b[0m\u001b[1;32m    343\u001b[0m             \u001b[0mcbks\u001b[0m\u001b[0;34m.\u001b[0m\u001b[0mmake_logs\u001b[0m\u001b[0;34m(\u001b[0m\u001b[0mmodel\u001b[0m\u001b[0;34m,\u001b[0m \u001b[0mepoch_logs\u001b[0m\u001b[0;34m,\u001b[0m \u001b[0mtraining_result\u001b[0m\u001b[0;34m,\u001b[0m \u001b[0mModeKeys\u001b[0m\u001b[0;34m.\u001b[0m\u001b[0mTRAIN\u001b[0m\u001b[0;34m)\u001b[0m\u001b[0;34m\u001b[0m\u001b[0m\n\u001b[1;32m    344\u001b[0m \u001b[0;34m\u001b[0m\u001b[0m\n",
      "\u001b[0;32m/usr/local/lib/python3.5/dist-packages/tensorflow_core/python/keras/engine/training_v2.py\u001b[0m in \u001b[0;36mrun_one_epoch\u001b[0;34m(model, iterator, execution_function, dataset_size, batch_size, strategy, steps_per_epoch, num_samples, mode, training_context, total_epochs)\u001b[0m\n\u001b[1;32m    126\u001b[0m         step=step, mode=mode, size=current_batch_size) as batch_logs:\n\u001b[1;32m    127\u001b[0m       \u001b[0;32mtry\u001b[0m\u001b[0;34m:\u001b[0m\u001b[0;34m\u001b[0m\u001b[0m\n\u001b[0;32m--> 128\u001b[0;31m         \u001b[0mbatch_outs\u001b[0m \u001b[0;34m=\u001b[0m \u001b[0mexecution_function\u001b[0m\u001b[0;34m(\u001b[0m\u001b[0miterator\u001b[0m\u001b[0;34m)\u001b[0m\u001b[0;34m\u001b[0m\u001b[0m\n\u001b[0m\u001b[1;32m    129\u001b[0m       \u001b[0;32mexcept\u001b[0m \u001b[0;34m(\u001b[0m\u001b[0mStopIteration\u001b[0m\u001b[0;34m,\u001b[0m \u001b[0merrors\u001b[0m\u001b[0;34m.\u001b[0m\u001b[0mOutOfRangeError\u001b[0m\u001b[0;34m)\u001b[0m\u001b[0;34m:\u001b[0m\u001b[0;34m\u001b[0m\u001b[0m\n\u001b[1;32m    130\u001b[0m         \u001b[0;31m# TODO(kaftan): File bug about tf function and errors.OutOfRangeError?\u001b[0m\u001b[0;34m\u001b[0m\u001b[0;34m\u001b[0m\u001b[0m\n",
      "\u001b[0;32m/usr/local/lib/python3.5/dist-packages/tensorflow_core/python/keras/engine/training_v2_utils.py\u001b[0m in \u001b[0;36mexecution_function\u001b[0;34m(input_fn)\u001b[0m\n\u001b[1;32m     96\u001b[0m     \u001b[0;31m# `numpy` translates Tensors to values in Eager mode.\u001b[0m\u001b[0;34m\u001b[0m\u001b[0;34m\u001b[0m\u001b[0m\n\u001b[1;32m     97\u001b[0m     return nest.map_structure(_non_none_constant_value,\n\u001b[0;32m---> 98\u001b[0;31m                               distributed_function(input_fn))\n\u001b[0m\u001b[1;32m     99\u001b[0m \u001b[0;34m\u001b[0m\u001b[0m\n\u001b[1;32m    100\u001b[0m   \u001b[0;32mreturn\u001b[0m \u001b[0mexecution_function\u001b[0m\u001b[0;34m\u001b[0m\u001b[0m\n",
      "\u001b[0;32m/usr/local/lib/python3.5/dist-packages/tensorflow_core/python/util/nest.py\u001b[0m in \u001b[0;36mmap_structure\u001b[0;34m(func, *structure, **kwargs)\u001b[0m\n\u001b[1;32m    566\u001b[0m \u001b[0;34m\u001b[0m\u001b[0m\n\u001b[1;32m    567\u001b[0m   return pack_sequence_as(\n\u001b[0;32m--> 568\u001b[0;31m       \u001b[0mstructure\u001b[0m\u001b[0;34m[\u001b[0m\u001b[0;36m0\u001b[0m\u001b[0;34m]\u001b[0m\u001b[0;34m,\u001b[0m \u001b[0;34m[\u001b[0m\u001b[0mfunc\u001b[0m\u001b[0;34m(\u001b[0m\u001b[0;34m*\u001b[0m\u001b[0mx\u001b[0m\u001b[0;34m)\u001b[0m \u001b[0;32mfor\u001b[0m \u001b[0mx\u001b[0m \u001b[0;32min\u001b[0m \u001b[0mentries\u001b[0m\u001b[0;34m]\u001b[0m\u001b[0;34m,\u001b[0m\u001b[0;34m\u001b[0m\u001b[0m\n\u001b[0m\u001b[1;32m    569\u001b[0m       expand_composites=expand_composites)\n\u001b[1;32m    570\u001b[0m \u001b[0;34m\u001b[0m\u001b[0m\n",
      "\u001b[0;32m/usr/local/lib/python3.5/dist-packages/tensorflow_core/python/util/nest.py\u001b[0m in \u001b[0;36m<listcomp>\u001b[0;34m(.0)\u001b[0m\n\u001b[1;32m    566\u001b[0m \u001b[0;34m\u001b[0m\u001b[0m\n\u001b[1;32m    567\u001b[0m   return pack_sequence_as(\n\u001b[0;32m--> 568\u001b[0;31m       \u001b[0mstructure\u001b[0m\u001b[0;34m[\u001b[0m\u001b[0;36m0\u001b[0m\u001b[0;34m]\u001b[0m\u001b[0;34m,\u001b[0m \u001b[0;34m[\u001b[0m\u001b[0mfunc\u001b[0m\u001b[0;34m(\u001b[0m\u001b[0;34m*\u001b[0m\u001b[0mx\u001b[0m\u001b[0;34m)\u001b[0m \u001b[0;32mfor\u001b[0m \u001b[0mx\u001b[0m \u001b[0;32min\u001b[0m \u001b[0mentries\u001b[0m\u001b[0;34m]\u001b[0m\u001b[0;34m,\u001b[0m\u001b[0;34m\u001b[0m\u001b[0m\n\u001b[0m\u001b[1;32m    569\u001b[0m       expand_composites=expand_composites)\n\u001b[1;32m    570\u001b[0m \u001b[0;34m\u001b[0m\u001b[0m\n",
      "\u001b[0;32m/usr/local/lib/python3.5/dist-packages/tensorflow_core/python/keras/engine/training_v2_utils.py\u001b[0m in \u001b[0;36m_non_none_constant_value\u001b[0;34m(v)\u001b[0m\n\u001b[1;32m    126\u001b[0m \u001b[0;34m\u001b[0m\u001b[0m\n\u001b[1;32m    127\u001b[0m \u001b[0;32mdef\u001b[0m \u001b[0m_non_none_constant_value\u001b[0m\u001b[0;34m(\u001b[0m\u001b[0mv\u001b[0m\u001b[0;34m)\u001b[0m\u001b[0;34m:\u001b[0m\u001b[0;34m\u001b[0m\u001b[0m\n\u001b[0;32m--> 128\u001b[0;31m   \u001b[0mconstant_value\u001b[0m \u001b[0;34m=\u001b[0m \u001b[0mtensor_util\u001b[0m\u001b[0;34m.\u001b[0m\u001b[0mconstant_value\u001b[0m\u001b[0;34m(\u001b[0m\u001b[0mv\u001b[0m\u001b[0;34m)\u001b[0m\u001b[0;34m\u001b[0m\u001b[0m\n\u001b[0m\u001b[1;32m    129\u001b[0m   \u001b[0;32mreturn\u001b[0m \u001b[0mconstant_value\u001b[0m \u001b[0;32mif\u001b[0m \u001b[0mconstant_value\u001b[0m \u001b[0;32mis\u001b[0m \u001b[0;32mnot\u001b[0m \u001b[0;32mNone\u001b[0m \u001b[0;32melse\u001b[0m \u001b[0mv\u001b[0m\u001b[0;34m\u001b[0m\u001b[0m\n\u001b[1;32m    130\u001b[0m \u001b[0;34m\u001b[0m\u001b[0m\n",
      "\u001b[0;32m/usr/local/lib/python3.5/dist-packages/tensorflow_core/python/framework/tensor_util.py\u001b[0m in \u001b[0;36mconstant_value\u001b[0;34m(tensor, partial)\u001b[0m\n\u001b[1;32m    820\u001b[0m   \"\"\"\n\u001b[1;32m    821\u001b[0m   \u001b[0;32mif\u001b[0m \u001b[0misinstance\u001b[0m\u001b[0;34m(\u001b[0m\u001b[0mtensor\u001b[0m\u001b[0;34m,\u001b[0m \u001b[0mops\u001b[0m\u001b[0;34m.\u001b[0m\u001b[0mEagerTensor\u001b[0m\u001b[0;34m)\u001b[0m\u001b[0;34m:\u001b[0m\u001b[0;34m\u001b[0m\u001b[0m\n\u001b[0;32m--> 822\u001b[0;31m     \u001b[0;32mreturn\u001b[0m \u001b[0mtensor\u001b[0m\u001b[0;34m.\u001b[0m\u001b[0mnumpy\u001b[0m\u001b[0;34m(\u001b[0m\u001b[0;34m)\u001b[0m\u001b[0;34m\u001b[0m\u001b[0m\n\u001b[0m\u001b[1;32m    823\u001b[0m   \u001b[0;32mif\u001b[0m \u001b[0;32mnot\u001b[0m \u001b[0mis_tensor\u001b[0m\u001b[0;34m(\u001b[0m\u001b[0mtensor\u001b[0m\u001b[0;34m)\u001b[0m\u001b[0;34m:\u001b[0m\u001b[0;34m\u001b[0m\u001b[0m\n\u001b[1;32m    824\u001b[0m     \u001b[0;32mreturn\u001b[0m \u001b[0mtensor\u001b[0m\u001b[0;34m\u001b[0m\u001b[0m\n",
      "\u001b[0;32m/usr/local/lib/python3.5/dist-packages/tensorflow_core/python/framework/ops.py\u001b[0m in \u001b[0;36mnumpy\u001b[0;34m(self)\u001b[0m\n\u001b[1;32m    940\u001b[0m     \"\"\"\n\u001b[1;32m    941\u001b[0m     \u001b[0;31m# TODO(slebedev): Consider avoiding a copy for non-CPU or remote tensors.\u001b[0m\u001b[0;34m\u001b[0m\u001b[0;34m\u001b[0m\u001b[0m\n\u001b[0;32m--> 942\u001b[0;31m     \u001b[0mmaybe_arr\u001b[0m \u001b[0;34m=\u001b[0m \u001b[0mself\u001b[0m\u001b[0;34m.\u001b[0m\u001b[0m_numpy\u001b[0m\u001b[0;34m(\u001b[0m\u001b[0;34m)\u001b[0m  \u001b[0;31m# pylint: disable=protected-access\u001b[0m\u001b[0;34m\u001b[0m\u001b[0m\n\u001b[0m\u001b[1;32m    943\u001b[0m     \u001b[0;32mreturn\u001b[0m \u001b[0mmaybe_arr\u001b[0m\u001b[0;34m.\u001b[0m\u001b[0mcopy\u001b[0m\u001b[0;34m(\u001b[0m\u001b[0;34m)\u001b[0m \u001b[0;32mif\u001b[0m \u001b[0misinstance\u001b[0m\u001b[0;34m(\u001b[0m\u001b[0mmaybe_arr\u001b[0m\u001b[0;34m,\u001b[0m \u001b[0mnp\u001b[0m\u001b[0;34m.\u001b[0m\u001b[0mndarray\u001b[0m\u001b[0;34m)\u001b[0m \u001b[0;32melse\u001b[0m \u001b[0mmaybe_arr\u001b[0m\u001b[0;34m\u001b[0m\u001b[0m\n\u001b[1;32m    944\u001b[0m \u001b[0;34m\u001b[0m\u001b[0m\n",
      "\u001b[0;32m/usr/local/lib/python3.5/dist-packages/tensorflow_core/python/framework/ops.py\u001b[0m in \u001b[0;36m_numpy\u001b[0;34m(self)\u001b[0m\n\u001b[1;32m    906\u001b[0m     \u001b[0;31m# pylint: disable=protected-access\u001b[0m\u001b[0;34m\u001b[0m\u001b[0;34m\u001b[0m\u001b[0m\n\u001b[1;32m    907\u001b[0m     \u001b[0;32mtry\u001b[0m\u001b[0;34m:\u001b[0m\u001b[0;34m\u001b[0m\u001b[0m\n\u001b[0;32m--> 908\u001b[0;31m       \u001b[0;32mreturn\u001b[0m \u001b[0mself\u001b[0m\u001b[0;34m.\u001b[0m\u001b[0m_numpy_internal\u001b[0m\u001b[0;34m(\u001b[0m\u001b[0;34m)\u001b[0m\u001b[0;34m\u001b[0m\u001b[0m\n\u001b[0m\u001b[1;32m    909\u001b[0m     \u001b[0;32mexcept\u001b[0m \u001b[0mcore\u001b[0m\u001b[0;34m.\u001b[0m\u001b[0m_NotOkStatusException\u001b[0m \u001b[0;32mas\u001b[0m \u001b[0me\u001b[0m\u001b[0;34m:\u001b[0m\u001b[0;34m\u001b[0m\u001b[0m\n\u001b[1;32m    910\u001b[0m       \u001b[0msix\u001b[0m\u001b[0;34m.\u001b[0m\u001b[0mraise_from\u001b[0m\u001b[0;34m(\u001b[0m\u001b[0mcore\u001b[0m\u001b[0;34m.\u001b[0m\u001b[0m_status_to_exception\u001b[0m\u001b[0;34m(\u001b[0m\u001b[0me\u001b[0m\u001b[0;34m.\u001b[0m\u001b[0mcode\u001b[0m\u001b[0;34m,\u001b[0m \u001b[0me\u001b[0m\u001b[0;34m.\u001b[0m\u001b[0mmessage\u001b[0m\u001b[0;34m)\u001b[0m\u001b[0;34m,\u001b[0m \u001b[0;32mNone\u001b[0m\u001b[0;34m)\u001b[0m\u001b[0;34m\u001b[0m\u001b[0m\n",
      "\u001b[0;31mKeyboardInterrupt\u001b[0m: "
     ]
    }
   ],
   "source": [
    "train_history=train_model.fit(\n",
    "    dst\n",
    "    ,epochs=SHORT_TRAINING_EPOCHS\n",
    "    ,steps_per_epoch=SHORT_EPOCH_STEPS\n",
    "    ,validation_steps=SHORT_VALIDATION_STEPS\n",
    "    ,validation_data=dsv\n",
    "    ,callbacks=all_callbacks\n",
    "    ,initial_epoch=starting_epoch\n",
    ")"
   ]
  },
  {
   "cell_type": "markdown",
   "metadata": {},
   "source": [
    "---\n",
    "### Save results"
   ]
  },
  {
   "cell_type": "code",
   "execution_count": 33,
   "metadata": {
    "pycharm": {
     "is_executing": false
    }
   },
   "outputs": [
    {
     "name": "stdout",
     "output_type": "stream",
     "text": [
      "WARNING:tensorflow:From /usr/local/lib/python3.5/dist-packages/tensorflow_core/python/ops/resource_variable_ops.py:1788: calling BaseResourceVariable.__init__ (from tensorflow.python.ops.resource_variable_ops) with constraint is deprecated and will be removed in a future version.\n",
      "Instructions for updating:\n",
      "If using Keras pass *_constraint arguments to layers.\n"
     ]
    },
    {
     "name": "stderr",
     "output_type": "stream",
     "text": [
      "WARNING:tensorflow:From /usr/local/lib/python3.5/dist-packages/tensorflow_core/python/ops/resource_variable_ops.py:1788: calling BaseResourceVariable.__init__ (from tensorflow.python.ops.resource_variable_ops) with constraint is deprecated and will be removed in a future version.\n",
      "Instructions for updating:\n",
      "If using Keras pass *_constraint arguments to layers.\n"
     ]
    },
    {
     "name": "stdout",
     "output_type": "stream",
     "text": [
      "INFO:tensorflow:Assets written to: gs://dl_training_results/models/test_model814Sat1219-0149/assets\n"
     ]
    },
    {
     "name": "stderr",
     "output_type": "stream",
     "text": [
      "INFO:tensorflow:Assets written to: gs://dl_training_results/models/test_model814Sat1219-0149/assets\n"
     ]
    },
    {
     "name": "stdout",
     "output_type": "stream",
     "text": [
      "INFO:tensorflow:Assets written to: gs://dl_training_results/models/train_model814Sat1219-0149/assets\n"
     ]
    },
    {
     "name": "stderr",
     "output_type": "stream",
     "text": [
      "INFO:tensorflow:Assets written to: gs://dl_training_results/models/train_model814Sat1219-0149/assets\n"
     ]
    }
   ],
   "source": [
    "tmp_path='gs://dl_training_results/tmp/tensorflow/temp_weights'\n",
    "train_model.save_weights(tmp_path)\n",
    "\n",
    "cpu_train_model,cpu_test_model=define()\n",
    "\n",
    "cpu_train_model.load_weights(tmp_path)\n",
    "cpu_test_model.load_weights(tmp_path)\n",
    "\n",
    "cpu_test_model.save(cfg.MODELS_PATH+\"/test_\"+cfg.RUN_NAME+nowt) \n",
    "cpu_train_model.save(cfg.MODELS_PATH+\"/train_\"+cfg.RUN_NAME+nowt) "
   ]
  },
  {
   "cell_type": "markdown",
   "metadata": {},
   "source": [
    "---\n",
    "### Shutdown"
   ]
  },
  {
   "cell_type": "code",
   "execution_count": 34,
   "metadata": {
    "pycharm": {
     "is_executing": false,
     "name": "#%%\n"
    }
   },
   "outputs": [
    {
     "name": "stdout",
     "output_type": "stream",
     "text": [
      "Request issued for: [node-1]\n",
      "Waiting for operation [projects/deeplearning-257902/locations/us-central1-c/ope\n",
      "rations/operation-1576298215119-599a2872c19ff-ad537f82-86b42a89] to complete...\n",
      "done.                                                                          \n",
      "done: true\n",
      "metadata:\n",
      "  '@type': type.googleapis.com/google.cloud.common.OperationMetadata\n",
      "  apiVersion: v1\n",
      "  cancelRequested: false\n",
      "  createTime: '2019-12-14T04:36:55.134856724Z'\n",
      "  endTime: '2019-12-14T04:39:00.594984677Z'\n",
      "  target: projects/deeplearning-257902/locations/us-central1-c/nodes/node-1\n",
      "  verb: update\n",
      "name: projects/deeplearning-257902/locations/us-central1-c/operations/operation-1576298215119-599a2872c19ff-ad537f82-86b42a89\n",
      "response:\n",
      "  '@type': type.googleapis.com/google.cloud.tpu.v1.Node\n",
      "  acceleratorType: v2-8\n",
      "  cidrBlock: 10.0.3.0/29\n",
      "  createTime: '2019-11-26T18:14:01.401101656Z'\n",
      "  health: HEALTHY\n",
      "  ipAddress: 10.0.3.2\n",
      "  name: projects/deeplearning-257902/locations/us-central1-c/nodes/node-1\n",
      "  network: global/networks/default\n",
      "  networkEndpoints:\n",
      "  - ipAddress: 10.0.3.2\n",
      "    port: 8470\n",
      "  port: '8470'\n",
      "  schedulingConfig:\n",
      "    preemptible: true\n",
      "  serviceAccount: service-312164605303@cloud-tpu.iam.gserviceaccount.com\n",
      "  state: STOPPED\n",
      "  tensorflowVersion: nightly-2.x\n"
     ]
    }
   ],
   "source": [
    "#shut down TPU\n",
    "!gcloud compute tpus stop node-1 --zone us-central1-c"
   ]
  },
  {
   "cell_type": "code",
   "execution_count": null,
   "metadata": {
    "pycharm": {
     "is_executing": false
    }
   },
   "outputs": [
    {
     "name": "stdout",
     "output_type": "stream",
     "text": [
      "Stopping instance(s) instance-1...⠧                                            "
     ]
    }
   ],
   "source": [
    "#shut down this host\n",
    "!gcloud compute instances stop instance-1 --zone us-central1-c"
   ]
  },
  {
   "cell_type": "code",
   "execution_count": null,
   "metadata": {},
   "outputs": [],
   "source": []
  }
 ],
 "metadata": {
  "kernelspec": {
   "display_name": "Python 3",
   "language": "python",
   "name": "python3"
  },
  "language_info": {
   "codemirror_mode": {
    "name": "ipython",
    "version": 3
   },
   "file_extension": ".py",
   "mimetype": "text/x-python",
   "name": "python",
   "nbconvert_exporter": "python",
   "pygments_lexer": "ipython3",
   "version": "3.5.3"
  },
  "pycharm": {
   "stem_cell": {
    "cell_type": "raw",
    "source": [],
    "metadata": {
     "collapsed": false
    }
   }
  }
 },
 "nbformat": 4,
 "nbformat_minor": 2
}