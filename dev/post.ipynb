{
 "cells": [
  {
   "cell_type": "code",
   "execution_count": 1,
   "outputs": [],
   "source": [
    "import numpy as np\n",
    "import tensorflow as tf\n",
    "import matplotlib.pyplot as plt\n"
   ],
   "metadata": {
    "collapsed": false,
    "pycharm": {
     "name": "#%%\n",
     "is_executing": false
    }
   }
  },
  {
   "cell_type": "code",
   "execution_count": 28,
   "outputs": [
    {
     "data": {
      "text/plain": "<module 'post' from 'C:\\\\Users\\\\flash\\\\Project\\\\Yet-Another-Openpose-Implmentation\\\\dev\\\\post.py'>"
     },
     "metadata": {},
     "output_type": "execute_result",
     "execution_count": 28
    }
   ],
   "source": [
    "import sys\n",
    "sys.path.append(\".\")\n",
    "import post\n",
    "import importlib\n",
    "importlib.reload(post)"
   ],
   "metadata": {
    "collapsed": false,
    "pycharm": {
     "name": "#%%\n",
     "is_executing": false
    }
   }
  },
  {
   "cell_type": "code",
   "execution_count": 44,
   "outputs": [],
   "source": [
    "HEIGHT=46\n",
    "WIDTH=46\n",
    "y_grid = tf.linspace(0.0, 1.0, HEIGHT)\n",
    "x_grid = tf.linspace(0.0, 1.0, WIDTH)\n",
    "yy, xx = tf.meshgrid(y_grid, x_grid, indexing='ij')  # indexing is a must, otherwise, it's just bizzare!\n",
    "grid = tf.stack((yy, xx), axis=-1)\n",
    "\n",
    "\n",
    "def keypoints_layer(kpts_layer,spot_size):\n",
    "    \"\"\"This transforms a single layer of keypoints (such as 3 keypoints of type 'right shoulder')\n",
    "    the keypoint_distance creates an array of the distances from each keypoint\n",
    "    and this reduces them to a single array by the  of the distances.\n",
    "    :param kpts_layer must be a tf.Tensor of shape (n,3)\"\"\"\n",
    "    layer_dists = tf.map_fn(keypoint_distance, kpts_layer)\n",
    "    all_dists=tf.math.reduce_min(layer_dists, axis=0)\n",
    "    raw = tf.exp((-(all_dists ** 2) / spot_size))\n",
    "    return raw\n",
    "\n",
    "def keypoint_distance(kpt):\n",
    "    \"\"\"This transforms a single keypoint into an array of the distances from the keypoint\n",
    "    :param kpt must be tf.Tensor of shape (x,y,a) where a is either 0,1,2 for missing,invisible and visible\"\"\"\n",
    "    if kpt[2] == tf.constant(0.0):\n",
    "        return tf.ones((HEIGHT, WIDTH), dtype=tf.float32)  # maximum distance incase of empty kpt, not ideal but meh\n",
    "    else:\n",
    "        ortho_dist = grid - kpt[0:2]\n",
    "        return tf.linalg.norm(ortho_dist, axis=-1)\n",
    "\n",
    "def layer_PAF(joints):\n",
    "    \"\"\" Makes a combined PAF for all joints of the same type\n",
    "    and reduces them to a single array by averaging the vectors out\n",
    "    *does not support batched input\n",
    "    :param joints must be a tf.Tensor of shape (n,5)\n",
    "    :return a tensor of shape (LABEL_HEIGHT, LABEL_WIDTH, 2)\"\"\"\n",
    "    layer_PAFS = tf.map_fn(single_PAF, joints)\n",
    "    combined = tf.math.reduce_sum(layer_PAFS, axis=0)  # averages the vectors out to combine the fields in case they intersect\n",
    "    return combined\n",
    "\n",
    "PAF_GAUSSIAN_SIGMA_SQ=0.0015\n",
    "def single_PAF(joint):\n",
    "    \"\"\" Makes a single vector valued PAF (part affinity field) array\n",
    "    *does not support batched input\n",
    "    :return a tensor of shape (LABEL_HEIGHT, LABEL_WIDTH, 2)\n",
    "    \"\"\"\n",
    "    jpts = tf.reshape(joint[0:4], (2, 2))  # reshape to ((x1,y1),(x2,y2))\n",
    "    if joint[4] == tf.constant(0.0) or tf.reduce_all(jpts[1] - jpts[0] == 0.0):\n",
    "        return tf.zeros((HEIGHT, WIDTH, 2), dtype=tf.float32)  # in case of empty joint\n",
    "    else:\n",
    "        # this follows the OpenPose paper of generating the PAFs\n",
    "        vector_full = jpts[1] - jpts[0]  # get the joint vector\n",
    "        vector_length = tf.linalg.norm(vector_full)  # get joint length\n",
    "        vector_hat = vector_full / vector_length  # get joint unit vector\n",
    "        normal_vector = tf.stack((-vector_hat[1], vector_hat[0]))\n",
    "\n",
    "        vectors_from_begin = grid - jpts[0]  # get grid of vectors from first joint point\n",
    "        vectors_from_end = grid - jpts[1]  # get grid of vectors from second joint point\n",
    "\n",
    "        projections = tf.tensordot(vectors_from_begin, vector_hat, 1)  # get projection on the joint unit vector\n",
    "        n_projections = tf.tensordot(vectors_from_begin, normal_vector, 1)  # get projection on the joint normal unit vector\n",
    "\n",
    "        dist_from_begin = tf.linalg.norm(vectors_from_begin, axis=-1)  # get distances from the begining, and end\n",
    "        dist_from_end = tf.linalg.norm(vectors_from_end, axis=-1)\n",
    "\n",
    "        begin_gaussian_mag = tf.exp((-(dist_from_begin ** 2) / PAF_GAUSSIAN_SIGMA_SQ))  # compute gaussian bells\n",
    "        end_gaussian_mag = tf.exp((-(dist_from_end ** 2) / PAF_GAUSSIAN_SIGMA_SQ))\n",
    "        normal_gaussian_mag = tf.exp((-(n_projections ** 2) / PAF_GAUSSIAN_SIGMA_SQ))\n",
    "\n",
    "        limit = (0 <= projections) & (projections <= vector_length)  # cutoff the joint before beginning and after end\n",
    "        limit = tf.cast(limit, tf.float32)\n",
    "        bounded_normal_gaussian_mag = normal_gaussian_mag * limit  # bound the normal distance by the endpoints\n",
    "\n",
    "        max_magnitude = tf.math.reduce_max((begin_gaussian_mag, end_gaussian_mag, bounded_normal_gaussian_mag), axis=0)\n",
    "\n",
    "        vector_mag = tf.stack((max_magnitude, max_magnitude), axis=-1)\n",
    "\n",
    "        result = vector_mag * vector_hat  # broadcast joint direction vector to magnitude field\n",
    "        return result\n"
   ],
   "metadata": {
    "collapsed": false,
    "pycharm": {
     "name": "#%%\n",
     "is_executing": false
    }
   }
  },
  {
   "cell_type": "code",
   "execution_count": 4,
   "outputs": [],
   "source": [
    "kpts_many=[]\n",
    "for i in range(1,10):\n",
    "    for j in range(1,10):\n",
    "        kpts_many.append([i/10.0,j/10.0,2])\n",
    "kpts_many=np.array(kpts_many,dtype=np.float32)"
   ],
   "metadata": {
    "collapsed": false,
    "pycharm": {
     "name": "#%%\n",
     "is_executing": false
    }
   }
  },
  {
   "cell_type": "code",
   "execution_count": 42,
   "outputs": [],
   "source": [
    "sample_81=keypoints_layer(kpts_many,0.001)\n",
    "sample_2=keypoints_layer(np.array(\n",
    "        (\n",
    "                [0.2,0.2,2],\n",
    "                [0.8,0.8,2])\n",
    "        ,dtype=np.float32),0.1)\n",
    "\n",
    "sample=sample_81\n",
    "sample=sample.numpy()\n",
    "# input = sample > 0.5\n",
    "# input=input.numpy()"
   ],
   "metadata": {
    "collapsed": false,
    "pycharm": {
     "name": "#%%\n",
     "is_executing": false
    }
   }
  },
  {
   "cell_type": "code",
   "execution_count": 22,
   "outputs": [
    {
     "data": {
      "text/plain": "<matplotlib.image.AxesImage at 0x23400197f28>"
     },
     "metadata": {},
     "output_type": "execute_result",
     "execution_count": 22
    },
    {
     "data": {
      "text/plain": "<Figure size 432x288 with 1 Axes>",
      "image/png": "[encoded data removed]"
     },
     "metadata": {
      "needs_background": "light"
     },
     "output_type": "display_data"
    }
   ],
   "source": [
    "plt.imshow(sample)"
   ],
   "metadata": {
    "collapsed": false,
    "pycharm": {
     "name": "#%%\n",
     "is_executing": false
    }
   }
  },
  {
   "cell_type": "code",
   "execution_count": 7,
   "outputs": [],
   "source": [
    "##%%timeit\n",
    "# islands,island_hierarchy=post.mark_islands(input)\n",
    "# sorted_island_hierarchy=post.sort_island_hierarchy(island_hierarchy)\n",
    "# peaks,island_max=post.islands_max(sample,islands,sorted_island_hierarchy)\n"
   ],
   "metadata": {
    "collapsed": false,
    "pycharm": {
     "name": "#%%\n",
     "is_executing": false
    }
   }
  },
  {
   "cell_type": "code",
   "execution_count": 38,
   "outputs": [],
   "source": [
    "#np.random.seed(1)\n",
    "inp=np.random.random((100,100)).astype(np.float32)"
   ],
   "metadata": {
    "collapsed": false,
    "pycharm": {
     "name": "#%%\n",
     "is_executing": false
    }
   }
  },
  {
   "cell_type": "code",
   "execution_count": 43,
   "outputs": [
    {
     "name": "stdout",
     "text": [
      "76.8 µs ± 5.3 µs per loop (mean ± std. dev. of 7 runs, 10000 loops each)\n"
     ],
     "output_type": "stream"
    }
   ],
   "source": [
    "%timeit post.find_peaks(sample,0.5)\n"
   ],
   "metadata": {
    "collapsed": false,
    "pycharm": {
     "name": "#%%\n",
     "is_executing": false
    }
   }
  },
  {
   "cell_type": "code",
   "execution_count": null,
   "outputs": [],
   "source": [
    "single_PAF()\n"
   ],
   "metadata": {
    "collapsed": false,
    "pycharm": {
     "name": "#%%\n"
    }
   }
  }
 ],
 "metadata": {
  "kernelspec": {
   "display_name": "Python 3",
   "language": "python",
   "name": "python3"
  },
  "language_info": {
   "codemirror_mode": {
    "name": "ipython",
    "version": 2
   },
   "file_extension": ".py",
   "mimetype": "text/x-python",
   "name": "python",
   "nbconvert_exporter": "python",
   "pygments_lexer": "ipython2",
   "version": "2.7.6"
  },
  "pycharm": {
   "stem_cell": {
    "cell_type": "raw",
    "source": [],
    "metadata": {
     "collapsed": false
    }
   }
  }
 },
 "nbformat": 4,
 "nbformat_minor": 0
}