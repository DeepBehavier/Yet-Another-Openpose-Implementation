{
 "cells": [
  {
   "cell_type": "code",
   "execution_count": 1,
   "outputs": [],
   "source": [
    "import numpy as np\n",
    "import tensorflow as tf\n",
    "import matplotlib.pyplot as plt\n"
   ],
   "metadata": {
    "collapsed": false,
    "pycharm": {
     "name": "#%%\n",
     "is_executing": false
    }
   }
  },
  {
   "cell_type": "code",
   "execution_count": 2,
   "outputs": [
    {
     "data": {
      "text/plain": "<module 'post' from 'C:\\\\Users\\\\flash\\\\Project\\\\Yet-Another-Openpose-Implmentation\\\\dev\\\\post.py'>"
     },
     "metadata": {},
     "output_type": "execute_result",
     "execution_count": 2
    }
   ],
   "source": [
    "import sys\n",
    "sys.path.append(\".\")\n",
    "import post\n",
    "import importlib\n",
    "importlib.reload(post)"
   ],
   "metadata": {
    "collapsed": false,
    "pycharm": {
     "name": "#%%\n",
     "is_executing": false
    }
   }
  },
  {
   "cell_type": "code",
   "execution_count": 3,
   "outputs": [],
   "source": [
    "HEIGHT=46\n",
    "WIDTH=46\n",
    "y_grid = tf.linspace(0.0, 1.0, HEIGHT)\n",
    "x_grid = tf.linspace(0.0, 1.0, WIDTH)\n",
    "yy, xx = tf.meshgrid(y_grid, x_grid, indexing='ij')  # indexing is a must, otherwise, it's just bizzare!\n",
    "grid = tf.stack((yy, xx), axis=-1)\n",
    "\n",
    "\n",
    "def keypoints_layer(kpts_layer):\n",
    "    \"\"\"This transforms a single layer of keypoints (such as 3 keypoints of type 'right shoulder')\n",
    "    the keypoint_distance creates an array of the distances from each keypoint\n",
    "    and this reduces them to a single array by the  of the distances.\n",
    "    :param kpts_layer must be a tf.Tensor of shape (n,3)\"\"\"\n",
    "    layer_dists = tf.map_fn(keypoint_distance, kpts_layer)\n",
    "    all_dists=tf.math.reduce_min(layer_dists, axis=0)\n",
    "    raw = tf.exp((-(all_dists ** 2) / 0.1))\n",
    "    return raw\n",
    "\n",
    "def keypoint_distance(kpt):\n",
    "    \"\"\"This transforms a single keypoint into an array of the distances from the keypoint\n",
    "    :param kpt must be tf.Tensor of shape (x,y,a) where a is either 0,1,2 for missing,invisible and visible\"\"\"\n",
    "    if kpt[2] == tf.constant(0.0):\n",
    "        return tf.ones((HEIGHT, WIDTH), dtype=tf.float32)  # maximum distance incase of empty kpt, not ideal but meh\n",
    "    else:\n",
    "        ortho_dist = grid - kpt[0:2]\n",
    "        return tf.linalg.norm(ortho_dist, axis=-1)"
   ],
   "metadata": {
    "collapsed": false,
    "pycharm": {
     "name": "#%%\n",
     "is_executing": false
    }
   }
  },
  {
   "cell_type": "code",
   "execution_count": 4,
   "outputs": [],
   "source": [
    "kpts=np.array([\n",
    "        [0.3,0.3,2],\n",
    "        [0.7,0.7,2],\n",
    "        ],dtype=np.float32)\n",
    "sample=keypoints_layer(kpts)\n",
    "\n",
    "input = sample > 0.5\n",
    "input=input.numpy()"
   ],
   "metadata": {
    "collapsed": false,
    "pycharm": {
     "name": "#%%\n",
     "is_executing": false
    }
   }
  },
  {
   "cell_type": "code",
   "execution_count": 5,
   "outputs": [],
   "source": [
    "islands,head=post.mark_islands(input)\n",
    "\n"
   ],
   "metadata": {
    "collapsed": false,
    "pycharm": {
     "name": "#%%\n",
     "is_executing": false
    }
   }
  },
  {
   "cell_type": "code",
   "execution_count": 6,
   "outputs": [
    {
     "name": "stdout",
     "text": [
      "43.2 µs ± 3.99 µs per loop (mean ± std. dev. of 7 runs, 10000 loops each)\n"
     ],
     "output_type": "stream"
    }
   ],
   "source": [
    "%timeit post.mark_islands(input)\n"
   ],
   "metadata": {
    "collapsed": false,
    "pycharm": {
     "name": "#%%\n",
     "is_executing": false
    }
   }
  },
  {
   "cell_type": "code",
   "execution_count": 10,
   "outputs": [
    {
     "data": {
      "text/plain": "{1: None,\n 2: 1,\n 3: 2,\n 4: 3,\n 5: 4,\n 6: 5,\n 7: 6,\n 8: 7,\n 9: 8,\n 10: 9,\n 11: 10,\n 12: 11,\n 13: 12,\n 14: 13,\n 15: 14,\n 16: 15,\n 17: None,\n 18: 17,\n 19: 18,\n 20: 19,\n 21: 20,\n 22: 21,\n 23: 22,\n 24: 23,\n 25: 24,\n 26: 25,\n 27: 26,\n 28: 27,\n 29: 28,\n 30: 29,\n 31: 30}"
     },
     "metadata": {},
     "output_type": "execute_result",
     "execution_count": 10
    },
    {
     "data": {
      "text/plain": "<Figure size 432x288 with 1 Axes>",
      "image/png": "[encoded data removed]"
     },
     "metadata": {
      "needs_background": "light"
     },
     "output_type": "display_data"
    }
   ],
   "source": [
    "plt.imshow(islands)\n",
    "head"
   ],
   "metadata": {
    "collapsed": false,
    "pycharm": {
     "name": "#%%\n",
     "is_executing": false
    }
   }
  },
  {
   "cell_type": "code",
   "execution_count": 7,
   "outputs": [],
   "source": [
    "\n"
   ],
   "metadata": {
    "collapsed": false,
    "pycharm": {
     "name": "#%%\n",
     "is_executing": false
    }
   }
  }
 ],
 "metadata": {
  "kernelspec": {
   "display_name": "Python 3",
   "language": "python",
   "name": "python3"
  },
  "language_info": {
   "codemirror_mode": {
    "name": "ipython",
    "version": 2
   },
   "file_extension": ".py",
   "mimetype": "text/x-python",
   "name": "python",
   "nbconvert_exporter": "python",
   "pygments_lexer": "ipython2",
   "version": "2.7.6"
  },
  "pycharm": {
   "stem_cell": {
    "cell_type": "raw",
    "source": [],
    "metadata": {
     "collapsed": false
    }
   }
  }
 },
 "nbformat": 4,
 "nbformat_minor": 0
}