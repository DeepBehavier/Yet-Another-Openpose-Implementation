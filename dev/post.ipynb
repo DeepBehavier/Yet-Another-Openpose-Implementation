{
 "cells": [
  {
   "cell_type": "code",
   "execution_count": 16,
   "metadata": {
    "collapsed": true,
    "pycharm": {
     "is_executing": false
    }
   },
   "outputs": [],
   "source": []
  },
  {
   "cell_type": "code",
   "execution_count": 17,
   "outputs": [],
   "source": [
    "import sys\n",
    "sys.path.append(\"..\")"
   ],
   "metadata": {
    "collapsed": false,
    "pycharm": {
     "name": "#%%\n",
     "is_executing": false
    }
   }
  },
  {
   "cell_type": "code",
   "execution_count": 18,
   "outputs": [],
   "source": [
    "import default_config as cfg\n",
    "import local_storage_config as storage_cfg\n",
    "\n",
    "cfg.__dict__.update(storage_cfg.__dict__)"
   ],
   "metadata": {
    "collapsed": false,
    "pycharm": {
     "name": "#%%\n",
     "is_executing": false
    }
   }
  },
  {
   "cell_type": "code",
   "execution_count": 19,
   "outputs": [],
   "source": [
    "import dataset_functions\n",
    "import models.six_stage_linear_model as model\n",
    "import dataset_builder\n",
    "import utils\n",
    "import tensorflow as tf\n",
    "import numpy as np\n",
    "import visualizations as v\n",
    "import matplotlib.pyplot as plt\n"
   ],
   "metadata": {
    "collapsed": false,
    "pycharm": {
     "name": "#%%\n",
     "is_executing": false
    }
   }
  },
  {
   "cell_type": "code",
   "execution_count": 20,
   "outputs": [
    {
     "name": "stdout",
     "text": [
      "Retrieving TFrecords from: C:\\Users\\flash\\Project\\Yet-Another-Openpose-Implmentation/dataset/TFrecords/validation\nFound the following validation TFrecords:\n C:\\Users\\flash\\Project\\Yet-Another-Openpose-Implmentation/dataset/TFrecords\\validation-001.tfrecords\nC:\\Users\\flash\\Project\\Yet-Another-Openpose-Implmentation/dataset/TFrecords\\validation-002.tfrecords\nBuilding validation dataset\n",
      "Validation dataset shape: <PrefetchDataset shapes: (((None, 368, 368, 3), (None, 46, 46, 1)), ((None, 46, 46, 35), (None, 46, 46, 35), (None, 46, 46, 35), (None, 46, 46, 35), (None, 46, 46, 19), (None, 46, 46, 19))), types: ((tf.float32, tf.float32), (tf.float32, tf.float32, tf.float32, tf.float32, tf.float32, tf.float32))>\n"
     ],
     "output_type": "stream"
    }
   ],
   "source": [
    "model_ds=model.ModelDatasetComponent(cfg)\n",
    "tfrecord_files_valid=dataset_builder.get_tfrecord_filenames(cfg.VALID_TFRECORDS,cfg)\n",
    "tfrecord_files_valid.sort()\n",
    "print(\"Found the following validation TFrecords:\\n\",\"\\n\".join(tfrecord_files_valid))\n",
    "print(\"Building validation dataset\")\n",
    "dsv=dataset_builder.build_validation_ds(tfrecord_files_valid,model_ds.place_training_labels,cfg)\n",
    "print(\"Validation dataset shape:\",dsv)\n",
    "it=iter(dsv)\n",
    "st=next(it)"
   ],
   "metadata": {
    "collapsed": false,
    "pycharm": {
     "name": "#%%\n",
     "is_executing": false
    }
   }
  },
  {
   "cell_type": "code",
   "execution_count": 21,
   "outputs": [
    {
     "data": {
      "text/plain": "<matplotlib.image.AxesImage at 0x20401522ba8>"
     },
     "metadata": {},
     "output_type": "execute_result",
     "execution_count": 21
    },
    {
     "data": {
      "text/plain": "<Figure size 432x288 with 1 Axes>",
      "image/png": "[encoded data removed]"
     },
     "metadata": {
      "needs_background": "light"
     },
     "output_type": "display_data"
    }
   ],
   "source": [
    "kpts=st[1][5][0]\n",
    "ex1=kpts[...,0]\n",
    "ex2=kpts[...,7]\n",
    "\n",
    "comp=np.maximum(ex1,ex2)\n",
    "plt.imshow(comp)"
   ],
   "metadata": {
    "collapsed": false,
    "pycharm": {
     "name": "#%%\n",
     "is_executing": false
    }
   }
  },
  {
   "cell_type": "code",
   "execution_count": 22,
   "outputs": [
    {
     "data": {
      "text/plain": "<matplotlib.image.AxesImage at 0x20410b09b38>"
     },
     "metadata": {},
     "output_type": "execute_result",
     "execution_count": 22
    },
    {
     "data": {
      "text/plain": "<Figure size 432x288 with 1 Axes>",
      "image/png": "[encoded data removed]"
     },
     "metadata": {
      "needs_background": "light"
     },
     "output_type": "display_data"
    }
   ],
   "source": [
    "import cv2\n",
    "input_thershold=comp>0.5\n",
    "plt.imshow(input_thershold)"
   ],
   "metadata": {
    "collapsed": false,
    "pycharm": {
     "name": "#%%\n",
     "is_executing": false
    }
   }
  },
  {
   "cell_type": "code",
   "execution_count": null,
   "outputs": [
    {
     "name": "stdout",
     "text": [
      "[18 27]\n",
      "[19 28]\n"
     ],
     "output_type": "stream"
    }
   ],
   "source": [
    "class BoundryWalker:\n",
    "    steps=np.array((\n",
    "            (1,0)\n",
    "            ,(0,1)\n",
    "            ,(-1,0)\n",
    "            ,(0,-1)\n",
    "            ),dtype=np.int) #CCW orientation\n",
    "    \n",
    "    def __init__(self,starting_pos,ocean,visited,entry_direction):\n",
    "        self.starting_pos=starting_pos\n",
    "        self.current_pos=starting_pos\n",
    "        self.visited=visited\n",
    "        self.previous_move=entry_direction \n",
    "        self.ocean=ocean\n",
    "        self.boundry=[]\n",
    "        \n",
    "    def check_move(self,move):\n",
    "        test_pos=self.current_pos+self.steps[move]\n",
    "        return bool(self.ocean[test_pos[0],test_pos[1]])\n",
    "        \n",
    "    def mark_island_boundry(self):\n",
    "        while True: #fix \n",
    "            move=(self.previous_move+3)%4 #get the next move CCW from reverse direction\n",
    "            while not self.check_move(move): #check all directions arond, going CCW\n",
    "                move=(move+1)%4\n",
    "            self.current_pos+=self.steps[move] #move\n",
    "            self.previous_move=move\n",
    "            \n",
    "            self.visited[self.current_pos[0],self.current_pos[1]]=True\n",
    "            self.boundry.append(self.current_pos)\n",
    "            print(self.current_pos,flush=1)\n",
    "            if all(self.current_pos == self.starting_pos):\n",
    "                break\n",
    "        return self.boundry\n",
    "    \n",
    "visited=np.zeros((comp.shape),dtype=np.bool)\n",
    "islands=[]\n",
    "for x in range(46):\n",
    "    for y in range(46):\n",
    "        if input_thershold[y,x] and not visited[y,x]:\n",
    "            bw=BoundryWalker(np.array((y,x)),input_thershold,visited,0)\n",
    "            islands.append(bw.mark_island_boundry())\n",
    "            \n",
    "        visited[y,x]=True"
   ],
   "metadata": {
    "collapsed": false,
    "pycharm": {
     "name": "#%%\n",
     "is_executing": true
    }
   }
  }
 ],
 "metadata": {
  "kernelspec": {
   "display_name": "Python 3",
   "language": "python",
   "name": "python3"
  },
  "language_info": {
   "codemirror_mode": {
    "name": "ipython",
    "version": 2
   },
   "file_extension": ".py",
   "mimetype": "text/x-python",
   "name": "python",
   "nbconvert_exporter": "python",
   "pygments_lexer": "ipython2",
   "version": "2.7.6"
  },
  "pycharm": {
   "stem_cell": {
    "cell_type": "raw",
    "source": [],
    "metadata": {
     "collapsed": false
    }
   }
  }
 },
 "nbformat": 4,
 "nbformat_minor": 0
}