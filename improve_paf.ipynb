{
 "cells": [
  {
   "cell_type": "code",
   "execution_count": 1,
   "metadata": {
    "collapsed": true,
    "pycharm": {
     "name": "#%%\n",
     "is_executing": false
    }
   },
   "outputs": [
    {
     "data": {
      "text/plain": "<module 'dataset_functions' from 'C:\\\\Users\\\\flash\\\\Project\\\\Yet-Another-Openpose-Implmentation\\\\dataset_functions.py'>"
     },
     "metadata": {},
     "output_type": "execute_result",
     "execution_count": 1
    }
   ],
   "source": [
    "import tensorflow as tf\n",
    "import matplotlib.pyplot as plt\n",
    "\n",
    "from config import *\n",
    "TPU_MODE=False\n",
    "\n",
    "import dataset_functions as df\n",
    "import importlib\n",
    "import tensorflow as tf\n",
    "importlib.reload(df)"
   ]
  },
  {
   "cell_type": "code",
   "execution_count": 2,
   "outputs": [
    {
     "data": {
      "text/plain": "<matplotlib.image.AxesImage at 0x1fd79c49f98>"
     },
     "metadata": {},
     "output_type": "execute_result",
     "execution_count": 2
    },
    {
     "data": {
      "text/plain": "<Figure size 432x288 with 1 Axes>",
      "image/png": "[encoded data removed]"
     },
     "metadata": {
      "needs_background": "light"
     },
     "output_type": "display_data"
    }
   ],
   "source": [
    "lt=df.LabelTransformer()\n",
    "new_j=np.zeros((19,1,5),dtype=np.float32)\n",
    "new_j[0,...,0]=0.1\n",
    "new_j[0,...,1]=0.9\n",
    "new_j[0,...,2]=0.9\n",
    "new_j[0,...,3]=0.5\n",
    "new_j[0,...,4]=2\n",
    "new_j=tf.ragged.constant(new_j)\n",
    "paf=lt.joints_PAFs(new_j)\n",
    "plt.imshow(paf.numpy().max(axis=-1))"
   ],
   "metadata": {
    "collapsed": false,
    "pycharm": {
     "name": "#%%\n",
     "is_executing": false
    }
   }
  },
  {
   "cell_type": "code",
   "execution_count": 5,
   "outputs": [],
   "source": [
    "class LabelTransformer():\n",
    "    def __init__(self):\n",
    "        y_grid=tf.linspace(0.0,1.0,LABEL_HEIGHT)\n",
    "        x_grid=tf.linspace(0.0,1.0,LABEL_WIDTH)\n",
    "        yy,xx=tf.meshgrid(y_grid,x_grid,indexing='ij') #indexing is a must, otherwise, it's just bizzare!\n",
    "        self.grid=tf.stack((yy,xx),axis=-1)\n",
    "    \n",
    "    def single_PAF(self, joint):\n",
    "        \"\"\" Makes a single vector valued PAF (part affinity field) array\n",
    "        *does not support batched input\n",
    "        :return a tensor of shape (LABEL_HEIGHT, LABEL_WIDTH, 2)\n",
    "        \"\"\"  \n",
    "        jpts = tf.reshape(joint[0:4], (2, 2))  # reshape to ((x1,y1),(x2,y2))\n",
    "        if joint[4] == tf.constant(0.0):\n",
    "            return tf.zeros((LABEL_HEIGHT, LABEL_WIDTH, 2), dtype=tf.float32)  # in case of empty joint\n",
    "        else:\n",
    "            # this follows the OpenPose paper ofr generating the PAFs\n",
    "            vector_full = jpts[1] - jpts[0]  # get the joint vector\n",
    "            vector_length = tf.linalg.norm(vector_full)  # get joint length\n",
    "            vector_hat = vector_full / vector_length  # get joint unit vector\n",
    "    \n",
    "            grid_vectors = self.grid - jpts[0]  # get grid of vectors from first joint point\n",
    "            projections = tf.tensordot(grid_vectors, vector_hat, 1)  # get projection on the joint unit vector\n",
    "    \n",
    "            normal_vector = tf.stack((-vector_hat[1], vector_hat[0]))\n",
    "            n_projections = tf.tensordot(grid_vectors, normal_vector, 1)  # get projection on the joint normal unit vector\n",
    "            na_projections = tf.abs(n_projections)  # absolute value to get both sides of rhe joint\n",
    "    \n",
    "            limit = (0 <= projections) & (projections <= vector_length) & (na_projections <= JOINT_WIDTH)\n",
    "    \n",
    "            limit_brdcst = tf.stack((limit, limit), axis=-1)  # this is for broadcasting to the 2 tuple\n",
    "    \n",
    "            return tf.where(limit_brdcst, vector_hat, tf.constant((0.0, 0.0)))"
   ],
   "metadata": {
    "collapsed": false,
    "pycharm": {
     "name": "#%%\n",
     "is_executing": false
    }
   }
  },
  {
   "cell_type": "code",
   "execution_count": 9,
   "outputs": [
    {
     "data": {
      "text/plain": "<matplotlib.image.AxesImage at 0x1fd7a011940>"
     },
     "metadata": {},
     "output_type": "execute_result",
     "execution_count": 9
    },
    {
     "data": {
      "text/plain": "<Figure size 432x288 with 1 Axes>",
      "image/png": "[encoded data removed]"
     },
     "metadata": {
      "needs_background": "light"
     },
     "output_type": "display_data"
    }
   ],
   "source": [
    "lt=LabelTransformer()\n",
    "\n",
    "j1=tf.constant((0.1,0.1,0.9,0.9,2),dtype=tf.float32)\n",
    "paf=lt.single_PAF(j1)\n",
    "plt.imshow(paf[...,0])"
   ],
   "metadata": {
    "collapsed": false,
    "pycharm": {
     "name": "#%%\n",
     "is_executing": false
    }
   }
  },
  {
   "cell_type": "code",
   "execution_count": null,
   "outputs": [],
   "source": [
    "\n"
   ],
   "metadata": {
    "collapsed": false,
    "pycharm": {
     "name": "#%%\n"
    }
   }
  }
 ],
 "metadata": {
  "kernelspec": {
   "display_name": "Python 3",
   "language": "python",
   "name": "python3"
  },
  "language_info": {
   "codemirror_mode": {
    "name": "ipython",
    "version": 2
   },
   "file_extension": ".py",
   "mimetype": "text/x-python",
   "name": "python",
   "nbconvert_exporter": "python",
   "pygments_lexer": "ipython2",
   "version": "2.7.6"
  },
  "pycharm": {
   "stem_cell": {
    "cell_type": "raw",
    "source": [],
    "metadata": {
     "collapsed": false
    }
   }
  }
 },
 "nbformat": 4,
 "nbformat_minor": 0
}