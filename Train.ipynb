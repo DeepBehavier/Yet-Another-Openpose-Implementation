{
 "cells": [
  {
   "cell_type": "markdown",
   "metadata": {
    "pycharm": {
     "name": "#%% md\n"
    }
   },
   "source": [
    "# Yet Another OpenPose "
   ]
  },
  {
   "cell_type": "markdown",
   "metadata": {},
   "source": [
    "---\n",
    "## Environment"
   ]
  },
  {
   "cell_type": "code",
   "execution_count": 1,
   "metadata": {
    "pycharm": {
     "is_executing": false
    }
   },
   "outputs": [
    {
     "name": "stdout",
     "output_type": "stream",
     "text": [
      "michael_zl_prime\n",
      "                  Credentialed Accounts\n",
      "ACTIVE  ACCOUNT\n",
      "        312164605303-compute@developer.gserviceaccount.com\n",
      "*       michael.zl.prime@gmail.com\n",
      "\n",
      "To set the active account, run:\n",
      "    $ gcloud config set account `ACCOUNT`\n",
      "\n",
      "Python running from: /usr\n",
      "Current working dir /home/michael_zl_prime/project_drive/project\n"
     ]
    }
   ],
   "source": [
    "#verify user\n",
    "!whoami\n",
    "#verify user account, if running on google cloud, otherwise ignore\n",
    "!gcloud auth list\n",
    "#which Environment/virtualenv running in\n",
    "import sys\n",
    "import os\n",
    "\n",
    "print(\"Python running from:\",sys.prefix)\n",
    "print(\"Current working dir\",os.getcwd())"
   ]
  },
  {
   "cell_type": "code",
   "execution_count": 2,
   "metadata": {
    "pycharm": {
     "is_executing": false
    }
   },
   "outputs": [],
   "source": [
    "#start tensor board\n",
    "# must run \n",
    "#/usr/local/bin/tensorboard serve --logdir gs://dl_training_results/tensorboard --port 8889 --bind_all"
   ]
  },
  {
   "cell_type": "code",
   "execution_count": 3,
   "metadata": {
    "pycharm": {
     "is_executing": false
    }
   },
   "outputs": [
    {
     "name": "stdout",
     "output_type": "stream",
     "text": [
      "\u001b[1;31mERROR:\u001b[0m (gcloud.compute.tpus.start) INVALID_ARGUMENT: cannot start an already running instance\r\n"
     ]
    }
   ],
   "source": [
    "#start TPU\n",
    "!gcloud compute tpus start node-1 --zone us-central1-c\n",
    "#stop TPU\n",
    "#!gcloud compute tpus stop node-1 --zone us-central1-c"
   ]
  },
  {
   "cell_type": "markdown",
   "metadata": {},
   "source": [
    "---\n",
    "## Config"
   ]
  },
  {
   "cell_type": "code",
   "execution_count": 4,
   "metadata": {
    "pycharm": {
     "is_executing": false
    }
   },
   "outputs": [],
   "source": [
    "import default_config as cfg\n",
    "\n",
    "#import local_storage_config as storage_cfg\n",
    "import remote_storage_config as storage_cfg\n",
    "cfg.__dict__.update(storage_cfg.__dict__)\n",
    "\n",
    "import tpu_training.TPU_config as TPU_config\n",
    "cfg.__dict__.update(TPU_config.__dict__) #comment out to disable TPU training\n",
    "\n",
    "cfg.RUN_NAME=\"Fixed_mirror\" #for reference "
   ]
  },
  {
   "cell_type": "code",
   "execution_count": 5,
   "metadata": {
    "pycharm": {
     "is_executing": false
    }
   },
   "outputs": [
    {
     "name": "stdout",
     "output_type": "stream",
     "text": [
      "Tensorflow version: 2.1.0-dev20191203\n"
     ]
    }
   ],
   "source": [
    "import tensorflow as tf\n",
    "print(\"Tensorflow version:\",tf.version.VERSION)"
   ]
  },
  {
   "cell_type": "code",
   "execution_count": 6,
   "metadata": {
    "pycharm": {
     "is_executing": false,
     "name": "#%% \n"
    }
   },
   "outputs": [
    {
     "name": "stdout",
     "output_type": "stream",
     "text": [
      "Testing results bucket connectivity\n",
      "Copying file:///tmp/test [Content-Type=application/octet-stream]...\n",
      "/ [1 files][    0.0 B/    0.0 B]                                                \n",
      "Operation completed over 1 objects.                                              \n",
      "Removing gs://dl_training_results/tensorboard/test...\n",
      "/ [1 objects]                                                                   \n",
      "Operation completed over 1 objects.                                              \n",
      "Copying file:///tmp/test [Content-Type=application/octet-stream]...\n",
      "/ [1 files][    0.0 B/    0.0 B]                                                \n",
      "Operation completed over 1 objects.                                              \n",
      "Removing gs://dl_training_results/checkpoints/test...\n",
      "/ [1 objects]                                                                   \n",
      "Operation completed over 1 objects.                                              \n",
      "Testing dataset bucket connectivity\n",
      "gs://datasets_bucket_a/training-001.tfrecords\n",
      "gs://datasets_bucket_a/training-002.tfrecords\n",
      "gs://datasets_bucket_a/training-003.tfrecords\n",
      "gs://datasets_bucket_a/training-004.tfrecords\n",
      "Testing TPU connectivity\n",
      "\n",
      "Starting Nmap 7.40 ( https://nmap.org ) at 2019-12-13 02:20 UTC\n",
      "Nmap scan report for 10.0.3.2\n",
      "Host is up (0.0016s latency).\n",
      "PORT     STATE SERVICE\n",
      "8470/tcp open  cisco-avp\n",
      "\n",
      "Nmap done: 1 IP address (1 host up) scanned in 0.04 seconds\n",
      "Trying to connect to a TPU node\n",
      "\n",
      "!!!MAKE SURE THE TPU ADDRESS IS CORRECT!!\n",
      "1.ip must be correct\n",
      "2.tpu must be turned on\n",
      "3.version must be 'nightly-2.x'\n",
      "4.tpu must be reachable (check with gce netowrking/connectivity test)\n",
      "if not this will hang!\n",
      "\n",
      "Trying to connect to: grpc://10.0.3.2:8470\n",
      "INFO:tensorflow:Initializing the TPU system: grpc://10.0.3.2:8470\n"
     ]
    },
    {
     "name": "stderr",
     "output_type": "stream",
     "text": [
      "INFO:tensorflow:Initializing the TPU system: grpc://10.0.3.2:8470\n"
     ]
    },
    {
     "name": "stdout",
     "output_type": "stream",
     "text": [
      "INFO:tensorflow:Clearing out eager caches\n"
     ]
    },
    {
     "name": "stderr",
     "output_type": "stream",
     "text": [
      "INFO:tensorflow:Clearing out eager caches\n"
     ]
    },
    {
     "name": "stdout",
     "output_type": "stream",
     "text": [
      "INFO:tensorflow:Finished initializing TPU system.\n"
     ]
    },
    {
     "name": "stderr",
     "output_type": "stream",
     "text": [
      "INFO:tensorflow:Finished initializing TPU system.\n"
     ]
    },
    {
     "name": "stdout",
     "output_type": "stream",
     "text": [
      "INFO:tensorflow:Found TPU system:\n"
     ]
    },
    {
     "name": "stderr",
     "output_type": "stream",
     "text": [
      "INFO:tensorflow:Found TPU system:\n"
     ]
    },
    {
     "name": "stdout",
     "output_type": "stream",
     "text": [
      "INFO:tensorflow:*** Num TPU Cores: 8\n"
     ]
    },
    {
     "name": "stderr",
     "output_type": "stream",
     "text": [
      "INFO:tensorflow:*** Num TPU Cores: 8\n"
     ]
    },
    {
     "name": "stdout",
     "output_type": "stream",
     "text": [
      "INFO:tensorflow:*** Num TPU Workers: 1\n"
     ]
    },
    {
     "name": "stderr",
     "output_type": "stream",
     "text": [
      "INFO:tensorflow:*** Num TPU Workers: 1\n"
     ]
    },
    {
     "name": "stdout",
     "output_type": "stream",
     "text": [
      "INFO:tensorflow:*** Num TPU Cores Per Worker: 8\n"
     ]
    },
    {
     "name": "stderr",
     "output_type": "stream",
     "text": [
      "INFO:tensorflow:*** Num TPU Cores Per Worker: 8\n"
     ]
    },
    {
     "name": "stdout",
     "output_type": "stream",
     "text": [
      "INFO:tensorflow:*** Available Device: _DeviceAttributes(/job:localhost/replica:0/task:0/device:CPU:0, CPU, 0, 0)\n"
     ]
    },
    {
     "name": "stderr",
     "output_type": "stream",
     "text": [
      "INFO:tensorflow:*** Available Device: _DeviceAttributes(/job:localhost/replica:0/task:0/device:CPU:0, CPU, 0, 0)\n"
     ]
    },
    {
     "name": "stdout",
     "output_type": "stream",
     "text": [
      "INFO:tensorflow:*** Available Device: _DeviceAttributes(/job:localhost/replica:0/task:0/device:XLA_CPU:0, XLA_CPU, 0, 0)\n"
     ]
    },
    {
     "name": "stderr",
     "output_type": "stream",
     "text": [
      "INFO:tensorflow:*** Available Device: _DeviceAttributes(/job:localhost/replica:0/task:0/device:XLA_CPU:0, XLA_CPU, 0, 0)\n"
     ]
    },
    {
     "name": "stdout",
     "output_type": "stream",
     "text": [
      "INFO:tensorflow:*** Available Device: _DeviceAttributes(/job:worker/replica:0/task:0/device:CPU:0, CPU, 0, 0)\n"
     ]
    },
    {
     "name": "stderr",
     "output_type": "stream",
     "text": [
      "INFO:tensorflow:*** Available Device: _DeviceAttributes(/job:worker/replica:0/task:0/device:CPU:0, CPU, 0, 0)\n"
     ]
    },
    {
     "name": "stdout",
     "output_type": "stream",
     "text": [
      "INFO:tensorflow:*** Available Device: _DeviceAttributes(/job:worker/replica:0/task:0/device:TPU:0, TPU, 0, 0)\n"
     ]
    },
    {
     "name": "stderr",
     "output_type": "stream",
     "text": [
      "INFO:tensorflow:*** Available Device: _DeviceAttributes(/job:worker/replica:0/task:0/device:TPU:0, TPU, 0, 0)\n"
     ]
    },
    {
     "name": "stdout",
     "output_type": "stream",
     "text": [
      "INFO:tensorflow:*** Available Device: _DeviceAttributes(/job:worker/replica:0/task:0/device:TPU:1, TPU, 0, 0)\n"
     ]
    },
    {
     "name": "stderr",
     "output_type": "stream",
     "text": [
      "INFO:tensorflow:*** Available Device: _DeviceAttributes(/job:worker/replica:0/task:0/device:TPU:1, TPU, 0, 0)\n"
     ]
    },
    {
     "name": "stdout",
     "output_type": "stream",
     "text": [
      "INFO:tensorflow:*** Available Device: _DeviceAttributes(/job:worker/replica:0/task:0/device:TPU:2, TPU, 0, 0)\n"
     ]
    },
    {
     "name": "stderr",
     "output_type": "stream",
     "text": [
      "INFO:tensorflow:*** Available Device: _DeviceAttributes(/job:worker/replica:0/task:0/device:TPU:2, TPU, 0, 0)\n"
     ]
    },
    {
     "name": "stdout",
     "output_type": "stream",
     "text": [
      "INFO:tensorflow:*** Available Device: _DeviceAttributes(/job:worker/replica:0/task:0/device:TPU:3, TPU, 0, 0)\n"
     ]
    },
    {
     "name": "stderr",
     "output_type": "stream",
     "text": [
      "INFO:tensorflow:*** Available Device: _DeviceAttributes(/job:worker/replica:0/task:0/device:TPU:3, TPU, 0, 0)\n"
     ]
    },
    {
     "name": "stdout",
     "output_type": "stream",
     "text": [
      "INFO:tensorflow:*** Available Device: _DeviceAttributes(/job:worker/replica:0/task:0/device:TPU:4, TPU, 0, 0)\n"
     ]
    },
    {
     "name": "stderr",
     "output_type": "stream",
     "text": [
      "INFO:tensorflow:*** Available Device: _DeviceAttributes(/job:worker/replica:0/task:0/device:TPU:4, TPU, 0, 0)\n"
     ]
    },
    {
     "name": "stdout",
     "output_type": "stream",
     "text": [
      "INFO:tensorflow:*** Available Device: _DeviceAttributes(/job:worker/replica:0/task:0/device:TPU:5, TPU, 0, 0)\n"
     ]
    },
    {
     "name": "stderr",
     "output_type": "stream",
     "text": [
      "INFO:tensorflow:*** Available Device: _DeviceAttributes(/job:worker/replica:0/task:0/device:TPU:5, TPU, 0, 0)\n"
     ]
    },
    {
     "name": "stdout",
     "output_type": "stream",
     "text": [
      "INFO:tensorflow:*** Available Device: _DeviceAttributes(/job:worker/replica:0/task:0/device:TPU:6, TPU, 0, 0)\n"
     ]
    },
    {
     "name": "stderr",
     "output_type": "stream",
     "text": [
      "INFO:tensorflow:*** Available Device: _DeviceAttributes(/job:worker/replica:0/task:0/device:TPU:6, TPU, 0, 0)\n"
     ]
    },
    {
     "name": "stdout",
     "output_type": "stream",
     "text": [
      "INFO:tensorflow:*** Available Device: _DeviceAttributes(/job:worker/replica:0/task:0/device:TPU:7, TPU, 0, 0)\n"
     ]
    },
    {
     "name": "stderr",
     "output_type": "stream",
     "text": [
      "INFO:tensorflow:*** Available Device: _DeviceAttributes(/job:worker/replica:0/task:0/device:TPU:7, TPU, 0, 0)\n"
     ]
    },
    {
     "name": "stdout",
     "output_type": "stream",
     "text": [
      "INFO:tensorflow:*** Available Device: _DeviceAttributes(/job:worker/replica:0/task:0/device:TPU_SYSTEM:0, TPU_SYSTEM, 0, 0)\n"
     ]
    },
    {
     "name": "stderr",
     "output_type": "stream",
     "text": [
      "INFO:tensorflow:*** Available Device: _DeviceAttributes(/job:worker/replica:0/task:0/device:TPU_SYSTEM:0, TPU_SYSTEM, 0, 0)\n"
     ]
    },
    {
     "name": "stdout",
     "output_type": "stream",
     "text": [
      "INFO:tensorflow:*** Available Device: _DeviceAttributes(/job:worker/replica:0/task:0/device:XLA_CPU:0, XLA_CPU, 0, 0)\n"
     ]
    },
    {
     "name": "stderr",
     "output_type": "stream",
     "text": [
      "INFO:tensorflow:*** Available Device: _DeviceAttributes(/job:worker/replica:0/task:0/device:XLA_CPU:0, XLA_CPU, 0, 0)\n"
     ]
    }
   ],
   "source": [
    "if cfg.TPU_MODE:\n",
    "    print(\"Testing results bucket connectivity\")\n",
    "    !touch /tmp/test\n",
    "    !gsutil cp /tmp/test {cfg.TENSORBOARD_PATH}/test\n",
    "    !gsutil rm {cfg.TENSORBOARD_PATH}/test\n",
    "    !gsutil cp /tmp/test {cfg.CHECKPOINTS_PATH}/test\n",
    "    !gsutil rm {cfg.CHECKPOINTS_PATH}/test\n",
    "    print(\"Testing dataset bucket connectivity\")\n",
    "    !gsutil ls gs://{cfg.GCS_TFRECORDS_BUCKETNAME} | head -4\n",
    "    print(\"Testing TPU connectivity\")\n",
    "    !nmap -Pn -p8470 {cfg.TPU_IP}\n",
    "    import tpu_training.init_TPU as init_TPU\n",
    "    strategy,resolver=init_TPU.init_tpu() #This must be run before any imports!!!!"
   ]
  },
  {
   "cell_type": "code",
   "execution_count": 7,
   "metadata": {
    "pycharm": {
     "is_executing": false
    }
   },
   "outputs": [],
   "source": [
    "import datetime\n",
    "import numpy as np\n",
    "\n",
    "import dataset_functions\n",
    "import models.six_stage_linear_model as model\n",
    "import callbacks\n",
    "import dataset_builder\n",
    "import load_weights\n",
    "import loss_metrics\n",
    "from utils import now"
   ]
  },
  {
   "cell_type": "code",
   "execution_count": 8,
   "metadata": {
    "pycharm": {
     "is_executing": false
    }
   },
   "outputs": [],
   "source": [
    "# import importlib as il\n",
    "# il.reload() #useful to reload any changes"
   ]
  },
  {
   "cell_type": "markdown",
   "metadata": {},
   "source": [
    "---\n",
    "## Dataset"
   ]
  },
  {
   "cell_type": "code",
   "execution_count": 18,
   "metadata": {},
   "outputs": [],
   "source": [
    "# Training settings\n",
    "TRAINING_EPOCHS = 30\n",
    "REAL_EPOCH_STEPS = int(cfg.DATASET_SIZE / cfg.BATCH_SIZE)\n",
    "SHORT_EPOCH_STEPS=50 #actual epocsh used in training, smaller than real epoch, but allows to track progress better, [in batches]\n",
    "SHORT_TRAINING_EPOCHS=int(TRAINING_EPOCHS*(REAL_EPOCH_STEPS/SHORT_EPOCH_STEPS))\n",
    "SHORT_VALIDATION_STEPS=5 #per short epoch\n",
    "\n",
    "EPOCH_RATIO=int(REAL_EPOCH_STEPS / SHORT_TRAINING_EPOCHS)\n",
    "# adam_learning_rate=0.001  #for reference\n",
    "BASE_LEARNING_RATE = 0.001\n",
    "LEARNING_RATE_SCHEDUELE = np.zeros(100000)  #used with short epochs\n",
    "LEARNING_RATE_SCHEDUELE[:3 * EPOCH_RATIO] = 1\n",
    "LEARNING_RATE_SCHEDUELE[3 * EPOCH_RATIO:20 * EPOCH_RATIO] = 1\n",
    "LEARNING_RATE_SCHEDUELE[20 * EPOCH_RATIO:40 * EPOCH_RATIO] = 1\n",
    "LEARNING_RATE_SCHEDUELE[40 * EPOCH_RATIO:100 * EPOCH_RATIO] = 0.5\n",
    "LEARNING_RATE_SCHEDUELE[100 * EPOCH_RATIO:] = 0.3\n",
    "LEARNING_RATE_SCHEDUELE *= BASE_LEARNING_RATE"
   ]
  },
  {
   "cell_type": "code",
   "execution_count": 13,
   "metadata": {
    "pycharm": {
     "is_executing": false
    }
   },
   "outputs": [
    {
     "name": "stdout",
     "output_type": "stream",
     "text": [
      "Retrieving TFrecords from: gs://datasets_bucket_a/training\n",
      "Retrieving TFrecords from: gs://datasets_bucket_a/validation\n",
      "Found the following training TFrecords:\n",
      " gs://datasets_bucket_a/training-001.tfrecords\n",
      "gs://datasets_bucket_a/training-002.tfrecords\n",
      "gs://datasets_bucket_a/training-003.tfrecords\n",
      "gs://datasets_bucket_a/training-004.tfrecords\n",
      "gs://datasets_bucket_a/training-005.tfrecords\n",
      "gs://datasets_bucket_a/training-006.tfrecords\n",
      "gs://datasets_bucket_a/training-007.tfrecords\n",
      "gs://datasets_bucket_a/training-008.tfrecords\n",
      "gs://datasets_bucket_a/training-009.tfrecords\n",
      "gs://datasets_bucket_a/training-010.tfrecords\n",
      "gs://datasets_bucket_a/training-011.tfrecords\n",
      "gs://datasets_bucket_a/training-012.tfrecords\n",
      "gs://datasets_bucket_a/training-013.tfrecords\n",
      "gs://datasets_bucket_a/training-014.tfrecords\n",
      "gs://datasets_bucket_a/training-015.tfrecords\n",
      "gs://datasets_bucket_a/training-016.tfrecords\n",
      "gs://datasets_bucket_a/training-017.tfrecords\n",
      "gs://datasets_bucket_a/training-018.tfrecords\n",
      "gs://datasets_bucket_a/training-019.tfrecords\n",
      "gs://datasets_bucket_a/training-020.tfrecords\n",
      "gs://datasets_bucket_a/training-021.tfrecords\n",
      "gs://datasets_bucket_a/training-022.tfrecords\n",
      "gs://datasets_bucket_a/training-023.tfrecords\n",
      "gs://datasets_bucket_a/training-024.tfrecords\n",
      "gs://datasets_bucket_a/training-025.tfrecords\n",
      "gs://datasets_bucket_a/training-026.tfrecords\n",
      "gs://datasets_bucket_a/training-027.tfrecords\n",
      "gs://datasets_bucket_a/training-028.tfrecords\n",
      "gs://datasets_bucket_a/training-029.tfrecords\n",
      "gs://datasets_bucket_a/training-030.tfrecords\n",
      "gs://datasets_bucket_a/training-031.tfrecords\n",
      "gs://datasets_bucket_a/training-032.tfrecords\n",
      "gs://datasets_bucket_a/training-033.tfrecords\n",
      "gs://datasets_bucket_a/training-034.tfrecords\n",
      "gs://datasets_bucket_a/training-035.tfrecords\n",
      "gs://datasets_bucket_a/training-036.tfrecords\n",
      "gs://datasets_bucket_a/training-037.tfrecords\n",
      "gs://datasets_bucket_a/training-038.tfrecords\n",
      "gs://datasets_bucket_a/training-039.tfrecords\n",
      "gs://datasets_bucket_a/training-040.tfrecords\n",
      "gs://datasets_bucket_a/training-041.tfrecords\n",
      "gs://datasets_bucket_a/training-042.tfrecords\n",
      "gs://datasets_bucket_a/training-043.tfrecords\n",
      "gs://datasets_bucket_a/training-044.tfrecords\n",
      "gs://datasets_bucket_a/training-045.tfrecords\n",
      "gs://datasets_bucket_a/training-046.tfrecords\n",
      "gs://datasets_bucket_a/training-047.tfrecords\n",
      "gs://datasets_bucket_a/training-048.tfrecords\n",
      "gs://datasets_bucket_a/training-049.tfrecords\n",
      "gs://datasets_bucket_a/training-050.tfrecords\n",
      "gs://datasets_bucket_a/training-051.tfrecords\n",
      "gs://datasets_bucket_a/training-052.tfrecords\n",
      "gs://datasets_bucket_a/training-053.tfrecords\n",
      "gs://datasets_bucket_a/training-054.tfrecords\n",
      "gs://datasets_bucket_a/training-055.tfrecords\n",
      "gs://datasets_bucket_a/training-056.tfrecords\n",
      "gs://datasets_bucket_a/training-057.tfrecords\n",
      "Found the following validation TFrecords:\n",
      " gs://datasets_bucket_a/validation-001.tfrecords\n",
      "gs://datasets_bucket_a/validation-002.tfrecords\n",
      "gs://datasets_bucket_a/validation-003.tfrecords\n",
      "Building training dataset\n",
      "Training dataset shape: <PrefetchDataset shapes: (((None, 368, 368, 3), (None, 46, 46, 1)), ((None, 46, 46, 35), (None, 46, 46, 35), (None, 46, 46, 35), (None, 46, 46, 35), (None, 46, 46, 19), (None, 46, 46, 19))), types: ((tf.float32, tf.float32), (tf.float32, tf.float32, tf.float32, tf.float32, tf.float32, tf.float32))>\n",
      "Building validation dataset\n",
      "Validation dataset shape: <PrefetchDataset shapes: (((None, 368, 368, 3), (None, 46, 46, 1)), ((None, 46, 46, 35), (None, 46, 46, 35), (None, 46, 46, 35), (None, 46, 46, 35), (None, 46, 46, 19), (None, 46, 46, 19))), types: ((tf.float32, tf.float32), (tf.float32, tf.float32, tf.float32, tf.float32, tf.float32, tf.float32))>\n"
     ]
    }
   ],
   "source": [
    "model_ds=model.ModelDatasetComponent(cfg)\n",
    "\n",
    "tfrecord_files_train=dataset_builder.get_tfrecord_filenames(cfg.TRAIN_TFRECORDS,cfg)\n",
    "tfrecord_files_valid=dataset_builder.get_tfrecord_filenames(cfg.VALID_TFRECORDS,cfg)\n",
    "print(\"Found the following training TFrecords:\\n\",\"\\n\".join(tfrecord_files_train))\n",
    "print(\"Found the following validation TFrecords:\\n\",\"\\n\".join(tfrecord_files_valid))\n",
    "\n",
    "print(\"Building training dataset\")\n",
    "dst=dataset_builder.build_training_ds(tfrecord_files_train,model_ds.place_training_labels,cfg)\n",
    "print(\"Training dataset shape:\",dst)\n",
    "print(\"Building validation dataset\")\n",
    "dsv=dataset_builder.build_validation_ds(tfrecord_files_valid,model_ds.place_training_labels,cfg)\n",
    "print(\"Validation dataset shape:\",dsv)\n"
   ]
  },
  {
   "cell_type": "code",
   "execution_count": 14,
   "metadata": {
    "pycharm": {
     "is_executing": false,
     "name": "#%%\n"
    }
   },
   "outputs": [],
   "source": [
    "#Test element\n",
    "# dst_iter=iter(dst)\n",
    "# sample_elem=next(dst_iter)\n",
    "# print(\"Dataset shape:\",dst) #this should match the model input, and output stages"
   ]
  },
  {
   "cell_type": "code",
   "execution_count": 15,
   "metadata": {
    "pycharm": {
     "is_executing": false,
     "name": "#%%\n"
    }
   },
   "outputs": [],
   "source": [
    "#testing mask\n",
    "# sample_elem=next(dst_iter)\n",
    "# m=sample_elem[1][1][0,...,0]\n",
    "# import matplotlib.pyplot as plt\n",
    "# plt.imshow(m)\n",
    "# plt.colorbar()"
   ]
  },
  {
   "cell_type": "markdown",
   "metadata": {},
   "source": [
    "---\n",
    "## Model\n",
    "### Load weights"
   ]
  },
  {
   "cell_type": "code",
   "execution_count": 16,
   "metadata": {
    "pycharm": {
     "is_executing": false
    }
   },
   "outputs": [
    {
     "name": "stdout",
     "output_type": "stream",
     "text": [
      "Found these checkpoints:\n",
      "0.Dont load checkpoint\n",
      "1 .gs://dl_training_results/checkpoints/Full_model_2_2augs_dp0111Wed1219-1833/-E0009.ckpt_temp_1d8239e45732435f97e3b43074192752/part-00000-of-00002\n",
      "2 .gs://dl_training_results/checkpoints/Full_model_2_2augs_dp0111Wed1219-1833/-E0009.ckpt_temp_1d8239e45732435f97e3b43074192752/part-00001-of-00002\n",
      "3 .gs://dl_training_results/checkpoints/Full_model_2_2augs_dp0111Wed1219-1842/-E0001.ckpt\n",
      "4 .gs://dl_training_results/checkpoints/Full_model_2_2augs_dp0111Wed1219-1842/-E0002.ckpt\n",
      "5 .gs://dl_training_results/checkpoints/Full_model_2_2augs_dp0111Wed1219-1842/-E0003.ckpt\n",
      "6 .gs://dl_training_results/checkpoints/Full_model_2_2augs_dp01_15joint11Wed1219-1917/-E0001.ckpt\n",
      "7 .gs://dl_training_results/checkpoints/Full_model_2_2augs_dp01_15joint11Wed1219-1917/-E0002.ckpt\n",
      "8 .gs://dl_training_results/checkpoints/Full_model_2_2augs_dp01_15joint11Wed1219-1917/-E0003.ckpt\n",
      "9 .gs://dl_training_results/checkpoints/Full_model_2_2augs_dp01_15joint11Wed1219-1917/-E0004.ckpt\n",
      "10 .gs://dl_training_results/checkpoints/Full_model_2_2augs_dp01_15joint_nobn-11Wed1219-2050/-E0001.ckpt\n",
      "11 .gs://dl_training_results/checkpoints/Full_model_2_2augs_dp01_15joint_nobn-11Wed1219-2050/-E0002.ckpt\n",
      "12 .gs://dl_training_results/checkpoints/Full_model_2_2augs_dp01_15joint_nobn-11Wed1219-2050/-E0003.ckpt\n",
      "13 .gs://dl_training_results/checkpoints/Full_model_2_2augs_dp01_15joint_nobn-11Wed1219-2050/-E0004.ckpt\n",
      "14 .gs://dl_training_results/checkpoints/Full_model_2_2augs_dp01_15joint_nobn-11Wed1219-2050/-E0005.ckpt\n",
      "15 .gs://dl_training_results/checkpoints/Full_model_2_2augs_dp01_15joint_nofinalbn-11Wed1219-2011/-E0001.ckpt\n",
      "16 .gs://dl_training_results/checkpoints/Full_model_2_2augs_dp01_15joint_nofinalbn-11Wed1219-2011/-E0002.ckpt\n",
      "17 .gs://dl_training_results/checkpoints/Full_model_2_2augs_dp01_15joint_nofinalbn-11Wed1219-2011/-E0003.ckpt\n",
      "18 .gs://dl_training_results/checkpoints/Full_model_2augs_dp11Wed1219-1624/-E0001.ckpt\n",
      "19 .gs://dl_training_results/checkpoints/Full_model_2augs_dp11Wed1219-1624/-E0002.ckpt\n",
      "20 .gs://dl_training_results/checkpoints/Full_model_2augs_dp11Wed1219-1624/-E0003.ckpt\n",
      "21 .gs://dl_training_results/checkpoints/Full_model_2augs_dp11Wed1219-1624/-E0004.ckpt\n",
      "22 .gs://dl_training_results/checkpoints/Full_model_2augs_dp11Wed1219-1624/-E0005.ckpt\n",
      "23 .gs://dl_training_results/checkpoints/Full_model_2augs_dp11Wed1219-1624/-E0006.ckpt\n",
      "24 .gs://dl_training_results/checkpoints/Full_model_2augs_dp11Wed1219-1624/-E0007.ckpt\n",
      "25 .gs://dl_training_results/checkpoints/Full_model_2augs_dp11Wed1219-1624/-E0008.ckpt\n",
      "26 .gs://dl_training_results/checkpoints/Full_model_2augs_dp11Wed1219-1624/-E0009.ckpt\n",
      "27 .gs://dl_training_results/checkpoints/Try_again_smallspot12Thu1219-1651/-E0001.ckpt\n",
      "28 .gs://dl_training_results/checkpoints/Try_again_smallspot12Thu1219-1651/-E0002.ckpt\n",
      "29 .gs://dl_training_results/checkpoints/Try_again_smallspot12Thu1219-1651/-E0003.ckpt\n",
      "30 .gs://dl_training_results/checkpoints/Try_again_smallspot12Thu1219-1651/-E0004.ckpt\n",
      "31 .gs://dl_training_results/checkpoints/Try_again_smallspot12Thu1219-1651/-E0005.ckpt\n",
      "32 .gs://dl_training_results/checkpoints/Try_again_smallspot12Thu1219-1651/-E0006.ckpt\n",
      "33 .gs://dl_training_results/checkpoints/Try_again_smallspot12Thu1219-1651/-E0007.ckpt\n",
      "34 .gs://dl_training_results/checkpoints/Try_again_smallspot12Thu1219-1651/-E0008.ckpt\n",
      "35 .gs://dl_training_results/checkpoints/Try_again_smallspot12Thu1219-1651/-E0009.ckpt\n",
      "36 .gs://dl_training_results/checkpoints/Try_again_smallspot12Thu1219-1651/-E0010.ckpt\n",
      "37 .gs://dl_training_results/checkpoints/Try_again_smallspot12Thu1219-1651/-E0011.ckpt\n",
      "38 .gs://dl_training_results/checkpoints/Try_again_smallspot12Thu1219-1651/-E0012.ckpt\n",
      "39 .gs://dl_training_results/checkpoints/Try_again_smallspot12Thu1219-1651/-E0013.ckpt\n",
      "40 .gs://dl_training_results/checkpoints/Try_again_smallspot12Thu1219-1651/-E0014.ckpt\n",
      "41 .gs://dl_training_results/checkpoints/Try_again_smallspot12Thu1219-1651/-E0015.ckpt\n",
      "42 .gs://dl_training_results/checkpoints/Try_again_smallspot12Thu1219-1651/-E0016.ckpt\n",
      "43 .gs://dl_training_results/checkpoints/Try_again_smallspot12Thu1219-1651/-E0017.ckpt\n",
      "44 .gs://dl_training_results/checkpoints/Try_again_smallspot12Thu1219-1651/-E0018.ckpt\n",
      "45 .gs://dl_training_results/checkpoints/Try_again_smallspot12Thu1219-1651/-E0019.ckpt\n",
      "46 .gs://dl_training_results/checkpoints/Try_again_smallspot12Thu1219-1651/-E0020.ckpt\n",
      "47 .gs://dl_training_results/checkpoints/Try_again_smallspot12Thu1219-1651/-E0021.ckpt\n",
      "48 .gs://dl_training_results/checkpoints/Try_again_smallspot12Thu1219-1651/-E0022.ckpt\n",
      "49 .gs://dl_training_results/checkpoints/Try_again_smallspot12Thu1219-1651/-E0023.ckpt\n",
      "50 .gs://dl_training_results/checkpoints/Try_again_smallspot12Thu1219-1651/-E0024.ckpt\n",
      "51 .gs://dl_training_results/checkpoints/Try_again_smallspot12Thu1219-1651/-E0025.ckpt\n",
      "52 .gs://dl_training_results/checkpoints/Try_again_smallspot12Thu1219-1651/-E0026.ckpt\n",
      "53 .gs://dl_training_results/checkpoints/Try_again_smallspot12Thu1219-1651/-E0027.ckpt\n",
      "54 .gs://dl_training_results/checkpoints/Try_again_smallspot12Thu1219-1651/-E0028.ckpt\n",
      "55 .gs://dl_training_results/checkpoints/Try_again_smallspot12Thu1219-1651/-E0029.ckpt\n",
      "56 .gs://dl_training_results/checkpoints/Try_again_smallspot12Thu1219-1651/-E0030.ckpt\n",
      "57 .gs://dl_training_results/checkpoints/Try_again_smallspot12Thu1219-1651/-E0031.ckpt\n",
      "58 .gs://dl_training_results/checkpoints/Try_again_smallspot12Thu1219-1651/-E0032.ckpt\n",
      "59 .gs://dl_training_results/checkpoints/Try_again_smallspot12Thu1219-1651/-E0033.ckpt\n",
      "60 .gs://dl_training_results/checkpoints/Try_again_smallspot12Thu1219-1651/-E0034.ckpt\n",
      "61 .gs://dl_training_results/checkpoints/Try_again_smallspot12Thu1219-1651/-E0035.ckpt\n",
      "62 .gs://dl_training_results/checkpoints/Try_again_smallspot12Thu1219-1651/-E0036.ckpt\n",
      "63 .gs://dl_training_results/checkpoints/Try_again_smallspot12Thu1219-1651/-E0037.ckpt\n",
      "64 .gs://dl_training_results/checkpoints/Try_again_smallspot12Thu1219-1651/-E0038.ckpt\n",
      "65 .gs://dl_training_results/checkpoints/Try_again_smallspot12Thu1219-1651/-E0039.ckpt\n",
      "66 .gs://dl_training_results/checkpoints/Try_again_smallspot12Thu1219-1651/-E0040.ckpt\n",
      "67 .gs://dl_training_results/checkpoints/Try_again_smallspot12Thu1219-1651/-E0041.ckpt\n",
      "68 .gs://dl_training_results/checkpoints/Try_again_smallspot12Thu1219-1651/-E0042.ckpt\n",
      "69 .gs://dl_training_results/checkpoints/Try_again_smallspot12Thu1219-1651/-E0043.ckpt\n",
      "70 .gs://dl_training_results/checkpoints/Try_again_smallspot12Thu1219-1651/-E0044.ckpt\n",
      "71 .gs://dl_training_results/checkpoints/Try_again_smallspot12Thu1219-1651/-E0045.ckpt\n",
      "72 .gs://dl_training_results/checkpoints/Try_again_smallspot12Thu1219-1651/-E0046.ckpt\n",
      "73 .gs://dl_training_results/checkpoints/Try_again_smallspot12Thu1219-1651/-E0047.ckpt\n",
      "74 .gs://dl_training_results/checkpoints/Try_again_smallspot12Thu1219-1651/-E0048.ckpt\n",
      "75 .gs://dl_training_results/checkpoints/Try_again_smallspot12Thu1219-1651/-E0049.ckpt\n",
      "76 .gs://dl_training_results/checkpoints/Try_again_smallspot12Thu1219-1651/-E0050.ckpt\n",
      "77 .gs://dl_training_results/checkpoints/Try_again_smallspot12Thu1219-1651/-E0051.ckpt\n",
      "78 .gs://dl_training_results/checkpoints/Try_again_smallspot12Thu1219-1651/-E0052.ckpt\n",
      "79 .gs://dl_training_results/checkpoints/Try_again_smallspot12Thu1219-1651/-E0053.ckpt\n",
      "80 .gs://dl_training_results/checkpoints/Try_again_smallspot12Thu1219-1651/-E0054.ckpt\n",
      "81 .gs://dl_training_results/checkpoints/Try_again_smallspot12Thu1219-1651/-E0055.ckpt\n",
      "82 .gs://dl_training_results/checkpoints/Try_again_smallspot12Thu1219-1651/-E0056.ckpt\n",
      "83 .gs://dl_training_results/checkpoints/Try_again_smallspot12Thu1219-1651/-E0057.ckpt\n",
      "84 .gs://dl_training_results/checkpoints/Try_again_smallspot12Thu1219-1651/-E0058.ckpt\n",
      "85 .gs://dl_training_results/checkpoints/Try_again_smallspot12Thu1219-1651/-E0059.ckpt\n",
      "86 .gs://dl_training_results/checkpoints/Try_again_smallspot12Thu1219-1651/-E0060.ckpt\n",
      "87 .gs://dl_training_results/checkpoints/Try_again_smallspot12Thu1219-1651/-E0061.ckpt\n",
      "88 .gs://dl_training_results/checkpoints/Try_again_smallspot12Thu1219-1651/-E0062.ckpt\n",
      "89 .gs://dl_training_results/checkpoints/Try_again_smallspot12Thu1219-1651/-E0063.ckpt\n",
      "90 .gs://dl_training_results/checkpoints/Try_again_smallspot12Thu1219-1651/-E0064.ckpt\n"
     ]
    },
    {
     "name": "stdout",
     "output_type": "stream",
     "text": [
      "91 .gs://dl_training_results/checkpoints/Try_again_smallspot12Thu1219-1651/-E0065.ckpt\n",
      "92 .gs://dl_training_results/checkpoints/Try_again_smallspot12Thu1219-1651/-E0066.ckpt\n",
      "93 .gs://dl_training_results/checkpoints/Try_again_smallspot12Thu1219-1651/-E0067.ckpt\n",
      "94 .gs://dl_training_results/checkpoints/Try_again_smallspot12Thu1219-1651/-E0068.ckpt\n",
      "95 .gs://dl_training_results/checkpoints/Try_again_smallspot12Thu1219-1651/-E0069.ckpt\n",
      "96 .gs://dl_training_results/checkpoints/Try_again_smallspot12Thu1219-1651/-E0070.ckpt\n",
      "97 .gs://dl_training_results/checkpoints/Try_again_smallspot12Thu1219-1651/-E0071.ckpt\n",
      "98 .gs://dl_training_results/checkpoints/Try_again_smallspot12Thu1219-1651/-E0072.ckpt\n",
      "99 .gs://dl_training_results/checkpoints/Try_again_smallspot12Thu1219-1651/-E0073.ckpt\n",
      "100 .gs://dl_training_results/checkpoints/Try_again_smallspot12Thu1219-1651/-E0074.ckpt\n",
      "101 .gs://dl_training_results/checkpoints/Try_again_smallspot12Thu1219-1651/-E0075.ckpt\n",
      "102 .gs://dl_training_results/checkpoints/Try_again_smallspot12Thu1219-1651/-E0076.ckpt\n",
      "103 .gs://dl_training_results/checkpoints/Try_again_smallspot12Thu1219-1651/-E0077.ckpt\n",
      "104 .gs://dl_training_results/checkpoints/Try_again_smallspot12Thu1219-1651/-E0078.ckpt\n",
      "105 .gs://dl_training_results/checkpoints/Try_again_smallspot12Thu1219-1651/-E0079.ckpt\n",
      "106 .gs://dl_training_results/checkpoints/Try_again_smallspot12Thu1219-1651/-E0080.ckpt\n",
      "107 .gs://dl_training_results/checkpoints/Try_again_smallspot12Thu1219-1651/-E0081.ckpt\n",
      "108 .gs://dl_training_results/checkpoints/Try_again_smallspot12Thu1219-1651/-E0082.ckpt\n",
      "109 .gs://dl_training_results/checkpoints/Try_again_smallspot12Thu1219-1651/-E0083.ckpt\n",
      "110 .gs://dl_training_results/checkpoints/Try_again_smallspot12Thu1219-1651/-E0084.ckpt\n",
      "111 .gs://dl_training_results/checkpoints/Try_again_smallspot12Thu1219-1651/-E0085.ckpt\n",
      "112 .gs://dl_training_results/checkpoints/Try_again_smallspot12Thu1219-1651/-E0086.ckpt\n",
      "113 .gs://dl_training_results/checkpoints/Try_again_smallspot12Thu1219-1651/-E0087.ckpt\n",
      "114 .gs://dl_training_results/checkpoints/Try_again_smallspot12Thu1219-1651/-E0088.ckpt\n",
      "115 .gs://dl_training_results/checkpoints/Try_again_smallspot12Thu1219-1651/-E0089.ckpt\n",
      "116 .gs://dl_training_results/checkpoints/Try_again_smallspot12Thu1219-1651/-E0090.ckpt\n",
      "117 .gs://dl_training_results/checkpoints/Try_again_smallspot12Thu1219-1651/-E0091.ckpt\n",
      "118 .gs://dl_training_results/checkpoints/Try_again_smallspot12Thu1219-1651/-E0092.ckpt\n",
      "119 .gs://dl_training_results/checkpoints/Try_again_smallspot12Thu1219-1651/-E0093.ckpt\n",
      "120 .gs://dl_training_results/checkpoints/Try_again_smallspot12Thu1219-1651/-E0094.ckpt\n",
      "121 .gs://dl_training_results/checkpoints/Try_again_smallspot12Thu1219-1651/-E0095.ckpt\n",
      "122 .gs://dl_training_results/checkpoints/Try_again_smallspot12Thu1219-1651/-E0096.ckpt\n",
      "123 .gs://dl_training_results/checkpoints/Try_again_smallspot12Thu1219-1651/-E0097.ckpt\n",
      "124 .gs://dl_training_results/checkpoints/Try_again_smallspot12Thu1219-1651/-E0098.ckpt\n",
      "125 .gs://dl_training_results/checkpoints/Try_again_smallspot12Thu1219-1651/-E0099.ckpt\n",
      "126 .gs://dl_training_results/checkpoints/Try_again_smallspot12Thu1219-1651/-E0100.ckpt\n",
      "127 .gs://dl_training_results/checkpoints/Try_again_smallspot12Thu1219-1651/-E0101.ckpt\n",
      "128 .gs://dl_training_results/checkpoints/Try_again_smallspot12Thu1219-1651/-E0102.ckpt\n",
      "129 .gs://dl_training_results/checkpoints/Try_again_smallspot12Thu1219-1651/-E0103.ckpt\n",
      "130 .gs://dl_training_results/checkpoints/Try_again_smallspot12Thu1219-1651/-E0104.ckpt\n",
      "131 .gs://dl_training_results/checkpoints/Try_again_smallspot12Thu1219-1651/-E0105.ckpt\n",
      "132 .gs://dl_training_results/checkpoints/Try_again_smallspot12Thu1219-1651/-E0106.ckpt\n",
      "133 .gs://dl_training_results/checkpoints/Try_again_smallspot12Thu1219-1651/-E0107.ckpt\n",
      "134 .gs://dl_training_results/checkpoints/Try_again_smallspot12Thu1219-1651/-E0108.ckpt\n",
      "135 .gs://dl_training_results/checkpoints/Try_again_smallspot12Thu1219-1651/-E0109.ckpt\n",
      "136 .gs://dl_training_results/checkpoints/no_frills_smaller_spot12Thu1219-1628/-E0001.ckpt\n",
      "137 .gs://dl_training_results/checkpoints/no_frills_smaller_spot12Thu1219-1628/-E0002.ckpt\n",
      "138 .gs://dl_training_results/checkpoints/no_frills_smaller_spot12Thu1219-1628/-E0003.ckpt\n",
      "139 .gs://dl_training_results/checkpoints/no_frills_smaller_spot12Thu1219-1628/-E0004.ckpt\n",
      "140 .gs://dl_training_results/checkpoints/no_frills_smaller_spot12Thu1219-1628/-E0005.ckpt\n",
      "141 .gs://dl_training_results/checkpoints/no_frills_smaller_spot12Thu1219-1628/-E0006.ckpt\n",
      "142 .gs://dl_training_results/checkpoints/no_frills_smaller_spot12Thu1219-1628/-E0007.ckpt\n",
      "143 .gs://dl_training_results/checkpoints/no_frills_smaller_spot12Thu1219-1628/-E0008.ckpt\n",
      "144 .gs://dl_training_results/checkpoints/no_frills_smaller_spot12Thu1219-1628/-E0009.ckpt\n",
      "145 .gs://dl_training_results/checkpoints/no_frills_smaller_spot12Thu1219-1628/-E0010.ckpt\n",
      "146 .gs://dl_training_results/checkpoints/no_frills_smaller_spot12Thu1219-1628/-E0011.ckpt\n",
      "147 .gs://dl_training_results/checkpoints/no_frills_smaller_spot12Thu1219-1628/-E0012.ckpt\n",
      "148 .gs://dl_training_results/checkpoints/no_frills_smaller_spot12Thu1219-1628/-E0013.ckpt\n",
      "149 .gs://dl_training_results/checkpoints/no_frills_smaller_spot12Thu1219-1628/-E0014.ckpt\n",
      "150 .gs://dl_training_results/checkpoints/no_frills_smaller_spot12Thu1219-1628/-E0015.ckpt\n",
      "Please select checkpoint, or 0 to continue without loading:0\n"
     ]
    }
   ],
   "source": [
    "if cfg.ASK_FOR_CHECKPOINTS:\n",
    "    checkpoint,starting_epoch=load_weights.checkpoints_prompt(cfg)\n",
    "else:\n",
    "    checkpoint=None\n",
    "    starting_epoch=0"
   ]
  },
  {
   "cell_type": "markdown",
   "metadata": {},
   "source": [
    "### Build Model"
   ]
  },
  {
   "cell_type": "code",
   "execution_count": 19,
   "metadata": {
    "pycharm": {
     "is_executing": false,
     "name": "#%%\n"
    }
   },
   "outputs": [],
   "source": [
    "model_maker=model.ModelMaker(cfg) #must be outside scope to keep the graph clean\n",
    "tf.keras.backend.clear_session() #to clean to backaend from the imported model\n",
    "def define():\n",
    "    train_model,test_model=model_maker.create_models()\n",
    "    \n",
    "#     if cfg.INCLUDE_MASK:\n",
    "#         losses=[loss_metrics.MaskedMeanAbsoluteError()\n",
    "#                 ,loss_metrics.MaskedMeanAbsoluteError()\n",
    "#                 ,loss_metrics.MaskedMeanAbsoluteError()\n",
    "#                 ,loss_metrics.MaskedMeanAbsoluteError()\n",
    "#                 ,loss_metrics.MaskedMeanSquaredError()\n",
    "#                 ,loss_metrics.MaskedMeanSquaredError()]\n",
    "                      \n",
    "#     else:\n",
    "#         raise NotImplementedError       \n",
    "    \n",
    "    #this must match the model output order\n",
    "#     metrics=[\n",
    "#           []\n",
    "#          ,[]\n",
    "#          ,[]\n",
    "#          ,[]\n",
    "#          ,[tf.keras.metrics.MeanAbsoluteError()]    \n",
    "#          ,[tf.keras.metrics.MeanAbsoluteError()]\n",
    "#         ]\n",
    "    \n",
    "    train_model.compile(\n",
    "                    optimizer=tf.keras.optimizers.Adam(BASE_LEARNING_RATE)                   \n",
    "                    ,loss=loss_metrics.MaskedMeanSquaredError()\n",
    "                    ,loss_weights=[10,10,10,10,0.2,0.2]\n",
    "                    #,metrics=metrics                           \n",
    "                   )\n",
    "    return train_model,test_model\n",
    "\n",
    "if cfg.TPU_MODE:\n",
    "    with strategy.scope():\n",
    "        train_model,test_model=define()\n",
    "        if (checkpoint):\n",
    "            train_model.load_weights(checkpoint)\n",
    "else:\n",
    "    train_model,test_model=define()\n",
    "    if (checkpoint):\n",
    "        train_model.load_weights(checkpoint)"
   ]
  },
  {
   "cell_type": "markdown",
   "metadata": {},
   "source": [
    "### Callbacks"
   ]
  },
  {
   "cell_type": "code",
   "execution_count": 25,
   "metadata": {
    "pycharm": {
     "is_executing": false,
     "name": "#%%\n"
    }
   },
   "outputs": [],
   "source": [
    "all_callbacks=[\n",
    "    callbacks.make_LRscheduler_callback(LEARNING_RATE_SCHEDUELE)\n",
    "    ,callbacks.PrintLR()\n",
    "    ,tf.keras.callbacks.TerminateOnNaN()\n",
    "]\n",
    "if cfg.SAVE_CHECKPOINTS:all_callbacks+=[callbacks.make_checkpoint_callback(cfg,REAL_EPOCH_STEPS)]\n",
    "if cfg.SAVE_TENSORBOARD:all_callbacks+=[callbacks.make_tensorboard_callback(cfg,EPOCH_RATIO)]"
   ]
  },
  {
   "cell_type": "code",
   "execution_count": null,
   "metadata": {
    "pycharm": {
     "is_executing": false,
     "name": "#%% \n"
    }
   },
   "outputs": [],
   "source": [
    "#run to clean tensorboard results\n",
    "#!gsutil -m rm -r {cfg.TENSORBOARD_PATH}/*\n",
    "#!gsutil -m rm -r {cfg.CHECKPOINTS_PATH}/*"
   ]
  },
  {
   "cell_type": "markdown",
   "metadata": {},
   "source": [
    "---\n",
    "## Training\n",
    "Actually training"
   ]
  },
  {
   "cell_type": "code",
   "execution_count": null,
   "metadata": {
    "pycharm": {
     "is_executing": false
    },
    "scrolled": true
   },
   "outputs": [
    {
     "name": "stdout",
     "output_type": "stream",
     "text": [
      "Train for 50 steps, validate for 5 steps\n",
      "\n",
      "Learning rate for epoch 0 is 0.0010000000474974513\n",
      "Epoch 1/262\n"
     ]
    }
   ],
   "source": [
    "train_history=train_model.fit(\n",
    "    dst\n",
    "    ,epochs=SHORT_TRAINING_EPOCHS\n",
    "    ,steps_per_epoch=SHORT_EPOCH_STEPS\n",
    "    ,validation_steps=SHORT_VALIDATION_STEPS\n",
    "    ,validation_data=dsv\n",
    "    ,callbacks=all_callbacks\n",
    "    ,initial_epoch=starting_epoch\n",
    ")"
   ]
  },
  {
   "cell_type": "markdown",
   "metadata": {},
   "source": [
    "---\n",
    "### Save results"
   ]
  },
  {
   "cell_type": "code",
   "execution_count": null,
   "metadata": {
    "pycharm": {
     "is_executing": false
    }
   },
   "outputs": [],
   "source": [
    "tmp_path='gs://dl_training_results/tmp/tensorflow/temp_weights'\n",
    "train_model.save_weights(tmp_path)\n",
    "\n",
    "cpu_train_model,cpu_test_model=define()\n",
    "\n",
    "cpu_train_model.load_weights(tmp_path)\n",
    "cpu_test_model.load_weights(tmp_path)\n",
    "\n",
    "cpu_test_model.save(cfg.MODELS_PATH+\"/test_\"+cfg.RUN_NAME+now()) \n",
    "cpu_train_model.save(cfg.MODELS_PATH+\"/train_\"+cfg.RUN_NAME+now()) "
   ]
  },
  {
   "cell_type": "markdown",
   "metadata": {},
   "source": [
    "---\n",
    "### Shutdown"
   ]
  },
  {
   "cell_type": "code",
   "execution_count": null,
   "metadata": {
    "pycharm": {
     "is_executing": false,
     "name": "#%%\n"
    }
   },
   "outputs": [],
   "source": [
    "#shut down TPU\n",
    "!gcloud compute tpus stop node-1 --zone us-central1-c"
   ]
  },
  {
   "cell_type": "code",
   "execution_count": null,
   "metadata": {
    "pycharm": {
     "is_executing": false
    }
   },
   "outputs": [],
   "source": [
    "#shut down this host\n",
    "!gcloud compute instances stop instance-1 --zone us-central1-c"
   ]
  },
  {
   "cell_type": "code",
   "execution_count": null,
   "metadata": {},
   "outputs": [],
   "source": []
  }
 ],
 "metadata": {
  "kernelspec": {
   "display_name": "Python 3",
   "language": "python",
   "name": "python3"
  },
  "language_info": {
   "codemirror_mode": {
    "name": "ipython",
    "version": 3
   },
   "file_extension": ".py",
   "mimetype": "text/x-python",
   "name": "python",
   "nbconvert_exporter": "python",
   "pygments_lexer": "ipython3",
   "version": "3.5.3"
  },
  "pycharm": {
   "stem_cell": {
    "cell_type": "raw",
    "metadata": {
     "collapsed": false
    },
    "source": []
   }
  }
 },
 "nbformat": 4,
 "nbformat_minor": 2
}
