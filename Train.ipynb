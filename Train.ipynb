{
 "cells": [
  {
   "cell_type": "markdown",
   "metadata": {
    "pycharm": {
     "name": "#%% md\n"
    }
   },
   "source": [
    "# Yet Another OpenPose "
   ]
  },
  {
   "cell_type": "markdown",
   "metadata": {},
   "source": [
    "---\n",
    "## Environment"
   ]
  },
  {
   "cell_type": "code",
   "execution_count": 1,
   "metadata": {
    "pycharm": {
     "is_executing": false
    }
   },
   "outputs": [
    {
     "name": "stdout",
     "output_type": "stream",
     "text": [
      "michael_zl_prime\n",
      "                  Credentialed Accounts\n",
      "ACTIVE  ACCOUNT\n",
      "        312164605303-compute@developer.gserviceaccount.com\n",
      "*       michael.zl.prime@gmail.com\n",
      "\n",
      "To set the active account, run:\n",
      "    $ gcloud config set account `ACCOUNT`\n",
      "\n",
      "Python running from: /usr\n",
      "Current working dir /home/michael_zl_prime/project_drive/project\n"
     ]
    }
   ],
   "source": [
    "#verify user\n",
    "!whoami\n",
    "#verify user account, if running on google cloud, otherwise ignore\n",
    "!gcloud auth list\n",
    "#which Environment/virtualenv running in\n",
    "import sys\n",
    "import os\n",
    "\n",
    "print(\"Python running from:\",sys.prefix)\n",
    "print(\"Current working dir\",os.getcwd())"
   ]
  },
  {
   "cell_type": "code",
   "execution_count": 2,
   "metadata": {
    "pycharm": {
     "is_executing": false
    }
   },
   "outputs": [],
   "source": [
    "#start tensor board\n",
    "# must run \n",
    "#/usr/local/bin/tensorboard serve --logdir gs://dl_training_results/tensorboard --port 8889 --bind_all"
   ]
  },
  {
   "cell_type": "code",
   "execution_count": 3,
   "metadata": {
    "pycharm": {
     "is_executing": false
    }
   },
   "outputs": [
    {
     "name": "stdout",
     "output_type": "stream",
     "text": [
      "Request issued for: [node-1]\n",
      "Waiting for operation [projects/deeplearning-257902/locations/us-central1-c/ope\n",
      "rations/operation-1576283750663-5999f290604d1-1e841bcd-3c7edbb4] to complete...\n",
      "done.                                                                          \n",
      "done: true\n",
      "metadata:\n",
      "  '@type': type.googleapis.com/google.cloud.common.OperationMetadata\n",
      "  apiVersion: v1\n",
      "  cancelRequested: false\n",
      "  createTime: '2019-12-14T00:35:50.679117264Z'\n",
      "  endTime: '2019-12-14T00:37:57.423248228Z'\n",
      "  target: projects/deeplearning-257902/locations/us-central1-c/nodes/node-1\n",
      "  verb: update\n",
      "name: projects/deeplearning-257902/locations/us-central1-c/operations/operation-1576283750663-5999f290604d1-1e841bcd-3c7edbb4\n",
      "response:\n",
      "  '@type': type.googleapis.com/google.cloud.tpu.v1.Node\n",
      "  acceleratorType: v2-8\n",
      "  cidrBlock: 10.0.3.0/29\n",
      "  createTime: '2019-11-26T18:14:01.401101656Z'\n",
      "  health: HEALTHY\n",
      "  ipAddress: 10.0.3.2\n",
      "  name: projects/deeplearning-257902/locations/us-central1-c/nodes/node-1\n",
      "  network: global/networks/default\n",
      "  networkEndpoints:\n",
      "  - ipAddress: 10.0.3.2\n",
      "    port: 8470\n",
      "  port: '8470'\n",
      "  schedulingConfig:\n",
      "    preemptible: true\n",
      "  serviceAccount: service-312164605303@cloud-tpu.iam.gserviceaccount.com\n",
      "  state: READY\n",
      "  tensorflowVersion: nightly-2.x\n"
     ]
    }
   ],
   "source": [
    "#start TPU\n",
    "!gcloud compute tpus start node-1 --zone us-central1-c\n",
    "#stop TPU\n",
    "#!gcloud compute tpus stop node-1 --zone us-central1-c"
   ]
  },
  {
   "cell_type": "markdown",
   "metadata": {},
   "source": [
    "---\n",
    "## Config"
   ]
  },
  {
   "cell_type": "code",
   "execution_count": 4,
   "metadata": {
    "pycharm": {
     "is_executing": false
    }
   },
   "outputs": [],
   "source": [
    "import default_config as cfg\n",
    "\n",
    "#import local_storage_config as storage_cfg\n",
    "import remote_storage_config as storage_cfg\n",
    "cfg.__dict__.update(storage_cfg.__dict__)\n",
    "\n",
    "import tpu_training.TPU_config as TPU_config\n",
    "cfg.__dict__.update(TPU_config.__dict__) #comment out to disable TPU training\n",
    "\n",
    "cfg.RUN_NAME=\"model7\" #for reference "
   ]
  },
  {
   "cell_type": "code",
   "execution_count": 5,
   "metadata": {
    "pycharm": {
     "is_executing": false
    }
   },
   "outputs": [
    {
     "name": "stdout",
     "output_type": "stream",
     "text": [
      "Tensorflow version: 2.1.0-dev20191203\n"
     ]
    }
   ],
   "source": [
    "import tensorflow as tf\n",
    "print(\"Tensorflow version:\",tf.version.VERSION)"
   ]
  },
  {
   "cell_type": "code",
   "execution_count": 6,
   "metadata": {
    "pycharm": {
     "is_executing": false,
     "name": "#%% \n"
    }
   },
   "outputs": [
    {
     "name": "stdout",
     "output_type": "stream",
     "text": [
      "Testing results bucket connectivity\n",
      "Copying file:///tmp/test [Content-Type=application/octet-stream]...\n",
      "/ [1 files][    0.0 B/    0.0 B]                                                \n",
      "Operation completed over 1 objects.                                              \n",
      "Removing gs://dl_training_results/tensorboard/test...\n",
      "/ [1 objects]                                                                   \n",
      "Operation completed over 1 objects.                                              \n",
      "Copying file:///tmp/test [Content-Type=application/octet-stream]...\n",
      "/ [1 files][    0.0 B/    0.0 B]                                                \n",
      "Operation completed over 1 objects.                                              \n",
      "Removing gs://dl_training_results/checkpoints/test...\n",
      "/ [1 objects]                                                                   \n",
      "Operation completed over 1 objects.                                              \n",
      "Testing dataset bucket connectivity\n",
      "gs://datasets_bucket_a/training-001.tfrecords\n",
      "gs://datasets_bucket_a/training-002.tfrecords\n",
      "gs://datasets_bucket_a/training-003.tfrecords\n",
      "gs://datasets_bucket_a/training-004.tfrecords\n",
      "Testing TPU connectivity\n",
      "\n",
      "Starting Nmap 7.40 ( https://nmap.org ) at 2019-12-14 00:38 UTC\n",
      "Nmap scan report for 10.0.3.2\n",
      "Host is up.\n",
      "PORT     STATE    SERVICE\n",
      "8470/tcp filtered cisco-avp\n",
      "\n",
      "Nmap done: 1 IP address (1 host up) scanned in 2.04 seconds\n",
      "Trying to connect to a TPU node\n",
      "\n",
      "!!!MAKE SURE THE TPU ADDRESS IS CORRECT!!\n",
      "1.ip must be correct\n",
      "2.tpu must be turned on\n",
      "3.version must be 'nightly-2.x'\n",
      "4.tpu must be reachable (check with gce netowrking/connectivity test)\n",
      "if not this will hang!\n",
      "\n",
      "Trying to connect to: grpc://10.0.3.2:8470\n",
      "INFO:tensorflow:Initializing the TPU system: grpc://10.0.3.2:8470\n"
     ]
    },
    {
     "name": "stderr",
     "output_type": "stream",
     "text": [
      "INFO:tensorflow:Initializing the TPU system: grpc://10.0.3.2:8470\n"
     ]
    },
    {
     "name": "stdout",
     "output_type": "stream",
     "text": [
      "INFO:tensorflow:Clearing out eager caches\n"
     ]
    },
    {
     "name": "stderr",
     "output_type": "stream",
     "text": [
      "INFO:tensorflow:Clearing out eager caches\n"
     ]
    },
    {
     "name": "stdout",
     "output_type": "stream",
     "text": [
      "INFO:tensorflow:Finished initializing TPU system.\n"
     ]
    },
    {
     "name": "stderr",
     "output_type": "stream",
     "text": [
      "INFO:tensorflow:Finished initializing TPU system.\n"
     ]
    },
    {
     "name": "stdout",
     "output_type": "stream",
     "text": [
      "INFO:tensorflow:Found TPU system:\n"
     ]
    },
    {
     "name": "stderr",
     "output_type": "stream",
     "text": [
      "INFO:tensorflow:Found TPU system:\n"
     ]
    },
    {
     "name": "stdout",
     "output_type": "stream",
     "text": [
      "INFO:tensorflow:*** Num TPU Cores: 8\n"
     ]
    },
    {
     "name": "stderr",
     "output_type": "stream",
     "text": [
      "INFO:tensorflow:*** Num TPU Cores: 8\n"
     ]
    },
    {
     "name": "stdout",
     "output_type": "stream",
     "text": [
      "INFO:tensorflow:*** Num TPU Workers: 1\n"
     ]
    },
    {
     "name": "stderr",
     "output_type": "stream",
     "text": [
      "INFO:tensorflow:*** Num TPU Workers: 1\n"
     ]
    },
    {
     "name": "stdout",
     "output_type": "stream",
     "text": [
      "INFO:tensorflow:*** Num TPU Cores Per Worker: 8\n"
     ]
    },
    {
     "name": "stderr",
     "output_type": "stream",
     "text": [
      "INFO:tensorflow:*** Num TPU Cores Per Worker: 8\n"
     ]
    },
    {
     "name": "stdout",
     "output_type": "stream",
     "text": [
      "INFO:tensorflow:*** Available Device: _DeviceAttributes(/job:localhost/replica:0/task:0/device:CPU:0, CPU, 0, 0)\n"
     ]
    },
    {
     "name": "stderr",
     "output_type": "stream",
     "text": [
      "INFO:tensorflow:*** Available Device: _DeviceAttributes(/job:localhost/replica:0/task:0/device:CPU:0, CPU, 0, 0)\n"
     ]
    },
    {
     "name": "stdout",
     "output_type": "stream",
     "text": [
      "INFO:tensorflow:*** Available Device: _DeviceAttributes(/job:localhost/replica:0/task:0/device:XLA_CPU:0, XLA_CPU, 0, 0)\n"
     ]
    },
    {
     "name": "stderr",
     "output_type": "stream",
     "text": [
      "INFO:tensorflow:*** Available Device: _DeviceAttributes(/job:localhost/replica:0/task:0/device:XLA_CPU:0, XLA_CPU, 0, 0)\n"
     ]
    },
    {
     "name": "stdout",
     "output_type": "stream",
     "text": [
      "INFO:tensorflow:*** Available Device: _DeviceAttributes(/job:worker/replica:0/task:0/device:CPU:0, CPU, 0, 0)\n"
     ]
    },
    {
     "name": "stderr",
     "output_type": "stream",
     "text": [
      "INFO:tensorflow:*** Available Device: _DeviceAttributes(/job:worker/replica:0/task:0/device:CPU:0, CPU, 0, 0)\n"
     ]
    },
    {
     "name": "stdout",
     "output_type": "stream",
     "text": [
      "INFO:tensorflow:*** Available Device: _DeviceAttributes(/job:worker/replica:0/task:0/device:TPU:0, TPU, 0, 0)\n"
     ]
    },
    {
     "name": "stderr",
     "output_type": "stream",
     "text": [
      "INFO:tensorflow:*** Available Device: _DeviceAttributes(/job:worker/replica:0/task:0/device:TPU:0, TPU, 0, 0)\n"
     ]
    },
    {
     "name": "stdout",
     "output_type": "stream",
     "text": [
      "INFO:tensorflow:*** Available Device: _DeviceAttributes(/job:worker/replica:0/task:0/device:TPU:1, TPU, 0, 0)\n"
     ]
    },
    {
     "name": "stderr",
     "output_type": "stream",
     "text": [
      "INFO:tensorflow:*** Available Device: _DeviceAttributes(/job:worker/replica:0/task:0/device:TPU:1, TPU, 0, 0)\n"
     ]
    },
    {
     "name": "stdout",
     "output_type": "stream",
     "text": [
      "INFO:tensorflow:*** Available Device: _DeviceAttributes(/job:worker/replica:0/task:0/device:TPU:2, TPU, 0, 0)\n"
     ]
    },
    {
     "name": "stderr",
     "output_type": "stream",
     "text": [
      "INFO:tensorflow:*** Available Device: _DeviceAttributes(/job:worker/replica:0/task:0/device:TPU:2, TPU, 0, 0)\n"
     ]
    },
    {
     "name": "stdout",
     "output_type": "stream",
     "text": [
      "INFO:tensorflow:*** Available Device: _DeviceAttributes(/job:worker/replica:0/task:0/device:TPU:3, TPU, 0, 0)\n"
     ]
    },
    {
     "name": "stderr",
     "output_type": "stream",
     "text": [
      "INFO:tensorflow:*** Available Device: _DeviceAttributes(/job:worker/replica:0/task:0/device:TPU:3, TPU, 0, 0)\n"
     ]
    },
    {
     "name": "stdout",
     "output_type": "stream",
     "text": [
      "INFO:tensorflow:*** Available Device: _DeviceAttributes(/job:worker/replica:0/task:0/device:TPU:4, TPU, 0, 0)\n"
     ]
    },
    {
     "name": "stderr",
     "output_type": "stream",
     "text": [
      "INFO:tensorflow:*** Available Device: _DeviceAttributes(/job:worker/replica:0/task:0/device:TPU:4, TPU, 0, 0)\n"
     ]
    },
    {
     "name": "stdout",
     "output_type": "stream",
     "text": [
      "INFO:tensorflow:*** Available Device: _DeviceAttributes(/job:worker/replica:0/task:0/device:TPU:5, TPU, 0, 0)\n"
     ]
    },
    {
     "name": "stderr",
     "output_type": "stream",
     "text": [
      "INFO:tensorflow:*** Available Device: _DeviceAttributes(/job:worker/replica:0/task:0/device:TPU:5, TPU, 0, 0)\n"
     ]
    },
    {
     "name": "stdout",
     "output_type": "stream",
     "text": [
      "INFO:tensorflow:*** Available Device: _DeviceAttributes(/job:worker/replica:0/task:0/device:TPU:6, TPU, 0, 0)\n"
     ]
    },
    {
     "name": "stderr",
     "output_type": "stream",
     "text": [
      "INFO:tensorflow:*** Available Device: _DeviceAttributes(/job:worker/replica:0/task:0/device:TPU:6, TPU, 0, 0)\n"
     ]
    },
    {
     "name": "stdout",
     "output_type": "stream",
     "text": [
      "INFO:tensorflow:*** Available Device: _DeviceAttributes(/job:worker/replica:0/task:0/device:TPU:7, TPU, 0, 0)\n"
     ]
    },
    {
     "name": "stderr",
     "output_type": "stream",
     "text": [
      "INFO:tensorflow:*** Available Device: _DeviceAttributes(/job:worker/replica:0/task:0/device:TPU:7, TPU, 0, 0)\n"
     ]
    },
    {
     "name": "stdout",
     "output_type": "stream",
     "text": [
      "INFO:tensorflow:*** Available Device: _DeviceAttributes(/job:worker/replica:0/task:0/device:TPU_SYSTEM:0, TPU_SYSTEM, 0, 0)\n"
     ]
    },
    {
     "name": "stderr",
     "output_type": "stream",
     "text": [
      "INFO:tensorflow:*** Available Device: _DeviceAttributes(/job:worker/replica:0/task:0/device:TPU_SYSTEM:0, TPU_SYSTEM, 0, 0)\n"
     ]
    },
    {
     "name": "stdout",
     "output_type": "stream",
     "text": [
      "INFO:tensorflow:*** Available Device: _DeviceAttributes(/job:worker/replica:0/task:0/device:XLA_CPU:0, XLA_CPU, 0, 0)\n"
     ]
    },
    {
     "name": "stderr",
     "output_type": "stream",
     "text": [
      "INFO:tensorflow:*** Available Device: _DeviceAttributes(/job:worker/replica:0/task:0/device:XLA_CPU:0, XLA_CPU, 0, 0)\n"
     ]
    }
   ],
   "source": [
    "if cfg.TPU_MODE:\n",
    "    print(\"Testing results bucket connectivity\")\n",
    "    !touch /tmp/test\n",
    "    !gsutil cp /tmp/test {cfg.TENSORBOARD_PATH}/test\n",
    "    !gsutil rm {cfg.TENSORBOARD_PATH}/test\n",
    "    !gsutil cp /tmp/test {cfg.CHECKPOINTS_PATH}/test\n",
    "    !gsutil rm {cfg.CHECKPOINTS_PATH}/test\n",
    "    print(\"Testing dataset bucket connectivity\")\n",
    "    !gsutil ls gs://{cfg.GCS_TFRECORDS_BUCKETNAME} | head -4\n",
    "    print(\"Testing TPU connectivity\")\n",
    "    !nmap -Pn -p8470 {cfg.TPU_IP}\n",
    "    import tpu_training.init_TPU as init_TPU\n",
    "    strategy,resolver=init_TPU.init_tpu() #This must be run before any imports!!!!"
   ]
  },
  {
   "cell_type": "code",
   "execution_count": 7,
   "metadata": {
    "pycharm": {
     "is_executing": false
    }
   },
   "outputs": [],
   "source": [
    "import datetime\n",
    "import numpy as np\n",
    "\n",
    "import dataset_functions\n",
    "import models.six_stage_linear_model as model\n",
    "import callbacks\n",
    "import dataset_builder\n",
    "import load_weights\n",
    "import loss_metrics\n",
    "from utils import now"
   ]
  },
  {
   "cell_type": "code",
   "execution_count": 8,
   "metadata": {
    "pycharm": {
     "is_executing": false
    }
   },
   "outputs": [],
   "source": [
    "# import importlib as il\n",
    "# il.reload() #useful to reload any changes"
   ]
  },
  {
   "cell_type": "markdown",
   "metadata": {},
   "source": [
    "---\n",
    "## Dataset"
   ]
  },
  {
   "cell_type": "code",
   "execution_count": 9,
   "metadata": {},
   "outputs": [],
   "source": [
    "# Training settings\n",
    "TRAINING_EPOCHS = 30\n",
    "REAL_EPOCH_STEPS = int(cfg.DATASET_SIZE / cfg.BATCH_SIZE)\n",
    "SHORT_EPOCH_STEPS=50 #actual epocsh used in training, smaller than real epoch, but allows to track progress better, [in batches]\n",
    "SHORT_TRAINING_EPOCHS=int(TRAINING_EPOCHS*(REAL_EPOCH_STEPS/SHORT_EPOCH_STEPS))\n",
    "SHORT_VALIDATION_STEPS=5 #per short epoch\n",
    "\n",
    "EPOCH_RATIO=int(REAL_EPOCH_STEPS / SHORT_TRAINING_EPOCHS)\n",
    "# adam_learning_rate=0.001  #for reference\n",
    "BASE_LEARNING_RATE = 0.001\n",
    "LEARNING_RATE_SCHEDUELE = np.zeros(100000)  #used with short epochs\n",
    "LEARNING_RATE_SCHEDUELE[:3 * EPOCH_RATIO] = 1\n",
    "LEARNING_RATE_SCHEDUELE[3 * EPOCH_RATIO:20 * EPOCH_RATIO] = 1\n",
    "LEARNING_RATE_SCHEDUELE[20 * EPOCH_RATIO:40 * EPOCH_RATIO] = 1\n",
    "LEARNING_RATE_SCHEDUELE[40 * EPOCH_RATIO:100 * EPOCH_RATIO] = 0.5\n",
    "LEARNING_RATE_SCHEDUELE[100 * EPOCH_RATIO:] = 0.3\n",
    "LEARNING_RATE_SCHEDUELE *= BASE_LEARNING_RATE"
   ]
  },
  {
   "cell_type": "code",
   "execution_count": 10,
   "metadata": {
    "pycharm": {
     "is_executing": false
    }
   },
   "outputs": [
    {
     "name": "stdout",
     "output_type": "stream",
     "text": [
      "Retrieving TFrecords from: gs://datasets_bucket_a/training\n",
      "Retrieving TFrecords from: gs://datasets_bucket_a/validation\n",
      "Found the following training TFrecords:\n",
      " gs://datasets_bucket_a/training-001.tfrecords\n",
      "gs://datasets_bucket_a/training-002.tfrecords\n",
      "gs://datasets_bucket_a/training-003.tfrecords\n",
      "gs://datasets_bucket_a/training-004.tfrecords\n",
      "gs://datasets_bucket_a/training-005.tfrecords\n",
      "gs://datasets_bucket_a/training-006.tfrecords\n",
      "gs://datasets_bucket_a/training-007.tfrecords\n",
      "gs://datasets_bucket_a/training-008.tfrecords\n",
      "gs://datasets_bucket_a/training-009.tfrecords\n",
      "gs://datasets_bucket_a/training-010.tfrecords\n",
      "gs://datasets_bucket_a/training-011.tfrecords\n",
      "gs://datasets_bucket_a/training-012.tfrecords\n",
      "gs://datasets_bucket_a/training-013.tfrecords\n",
      "gs://datasets_bucket_a/training-014.tfrecords\n",
      "gs://datasets_bucket_a/training-015.tfrecords\n",
      "gs://datasets_bucket_a/training-016.tfrecords\n",
      "gs://datasets_bucket_a/training-017.tfrecords\n",
      "gs://datasets_bucket_a/training-018.tfrecords\n",
      "gs://datasets_bucket_a/training-019.tfrecords\n",
      "gs://datasets_bucket_a/training-020.tfrecords\n",
      "gs://datasets_bucket_a/training-021.tfrecords\n",
      "gs://datasets_bucket_a/training-022.tfrecords\n",
      "gs://datasets_bucket_a/training-023.tfrecords\n",
      "gs://datasets_bucket_a/training-024.tfrecords\n",
      "gs://datasets_bucket_a/training-025.tfrecords\n",
      "gs://datasets_bucket_a/training-026.tfrecords\n",
      "gs://datasets_bucket_a/training-027.tfrecords\n",
      "gs://datasets_bucket_a/training-028.tfrecords\n",
      "gs://datasets_bucket_a/training-029.tfrecords\n",
      "gs://datasets_bucket_a/training-030.tfrecords\n",
      "gs://datasets_bucket_a/training-031.tfrecords\n",
      "gs://datasets_bucket_a/training-032.tfrecords\n",
      "gs://datasets_bucket_a/training-033.tfrecords\n",
      "gs://datasets_bucket_a/training-034.tfrecords\n",
      "gs://datasets_bucket_a/training-035.tfrecords\n",
      "gs://datasets_bucket_a/training-036.tfrecords\n",
      "gs://datasets_bucket_a/training-037.tfrecords\n",
      "gs://datasets_bucket_a/training-038.tfrecords\n",
      "gs://datasets_bucket_a/training-039.tfrecords\n",
      "gs://datasets_bucket_a/training-040.tfrecords\n",
      "gs://datasets_bucket_a/training-041.tfrecords\n",
      "gs://datasets_bucket_a/training-042.tfrecords\n",
      "gs://datasets_bucket_a/training-043.tfrecords\n",
      "gs://datasets_bucket_a/training-044.tfrecords\n",
      "gs://datasets_bucket_a/training-045.tfrecords\n",
      "gs://datasets_bucket_a/training-046.tfrecords\n",
      "gs://datasets_bucket_a/training-047.tfrecords\n",
      "gs://datasets_bucket_a/training-048.tfrecords\n",
      "gs://datasets_bucket_a/training-049.tfrecords\n",
      "gs://datasets_bucket_a/training-050.tfrecords\n",
      "gs://datasets_bucket_a/training-051.tfrecords\n",
      "gs://datasets_bucket_a/training-052.tfrecords\n",
      "gs://datasets_bucket_a/training-053.tfrecords\n",
      "gs://datasets_bucket_a/training-054.tfrecords\n",
      "gs://datasets_bucket_a/training-055.tfrecords\n",
      "gs://datasets_bucket_a/training-056.tfrecords\n",
      "gs://datasets_bucket_a/training-057.tfrecords\n",
      "Found the following validation TFrecords:\n",
      " gs://datasets_bucket_a/validation-001.tfrecords\n",
      "gs://datasets_bucket_a/validation-002.tfrecords\n",
      "gs://datasets_bucket_a/validation-003.tfrecords\n",
      "Building training dataset\n",
      "Training dataset shape: <PrefetchDataset shapes: (((None, 368, 368, 3), (None, 46, 46, 1)), ((None, 46, 46, 35), (None, 46, 46, 35), (None, 46, 46, 35), (None, 46, 46, 35), (None, 46, 46, 19), (None, 46, 46, 19))), types: ((tf.float32, tf.float32), (tf.float32, tf.float32, tf.float32, tf.float32, tf.float32, tf.float32))>\n",
      "Building validation dataset\n",
      "Validation dataset shape: <PrefetchDataset shapes: (((None, 368, 368, 3), (None, 46, 46, 1)), ((None, 46, 46, 35), (None, 46, 46, 35), (None, 46, 46, 35), (None, 46, 46, 35), (None, 46, 46, 19), (None, 46, 46, 19))), types: ((tf.float32, tf.float32), (tf.float32, tf.float32, tf.float32, tf.float32, tf.float32, tf.float32))>\n"
     ]
    }
   ],
   "source": [
    "model_ds=model.ModelDatasetComponent(cfg)\n",
    "\n",
    "tfrecord_files_train=dataset_builder.get_tfrecord_filenames(cfg.TRAIN_TFRECORDS,cfg)\n",
    "tfrecord_files_valid=dataset_builder.get_tfrecord_filenames(cfg.VALID_TFRECORDS,cfg)\n",
    "print(\"Found the following training TFrecords:\\n\",\"\\n\".join(tfrecord_files_train))\n",
    "print(\"Found the following validation TFrecords:\\n\",\"\\n\".join(tfrecord_files_valid))\n",
    "\n",
    "print(\"Building training dataset\")\n",
    "dst=dataset_builder.build_training_ds(tfrecord_files_train,model_ds.place_training_labels,cfg)\n",
    "print(\"Training dataset shape:\",dst)\n",
    "print(\"Building validation dataset\")\n",
    "dsv=dataset_builder.build_validation_ds(tfrecord_files_valid,model_ds.place_training_labels,cfg)\n",
    "print(\"Validation dataset shape:\",dsv)\n"
   ]
  },
  {
   "cell_type": "code",
   "execution_count": 11,
   "metadata": {
    "pycharm": {
     "is_executing": false,
     "name": "#%%\n"
    }
   },
   "outputs": [],
   "source": [
    "#Test element\n",
    "# dst_iter=iter(dst)\n",
    "# sample_elem=next(dst_iter)\n",
    "# print(\"Dataset shape:\",dst) #this should match the model input, and output stages"
   ]
  },
  {
   "cell_type": "code",
   "execution_count": 12,
   "metadata": {
    "pycharm": {
     "is_executing": false,
     "name": "#%%\n"
    }
   },
   "outputs": [],
   "source": [
    "#testing mask\n",
    "# sample_elem=next(dst_iter)\n",
    "# m=sample_elem[1][1][0,...,0]\n",
    "# import matplotlib.pyplot as plt\n",
    "# plt.imshow(m)\n",
    "# plt.colorbar()"
   ]
  },
  {
   "cell_type": "markdown",
   "metadata": {},
   "source": [
    "---\n",
    "## Model\n",
    "### Load weights"
   ]
  },
  {
   "cell_type": "code",
   "execution_count": 13,
   "metadata": {
    "pycharm": {
     "is_executing": false
    }
   },
   "outputs": [
    {
     "name": "stdout",
     "output_type": "stream",
     "text": [
      "Found these checkpoints:\n",
      "0.Dont load checkpoint\n",
      "1 .gs://dl_training_results/checkpoints/Fixed_mirror13Fri1219-0243/-E0009.ckpt\n",
      "2 .gs://dl_training_results/checkpoints/Fixed_mirror13Fri1219-0243/-E0018.ckpt\n",
      "3 .gs://dl_training_results/checkpoints/Fixed_mirror13Fri1219-0243/-E0027.ckpt\n",
      "4 .gs://dl_training_results/checkpoints/Fixed_mirror13Fri1219-0243/-E0036.ckpt\n",
      "5 .gs://dl_training_results/checkpoints/Full_model_2_2augs_dp0111Wed1219-1833/-E0009.ckpt_temp_1d8239e45732435f97e3b43074192752/part-00000-of-00002\n",
      "6 .gs://dl_training_results/checkpoints/Full_model_2_2augs_dp0111Wed1219-1833/-E0009.ckpt_temp_1d8239e45732435f97e3b43074192752/part-00001-of-00002\n",
      "7 .gs://dl_training_results/checkpoints/Full_model_2_2augs_dp0111Wed1219-1842/-E0001.ckpt\n",
      "8 .gs://dl_training_results/checkpoints/Full_model_2_2augs_dp0111Wed1219-1842/-E0002.ckpt\n",
      "9 .gs://dl_training_results/checkpoints/Full_model_2_2augs_dp0111Wed1219-1842/-E0003.ckpt\n",
      "10 .gs://dl_training_results/checkpoints/Full_model_2_2augs_dp01_15joint11Wed1219-1917/-E0001.ckpt\n",
      "11 .gs://dl_training_results/checkpoints/Full_model_2_2augs_dp01_15joint11Wed1219-1917/-E0002.ckpt\n",
      "12 .gs://dl_training_results/checkpoints/Full_model_2_2augs_dp01_15joint11Wed1219-1917/-E0003.ckpt\n",
      "13 .gs://dl_training_results/checkpoints/Full_model_2_2augs_dp01_15joint11Wed1219-1917/-E0004.ckpt\n",
      "14 .gs://dl_training_results/checkpoints/Full_model_2_2augs_dp01_15joint_nobn-11Wed1219-2050/-E0001.ckpt\n",
      "15 .gs://dl_training_results/checkpoints/Full_model_2_2augs_dp01_15joint_nobn-11Wed1219-2050/-E0002.ckpt\n",
      "16 .gs://dl_training_results/checkpoints/Full_model_2_2augs_dp01_15joint_nobn-11Wed1219-2050/-E0003.ckpt\n",
      "17 .gs://dl_training_results/checkpoints/Full_model_2_2augs_dp01_15joint_nobn-11Wed1219-2050/-E0004.ckpt\n",
      "18 .gs://dl_training_results/checkpoints/Full_model_2_2augs_dp01_15joint_nobn-11Wed1219-2050/-E0005.ckpt\n",
      "19 .gs://dl_training_results/checkpoints/Full_model_2_2augs_dp01_15joint_nofinalbn-11Wed1219-2011/-E0001.ckpt\n",
      "20 .gs://dl_training_results/checkpoints/Full_model_2_2augs_dp01_15joint_nofinalbn-11Wed1219-2011/-E0002.ckpt\n",
      "21 .gs://dl_training_results/checkpoints/Full_model_2_2augs_dp01_15joint_nofinalbn-11Wed1219-2011/-E0003.ckpt\n",
      "22 .gs://dl_training_results/checkpoints/Full_model_2augs_dp11Wed1219-1624/-E0001.ckpt\n",
      "23 .gs://dl_training_results/checkpoints/Full_model_2augs_dp11Wed1219-1624/-E0002.ckpt\n",
      "24 .gs://dl_training_results/checkpoints/Full_model_2augs_dp11Wed1219-1624/-E0003.ckpt\n",
      "25 .gs://dl_training_results/checkpoints/Full_model_2augs_dp11Wed1219-1624/-E0004.ckpt\n",
      "26 .gs://dl_training_results/checkpoints/Full_model_2augs_dp11Wed1219-1624/-E0005.ckpt\n",
      "27 .gs://dl_training_results/checkpoints/Full_model_2augs_dp11Wed1219-1624/-E0006.ckpt\n",
      "28 .gs://dl_training_results/checkpoints/Full_model_2augs_dp11Wed1219-1624/-E0007.ckpt\n",
      "29 .gs://dl_training_results/checkpoints/Full_model_2augs_dp11Wed1219-1624/-E0008.ckpt\n",
      "30 .gs://dl_training_results/checkpoints/Full_model_2augs_dp11Wed1219-1624/-E0009.ckpt\n",
      "31 .gs://dl_training_results/checkpoints/Try_again_smallspot12Thu1219-1651/-E0109.ckpt\n",
      "32 .gs://dl_training_results/checkpoints/model513Fri1219-2331/-E0009.ckpt\n",
      "33 .gs://dl_training_results/checkpoints/model613Fri1219-2348/-E0009.ckpt\n",
      "34 .gs://dl_training_results/checkpoints/no_frills_smaller_spot12Thu1219-1628/-E0001.ckpt\n",
      "35 .gs://dl_training_results/checkpoints/no_frills_smaller_spot12Thu1219-1628/-E0002.ckpt\n",
      "36 .gs://dl_training_results/checkpoints/no_frills_smaller_spot12Thu1219-1628/-E0003.ckpt\n",
      "37 .gs://dl_training_results/checkpoints/no_frills_smaller_spot12Thu1219-1628/-E0004.ckpt\n",
      "38 .gs://dl_training_results/checkpoints/no_frills_smaller_spot12Thu1219-1628/-E0005.ckpt\n",
      "39 .gs://dl_training_results/checkpoints/no_frills_smaller_spot12Thu1219-1628/-E0006.ckpt\n",
      "40 .gs://dl_training_results/checkpoints/no_frills_smaller_spot12Thu1219-1628/-E0007.ckpt\n",
      "41 .gs://dl_training_results/checkpoints/no_frills_smaller_spot12Thu1219-1628/-E0008.ckpt\n",
      "42 .gs://dl_training_results/checkpoints/no_frills_smaller_spot12Thu1219-1628/-E0009.ckpt\n",
      "43 .gs://dl_training_results/checkpoints/no_frills_smaller_spot12Thu1219-1628/-E0010.ckpt\n",
      "44 .gs://dl_training_results/checkpoints/no_frills_smaller_spot12Thu1219-1628/-E0011.ckpt\n",
      "45 .gs://dl_training_results/checkpoints/no_frills_smaller_spot12Thu1219-1628/-E0012.ckpt\n",
      "46 .gs://dl_training_results/checkpoints/no_frills_smaller_spot12Thu1219-1628/-E0013.ckpt\n",
      "47 .gs://dl_training_results/checkpoints/no_frills_smaller_spot12Thu1219-1628/-E0014.ckpt\n",
      "48 .gs://dl_training_results/checkpoints/no_frills_smaller_spot12Thu1219-1628/-E0015.ckpt\n",
      "Please select checkpoint, or 0 to continue without loading:0\n"
     ]
    }
   ],
   "source": [
    "if cfg.ASK_FOR_CHECKPOINTS:\n",
    "    checkpoint,starting_epoch=load_weights.checkpoints_prompt(cfg)\n",
    "else:\n",
    "    checkpoint=None\n",
    "    starting_epoch=0"
   ]
  },
  {
   "cell_type": "markdown",
   "metadata": {},
   "source": [
    "### Build Model"
   ]
  },
  {
   "cell_type": "code",
   "execution_count": 14,
   "metadata": {
    "pycharm": {
     "is_executing": false,
     "name": "#%%\n"
    }
   },
   "outputs": [],
   "source": [
    "model_maker=model.ModelMaker(cfg) #must be outside scope to keep the graph clean\n",
    "tf.keras.backend.clear_session() #to clean to backaend from the imported model\n",
    "def define():\n",
    "    train_model,test_model=model_maker.create_models()\n",
    "    \n",
    "#     if cfg.INCLUDE_MASK:\n",
    "#         losses=[loss_metrics.MaskedMeanAbsoluteError()\n",
    "#                 ,loss_metrics.MaskedMeanAbsoluteError()\n",
    "#                 ,loss_metrics.MaskedMeanAbsoluteError()\n",
    "#                 ,loss_metrics.MaskedMeanAbsoluteError()\n",
    "#                 ,loss_metrics.MaskedMeanSquaredError()\n",
    "#                 ,loss_metrics.MaskedMeanSquaredError()]\n",
    "                      \n",
    "#     else:\n",
    "#         raise NotImplementedError       \n",
    "    \n",
    "    #this must match the model output order\n",
    "    metrics=[\n",
    "          [loss_metrics.MeanAbsolute(),loss_metrics.MeanAbsoluteRatio()]\n",
    "         ,[loss_metrics.MeanAbsolute(),loss_metrics.MeanAbsoluteRatio()]\n",
    "         ,[loss_metrics.MeanAbsolute(),loss_metrics.MeanAbsoluteRatio()]\n",
    "         ,[loss_metrics.MeanAbsolute(),loss_metrics.MeanAbsoluteRatio()]\n",
    "         ,[loss_metrics.MeanAbsolute(),loss_metrics.MeanAbsoluteRatio()]    \n",
    "         ,[loss_metrics.MeanAbsolute(),loss_metrics.MeanAbsoluteRatio()]\n",
    "        ]\n",
    "    \n",
    "    train_model.compile(\n",
    "                    optimizer=tf.keras.optimizers.Adam(BASE_LEARNING_RATE)                   \n",
    "                    ,loss=loss_metrics.MaskedMeanSquaredError()\n",
    "                    ,loss_weights=[10,10,10,10,0.2,0.2]\n",
    "                    ,metrics=metrics                           \n",
    "                   )\n",
    "    return train_model,test_model\n",
    "\n",
    "if cfg.TPU_MODE:\n",
    "    with strategy.scope():\n",
    "        train_model,test_model=define()\n",
    "        if (checkpoint):\n",
    "            train_model.load_weights(checkpoint)\n",
    "else:\n",
    "    train_model,test_model=define()\n",
    "    if (checkpoint):\n",
    "        train_model.load_weights(checkpoint)"
   ]
  },
  {
   "cell_type": "markdown",
   "metadata": {},
   "source": [
    "### Callbacks"
   ]
  },
  {
   "cell_type": "code",
   "execution_count": 18,
   "metadata": {
    "pycharm": {
     "is_executing": false,
     "name": "#%%\n"
    }
   },
   "outputs": [],
   "source": [
    "all_callbacks=[\n",
    "    callbacks.make_LRscheduler_callback(LEARNING_RATE_SCHEDUELE)\n",
    "    ,callbacks.PrintLR()\n",
    "    ,tf.keras.callbacks.TerminateOnNaN()\n",
    "]\n",
    "if cfg.SAVE_CHECKPOINTS:all_callbacks+=[callbacks.make_checkpoint_callback(cfg,REAL_EPOCH_STEPS*cfg.BATCH_SIZE)]\n",
    "if cfg.SAVE_TENSORBOARD:all_callbacks+=[callbacks.make_tensorboard_callback(cfg,EPOCH_RATIO)]"
   ]
  },
  {
   "cell_type": "code",
   "execution_count": 16,
   "metadata": {
    "pycharm": {
     "is_executing": false,
     "name": "#%% \n"
    }
   },
   "outputs": [],
   "source": [
    "#run to clean tensorboard results\n",
    "#!gsutil -m rm -r {cfg.TENSORBOARD_PATH}/*\n",
    "#!gsutil -m rm -r {cfg.CHECKPOINTS_PATH}/*"
   ]
  },
  {
   "cell_type": "markdown",
   "metadata": {},
   "source": [
    "---\n",
    "## Training\n",
    "Actually training"
   ]
  },
  {
   "cell_type": "code",
   "execution_count": null,
   "metadata": {
    "pycharm": {
     "is_executing": false
    },
    "scrolled": true
   },
   "outputs": [
    {
     "name": "stdout",
     "output_type": "stream",
     "text": [
      "Train for 50 steps, validate for 5 steps\n",
      "\n",
      "Learning rate for epoch 0 is 0.0010000000474974513\n",
      "Epoch 1/262\n",
      " 1/50 [..............................] - ETA: 48:22 - loss: 0.2323 - s1pafs_output_loss: 0.0056 - s2pafs_output_loss: 0.0056 - s3pafs_output_loss: 0.0056 - s4pafs_output_loss: 0.0056 - s5kpts_output_loss: 0.0201 - s6kpts_output_loss: 0.0201 - s1pafs_output_SumAbsolute: 304373.7500 - s1pafs_output_MeanAbsoluteRatio: 6.8480 - s2pafs_output_SumAbsolute: 325780.7500 - s2pafs_output_MeanAbsoluteRatio: 7.3295 - s3pafs_output_SumAbsolute: 310484.9688 - s3pafs_output_MeanAbsoluteRatio: 6.9853 - s4pafs_output_SumAbsolute: 314480.4062 - s4pafs_output_MeanAbsoluteRatio: 7.0752 - s5kpts_output_SumAbsolute: 259416.3750 - s5kpts_output_MeanAbsoluteRatio: 4.6295 - s6kpts_output_SumAbsolute: 259416.0000 - s6kpts_output_MeanAbsoluteRatio: 4.6295WARNING:tensorflow:Method (on_train_batch_end) is slow compared to the batch update (0.951261). Check your callbacks.\n"
     ]
    },
    {
     "name": "stderr",
     "output_type": "stream",
     "text": [
      "WARNING:tensorflow:Method (on_train_batch_end) is slow compared to the batch update (0.951261). Check your callbacks.\n"
     ]
    },
    {
     "name": "stdout",
     "output_type": "stream",
     "text": [
      "49/50 [============================>.] - ETA: 2s - loss: 0.1993 - s1pafs_output_loss: 0.0048 - s2pafs_output_loss: 0.0048 - s3pafs_output_loss: 0.0048 - s4pafs_output_loss: 0.0048 - s5kpts_output_loss: 0.0177 - s6kpts_output_loss: 0.0177 - s1pafs_output_SumAbsolute: 16097255.0000 - s1pafs_output_MeanAbsoluteRatio: 370.4146 - s2pafs_output_SumAbsolute: 16200471.0000 - s2pafs_output_MeanAbsoluteRatio: 372.7456 - s3pafs_output_SumAbsolute: 16193094.0000 - s3pafs_output_MeanAbsoluteRatio: 372.5668 - s4pafs_output_SumAbsolute: 16101329.0000 - s4pafs_output_MeanAbsoluteRatio: 370.4571 - s5kpts_output_SumAbsolute: 12881017.0000 - s5kpts_output_MeanAbsoluteRatio: 239.3925 - s6kpts_output_SumAbsolute: 12881005.0000 - s6kpts_output_MeanAbsoluteRatio: 239.3922WARNING:tensorflow:5 out of the last 5 calls to <bound method SumAbsolute.update_state of <loss_metrics.SumAbsolute object at 0x7f91ec7c1240>> triggered tf.function retracing. Tracing is expensive and the excessive number of tracings is likely due to passing python objects instead of tensors. Also, tf.function has experimental_relax_shapes=True option that relaxes argument shapes that can avoid unnecessary retracing. Please refer to https://www.tensorflow.org/tutorials/customization/performance#python_or_tensor_args and https://www.tensorflow.org/api_docs/python/tf/function for more details.\n"
     ]
    },
    {
     "name": "stderr",
     "output_type": "stream",
     "text": [
      "WARNING:tensorflow:5 out of the last 5 calls to <bound method SumAbsolute.update_state of <loss_metrics.SumAbsolute object at 0x7f91ec7c1240>> triggered tf.function retracing. Tracing is expensive and the excessive number of tracings is likely due to passing python objects instead of tensors. Also, tf.function has experimental_relax_shapes=True option that relaxes argument shapes that can avoid unnecessary retracing. Please refer to https://www.tensorflow.org/tutorials/customization/performance#python_or_tensor_args and https://www.tensorflow.org/api_docs/python/tf/function for more details.\n"
     ]
    },
    {
     "name": "stdout",
     "output_type": "stream",
     "text": [
      "WARNING:tensorflow:5 out of the last 5 calls to <bound method MeanAbsoluteRatio.update_state of <loss_metrics.MeanAbsoluteRatio object at 0x7f91ec7c1470>> triggered tf.function retracing. Tracing is expensive and the excessive number of tracings is likely due to passing python objects instead of tensors. Also, tf.function has experimental_relax_shapes=True option that relaxes argument shapes that can avoid unnecessary retracing. Please refer to https://www.tensorflow.org/tutorials/customization/performance#python_or_tensor_args and https://www.tensorflow.org/api_docs/python/tf/function for more details.\n"
     ]
    },
    {
     "name": "stderr",
     "output_type": "stream",
     "text": [
      "WARNING:tensorflow:5 out of the last 5 calls to <bound method MeanAbsoluteRatio.update_state of <loss_metrics.MeanAbsoluteRatio object at 0x7f91ec7c1470>> triggered tf.function retracing. Tracing is expensive and the excessive number of tracings is likely due to passing python objects instead of tensors. Also, tf.function has experimental_relax_shapes=True option that relaxes argument shapes that can avoid unnecessary retracing. Please refer to https://www.tensorflow.org/tutorials/customization/performance#python_or_tensor_args and https://www.tensorflow.org/api_docs/python/tf/function for more details.\n"
     ]
    },
    {
     "name": "stdout",
     "output_type": "stream",
     "text": [
      "WARNING:tensorflow:5 out of the last 5 calls to <bound method SumAbsolute.update_state of <loss_metrics.SumAbsolute object at 0x7f91ec7c1c88>> triggered tf.function retracing. Tracing is expensive and the excessive number of tracings is likely due to passing python objects instead of tensors. Also, tf.function has experimental_relax_shapes=True option that relaxes argument shapes that can avoid unnecessary retracing. Please refer to https://www.tensorflow.org/tutorials/customization/performance#python_or_tensor_args and https://www.tensorflow.org/api_docs/python/tf/function for more details.\n"
     ]
    },
    {
     "name": "stderr",
     "output_type": "stream",
     "text": [
      "WARNING:tensorflow:5 out of the last 5 calls to <bound method SumAbsolute.update_state of <loss_metrics.SumAbsolute object at 0x7f91ec7c1c88>> triggered tf.function retracing. Tracing is expensive and the excessive number of tracings is likely due to passing python objects instead of tensors. Also, tf.function has experimental_relax_shapes=True option that relaxes argument shapes that can avoid unnecessary retracing. Please refer to https://www.tensorflow.org/tutorials/customization/performance#python_or_tensor_args and https://www.tensorflow.org/api_docs/python/tf/function for more details.\n"
     ]
    },
    {
     "name": "stdout",
     "output_type": "stream",
     "text": [
      "WARNING:tensorflow:5 out of the last 5 calls to <bound method MeanAbsoluteRatio.update_state of <loss_metrics.MeanAbsoluteRatio object at 0x7f91ec7cd4e0>> triggered tf.function retracing. Tracing is expensive and the excessive number of tracings is likely due to passing python objects instead of tensors. Also, tf.function has experimental_relax_shapes=True option that relaxes argument shapes that can avoid unnecessary retracing. Please refer to https://www.tensorflow.org/tutorials/customization/performance#python_or_tensor_args and https://www.tensorflow.org/api_docs/python/tf/function for more details.\n"
     ]
    },
    {
     "name": "stderr",
     "output_type": "stream",
     "text": [
      "WARNING:tensorflow:5 out of the last 5 calls to <bound method MeanAbsoluteRatio.update_state of <loss_metrics.MeanAbsoluteRatio object at 0x7f91ec7cd4e0>> triggered tf.function retracing. Tracing is expensive and the excessive number of tracings is likely due to passing python objects instead of tensors. Also, tf.function has experimental_relax_shapes=True option that relaxes argument shapes that can avoid unnecessary retracing. Please refer to https://www.tensorflow.org/tutorials/customization/performance#python_or_tensor_args and https://www.tensorflow.org/api_docs/python/tf/function for more details.\n"
     ]
    },
    {
     "name": "stdout",
     "output_type": "stream",
     "text": [
      "WARNING:tensorflow:5 out of the last 5 calls to <bound method SumAbsolute.update_state of <loss_metrics.SumAbsolute object at 0x7f91ec7cdcf8>> triggered tf.function retracing. Tracing is expensive and the excessive number of tracings is likely due to passing python objects instead of tensors. Also, tf.function has experimental_relax_shapes=True option that relaxes argument shapes that can avoid unnecessary retracing. Please refer to https://www.tensorflow.org/tutorials/customization/performance#python_or_tensor_args and https://www.tensorflow.org/api_docs/python/tf/function for more details.\n"
     ]
    },
    {
     "name": "stderr",
     "output_type": "stream",
     "text": [
      "WARNING:tensorflow:5 out of the last 5 calls to <bound method SumAbsolute.update_state of <loss_metrics.SumAbsolute object at 0x7f91ec7cdcf8>> triggered tf.function retracing. Tracing is expensive and the excessive number of tracings is likely due to passing python objects instead of tensors. Also, tf.function has experimental_relax_shapes=True option that relaxes argument shapes that can avoid unnecessary retracing. Please refer to https://www.tensorflow.org/tutorials/customization/performance#python_or_tensor_args and https://www.tensorflow.org/api_docs/python/tf/function for more details.\n"
     ]
    },
    {
     "name": "stdout",
     "output_type": "stream",
     "text": [
      "WARNING:tensorflow:5 out of the last 5 calls to <bound method MeanAbsoluteRatio.update_state of <loss_metrics.MeanAbsoluteRatio object at 0x7f91ec7d2550>> triggered tf.function retracing. Tracing is expensive and the excessive number of tracings is likely due to passing python objects instead of tensors. Also, tf.function has experimental_relax_shapes=True option that relaxes argument shapes that can avoid unnecessary retracing. Please refer to https://www.tensorflow.org/tutorials/customization/performance#python_or_tensor_args and https://www.tensorflow.org/api_docs/python/tf/function for more details.\n"
     ]
    },
    {
     "name": "stderr",
     "output_type": "stream",
     "text": [
      "WARNING:tensorflow:5 out of the last 5 calls to <bound method MeanAbsoluteRatio.update_state of <loss_metrics.MeanAbsoluteRatio object at 0x7f91ec7d2550>> triggered tf.function retracing. Tracing is expensive and the excessive number of tracings is likely due to passing python objects instead of tensors. Also, tf.function has experimental_relax_shapes=True option that relaxes argument shapes that can avoid unnecessary retracing. Please refer to https://www.tensorflow.org/tutorials/customization/performance#python_or_tensor_args and https://www.tensorflow.org/api_docs/python/tf/function for more details.\n"
     ]
    },
    {
     "name": "stdout",
     "output_type": "stream",
     "text": [
      "WARNING:tensorflow:5 out of the last 5 calls to <bound method SumAbsolute.update_state of <loss_metrics.SumAbsolute object at 0x7f91ec7d2d68>> triggered tf.function retracing. Tracing is expensive and the excessive number of tracings is likely due to passing python objects instead of tensors. Also, tf.function has experimental_relax_shapes=True option that relaxes argument shapes that can avoid unnecessary retracing. Please refer to https://www.tensorflow.org/tutorials/customization/performance#python_or_tensor_args and https://www.tensorflow.org/api_docs/python/tf/function for more details.\n"
     ]
    },
    {
     "name": "stderr",
     "output_type": "stream",
     "text": [
      "WARNING:tensorflow:5 out of the last 5 calls to <bound method SumAbsolute.update_state of <loss_metrics.SumAbsolute object at 0x7f91ec7d2d68>> triggered tf.function retracing. Tracing is expensive and the excessive number of tracings is likely due to passing python objects instead of tensors. Also, tf.function has experimental_relax_shapes=True option that relaxes argument shapes that can avoid unnecessary retracing. Please refer to https://www.tensorflow.org/tutorials/customization/performance#python_or_tensor_args and https://www.tensorflow.org/api_docs/python/tf/function for more details.\n"
     ]
    },
    {
     "name": "stdout",
     "output_type": "stream",
     "text": [
      "WARNING:tensorflow:5 out of the last 5 calls to <bound method MeanAbsoluteRatio.update_state of <loss_metrics.MeanAbsoluteRatio object at 0x7f91ec7da5c0>> triggered tf.function retracing. Tracing is expensive and the excessive number of tracings is likely due to passing python objects instead of tensors. Also, tf.function has experimental_relax_shapes=True option that relaxes argument shapes that can avoid unnecessary retracing. Please refer to https://www.tensorflow.org/tutorials/customization/performance#python_or_tensor_args and https://www.tensorflow.org/api_docs/python/tf/function for more details.\n"
     ]
    },
    {
     "name": "stderr",
     "output_type": "stream",
     "text": [
      "WARNING:tensorflow:5 out of the last 5 calls to <bound method MeanAbsoluteRatio.update_state of <loss_metrics.MeanAbsoluteRatio object at 0x7f91ec7da5c0>> triggered tf.function retracing. Tracing is expensive and the excessive number of tracings is likely due to passing python objects instead of tensors. Also, tf.function has experimental_relax_shapes=True option that relaxes argument shapes that can avoid unnecessary retracing. Please refer to https://www.tensorflow.org/tutorials/customization/performance#python_or_tensor_args and https://www.tensorflow.org/api_docs/python/tf/function for more details.\n"
     ]
    },
    {
     "name": "stdout",
     "output_type": "stream",
     "text": [
      "WARNING:tensorflow:5 out of the last 5 calls to <bound method SumAbsolute.update_state of <loss_metrics.SumAbsolute object at 0x7f91ec7dadd8>> triggered tf.function retracing. Tracing is expensive and the excessive number of tracings is likely due to passing python objects instead of tensors. Also, tf.function has experimental_relax_shapes=True option that relaxes argument shapes that can avoid unnecessary retracing. Please refer to https://www.tensorflow.org/tutorials/customization/performance#python_or_tensor_args and https://www.tensorflow.org/api_docs/python/tf/function for more details.\n"
     ]
    },
    {
     "name": "stderr",
     "output_type": "stream",
     "text": [
      "WARNING:tensorflow:5 out of the last 5 calls to <bound method SumAbsolute.update_state of <loss_metrics.SumAbsolute object at 0x7f91ec7dadd8>> triggered tf.function retracing. Tracing is expensive and the excessive number of tracings is likely due to passing python objects instead of tensors. Also, tf.function has experimental_relax_shapes=True option that relaxes argument shapes that can avoid unnecessary retracing. Please refer to https://www.tensorflow.org/tutorials/customization/performance#python_or_tensor_args and https://www.tensorflow.org/api_docs/python/tf/function for more details.\n"
     ]
    },
    {
     "name": "stdout",
     "output_type": "stream",
     "text": [
      "WARNING:tensorflow:5 out of the last 5 calls to <bound method MeanAbsoluteRatio.update_state of <loss_metrics.MeanAbsoluteRatio object at 0x7f91ec7e1630>> triggered tf.function retracing. Tracing is expensive and the excessive number of tracings is likely due to passing python objects instead of tensors. Also, tf.function has experimental_relax_shapes=True option that relaxes argument shapes that can avoid unnecessary retracing. Please refer to https://www.tensorflow.org/tutorials/customization/performance#python_or_tensor_args and https://www.tensorflow.org/api_docs/python/tf/function for more details.\n"
     ]
    },
    {
     "name": "stderr",
     "output_type": "stream",
     "text": [
      "WARNING:tensorflow:5 out of the last 5 calls to <bound method MeanAbsoluteRatio.update_state of <loss_metrics.MeanAbsoluteRatio object at 0x7f91ec7e1630>> triggered tf.function retracing. Tracing is expensive and the excessive number of tracings is likely due to passing python objects instead of tensors. Also, tf.function has experimental_relax_shapes=True option that relaxes argument shapes that can avoid unnecessary retracing. Please refer to https://www.tensorflow.org/tutorials/customization/performance#python_or_tensor_args and https://www.tensorflow.org/api_docs/python/tf/function for more details.\n"
     ]
    },
    {
     "name": "stdout",
     "output_type": "stream",
     "text": [
      "WARNING:tensorflow:5 out of the last 5 calls to <bound method SumAbsolute.update_state of <loss_metrics.SumAbsolute object at 0x7f91ec7e1e48>> triggered tf.function retracing. Tracing is expensive and the excessive number of tracings is likely due to passing python objects instead of tensors. Also, tf.function has experimental_relax_shapes=True option that relaxes argument shapes that can avoid unnecessary retracing. Please refer to https://www.tensorflow.org/tutorials/customization/performance#python_or_tensor_args and https://www.tensorflow.org/api_docs/python/tf/function for more details.\n"
     ]
    },
    {
     "name": "stderr",
     "output_type": "stream",
     "text": [
      "WARNING:tensorflow:5 out of the last 5 calls to <bound method SumAbsolute.update_state of <loss_metrics.SumAbsolute object at 0x7f91ec7e1e48>> triggered tf.function retracing. Tracing is expensive and the excessive number of tracings is likely due to passing python objects instead of tensors. Also, tf.function has experimental_relax_shapes=True option that relaxes argument shapes that can avoid unnecessary retracing. Please refer to https://www.tensorflow.org/tutorials/customization/performance#python_or_tensor_args and https://www.tensorflow.org/api_docs/python/tf/function for more details.\n"
     ]
    },
    {
     "name": "stdout",
     "output_type": "stream",
     "text": [
      "WARNING:tensorflow:5 out of the last 5 calls to <bound method MeanAbsoluteRatio.update_state of <loss_metrics.MeanAbsoluteRatio object at 0x7f91ec7e76a0>> triggered tf.function retracing. Tracing is expensive and the excessive number of tracings is likely due to passing python objects instead of tensors. Also, tf.function has experimental_relax_shapes=True option that relaxes argument shapes that can avoid unnecessary retracing. Please refer to https://www.tensorflow.org/tutorials/customization/performance#python_or_tensor_args and https://www.tensorflow.org/api_docs/python/tf/function for more details.\n"
     ]
    },
    {
     "name": "stderr",
     "output_type": "stream",
     "text": [
      "WARNING:tensorflow:5 out of the last 5 calls to <bound method MeanAbsoluteRatio.update_state of <loss_metrics.MeanAbsoluteRatio object at 0x7f91ec7e76a0>> triggered tf.function retracing. Tracing is expensive and the excessive number of tracings is likely due to passing python objects instead of tensors. Also, tf.function has experimental_relax_shapes=True option that relaxes argument shapes that can avoid unnecessary retracing. Please refer to https://www.tensorflow.org/tutorials/customization/performance#python_or_tensor_args and https://www.tensorflow.org/api_docs/python/tf/function for more details.\n"
     ]
    },
    {
     "name": "stdout",
     "output_type": "stream",
     "text": [
      "50/50 [==============================] - 132s 3s/step - loss: 0.1998 - s1pafs_output_loss: 0.0048 - s2pafs_output_loss: 0.0048 - s3pafs_output_loss: 0.0048 - s4pafs_output_loss: 0.0048 - s5kpts_output_loss: 0.0178 - s6kpts_output_loss: 0.0178 - s1pafs_output_SumAbsolute: 16449106.0000 - s1pafs_output_MeanAbsoluteRatio: 378.2478 - s2pafs_output_SumAbsolute: 16548128.0000 - s2pafs_output_MeanAbsoluteRatio: 380.4856 - s3pafs_output_SumAbsolute: 16523251.0000 - s3pafs_output_MeanAbsoluteRatio: 379.9173 - s4pafs_output_SumAbsolute: 16462829.0000 - s4pafs_output_MeanAbsoluteRatio: 378.5049 - s5kpts_output_SumAbsolute: 13145187.0000 - s5kpts_output_MeanAbsoluteRatio: 244.1041 - s6kpts_output_SumAbsolute: 13145175.0000 - s6kpts_output_MeanAbsoluteRatio: 244.1038 - val_loss: 0.2110 - val_s1pafs_output_loss: 0.0051 - val_s2pafs_output_loss: 0.0051 - val_s3pafs_output_loss: 0.0051 - val_s4pafs_output_loss: 0.0051 - val_s5kpts_output_loss: 0.0188 - val_s6kpts_output_loss: 0.0188 - val_s1pafs_output_SumAbsolute: 1740365.0000 - val_s1pafs_output_MeanAbsoluteRatio: 39.7340 - val_s2pafs_output_SumAbsolute: 1773564.2500 - val_s2pafs_output_MeanAbsoluteRatio: 40.4921 - val_s3pafs_output_SumAbsolute: 1718078.5000 - val_s3pafs_output_MeanAbsoluteRatio: 39.2258 - val_s4pafs_output_SumAbsolute: 1687567.2500 - val_s4pafs_output_MeanAbsoluteRatio: 38.5288 - val_s5kpts_output_SumAbsolute: 1300351.1250 - val_s5kpts_output_MeanAbsoluteRatio: 23.7680 - val_s6kpts_output_SumAbsolute: 1300350.0000 - val_s6kpts_output_MeanAbsoluteRatio: 23.7680\n",
      "\n",
      "Learning rate for epoch 1 is 0.0010000000474974513\n",
      "Epoch 2/262\n",
      "50/50 [==============================] - 43s 857ms/step - loss: 0.2032 - s1pafs_output_loss: 0.0049 - s2pafs_output_loss: 0.0049 - s3pafs_output_loss: 0.0049 - s4pafs_output_loss: 0.0049 - s5kpts_output_loss: 0.0182 - s6kpts_output_loss: 0.0182 - s1pafs_output_SumAbsolute: 16488283.0000 - s1pafs_output_MeanAbsoluteRatio: 376.2635 - s2pafs_output_SumAbsolute: 16546849.0000 - s2pafs_output_MeanAbsoluteRatio: 377.6328 - s3pafs_output_SumAbsolute: 16521404.0000 - s3pafs_output_MeanAbsoluteRatio: 377.0864 - s4pafs_output_SumAbsolute: 16520272.0000 - s4pafs_output_MeanAbsoluteRatio: 376.9946 - s5kpts_output_SumAbsolute: 13153970.0000 - s5kpts_output_MeanAbsoluteRatio: 241.9469 - s6kpts_output_SumAbsolute: 13153965.0000 - s6kpts_output_MeanAbsoluteRatio: 241.9468 - val_loss: 0.2100 - val_s1pafs_output_loss: 0.0051 - val_s2pafs_output_loss: 0.0051 - val_s3pafs_output_loss: 0.0051 - val_s4pafs_output_loss: 0.0051 - val_s5kpts_output_loss: 0.0188 - val_s6kpts_output_loss: 0.0188 - val_s1pafs_output_SumAbsolute: 1682546.6250 - val_s1pafs_output_MeanAbsoluteRatio: 38.4129 - val_s2pafs_output_SumAbsolute: 1626531.0000 - val_s2pafs_output_MeanAbsoluteRatio: 37.1340 - val_s3pafs_output_SumAbsolute: 1559260.7500 - val_s3pafs_output_MeanAbsoluteRatio: 35.5986 - val_s4pafs_output_SumAbsolute: 1496131.7500 - val_s4pafs_output_MeanAbsoluteRatio: 34.1577 - val_s5kpts_output_SumAbsolute: 1300350.2500 - val_s5kpts_output_MeanAbsoluteRatio: 23.7680 - val_s6kpts_output_SumAbsolute: 1300350.0000 - val_s6kpts_output_MeanAbsoluteRatio: 23.7680\n",
      "\n",
      "Learning rate for epoch 2 is 0.0010000000474974513\n",
      "Epoch 3/262\n",
      "50/50 [==============================] - 45s 905ms/step - loss: 0.1975 - s1pafs_output_loss: 0.0048 - s2pafs_output_loss: 0.0048 - s3pafs_output_loss: 0.0048 - s4pafs_output_loss: 0.0048 - s5kpts_output_loss: 0.0178 - s6kpts_output_loss: 0.0178 - s1pafs_output_SumAbsolute: 16424472.0000 - s1pafs_output_MeanAbsoluteRatio: 376.4763 - s2pafs_output_SumAbsolute: 16501915.0000 - s2pafs_output_MeanAbsoluteRatio: 378.3263 - s3pafs_output_SumAbsolute: 16466723.0000 - s3pafs_output_MeanAbsoluteRatio: 377.5034 - s4pafs_output_SumAbsolute: 16469096.0000 - s4pafs_output_MeanAbsoluteRatio: 377.4918 - s5kpts_output_SumAbsolute: 13155486.0000 - s5kpts_output_MeanAbsoluteRatio: 243.6358 - s6kpts_output_SumAbsolute: 13155485.0000 - s6kpts_output_MeanAbsoluteRatio: 243.6357 - val_loss: 0.2083 - val_s1pafs_output_loss: 0.0050 - val_s2pafs_output_loss: 0.0050 - val_s3pafs_output_loss: 0.0050 - val_s4pafs_output_loss: 0.0050 - val_s5kpts_output_loss: 0.0188 - val_s6kpts_output_loss: 0.0188 - val_s1pafs_output_SumAbsolute: 1768183.6250 - val_s1pafs_output_MeanAbsoluteRatio: 40.3641 - val_s2pafs_output_SumAbsolute: 1671329.7500 - val_s2pafs_output_MeanAbsoluteRatio: 38.1532 - val_s3pafs_output_SumAbsolute: 1763425.0000 - val_s3pafs_output_MeanAbsoluteRatio: 40.2540 - val_s4pafs_output_SumAbsolute: 1693532.5000 - val_s4pafs_output_MeanAbsoluteRatio: 38.6593 - val_s5kpts_output_SumAbsolute: 1300350.2500 - val_s5kpts_output_MeanAbsoluteRatio: 23.7680 - val_s6kpts_output_SumAbsolute: 1300350.0000 - val_s6kpts_output_MeanAbsoluteRatio: 23.7680\n",
      "\n",
      "Learning rate for epoch 3 is 0.0010000000474974513\n",
      "Epoch 4/262\n",
      " 3/50 [>.............................] - ETA: 30s - loss: 0.1938 - s1pafs_output_loss: 0.0047 - s2pafs_output_loss: 0.0047 - s3pafs_output_loss: 0.0047 - s4pafs_output_loss: 0.0047 - s5kpts_output_loss: 0.0180 - s6kpts_output_loss: 0.0180 - s1pafs_output_SumAbsolute: 1026966.5625 - s1pafs_output_MeanAbsoluteRatio: 23.6838 - s2pafs_output_SumAbsolute: 1010985.3750 - s2pafs_output_MeanAbsoluteRatio: 23.3094 - s3pafs_output_SumAbsolute: 1024298.2500 - s3pafs_output_MeanAbsoluteRatio: 23.6219 - s4pafs_output_SumAbsolute: 1011761.2500 - s4pafs_output_MeanAbsoluteRatio: 23.3290 - s5kpts_output_SumAbsolute: 783634.1875 - s5kpts_output_MeanAbsoluteRatio: 14.4914 - s6kpts_output_SumAbsolute: 783634.0000 - s6kpts_output_MeanAbsoluteRatio: 14.4914"
     ]
    }
   ],
   "source": [
    "train_history=train_model.fit(\n",
    "    dst\n",
    "    ,epochs=SHORT_TRAINING_EPOCHS\n",
    "    ,steps_per_epoch=SHORT_EPOCH_STEPS\n",
    "    ,validation_steps=SHORT_VALIDATION_STEPS\n",
    "    ,validation_data=dsv\n",
    "    ,callbacks=all_callbacks\n",
    "    ,initial_epoch=starting_epoch\n",
    ")"
   ]
  },
  {
   "cell_type": "markdown",
   "metadata": {},
   "source": [
    "---\n",
    "### Save results"
   ]
  },
  {
   "cell_type": "code",
   "execution_count": null,
   "metadata": {
    "pycharm": {
     "is_executing": false
    }
   },
   "outputs": [],
   "source": [
    "tmp_path='gs://dl_training_results/tmp/tensorflow/temp_weights'\n",
    "train_model.save_weights(tmp_path)\n",
    "\n",
    "cpu_train_model,cpu_test_model=define()\n",
    "\n",
    "cpu_train_model.load_weights(tmp_path)\n",
    "cpu_test_model.load_weights(tmp_path)\n",
    "\n",
    "cpu_test_model.save(cfg.MODELS_PATH+\"/test_\"+cfg.RUN_NAME+now()) \n",
    "cpu_train_model.save(cfg.MODELS_PATH+\"/train_\"+cfg.RUN_NAME+now()) "
   ]
  },
  {
   "cell_type": "markdown",
   "metadata": {},
   "source": [
    "---\n",
    "### Shutdown"
   ]
  },
  {
   "cell_type": "code",
   "execution_count": null,
   "metadata": {
    "pycharm": {
     "is_executing": false,
     "name": "#%%\n"
    }
   },
   "outputs": [],
   "source": [
    "#shut down TPU\n",
    "!gcloud compute tpus stop node-1 --zone us-central1-c"
   ]
  },
  {
   "cell_type": "code",
   "execution_count": null,
   "metadata": {
    "pycharm": {
     "is_executing": false
    }
   },
   "outputs": [],
   "source": [
    "#shut down this host\n",
    "!gcloud compute instances stop instance-1 --zone us-central1-c"
   ]
  },
  {
   "cell_type": "code",
   "execution_count": null,
   "metadata": {},
   "outputs": [],
   "source": []
  }
 ],
 "metadata": {
  "kernelspec": {
   "display_name": "Python 3",
   "language": "python",
   "name": "python3"
  },
  "language_info": {
   "codemirror_mode": {
    "name": "ipython",
    "version": 3
   },
   "file_extension": ".py",
   "mimetype": "text/x-python",
   "name": "python",
   "nbconvert_exporter": "python",
   "pygments_lexer": "ipython3",
   "version": "3.5.3"
  },
  "pycharm": {
   "stem_cell": {
    "cell_type": "raw",
    "metadata": {
     "collapsed": false
    },
    "source": []
   }
  }
 },
 "nbformat": 4,
 "nbformat_minor": 2
}
